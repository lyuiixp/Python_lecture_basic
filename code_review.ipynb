{
 "cells": [
  {
   "cell_type": "markdown",
   "metadata": {},
   "source": [
    "#### 코드리뷰\n",
    "- 각자 생성한 코드 혹은 주어진 코드를 활용하여 설명(gpt를 활용하여 생성한 코드, 혹은 수업시간 예제도 상관 없습니다.)\n",
    "- 지금까지 다루었던 자료형, 자료구조, 반복문, 조건문, 함수를 활용하여 만들어 주세요.(함수는 사용 필수!)\n",
    "\n",
    "- 목적 \n",
    ">- 현재까지 수강한 내용들을 잘 이해하고 있는가?\n",
    ">- 상호간의 각기 다른 해결방식을 공유하며 서로 부족한 부분을 채워나갈 수 있음\n",
    "\n",
    "- 목표설정\n",
    ">- 정확성: 주어진 문제를 정확하게 해결했는가? 오류 없이 동작하는가?\n",
    ">- ~~효율성: 코드가 효율적으로 작성되었는가?~~\n",
    ">- 가독성: 코드가 읽기 쉽고, 변수명, 함수명이 적절하게 지어졌는가?\n",
    ">- 확장성: 코드가 추후 변경이나 확장에 대비하여 작성되었는가?\n",
    ">- 테스트: 다양한 입력값에 대한 예외 처리가 잘 되어 있는가?\n",
    "\n",
    "- 진행방식:\n",
    ">- 화면 공유 및 마이크를 킨 상태로 자신의 코드를 설명 (코드의 목적, 의도, 문제해결방식 등등)\n",
    ">- 설명이 끝나면 마이크나 채팅으로 장점과 개선점 등을 서로 피드백!\n"
   ]
  },
  {
   "cell_type": "code",
   "execution_count": null,
   "metadata": {},
   "outputs": [],
   "source": [
    "# 예시 코드 1\n",
    "# 학생정보를 입력받아 전체학생의 평균을 구하고 점수에 맞게 등급을 측정\n",
    "students = {\n",
    "    \"John\": 85,\n",
    "    \"Alice\": 78,\n",
    "    \"Bob\": 92,\n",
    "    \"Eve\": 65,\n",
    "    \"David\": 56\n",
    "}\n",
    "\n",
    "def calculate_average(scores):\n",
    "    total = sum(scores)\n",
    "    return total / len(scores)\n",
    "\n",
    "def get_grade(score):\n",
    "    if score >= 90:\n",
    "        return 'A'\n",
    "    elif score >= 80:\n",
    "        return 'B'\n",
    "    elif score >= 70:\n",
    "        return 'C'\n",
    "    elif score >= 60:\n",
    "        return 'D'\n",
    "    else:\n",
    "        return 'F'\n",
    "\n",
    "\n",
    "def print_student_grades(students):\n",
    "    print(\"학생 성적 및 등급\")\n",
    "    for name, score in students.items():\n",
    "        grade = get_grade(score)\n",
    "        print(f\"{name}: 점수 = {score}, 등급 = {grade}\")\n",
    "\n",
    "average = calculate_average(students.values())\n",
    "print(f\"전체 평균 점수: {average}\")\n",
    "print_student_grades(students)"
   ]
  },
  {
   "cell_type": "code",
   "execution_count": null,
   "metadata": {},
   "outputs": [],
   "source": [
    "# 예시 코드 2\n",
    "# 사칙연산을 활용한 계산기 구현\n",
    "def add(x, y):\n",
    "    return x + y\n",
    "\n",
    "def subtract(x, y):\n",
    "    return x - y\n",
    "\n",
    "def multiply(x, y):\n",
    "    return x * y\n",
    "\n",
    "def divide(x, y):\n",
    "    if y == 0:\n",
    "        return \"0으로 나눌 수 없습니다.\"\n",
    "    return x / y\n",
    "\n",
    "def calculator(x, y, operator):\n",
    "    if operator == '+':\n",
    "        return add(x, y)\n",
    "    elif operator == '-':\n",
    "        return subtract(x, y)\n",
    "    elif operator == '*':\n",
    "        return multiply(x, y)\n",
    "    elif operator == '/':\n",
    "        return divide(x, y)\n",
    "    else:\n",
    "        return \"잘못된 연산자입니다.\"\n",
    "\n",
    "x = float(input(\"첫 번째 숫자를 입력하세요: \"))\n",
    "y = float(input(\"두 번째 숫자를 입력하세요: \"))\n",
    "operator = input(\"연산자를 입력하세요 (+, -, *, /): \")\n",
    "\n",
    "result = calculator(x, y, operator)\n",
    "print(f\"결과: {result}\")"
   ]
  },
  {
   "cell_type": "code",
   "execution_count": 1,
   "metadata": {},
   "outputs": [
    {
     "name": "stdout",
     "output_type": "stream",
     "text": [
      "도메인별 이메일 수:\n",
      "gmail.com: 2\n",
      "yahoo.com: 2\n",
      "outlook.com: 1\n"
     ]
    }
   ],
   "source": [
    "# 예시 코드 3\n",
    "# 이메일 리스트를 입력받았을때 도메인(ex) gmail.com)들을 추출하여 각 도메인들의 출현 빈도를 계산\n",
    "def extract_domain(emails):\n",
    "    return [email.split('@')[1] for email in emails]\n",
    "\n",
    "def count_domains(domains):\n",
    "    \"\"\"도메인별 이메일 수 계산\"\"\"\n",
    "    domain_count = {}\n",
    "    for domain in domains:\n",
    "        if domain in domain_count:\n",
    "            domain_count[domain] += 1\n",
    "        else:\n",
    "            domain_count[domain] = 1\n",
    "    return domain_count\n",
    "\n",
    "email_list = [\n",
    "    \"alice@gmail.com\", \"bob@yahoo.com\", \"charlie@gmail.com\", \n",
    "    \"david@outlook.com\", \"eve@yahoo.com\"\n",
    "]\n",
    "\n",
    "domains = extract_domain(email_list)\n",
    "domain_frequency = count_domains(domains)\n",
    "\n",
    "print(\"도메인별 이메일 수:\")\n",
    "for domain, count in domain_frequency.items():\n",
    "    print(f\"{domain}: {count}\")\n"
   ]
  },
  {
   "cell_type": "code",
   "execution_count": null,
   "metadata": {},
   "outputs": [],
   "source": []
  }
 ],
 "metadata": {
  "kernelspec": {
   "display_name": "Python 3",
   "language": "python",
   "name": "python3"
  },
  "language_info": {
   "codemirror_mode": {
    "name": "ipython",
    "version": 3
   },
   "file_extension": ".py",
   "mimetype": "text/x-python",
   "name": "python",
   "nbconvert_exporter": "python",
   "pygments_lexer": "ipython3",
   "version": "3.10.12"
  }
 },
 "nbformat": 4,
 "nbformat_minor": 2
}
