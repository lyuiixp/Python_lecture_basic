{
 "cells": [
  {
   "cell_type": "markdown",
   "metadata": {},
   "source": [
    "### Lambda 표현식\n",
    "- lambda 키워드를 이용해 간단하게 정의하는 익명 함수\n",
    "- 일반적인 def 로 정의한 함수와 다르게 람다함수는 일회성으로 사용하거나 짧은 코드 구현 시 유용\n",
    "- 구조\n",
    "```python3\n",
    "lambda 인자: 표현식\n",
    "```\n",
    "\n",
    "<img src=\"https://blog.kakaocdn.net/dn/bWKXg5/btrsxEbnJh2/KoDMDaCLSYzfkU1M3oWxJ1/img.png\" srcset=\"https://img1.daumcdn.net/thumb/R1280x0/?scode=mtistory2&amp;fname=https%3A%2F%2Fblog.kakaocdn.net%2Fdn%2FbWKXg5%2FbtrsxEbnJh2%2FKoDMDaCLSYzfkU1M3oWxJ1%2Fimg.png\" onerror=\"this.onerror=null; this.src='//t1.daumcdn.net/tistory_admin/static/images/no-image-v1.png'; this.srcset='//t1.daumcdn.net/tistory_admin/static/images/no-image-v1.png';\" data-origin-width=\"1328\" data-origin-height=\"314\" data-phocus-index=\"1\">\n",
    "<img src=\"https://blog.kakaocdn.net/dn/buNqNn/btrAxGFxs00/ozegtrbHyRG6m7GKK83EE0/img.png\" srcset=\"https://img1.daumcdn.net/thumb/R1280x0/?scode=mtistory2&amp;fname=https%3A%2F%2Fblog.kakaocdn.net%2Fdn%2FbuNqNn%2FbtrAxGFxs00%2FozegtrbHyRG6m7GKK83EE0%2Fimg.png\" onerror=\"this.onerror=null; this.src='//t1.daumcdn.net/tistory_admin/static/images/no-image-v1.png'; this.srcset='//t1.daumcdn.net/tistory_admin/static/images/no-image-v1.png';\" data-origin-width=\"978\" data-origin-height=\"180\" alt=\"etc-image-2\" data-phocus-index=\"2\">\n",
    "\n",
    "\n",
    "- 장단점 \n",
    ">- 장점 : 한 줄로 간단히 함수 작성하며 코드가 간결해짐, 일회성 함수에 적합\n",
    ">- 단점 : 복잡한 로직에는 부적합"
   ]
  },
  {
   "cell_type": "code",
   "execution_count": 2,
   "metadata": {},
   "outputs": [
    {
     "name": "stdout",
     "output_type": "stream",
     "text": [
      "3\n",
      "3\n"
     ]
    }
   ],
   "source": [
    "# 기존 함수 정의\n",
    "def add(x,y):\n",
    "    return x+y\n",
    "\n",
    "# 람다 함수 활용\n",
    "add_num = lambda x,y : x+y\n",
    "\n",
    "print(add(1,2))\n",
    "print(add_num(1,2))"
   ]
  },
  {
   "cell_type": "markdown",
   "metadata": {},
   "source": [
    "#### __map()__ : List나 반복 가능한 객체의 각 요소에 함수를 적용할 수 있다.\n",
    "- 구조\n",
    "```python\n",
    "map(함수, 입력)\n",
    "# 람다 활용 시\n",
    "map(lambda구문, 입력)\n",
    "```"
   ]
  },
  {
   "cell_type": "code",
   "execution_count": 3,
   "metadata": {},
   "outputs": [
    {
     "data": {
      "text/plain": [
       "[1, 4, 9, 16, 25, 36, 49, 64, 81, 100]"
      ]
     },
     "execution_count": 3,
     "metadata": {},
     "output_type": "execute_result"
    }
   ],
   "source": [
    "# map 예제\n",
    "# 리스트 내 요소값 제곱하기\n",
    "test_map = list(range(1,11))        # [1~10]\n",
    "\n",
    "def square(input_list):\n",
    "    answer = []\n",
    "    for x in input_list:\n",
    "        answer.append(x**2)\n",
    "    return answer\n",
    "\n",
    "# square(test_map)\n",
    "list(map(lambda x: x**2, test_map))"
   ]
  },
  {
   "cell_type": "markdown",
   "metadata": {},
   "source": [
    "#### __filter()__ : 조건을 만족하는 요소만 걸러낼 수 있다. 반환값이 True일 때만 요소를 가져옴.\n",
    "- 구조\n",
    "```python\n",
    "filter(함수, 반복가능 객체)\n",
    "```"
   ]
  },
  {
   "cell_type": "code",
   "execution_count": 4,
   "metadata": {},
   "outputs": [
    {
     "data": {
      "text/plain": [
       "[2, 4, 6, 8, 10, 12, 14, 16, 18, 20]"
      ]
     },
     "execution_count": 4,
     "metadata": {},
     "output_type": "execute_result"
    }
   ],
   "source": [
    "# filter 예제\n",
    "# 리스트 내 짝수만 뽑기\n",
    "test_filter = list(range(1,21))         # [1~20]\n",
    "\n",
    "list(filter(lambda x : x%2==0, test_filter))"
   ]
  },
  {
   "cell_type": "markdown",
   "metadata": {},
   "source": [
    "#### __reduce()__ : 초기값 기준으로 시퀀스 객체를 돌며 데이터 누적하는 방식\n",
    "- 구조\n",
    "```python\n",
    "from functools import reduce    # functools모듈 활용\n",
    "\n",
    "reduce(함수, 반복가능 객체, 초기값 = optional)\n",
    "```"
   ]
  },
  {
   "cell_type": "code",
   "execution_count": 8,
   "metadata": {},
   "outputs": [
    {
     "data": {
      "text/plain": [
       "59"
      ]
     },
     "execution_count": 8,
     "metadata": {},
     "output_type": "execute_result"
    }
   ],
   "source": [
    "# reduce 예제\n",
    "from functools import reduce\n",
    "\n",
    "numbers = [3, 34, 12]\n",
    "\n",
    "def custom_sum(first, second):\n",
    "    return first + second\n",
    "\n",
    "reduce(custom_sum, numbers, 10)"
   ]
  },
  {
   "cell_type": "code",
   "execution_count": 9,
   "metadata": {},
   "outputs": [
    {
     "data": {
      "text/plain": [
       "59"
      ]
     },
     "execution_count": 9,
     "metadata": {},
     "output_type": "execute_result"
    }
   ],
   "source": [
    "# 위 예제를 람다로 만들기\n",
    "reduce(lambda x,y: x+y, numbers, 10)"
   ]
  },
  {
   "cell_type": "code",
   "execution_count": 6,
   "metadata": {},
   "outputs": [
    {
     "data": {
      "text/plain": [
       "34"
      ]
     },
     "execution_count": 6,
     "metadata": {},
     "output_type": "execute_result"
    }
   ],
   "source": [
    "numbers = [3, 4, 6, 9, 34, 12]\n",
    "# reduce, lambda를 활용해서 리스트 내의 가장 큰 수 찾기\n",
    "\n",
    "reduce(lambda x,y: x if x>y else y, numbers)        # 34"
   ]
  },
  {
   "cell_type": "code",
   "execution_count": null,
   "metadata": {},
   "outputs": [],
   "source": [
    "# 위 예제를 람다로 만들기\n",
    "reduce(lambda x,y: x+y, numbers, 10)"
   ]
  },
  {
   "cell_type": "code",
   "execution_count": 10,
   "metadata": {},
   "outputs": [
    {
     "data": {
      "text/plain": [
       "16"
      ]
     },
     "execution_count": 10,
     "metadata": {},
     "output_type": "execute_result"
    }
   ],
   "source": [
    "# lambda 내 조건 부 표현식\n",
    "# 짝수일 때 제곱하고 홀수일때는 그대로 출력하는 조건\n",
    "sqrt_even = lambda x:x**2 if x%2==0 else x      # 표현식\n",
    "\n",
    "sqrt_even(4)"
   ]
  },
  {
   "cell_type": "code",
   "execution_count": 12,
   "metadata": {},
   "outputs": [
    {
     "data": {
      "text/plain": [
       "[1, 4, 3, 16, 5]"
      ]
     },
     "execution_count": 12,
     "metadata": {},
     "output_type": "execute_result"
    }
   ],
   "source": [
    "# 리스트에 활용\n",
    "test_list = [1,2,3,4,5]\n",
    "\n",
    "list(map(sqrt_even, test_list))"
   ]
  },
  {
   "cell_type": "code",
   "execution_count": 13,
   "metadata": {},
   "outputs": [
    {
     "name": "stdout",
     "output_type": "stream",
     "text": [
      "[('Bob', 75), ('John', 85), ('Alice', 90)]\n"
     ]
    }
   ],
   "source": [
    "# 정렬 시 키로 활용 sort, sorted()\n",
    "students = [('John', 85), ('Alice', 90), ('Bob', 75)]\n",
    "\n",
    "sorted_students = sorted(students, key=lambda x: x[1])      # key = len\n",
    "print(sorted_students) "
   ]
  },
  {
   "cell_type": "markdown",
   "metadata": {},
   "source": [
    "#### 예제"
   ]
  },
  {
   "cell_type": "code",
   "execution_count": 15,
   "metadata": {},
   "outputs": [
    {
     "data": {
      "text/plain": [
       "'미성년자'"
      ]
     },
     "execution_count": 15,
     "metadata": {},
     "output_type": "execute_result"
    }
   ],
   "source": [
    "# 나이(age)를 입력 받았을때 성인인지 미성년자인지 확인하기\n",
    "# 나이가 18세 이상이면 성인\n",
    "\n",
    "check_adult = lambda age: \"성인\" if age >= 18 else \"미성년자\"\n",
    "age = int(input(\"나이를 입력하세요: \"))\n",
    "\n",
    "check_adult(age)"
   ]
  },
  {
   "cell_type": "code",
   "execution_count": 17,
   "metadata": {},
   "outputs": [
    {
     "name": "stdout",
     "output_type": "stream",
     "text": [
      "가장 긴 단어는: cherryy\n"
     ]
    }
   ],
   "source": [
    "# 문자열 리스트가 있을때 가장 긴 문자열 찾기\n",
    "from functools import reduce\n",
    "words = [\"apple\", \"banana\", \"cherryy\", \"date\"]\n",
    "\n",
    "# longest_word = max(words, key=lambda word: len(word))\n",
    "longest_word = reduce(lambda x,y: x if len(x)>len(y) else y, words)\n",
    "print(f\"가장 긴 단어는: {longest_word}\")"
   ]
  },
  {
   "cell_type": "code",
   "execution_count": 18,
   "metadata": {},
   "outputs": [
    {
     "data": {
      "text/plain": [
       "12"
      ]
     },
     "execution_count": 18,
     "metadata": {},
     "output_type": "execute_result"
    }
   ],
   "source": [
    "numbers = [1, 2, 3, 4, 5, 6]\n",
    "\n",
    "filtered = list(filter(lambda x: x%2 ==0, numbers))     # filter를 통해 짝수 뽑기               #  [2, 4, 6]\n",
    "reduce(lambda x,y : x+y, filtered)                      # reduce를 통해 짝수 리스트의 누적 합       # 6 + 6"
   ]
  },
  {
   "cell_type": "code",
   "execution_count": 19,
   "metadata": {},
   "outputs": [
    {
     "data": {
      "text/plain": [
       "'a b c'"
      ]
     },
     "execution_count": 19,
     "metadata": {},
     "output_type": "execute_result"
    }
   ],
   "source": [
    "words= ['a', 'b', 'c']\n",
    "\n",
    "reduce(lambda x,y: x+' '+y , words)         # a b c"
   ]
  },
  {
   "cell_type": "code",
   "execution_count": 20,
   "metadata": {},
   "outputs": [
    {
     "data": {
      "text/plain": [
       "20"
      ]
     },
     "execution_count": 20,
     "metadata": {},
     "output_type": "execute_result"
    }
   ],
   "source": [
    "numbers = [10, 5, 20, 8, 15]\n",
    "\n",
    "reduce(lambda x,y: x if x>y else y, numbers)"
   ]
  },
  {
   "cell_type": "markdown",
   "metadata": {},
   "source": [
    "#### 실습"
   ]
  },
  {
   "cell_type": "code",
   "execution_count": 22,
   "metadata": {},
   "outputs": [
    {
     "data": {
      "text/plain": [
       "['i',\n",
       " 'no',\n",
       " 'it',\n",
       " 'im',\n",
       " 'but',\n",
       " 'more',\n",
       " 'wont',\n",
       " 'wait',\n",
       " 'yours',\n",
       " 'cannot',\n",
       " 'hesitate']"
      ]
     },
     "execution_count": 22,
     "metadata": {},
     "output_type": "execute_result"
    }
   ],
   "source": [
    "# 문자열이 나열된 리스트가 존재할 때 중복을 제거하고 문자열길이에 따라 오름차순으로 나열하기\n",
    "data_list = ['but','i','wont','hesitate','no','more','no','more','it','cannot','wait','im','yours']\n",
    "\n",
    "# 중복 제거, 정렬\n",
    "duplicated_list = list(set(data_list))\n",
    "\n",
    "sorted(duplicated_list, key = lambda x : len(x))\n"
   ]
  },
  {
   "cell_type": "code",
   "execution_count": 23,
   "metadata": {},
   "outputs": [
    {
     "data": {
      "text/plain": [
       "['apple', 'banana', 'date', 'grape']"
      ]
     },
     "execution_count": 23,
     "metadata": {},
     "output_type": "execute_result"
    }
   ],
   "source": [
    "# 문자열 리스트가 있을때 'a'를 포함한 문자열만 추출하기\n",
    "words = [\"apple\", \"banana\", \"cherry\", \"date\", \"fig\", \"grape\"]\n",
    "\n",
    "# filter, lambda 사용\n",
    "list(filter(lambda x: 'a' in x ,words))\n"
   ]
  },
  {
   "cell_type": "code",
   "execution_count": 24,
   "metadata": {},
   "outputs": [
    {
     "data": {
      "text/plain": [
       "['Alice', 'Bob', 'Charlie', 'David']"
      ]
     },
     "execution_count": 24,
     "metadata": {},
     "output_type": "execute_result"
    }
   ],
   "source": [
    "# 학생 이름이 들어간 리스트에서 이름의 첫번째 알파벳만 대문자 변환하기\n",
    "names = [\"alice\", \"bob\", \"charlie\", \"david\"]\n",
    "\n",
    "# map, lambda 사용 upper()\n",
    "list(map(lambda x: x[0].upper() + x[1:] ,names))\n"
   ]
  },
  {
   "cell_type": "code",
   "execution_count": 25,
   "metadata": {},
   "outputs": [
    {
     "data": {
      "text/plain": [
       "['hi', 'hello', 'sure']"
      ]
     },
     "execution_count": 25,
     "metadata": {},
     "output_type": "execute_result"
    }
   ],
   "source": [
    "# 공백이 있는 문자열만 선택한 후에 공백제거 된 상태로 리스트화 하기\n",
    "strings = ['hi ', 'hello ', ' sure', 'nope']\n",
    "\n",
    "# filter - 공백 문자열 선택\n",
    "filtered_list = list(filter(lambda x : ' ' in x, strings))\n",
    "\n",
    "# 공백 제거 후 리스트화(map, lambda 사용)\n",
    "list(map(lambda x : x.strip(), filtered_list))"
   ]
  },
  {
   "cell_type": "code",
   "execution_count": 28,
   "metadata": {},
   "outputs": [
    {
     "data": {
      "text/plain": [
       "dict_items([('노트북', 1000), ('모니터', 300), ('키보드', 50)])"
      ]
     },
     "execution_count": 28,
     "metadata": {},
     "output_type": "execute_result"
    }
   ],
   "source": [
    "products.items()"
   ]
  },
  {
   "cell_type": "code",
   "execution_count": 29,
   "metadata": {},
   "outputs": [
    {
     "data": {
      "text/plain": [
       "{'노트북': 900.0, '모니터': 270.0, '키보드': 45.0}"
      ]
     },
     "execution_count": 29,
     "metadata": {},
     "output_type": "execute_result"
    }
   ],
   "source": [
    "# 상품명과 가격이 저장된 딕셔너리가 있을 때 모든 상품에 10% 할인된 가격을 적용한 딕셔너리 생성하기\n",
    "products = {\"노트북\": 1000, \"모니터\": 300, \"키보드\": 50}\n",
    "\n",
    "# map, lambda 사용\n",
    "dict(map(lambda x : (x[0], x[1]*0.9), products.items()))       # dict_keys([])"
   ]
  },
  {
   "cell_type": "code",
   "execution_count": 31,
   "metadata": {},
   "outputs": [
    {
     "data": {
      "text/plain": [
       "77.0"
      ]
     },
     "execution_count": 31,
     "metadata": {},
     "output_type": "execute_result"
    }
   ],
   "source": [
    "# 학생들의 성적 리스트에서 60점 이상인 성적만 필터링하고, 필터링된 성적의 평균을 구하세요. filter와 reduce를 사용하세요.\n",
    "\n",
    "from functools import reduce\n",
    "\n",
    "scores = [58, 70, 85, 62, 50, 91, 77]\n",
    "\n",
    "# 코드 작성\n",
    "filterd_list = list(filter(lambda x: x>60, scores))\n",
    "sum_score = reduce(lambda x,y : x+y, filterd_list)\n",
    "avg_score = sum_score/len(filterd_list)\n",
    "avg_score"
   ]
  },
  {
   "cell_type": "code",
   "execution_count": 32,
   "metadata": {},
   "outputs": [
    {
     "data": {
      "text/plain": [
       "{85: 'John', 92: 'Alice', 78: 'Bob'}"
      ]
     },
     "execution_count": 32,
     "metadata": {},
     "output_type": "execute_result"
    }
   ],
   "source": [
    "# 주어진 딕셔너리의 키와 값을 뒤집어 새로운 딕셔너리를 생성하세요. map과 lambda를 활용.\n",
    "\n",
    "students = {'John': 85, 'Alice': 92, 'Bob': 78}     # 85 : 'john'\n",
    "\n",
    "# 코드 작성\n",
    "dict(map(lambda x : (x[1], x[0]), students.items())) "
   ]
  },
  {
   "cell_type": "code",
   "execution_count": 7,
   "metadata": {},
   "outputs": [
    {
     "name": "stdout",
     "output_type": "stream",
     "text": [
      "['NASA', 'AI', 'IBM']\n"
     ]
    }
   ],
   "source": [
    "import re \n",
    "text = \"NASA is working on AI projects with IBM and Google.\" \n",
    "pattern = r\"\\b[A-Z]{2,}\\b\" \n",
    "uppercase_words = re.findall(pattern, text) \n",
    "print(uppercase_words)"
   ]
  },
  {
   "cell_type": "code",
   "execution_count": null,
   "metadata": {},
   "outputs": [],
   "source": []
  }
 ],
 "metadata": {
  "kernelspec": {
   "display_name": "usr",
   "language": "python",
   "name": "python3"
  },
  "language_info": {
   "codemirror_mode": {
    "name": "ipython",
    "version": 3
   },
   "file_extension": ".py",
   "mimetype": "text/x-python",
   "name": "python",
   "nbconvert_exporter": "python",
   "pygments_lexer": "ipython3",
   "version": "3.10.12"
  }
 },
 "nbformat": 4,
 "nbformat_minor": 2
}
