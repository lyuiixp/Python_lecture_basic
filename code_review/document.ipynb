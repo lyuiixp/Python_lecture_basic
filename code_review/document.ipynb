{
 "cells": [
  {
   "cell_type": "markdown",
   "metadata": {},
   "source": [
    "### __코드 리뷰__\n",
    "#### __1. 목적__  <span style='background-color: #dcffe4'> </span>\n",
    "- __코드 품질 향상__ : 코드리뷰는 팀원 간 코드의 품질을 향상시키고, 최적화된 코드를 작성하는 데 도움을 줍니다. 서로의 **코드를 검토함**으로써 더 나은 코딩 습관을 형성할 수 있습니다.\n",
    "- __지식 공유__ : 다양한 방식으로 문제를 해결하는 방법을 배우고, **서로의 아이디어를 공유**할 수 있습니다. 특히 각자의 코드에 대한 설명과 **피드백을 주고받으며 새로운 시각을 얻는 것이 중요**합니다.\n",
    "- __협업 능력__ : 코드리뷰는 팀 프로젝트에서 필수적인 협업 능력을 향상시키는 기회입니다. 서로의 의견을 존중하고, 더 나은 결과를 도출하기 위해 소통하는 연습을 합니다.\n",
    "\n",
    "#### __2. 목표 설정__\n",
    "- **효율성 및 최적화** : 작성된 코드가 가장 효율적인 방법으로 문제를 해결하는지 확인합니다. 불필요한 복잡성이나 리소스 낭비를 줄이는 것이 목표입니다.\n",
    "- **가독성 및 유지보수성** : 다른 개발자가 읽고 **쉽게 이해할 수 있는 코드**를 작성했는지 확인합니다. **주석과 변수명, 함수명이 명확하게 사용**되었는지 점검합니다.\n",
    "- **예외 처리** : 코드에서 발생할 수 있는 잠재적인 버그나 예외 상황에 대한 대비가 되었는지 확인합니다. 오류 발생 시 **적절한 예외처리**를 했는지도 중요합니다.\n",
    "- **확장 가능성** : 추가적인 기능이나 요구사항이 생겼을 때, **기존 코드를 확장하거나 수정하는 것이 용이**한지 확인합니다.\n",
    "\n",
    "#### __3. 진행 방식__\n",
    "- **1. 발표 및 설명** : 자신이 작성한 코드를 설명하며, 코드의 핵심적인 로직과 의도한 동작에 대해 설명합니다. 이를 통해 자신의 **코드에 대한 이해도를 확인**합니다.\n",
    "- **2. 질의응답, 피드백** : 발표 이후, 발표자가 먼저 다른 분들에게 질문을 받는 시간을 가집니다. 이 때 다른 수강생 분들도 질문할 부분을 준비하고 개선사항 및 의견 공유를 통해 건설적인 피드백을 주고 받습니다.\n",
    "\n",
    "#### __***__\n",
    "- **피드백 시에는 비판하기 위함이 아니라 더 나은 코드 개선을 위한 과정으로 긍정적인 태도로 임하기**\n",
    "- 본인, 다른 개발자들이 보고 이해하기 편하도록 주석을 작성하기\n",
    "- 인자명, 함수명(메소드), 클래스 명 등등 다른사람이 봐도 직관적으로 이해하기 쉽게 명시"
   ]
  },
  {
   "cell_type": "code",
   "execution_count": 13,
   "metadata": {},
   "outputs": [
    {
     "name": "stdout",
     "output_type": "stream",
     "text": [
      "9\n"
     ]
    }
   ],
   "source": [
    "def recur(n):\n",
    "    if n<=0:\n",
    "        return 0\n",
    "    else:\n",
    "        return n + recur(n-2)\n",
    "    \n",
    "print(recur(5))\n"
   ]
  },
  {
   "cell_type": "code",
   "execution_count": 14,
   "metadata": {},
   "outputs": [
    {
     "name": "stdout",
     "output_type": "stream",
     "text": [
      "0\n"
     ]
    }
   ],
   "source": [
    "import numpy as np\n",
    "\n",
    "global cur_x, cur_y\n",
    "cur_x, cur_y = 0, 0\n",
    "\n",
    "def move_map(dir, map=1):\n",
    "    if dir == 'e':\n",
    "        cur_\n",
    "        if (cur_x + 1) == 1:\n",
    "            print(cur_x)\n",
    "\n",
    "move_map('e')"
   ]
  },
  {
   "cell_type": "code",
   "execution_count": 1,
   "metadata": {},
   "outputs": [
    {
     "name": "stdout",
     "output_type": "stream",
     "text": [
      "현재 위치: (1, 1)\n"
     ]
    }
   ],
   "source": [
    "## 확장성 문제\n",
    "class Robot:\n",
    "    def __init__(self, name):\n",
    "        self.name = name\n",
    "        self.x, self.y = 0, 0  # 초기 좌표는 (0, 0)\n",
    "    \n",
    "    def move_north(self):\n",
    "        self.y += 1\n",
    "    \n",
    "    def move_south(self):\n",
    "        self.y -= 1\n",
    "    \n",
    "    def move_east(self):\n",
    "        self.x += 1\n",
    "    \n",
    "    def move_west(self):\n",
    "        self.x -= 1\n",
    "    \n",
    "    def current_position(self):\n",
    "        print(f\"현재 위치: ({self.x}, {self.y})\")\n",
    "\n",
    "# 사용 예시\n",
    "robot = Robot(\"Alpha\")\n",
    "robot.move_north()\n",
    "robot.move_east()\n",
    "robot.current_position()  # 현재 위치: (1, 1)\n"
   ]
  },
  {
   "cell_type": "code",
   "execution_count": 2,
   "metadata": {},
   "outputs": [
    {
     "name": "stdout",
     "output_type": "stream",
     "text": [
      "현재 위치: (1, 1)\n"
     ]
    }
   ],
   "source": [
    "class Robot:\n",
    "    def __init__(self, name):\n",
    "        self.name = name\n",
    "        self.x, self.y = 0, 0  # 초기 좌표는 (0, 0)\n",
    "    \n",
    "    # 일반화된 이동 메소드\n",
    "    def move(self, direction):\n",
    "        if direction == \"북\":\n",
    "            self.y += 1\n",
    "        elif direction == \"남\":\n",
    "            self.y -= 1\n",
    "        elif direction == \"동\":\n",
    "            self.x += 1\n",
    "        elif direction == \"서\":\n",
    "            self.x -= 1\n",
    "        else:\n",
    "            print(\"잘못된 방향입니다.\")\n",
    "    \n",
    "    def current_position(self):\n",
    "        print(f\"현재 위치: ({self.x}, {self.y})\")\n",
    "\n",
    "# 사용 예시\n",
    "robot = Robot(\"Alpha\")\n",
    "robot.move(\"북\")\n",
    "robot.move(\"동\")\n",
    "robot.current_position()  # 현재 위치: (1, 1)\n"
   ]
  },
  {
   "cell_type": "markdown",
   "metadata": {},
   "source": [
    "#### 추가 기능 예시\n",
    "\n",
    "- 1. 배터리 관리 기능\n",
    ">- 배터리 절약모드 (일정속도 이하로 이동 시 배터리 감소량 줄이기)\n",
    ">- 배터리가 특정 임계값 이하로 떨어지면 자동충전 및 알림\n",
    "\n",
    "- 2. 데이터 저장방식 개선\n",
    ">- 예외처리 활용\n",
    "\n",
    "- 3. 이동방향 입력 검증\n",
    ">- 4가지 방향 외의 입력 시 잘못된 방향처리 알림\n",
    "\n",
    "- 4. 속도조절 기능\n",
    ">- 속도를 증가 또는 감소 시켜서 이동가능하게 변경\n",
    "\n",
    "- 5. 장애물 감지\n",
    ">- 로봇이 이동할 수 있는 map을 생성하고 장애물 발견 시 멈추거나 알림 \n",
    "\n",
    "\n",
    "- 위의 예시를 따를 필요 없으며 배우신 것들 활용하여 간단한 코드 구현만 해주셔도 되고 구현하고 싶으신 게 있다면 Chatgpt를 활용하여 만드셔도 좋습니다 :)\n",
    "- 구현의 목적보다는 지금까지 다룬 코드들을 이해하고 설명할 수 있냐가 중요합니다 !!"
   ]
  }
 ],
 "metadata": {
  "kernelspec": {
   "display_name": "usr",
   "language": "python",
   "name": "python3"
  },
  "language_info": {
   "codemirror_mode": {
    "name": "ipython",
    "version": 3
   },
   "file_extension": ".py",
   "mimetype": "text/x-python",
   "name": "python",
   "nbconvert_exporter": "python",
   "pygments_lexer": "ipython3",
   "version": "3.10.12"
  }
 },
 "nbformat": 4,
 "nbformat_minor": 2
}
