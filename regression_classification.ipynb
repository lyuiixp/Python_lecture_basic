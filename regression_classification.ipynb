{
 "cells": [
  {
   "cell_type": "markdown",
   "metadata": {},
   "source": [
    "#### 독립변수, 종속변수\n",
    "- 독립변수: 모델에서 입력되는 변수, 예측을 위해 사용됨. 다른 변수에 영향받지 않음. 종속변수에 영향을 주는 변수.\n",
    "- 종속변수: 독립변수에 의해 영향을 받는 변수, 모델이 예측해야 하는 값.\n",
    "- 예) 공부시간(독립변수) -> 시험점수(종속변수) (target value, label)"
   ]
  },
  {
   "cell_type": "markdown",
   "metadata": {},
   "source": [
    "### 회귀 (Regression)\n",
    "- 연속형 변수를 예측하는 기법.\n",
    "- 가장 일반적인 방법은 선형 회귀(Linear Regression).\n",
    "- 다중 회귀(Multiple Regression): 여러 개의 독립변수를 사용하여 종속변수를 예측."
   ]
  },
  {
   "cell_type": "code",
   "execution_count": 7,
   "metadata": {},
   "outputs": [
    {
     "name": "stdout",
     "output_type": "stream",
     "text": [
      "기울기 (slope): [0.6]\n",
      "절편 (intercept): 2.2\n"
     ]
    }
   ],
   "source": [
    "from sklearn.linear_model import LinearRegression\n",
    "import numpy as np\n",
    "\n",
    "# 예제 데이터\n",
    "X = np.array([1, 2, 3, 4, 5]).reshape(-1, 1)    # 독립변수\n",
    "y = np.array([2, 4, 5, 4, 5])                   # 종속변수\n",
    "\n",
    "# 모델 생성 및 학습\n",
    "model = LinearRegression()\n",
    "model.fit(X, y)             # train\n",
    "\n",
    "# 회귀 계수 확인\n",
    "print(\"기울기 (slope):\", model.coef_)\n",
    "print(\"절편 (intercept):\", model.intercept_)"
   ]
  },
  {
   "cell_type": "markdown",
   "metadata": {},
   "source": [
    "|지표|설명|---|\n",
    "|------|---|---|\n",
    "|MSE(Mean Squared Error)|예측값과 실제값 차이의 제곱 평균| 낮을수록 좋은 모델 | \n",
    "|RMSE(Root Mean Squared Error)|MSE의 제곱근, 모델의 평균 오차 크기| 낮은수록 좋은 모델 |\n",
    "|R² (결정계수)|모델이 데이터를 얼마나 설명하는지 나타내는 값 (0~1)| 높을 수록 좋은 모델 |"
   ]
  },
  {
   "cell_type": "code",
   "execution_count": 8,
   "metadata": {},
   "outputs": [
    {
     "name": "stdout",
     "output_type": "stream",
     "text": [
      "MSE: 0.47999999999999987\n",
      "R² Score: 0.6000000000000001\n"
     ]
    }
   ],
   "source": [
    "from sklearn.metrics import mean_squared_error, r2_score\n",
    "\n",
    "# 예측값 생성\n",
    "y_pred = model.predict(X)\n",
    "\n",
    "# 평가 지표 계산\n",
    "mse = mean_squared_error(y, y_pred)\n",
    "r2 = r2_score(y, y_pred)\n",
    "\n",
    "print(\"MSE:\", mse)\n",
    "print(\"R² Score:\", r2)"
   ]
  },
  {
   "cell_type": "code",
   "execution_count": 9,
   "metadata": {},
   "outputs": [
    {
     "name": "stdout",
     "output_type": "stream",
     "text": [
      "Ridge 회귀 모델 평가 결과:\n",
      "MSE: 0.5558034669932196\n",
      "R² Score: 0.5758549611440138\n"
     ]
    }
   ],
   "source": [
    "from sklearn.datasets import fetch_california_housing\n",
    "from sklearn.linear_model import Ridge\n",
    "from sklearn.model_selection import train_test_split\n",
    "from sklearn.metrics import mean_squared_error, r2_score\n",
    "import numpy as np\n",
    "\n",
    "# 캘리포니아 주택 가격 데이터 로드\n",
    "data = fetch_california_housing()\n",
    "X, y = data.data, data.target           # x : 독립변수, y : 타겟 레이블, 종속변수\n",
    "\n",
    "# 데이터 분할\n",
    "X_train, X_test, y_train, y_test = train_test_split(X, y, test_size=0.2, random_state=42)\n",
    "\n",
    "# Ridge 회귀 모델 학습\n",
    "ridge_model = Ridge(alpha=1.0)\n",
    "ridge_model.fit(X_train, y_train)\n",
    "\n",
    "# 예측 및 평가\n",
    "y_pred = ridge_model.predict(X_test)        # y_pred : prediction result\n",
    "mse = mean_squared_error(y_test, y_pred)    # y_test : real value \n",
    "r2 = r2_score(y_test, y_pred)\n",
    "\n",
    "print(\"Ridge 회귀 모델 평가 결과:\")\n",
    "print(\"MSE:\", mse)\n",
    "print(\"R² Score:\", r2)"
   ]
  },
  {
   "cell_type": "markdown",
   "metadata": {},
   "source": [
    "### 분류(Classification)\n",
    "- 데이터를 특정 카테고리로 예측하는 기법.\n",
    "- 대표적인 방법:\n",
    ">- 로지스틱 회귀(Logistic Regression)\n",
    ">- 의사결정나무(Decision Tree)\n",
    ">- 랜덤 포레스트(Random Forest)\n",
    ">- 서포트 벡터 머신(SVM)\n",
    ">- XGboost"
   ]
  },
  {
   "cell_type": "code",
   "execution_count": 10,
   "metadata": {},
   "outputs": [
    {
     "name": "stdout",
     "output_type": "stream",
     "text": [
      "모델 정확도: 1.0\n"
     ]
    }
   ],
   "source": [
    "from sklearn.model_selection import train_test_split\n",
    "from sklearn.linear_model import LogisticRegression\n",
    "from sklearn.datasets import load_iris\n",
    "\n",
    "# 데이터 로드\n",
    "iris = load_iris()\n",
    "X, y = iris.data, iris.target\n",
    "\n",
    "# 데이터 분할\n",
    "X_train, X_test, y_train, y_test = train_test_split(X, y, test_size=0.2, random_state=42)\n",
    "\n",
    "# 모델 학습\n",
    "clf = LogisticRegression(max_iter=200)\n",
    "clf.fit(X_train, y_train)\n",
    "\n",
    "# 정확도 확인\n",
    "print(\"모델 정확도:\", clf.score(X_test, y_test))"
   ]
  },
  {
   "cell_type": "code",
   "execution_count": 11,
   "metadata": {},
   "outputs": [
    {
     "name": "stdout",
     "output_type": "stream",
     "text": [
      "숫자 이미지 분류 모델 평가 결과:\n",
      "              precision    recall  f1-score   support\n",
      "\n",
      "           0       1.00      0.97      0.98        33\n",
      "           1       0.97      1.00      0.98        28\n",
      "           2       1.00      1.00      1.00        33\n",
      "           3       1.00      0.94      0.97        34\n",
      "           4       0.98      1.00      0.99        46\n",
      "           5       0.94      0.96      0.95        47\n",
      "           6       0.97      0.97      0.97        35\n",
      "           7       0.97      0.97      0.97        34\n",
      "           8       0.97      0.97      0.97        30\n",
      "           9       0.95      0.95      0.95        40\n",
      "\n",
      "    accuracy                           0.97       360\n",
      "   macro avg       0.97      0.97      0.97       360\n",
      "weighted avg       0.97      0.97      0.97       360\n",
      "\n"
     ]
    }
   ],
   "source": [
    "from sklearn.datasets import load_digits\n",
    "from sklearn.ensemble import RandomForestClassifier\n",
    "from sklearn.model_selection import train_test_split\n",
    "from sklearn.metrics import classification_report\n",
    "\n",
    "# 숫자 데이터 로드\n",
    "digits = load_digits()\n",
    "X, y = digits.data, digits.target\n",
    "\n",
    "# 데이터 분할\n",
    "X_train, X_test, y_train, y_test = train_test_split(X, y, test_size=0.2, random_state=42)\n",
    "\n",
    "# 랜덤 포레스트 분류 모델 학습\n",
    "clf_digits = RandomForestClassifier(n_estimators=100, random_state=42)\n",
    "clf_digits.fit(X_train, y_train)\n",
    "\n",
    "# 모델 평가\n",
    "y_pred_digits = clf_digits.predict(X_test)\n",
    "print(\"숫자 이미지 분류 모델 평가 결과:\")\n",
    "print(classification_report(y_test, y_pred_digits))"
   ]
  },
  {
   "cell_type": "markdown",
   "metadata": {},
   "source": [
    "|지표|설명|\n",
    "|------|---|\n",
    "|정확도(Accuracy)|전체 샘플 중 올바르게 예측한 비율|\n",
    "|정밀도(Precision)|모델이 **긍정(Positive)**으로 예측한 것 중 실제로 맞은 비율|\n",
    "|재현율(Recall, Sensitivity)|실제 긍정 클래스 중 모델이 정확히 맞춘 비율|\n",
    "|F1-score|정밀도와 재현율의 조화 평균|\n"
   ]
  },
  {
   "cell_type": "code",
   "execution_count": null,
   "metadata": {},
   "outputs": [],
   "source": [
    "from sklearn.metrics import classification_report\n",
    "\n",
    "# 예측값 생성\n",
    "y_pred = clf.predict(X_test)\n",
    "\n",
    "# 평가 보고서 출력\n",
    "print(classification_report(y_test, y_pred))"
   ]
  },
  {
   "attachments": {
    "image.png": {
     "image/png": "[encoded data removed]"
    }
   },
   "cell_type": "markdown",
   "metadata": {},
   "source": [
    "#### Confusion matrix(혼동행렬)\n",
    "![image.png](attachment:image.png)\n",
    "\n",
    "- TP(True positive) : 실제 True인데, 분류모델에서 예측이 True라고 판단된 경우 -> 모델이 맞는걸 맞다고 잘 예측\n",
    "- TN(True negative) : 실제 False인데, 분류모델에서 예측이 False라고 판단된 경우 -> 모델이 아닌걸 아니다라고 잘 예측\n",
    "- FP(False positive, 1종 오류) : 실제 False인데, 분류모델에서 예측이 True라고 판단된 경우\n",
    "- FN(False negative, 2종 오류) : 실제 True인데, 분류모델에서 예측이 False라고 판단된 경우\n",
    "\n",
    ">- 예시)\n",
    ">- 1종오류 : 건강한 사람을 환자로 진단\n",
    ">- 2종오류 : 암환자를 정상으로 진단"
   ]
  },
  {
   "cell_type": "markdown",
   "metadata": {},
   "source": [
    "- Precison : FP를 줄이는데 초점, 예) 스팸 필터에서 일반 메일이 스팸으로 분류될 가능성 감소\n",
    "- Recall : FN을 줄이는데 초점, 예) 암 진단에서 실제 암 환자를 놓치는 경우를 최소화"
   ]
  },
  {
   "cell_type": "code",
   "execution_count": null,
   "metadata": {},
   "outputs": [],
   "source": []
  },
  {
   "cell_type": "code",
   "execution_count": null,
   "metadata": {},
   "outputs": [],
   "source": []
  }
 ],
 "metadata": {
  "kernelspec": {
   "display_name": "usr",
   "language": "python",
   "name": "python3"
  },
  "language_info": {
   "codemirror_mode": {
    "name": "ipython",
    "version": 3
   },
   "file_extension": ".py",
   "mimetype": "text/x-python",
   "name": "python",
   "nbconvert_exporter": "python",
   "pygments_lexer": "ipython3",
   "version": "3.10.12"
  }
 },
 "nbformat": 4,
 "nbformat_minor": 2
}
