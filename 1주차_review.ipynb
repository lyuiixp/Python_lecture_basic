{
 "cells": [
  {
   "cell_type": "markdown",
   "metadata": {},
   "source": [
    "### 1주차 파이썬 리뷰\n",
    "\n",
    "## 1. 변수와 자료형\n",
    "\n",
    "#### 변수(Variable)\n",
    "\n",
    "- 데이터를 저장하는 공간이며, 값을 할당하여 사용함.\n",
    "\n",
    "- 특징: 변수는 값을 변경할 수 있으며, 이름을 통해 접근함.\n",
    "\n",
    "- 장점: 가독성이 좋아지고 코드 유지보수가 용이함.\n",
    "\n",
    "- 단점: 변수 이름이 부정확하거나 혼동될 경우 디버깅이 어려울 수 있음.\n",
    "\n",
    "\n",
    "#### 자료형(Data Type)\n",
    "- **정수형(int)**: 정수를 저장하는 자료형 (`ex: 10, -5`)\n",
    "- **실수형(float)**: 실수를 저장하는 자료형 (`ex: 3.14, -0.5`)\n",
    "- **문자열(str)**: 문자 또는 문자열을 저장하는 자료형 (`ex: 'Hello'`)\n",
    "- **불리언(bool)**: 참(True) 또는 거짓(False) 값 (`ex: True, False`)\n",
    "\n",
    "**타입 확인 및 변환**:\n",
    "- `type()` 함수: 자료형 확인\n",
    "- `int()`, `float()`, `str()`: 자료형 변환\n",
    "\n"
   ]
  },
  {
   "cell_type": "code",
   "execution_count": 2,
   "metadata": {},
   "outputs": [],
   "source": [
    "x = 10  # 정수형 변수\n",
    "name = 'Alice'  # 문자열 변수\n",
    "height = 5.8  # 실수형 변수"
   ]
  },
  {
   "cell_type": "code",
   "execution_count": null,
   "metadata": {},
   "outputs": [],
   "source": [
    "x = 10\n",
    "print(type(x))  # <class 'int'>\n",
    "y = float(x)  # x를 실수로 변환"
   ]
  },
  {
   "cell_type": "markdown",
   "metadata": {},
   "source": [
    "## 2. 조건문\n",
    "\n",
    "- 특정 조건에 따라 코드의 실행 여부를 결정함.\n",
    "\n",
    "#### if, elif, else 문\n",
    "\n",
    "- 특징: 조건식에 따라 코드가 분기됨.\n",
    "\n",
    "- 장점: 조건 분기 처리가 가능하여 복잡한 흐름을 제어할 수 있음.\n",
    "\n",
    "- 단점: 지나치게 많아지면 가독성이 떨어질 수 있음."
   ]
  },
  {
   "cell_type": "code",
   "execution_count": null,
   "metadata": {},
   "outputs": [],
   "source": [
    "score = 85\n",
    "if score >= 90:\n",
    "    print(\"A 학점\")\n",
    "elif score >= 80:\n",
    "    print(\"B 학점\")\n",
    "else:\n",
    "    print(\"C 학점\")"
   ]
  },
  {
   "cell_type": "markdown",
   "metadata": {},
   "source": [
    "## 3. 제어문\n",
    "\n",
    "- break: 반복문을 즉시 종료\n",
    "\n",
    "- continue: 반복문의 현재 루프를 건너뛰고 다음 루프로 진행\n",
    "\n",
    "- 특징:\n",
    "\n",
    ">- break는 반복문 전체를 종료함.\n",
    "\n",
    ">- continue는 특정 조건에서 루프의 남은 코드를 생략하고 다음 반복으로 넘어감.\n",
    "\n",
    "- 장점:\n",
    "\n",
    ">- 불필요한 연산을 줄일 수 있음.\n",
    "\n",
    "- 단점:\n",
    "\n",
    ">- 사용이 과도할 경우 코드 흐름이 복잡해질 수 있음."
   ]
  },
  {
   "cell_type": "code",
   "execution_count": null,
   "metadata": {},
   "outputs": [],
   "source": [
    "for i in range(5):\n",
    "    if i == 3:\n",
    "        break  # 3일 때 반복 종료\n",
    "    print(i)"
   ]
  },
  {
   "cell_type": "markdown",
   "metadata": {},
   "source": [
    "## 4. 비교연산자\n",
    "\n",
    "- 두 값을 비교하여 참(True) 또는 거짓(False) 반환\n",
    "\n",
    "- 특징: 조건 판단을 위한 필수 요소\n",
    "\n",
    "- 장점: 간단한 조건 판단으로 코드 분기 가능\n",
    "\n",
    "- 단점: 복잡한 조건이 많아지면 이해하기 어려움\n",
    "\n",
    ">- a == b  # 같다\n",
    ">- a != b  # 다르다\n",
    ">- a > b   # 크다\n",
    ">- a < b   # 작다\n",
    ">- a >= b  # 크거나 같다\n",
    ">- a <= b  # 작거나 같다"
   ]
  },
  {
   "cell_type": "markdown",
   "metadata": {},
   "source": [
    "## 5. 논리연산자\n",
    "\n",
    "- 여러 조건을 결합하거나 부정할 때 사용\n",
    "\n",
    "- 특징: 복합적인 조건을 처리할 수 있음\n",
    "\n",
    "- 장점: 여러 조건을 효율적으로 결합할 수 있음\n",
    "\n",
    "- 단점: 지나치게 복잡한 조건문은 가독성을 저하시킬 수 있음\n",
    "\n",
    ">- and(&) : 모두 참일 때 결과가 참 (True).\n",
    ">- or(|) : 하나라도 참이면 결과가 참 (True).\n",
    ">- not(!=) : 참을 거짓으로, 거짓을 참으로 반전."
   ]
  },
  {
   "cell_type": "code",
   "execution_count": null,
   "metadata": {},
   "outputs": [],
   "source": [
    "x = 10\n",
    "y = 20\n",
    "if x > 5 and y < 30:\n",
    "    print(\"조건 만족\")"
   ]
  },
  {
   "cell_type": "markdown",
   "metadata": {},
   "source": [
    "## 6. 리스트\n",
    "- 여러 개의 데이터를 순서대로 저장하는 자료구조 (변경 가능)\n",
    "\n",
    "- 특징: 인덱스를 사용하여 요소에 접근 가능\n",
    "\n",
    "- 장점: 다양한 데이터 처리를 위한 함수와 메서드 제공\n",
    "\n",
    "- 단점: 대용량 데이터일 경우 메모리 사용량이 높아질 수 있음\n",
    "\n",
    "**주요 메서드**\n",
    "\n",
    "- append(): 요소 추가\n",
    "\n",
    "- remove(): 특정 요소 제거\n",
    "\n",
    "- len(): 리스트 길이 반환"
   ]
  },
  {
   "cell_type": "code",
   "execution_count": 8,
   "metadata": {},
   "outputs": [],
   "source": [
    "numbers = [1, 2, 3, 4, 5]\n",
    "numbers[0] = 10  # 첫 번째 요소 변경"
   ]
  },
  {
   "cell_type": "markdown",
   "metadata": {},
   "source": [
    "## 7. 딕셔너리\n",
    "\n",
    "- 키-값(Key-Value) 쌍으로 데이터를 저장하는 자료구조\n",
    "\n",
    "- 특징: 키를 통해 값에 접근, 키 값으로 unhashable한 값은 사용 불가능(가변객체 사용 불가): list, dict, set\n",
    "\n",
    "- 장점: 빠른 데이터 검색 가능\n",
    "\n",
    "- 단점: 순서가 보장되지 않음 (Python 3.7 이상은 순서 보장)\n",
    "\n",
    "**주요 메서드**\n",
    "\n",
    "- keys(): 키 목록 반환\n",
    "\n",
    "- values(): 값 목록 반환\n",
    "\n",
    "- items(): 키-값 쌍 반환\n"
   ]
  },
  {
   "cell_type": "code",
   "execution_count": 9,
   "metadata": {},
   "outputs": [],
   "source": [
    "person = {\n",
    "    'name': 'Alice',\n",
    "    'age': 25\n",
    "}"
   ]
  },
  {
   "cell_type": "code",
   "execution_count": null,
   "metadata": {},
   "outputs": [],
   "source": [
    "for key, value in person.items():\n",
    "    print(f\"{key}: {value}\")"
   ]
  },
  {
   "cell_type": "markdown",
   "metadata": {},
   "source": [
    "## 8. 집합\n",
    "\n",
    "- 중복을 허용하지 않는 자료구조\n",
    "\n",
    "- 특징: 순서가 없고, 중복 제거 자동 처리\n",
    "\n",
    "- 장점: 빠른 중복 제거 및 집합 연산 제공\n",
    "\n",
    "- 단점: 인덱스를 사용한 접근이 불가능함\n",
    "\n",
    "**주요 연산**\n",
    "\n",
    "- union(): 합집합\n",
    "\n",
    "- intersection(): 교집합\n",
    "\n",
    "- difference(): 차집합"
   ]
  },
  {
   "cell_type": "code",
   "execution_count": 25,
   "metadata": {},
   "outputs": [],
   "source": [
    "fruits = {'apple', 'banana', 'orange'}\n",
    "fruits.add('grape')"
   ]
  },
  {
   "cell_type": "code",
   "execution_count": null,
   "metadata": {},
   "outputs": [],
   "source": [
    "fruits.remove('apple')\n",
    "fruits"
   ]
  },
  {
   "cell_type": "code",
   "execution_count": null,
   "metadata": {},
   "outputs": [],
   "source": [
    "set1 = {1, 2, 3}\n",
    "set2 = {2, 3, 4}\n",
    "print(set1.union(set2))  # {1, 2, 3, 4}"
   ]
  },
  {
   "cell_type": "markdown",
   "metadata": {},
   "source": [
    "## 9. 튜플\n",
    "\n",
    "- 변경할 수 없는 리스트\n",
    "\n",
    "- 특징: 불변(immutable) 자료구조로 값 변경 불가\n",
    "\n",
    "- 장점: 안전한 데이터 저장에 유용함\n",
    "\n",
    "- 단점: 요소를 추가하거나 제거할 수 없음"
   ]
  },
  {
   "cell_type": "code",
   "execution_count": null,
   "metadata": {},
   "outputs": [],
   "source": [
    "coords = (10, 20)\n",
    "print(coords[0])  # 10"
   ]
  },
  {
   "cell_type": "markdown",
   "metadata": {},
   "source": [
    "## 10. 반복문\n",
    "\n",
    "#### **for 문**\n",
    ">- **for 변수 in 리스트**:  형태로 사용가능하며 리스트 외에 **다른 구조도 사용가능(튜플, 문자열, 딕셔너리..)**\n",
    "```python\n",
    "for x in list:\n",
    "```\n",
    ">- **range() 활용** => for 변수 in range() : 인덱스를 활용가능\n",
    "```python\n",
    "for x in range():\n",
    "```\n",
    ">- **enumerate() 활용** : 인덱스와 값을 동시에 처리할 때 유용  \n",
    "```python\n",
    "for x in enumerate(list):\n",
    "```\n",
    ">- 중첩 반복문 : 시간복잡도에 유의하여 사용\n",
    "```python\n",
    "for i in list:\n",
    "  for j in range(i):\n",
    "    print('')\n",
    "```\n",
    "\n",
    "#### **while 문**\n",
    ">- 조건이 참인 동안 반복 수행함\n",
    ">- 조건에 걸리지 않으면 while문을 빠져나감\n",
    ">- **break** : **반복문을 즉시 종료, 무한루프에 빠질 경우를 방지**\n",
    ">- continue : 조건에 만족될 때, 다음 반복으로 건너뛰기\n",
    "\n",
    "#### **List Comprehension**\n",
    "```python\n",
    "X = [1,2,3]     # 반복할 객체 리스트\n",
    "new_list = []   # 새로 생성할 리스트\n",
    "for i in X:     # i 라는 임의변수는 반복할 객체리스트의 각 항목(임의변수 이름은 변경가능)\n",
    "   if 조건:      # 조건이 만족할 시\n",
    "     new_list.append(변수 표현식)    # 새로운 리스트에 표현식을 통해 나온 값을 추가\n",
    "```\n",
    "---\n",
    "- 위 형태를 아래 컴프리헨션 문법을 통해 편리하고 직관적으로 표현\n",
    "- 파이썬은 comprehension문법에 속도 최적화가 되어 조금 더 빠름\n",
    "---\n",
    "```python\n",
    "X = [1,2,3]\n",
    "new_list = [표현하고 싶은 값 for i in X if 조건]"
   ]
  },
  {
   "cell_type": "code",
   "execution_count": null,
   "metadata": {},
   "outputs": [],
   "source": [
    "test_list = [100, 200, 300]\n",
    "for i in test_list:\n",
    "    print(i)\n"
   ]
  },
  {
   "cell_type": "code",
   "execution_count": null,
   "metadata": {},
   "outputs": [],
   "source": [
    "# range()\n",
    "for i in range(len(test_list)):\n",
    "    print(test_list[i])"
   ]
  },
  {
   "cell_type": "code",
   "execution_count": null,
   "metadata": {},
   "outputs": [],
   "source": [
    "# enumerate()\n",
    "test_list = [100, 200, 300]\n",
    "\n",
    "for idx, val in enumerate(test_list):\n",
    "    print(idx, val)"
   ]
  },
  {
   "cell_type": "code",
   "execution_count": null,
   "metadata": {},
   "outputs": [],
   "source": [
    "# while문 test\n",
    "while True:\n",
    "    input_chat = input(\"입력: \")\n",
    "    if input_chat == '탈출':\n",
    "        break\n"
   ]
  },
  {
   "cell_type": "code",
   "execution_count": null,
   "metadata": {},
   "outputs": [],
   "source": [
    "n = 0\n",
    "while n<5:\n",
    "    print(n)\n",
    "    n += 1\n",
    "else:\n",
    "    print('n값이 5이상입니다')"
   ]
  },
  {
   "cell_type": "code",
   "execution_count": null,
   "metadata": {},
   "outputs": [],
   "source": [
    "# 리스트 컴프리헨션 test\n",
    "# 1에서 20까지 숫자 중 짝수의 값은 제곱하고, 홀수의 값은 '홀수'라는 문자열이 들어간 리스트를 생성하시오.\n",
    "[x**2 if x%2 == 0 else '홀수' for x in range(1,21)]"
   ]
  },
  {
   "cell_type": "markdown",
   "metadata": {},
   "source": [
    "### 연습문제"
   ]
  },
  {
   "cell_type": "code",
   "execution_count": 17,
   "metadata": {},
   "outputs": [],
   "source": [
    "# 문제 1\n",
    "# 숫자를 입력받아, 그 숫자가 홀수인지 짝수인지 출력하는 코드를 작성하세요.(조건문, 연산자)"
   ]
  },
  {
   "cell_type": "code",
   "execution_count": null,
   "metadata": {},
   "outputs": [],
   "source": [
    "# 문제2 : 리스트 [50, 40, 20, 10, 30] 을 오름차순으로 정렬하세요."
   ]
  },
  {
   "cell_type": "code",
   "execution_count": null,
   "metadata": {},
   "outputs": [],
   "source": [
    "# 문제3 : 리스트 [1,2,3,4,5,5,6,7,7] 에서 중복된 요소를 제거한 리스트를 만드세요."
   ]
  },
  {
   "cell_type": "code",
   "execution_count": null,
   "metadata": {},
   "outputs": [],
   "source": [
    "# 문제4 : 튜플 (1, 3, 3, 5, 3, 7)에서 숫자 3이 몇 번 등장하는지 구하세요."
   ]
  },
  {
   "cell_type": "code",
   "execution_count": null,
   "metadata": {},
   "outputs": [],
   "source": [
    "# 문제5 : 리스트 [15, 22, 8, 3, 19]에서 가장 큰 값과 작은 값을 구하세요."
   ]
  },
  {
   "cell_type": "code",
   "execution_count": null,
   "metadata": {},
   "outputs": [],
   "source": [
    "# 문제6 : 2x2 크기의 2차원 리스트 [[1, 2], [3, 4]]를 생성하고, 3에 접근하여 출력하세요."
   ]
  },
  {
   "cell_type": "code",
   "execution_count": null,
   "metadata": {},
   "outputs": [],
   "source": [
    "# 문제7 : 튜플 (10, 20, 30)에 40이라는 값을 추가해보세요."
   ]
  },
  {
   "cell_type": "code",
   "execution_count": null,
   "metadata": {},
   "outputs": [],
   "source": [
    "# 문제8 : 사용자로부터 세 개의 숫자를 입력받아, 가장 큰 숫자를 출력하는 프로그램을 작성하세요."
   ]
  },
  {
   "cell_type": "code",
   "execution_count": 24,
   "metadata": {},
   "outputs": [],
   "source": [
    "# 문제9 (중첩 반복문 활용하기!)\n",
    "# 학생들의 과목별 점수가 입력된 딕셔너리가 존재할 때, 과목별 성적이 90점 이상인 학생들을 출력하세요.\n",
    "# 출력예시) 철수의 수학과목 성적은 90점 입니다.\n",
    "students = {\n",
    "    '철수' : {'수학': 90, '과학':75},\n",
    "    '민수' : {'수학': 70, '과학':65},\n",
    "    '지영' : {'수학': 95, '과학':91}\n",
    "}"
   ]
  },
  {
   "cell_type": "code",
   "execution_count": null,
   "metadata": {},
   "outputs": [],
   "source": [
    "# 문제10 (조건, 반복문 활용!)\n",
    "# 로봇이 좌표 (0,0)에서 시작하여, 주어진 명령에 따라 이동합니다. \n",
    "# 명령 리스트가 주어졌을 때, 최종 위치를 출력하세요.\n",
    "commands = ['UP', 'UP', 'LEFT', 'DOWN', 'RIGHT']\n",
    "position = [0, 0]\n",
    "\n",
    "\n",
    "\n",
    "print(f\"최종 위치: {position}\")"
   ]
  }
 ],
 "metadata": {
  "kernelspec": {
   "display_name": "usr",
   "language": "python",
   "name": "python3"
  },
  "language_info": {
   "codemirror_mode": {
    "name": "ipython",
    "version": 3
   },
   "file_extension": ".py",
   "mimetype": "text/x-python",
   "name": "python",
   "nbconvert_exporter": "python",
   "pygments_lexer": "ipython3",
   "version": "3.10.12"
  }
 },
 "nbformat": 4,
 "nbformat_minor": 2
}
