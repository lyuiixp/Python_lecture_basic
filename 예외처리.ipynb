{
 "cells": [
  {
   "cell_type": "markdown",
   "metadata": {},
   "source": [
    "### 예외처리\n",
    "- __예외__ : 프로그램 실행 중 발생하는 __오류__. \n",
    "- 예외처리 __필요성__ : 예외가 발생하면 프로그램은 중단되므로 이를 방지하여 중단되지 않고 대응 할 수 있도록 함.\n",
    "\n",
    "- __예외 종류__\n",
    ">- SyntaxError: 문법 오류\n",
    ">- TypeError: 잘못된 데이터 타입 사용\n",
    ">- IndexError: 리스트 인덱스 범위 벗어남\n",
    ">- KeyError: 딕셔너리에 없는 키로 접근\n",
    ">- ZeroDivisionError: 0으로 나누기\n",
    ">- ValueError: 부적절한 값을 가진 인자를 받았을 때 발생\n",
    ">- FileNotFoundError : 존재하지 않는 파일이나 디렉토리에 접근하려 할 때\n",
    ">- AttributeError : 잘못된 메서드나 속성을 호출하거나 대입했을 때 발생\n",
    ">- UnicodeDecodeError : 파일의 인코딩 저장방식과 다른 인코딩 방식으로 파일을 불러올때 발생\n",
    "\n",
    "---\n",
    "\n",
    "- __예외처리 구문 (try-except)__\n",
    "```python3\n",
    "try: \n",
    "    # 예외가 발생할 수 있는 코드\n",
    "except:\n",
    "    # 예외가 발생했을 때 실행할 코드(생략가능, 여러개 사용가능)\n",
    "else:\n",
    "    # 예외가 발생하지 않았을때 실행할 코드(생략가능, except 있어야 사용가능)\n",
    "finally:\n",
    "    # 예외 발생 여부 상관없이 실행할 코드(생략가능)\n",
    "```\n"
   ]
  },
  {
   "cell_type": "code",
   "execution_count": 4,
   "metadata": {},
   "outputs": [
    {
     "name": "stdout",
     "output_type": "stream",
     "text": [
      "숫자를 입력해야 합니다.\n"
     ]
    },
    {
     "data": {
      "text/plain": [
       "2.0"
      ]
     },
     "execution_count": 4,
     "metadata": {},
     "output_type": "execute_result"
    }
   ],
   "source": [
    "# try-except 구문\n",
    "try:\n",
    "    num = int(input(\"숫자를 입력하세요: \"))\n",
    "    result = 10 / num\n",
    "except ZeroDivisionError:\n",
    "    print(\"0으로 나눌 수 없습니다.\")\n",
    "except ValueError:\n",
    "    print(\"숫자를 입력해야 합니다.\")\n",
    "\n",
    "result"
   ]
  },
  {
   "cell_type": "code",
   "execution_count": 5,
   "metadata": {},
   "outputs": [
    {
     "name": "stdout",
     "output_type": "stream",
     "text": [
      "결과: 5.0\n"
     ]
    }
   ],
   "source": [
    "# else 구문\n",
    "try:\n",
    "    result = 10 / 2\n",
    "except ZeroDivisionError:\n",
    "    print(\"0으로 나눌 수 없습니다.\")\n",
    "else:\n",
    "    print(f\"결과: {result}\")\n"
   ]
  },
  {
   "cell_type": "code",
   "execution_count": 8,
   "metadata": {},
   "outputs": [
    {
     "name": "stdout",
     "output_type": "stream",
     "text": [
      "close file\n"
     ]
    }
   ],
   "source": [
    "# finally 구문 : 예외가 발생하든 안하든 실행하고 싶은 코드\n",
    "try:\n",
    "    file = open(\"data.txt\", \"r\")        # utf-8\n",
    "    content = file.read()\n",
    "except FileNotFoundError:\n",
    "    print(\"파일을 찾을 수 없습니다.\")\n",
    "\n",
    "# UnicodeDecodeError가 발생했을 때 다시 열어보기!\n",
    "# utf-8형태로 저장되있다면?\n",
    "# except UnicodeDecodeError:\n",
    "#     file = open(\"data.txt\", \"r\", encoding = 'utf-8')\n",
    "#     content = file.read()\n",
    "\n",
    "finally:\n",
    "    print(\"close file\")\n",
    "    file.close()                # 파일을 열었으면 항상 닫아주기\n"
   ]
  },
  {
   "cell_type": "code",
   "execution_count": 13,
   "metadata": {},
   "outputs": [
    {
     "name": "stdout",
     "output_type": "stream",
     "text": [
      "<class 'ValueError'>\n",
      "에러 발생: <class 'ValueError'>: invalid literal for int() with base 10: 'ㅁ'\n",
      "에러가 여기서 발생\n"
     ]
    },
    {
     "data": {
      "text/plain": [
       "2.0"
      ]
     },
     "execution_count": 13,
     "metadata": {},
     "output_type": "execute_result"
    }
   ],
   "source": [
    "# except구문\n",
    "try:\n",
    "    number = int(input(\"숫자를 입력하세요: \"))\n",
    "    result = 10 / number\n",
    "# except ZeroDivisionError as e:\n",
    "#     print(f\"ZeroDivisionError 에러 발생: {e}\")\n",
    "# except ValueError as e:\n",
    "#     print(f\"ValueError 에러 발생: {e}\")\n",
    "except (ZeroDivisionError, ValueError) as e:\n",
    "    print(type(e))\n",
    "    print(f\"에러 발생: {type(e)}: {e}\")\n",
    "    print(\"에러가 여기서 발생\")\n",
    "\n",
    "result\n"
   ]
  },
  {
   "cell_type": "markdown",
   "metadata": {},
   "source": [
    "- raise를 사용하여 예외 발생"
   ]
  },
  {
   "cell_type": "code",
   "execution_count": 14,
   "metadata": {},
   "outputs": [
    {
     "ename": "Exception",
     "evalue": "b는 0이 될 수 없습니다!",
     "output_type": "error",
     "traceback": [
      "\u001b[0;31m---------------------------------------------------------------------------\u001b[0m",
      "\u001b[0;31mException\u001b[0m                                 Traceback (most recent call last)",
      "Cell \u001b[0;32mIn[14], line 9\u001b[0m\n\u001b[1;32m      6\u001b[0m     \u001b[38;5;28;01mreturn\u001b[39;00m a \u001b[38;5;241m/\u001b[39m b\n\u001b[1;32m      8\u001b[0m \u001b[38;5;28;01mtry\u001b[39;00m:\n\u001b[0;32m----> 9\u001b[0m     result \u001b[38;5;241m=\u001b[39m \u001b[43mdivide\u001b[49m\u001b[43m(\u001b[49m\u001b[38;5;241;43m10\u001b[39;49m\u001b[43m,\u001b[49m\u001b[43m \u001b[49m\u001b[38;5;241;43m0\u001b[39;49m\u001b[43m)\u001b[49m\n\u001b[1;32m     10\u001b[0m \u001b[38;5;28;01mexcept\u001b[39;00m \u001b[38;5;167;01mZeroDivisionError\u001b[39;00m \u001b[38;5;28;01mas\u001b[39;00m e:\n\u001b[1;32m     11\u001b[0m     \u001b[38;5;28mprint\u001b[39m(\u001b[38;5;124mf\u001b[39m\u001b[38;5;124m\"\u001b[39m\u001b[38;5;124m예외 발생: \u001b[39m\u001b[38;5;132;01m{\u001b[39;00me\u001b[38;5;132;01m}\u001b[39;00m\u001b[38;5;124m\"\u001b[39m)\n",
      "Cell \u001b[0;32mIn[14], line 4\u001b[0m, in \u001b[0;36mdivide\u001b[0;34m(a, b)\u001b[0m\n\u001b[1;32m      2\u001b[0m \u001b[38;5;28;01mdef\u001b[39;00m \u001b[38;5;21mdivide\u001b[39m(a, b):\n\u001b[1;32m      3\u001b[0m     \u001b[38;5;28;01mif\u001b[39;00m b \u001b[38;5;241m==\u001b[39m \u001b[38;5;241m0\u001b[39m:\n\u001b[0;32m----> 4\u001b[0m         \u001b[38;5;28;01mraise\u001b[39;00m \u001b[38;5;167;01mException\u001b[39;00m(\u001b[38;5;124m\"\u001b[39m\u001b[38;5;124mb는 0이 될 수 없습니다!\u001b[39m\u001b[38;5;124m\"\u001b[39m)\n\u001b[1;32m      5\u001b[0m         \u001b[38;5;66;03m# raise ZeroDivisionError(\"b는 0이 될 수 없습니다.\")\u001b[39;00m\n\u001b[1;32m      6\u001b[0m     \u001b[38;5;28;01mreturn\u001b[39;00m a \u001b[38;5;241m/\u001b[39m b\n",
      "\u001b[0;31mException\u001b[0m: b는 0이 될 수 없습니다!"
     ]
    }
   ],
   "source": [
    "# raise를 사용한 예외 발생\n",
    "def divide(a, b):\n",
    "    if b == 0:\n",
    "        raise Exception(\"b는 0이 될 수 없습니다!\")\n",
    "        # raise ZeroDivisionError(\"b는 0이 될 수 없습니다.\")\n",
    "    return a / b\n",
    "\n",
    "try:\n",
    "    result = divide(10, 0)\n",
    "except ZeroDivisionError as e:\n",
    "    print(f\"예외 발생: {e}\")\n"
   ]
  },
  {
   "cell_type": "code",
   "execution_count": 15,
   "metadata": {},
   "outputs": [
    {
     "name": "stdout",
     "output_type": "stream",
     "text": [
      "0으로는 나눌 수 없습니다.\n"
     ]
    }
   ],
   "source": [
    "def divide(x,y):\n",
    "    try:\n",
    "        answer = x/y\n",
    "    except ZeroDivisionError as e:\n",
    "        print(\"0으로는 나눌 수 없습니다.\")\n",
    "    else:\n",
    "        return answer\n",
    "\n",
    "divide(10,0)"
   ]
  },
  {
   "cell_type": "markdown",
   "metadata": {},
   "source": [
    "- __특정 예외(사용자지정)를 지정하여 사용 시__\n",
    "```python3\n",
    "try:\n",
    "\n",
    "except 예외(오류)명:\n",
    "```"
   ]
  },
  {
   "cell_type": "code",
   "execution_count": 16,
   "metadata": {},
   "outputs": [
    {
     "name": "stdout",
     "output_type": "stream",
     "text": [
      "예외 발생: 음수 값 입력: -5\n"
     ]
    }
   ],
   "source": [
    "# 사용자 정의 예외\n",
    "# python 기본 예외 외에도 사용자가 직접 예외를 정의가능\n",
    "\n",
    "class NegativeNumberError(Exception):\n",
    "    def __init__(self, value):\n",
    "        self.value = value\n",
    "\n",
    "def check_positive(number):\n",
    "    if number < 0:\n",
    "        raise NegativeNumberError(f\"음수 값 입력: {number}\")\n",
    "\n",
    "try:\n",
    "    check_positive(-5)\n",
    "except NegativeNumberError as e:\n",
    "    print(f\"예외 발생: {e.value}\")\n"
   ]
  },
  {
   "cell_type": "markdown",
   "metadata": {},
   "source": [
    "#### try-except구문/if구문 차이\n",
    "- try/except\n",
    ">- 오류가 발생한 후 예외에 대한 대처\n",
    ">- 특정한 예외상황이 발생할 수 있는 경우(파일 입출력, 통신, 사용자 입력 등)\n",
    "\n",
    "- if 조건\n",
    ">- 오류가 발생하기 전에 오류 발생 가능성을 미리 방지\n",
    ">- 논리오류를 미리 예측 가능하거나 미리 대비할 수 있는 경우\n",
    "\n",
    "---\n",
    "- (참고) https://smecsm.tistory.com/166"
   ]
  },
  {
   "cell_type": "code",
   "execution_count": 17,
   "metadata": {},
   "outputs": [
    {
     "name": "stdout",
     "output_type": "stream",
     "text": [
      "5.0\n",
      "0으로 나눌 수 없습니다.\n"
     ]
    }
   ],
   "source": [
    "# try/except\n",
    "def divide(a, b):\n",
    "    try:\n",
    "        return a / b\n",
    "    except ZeroDivisionError:\n",
    "        return \"0으로 나눌 수 없습니다.\"\n",
    "\n",
    "print(divide(10, 2))  # 정상 실행\n",
    "print(divide(10, 0))  # 예외 처리로 0으로 나누기 방지\n"
   ]
  },
  {
   "cell_type": "code",
   "execution_count": 18,
   "metadata": {},
   "outputs": [
    {
     "name": "stdout",
     "output_type": "stream",
     "text": [
      "5.0\n",
      "0으로 나눌 수 없습니다.\n"
     ]
    }
   ],
   "source": [
    "# if/else\n",
    "def divide(a, b):\n",
    "    if b == 0:\n",
    "        return \"0으로 나눌 수 없습니다.\"\n",
    "    else:\n",
    "        return a / b\n",
    "\n",
    "print(divide(10, 2))  # 정상 실행\n",
    "print(divide(10, 0))  # 조건문으로 0으로 나누기 방지\n"
   ]
  },
  {
   "cell_type": "markdown",
   "metadata": {},
   "source": [
    "#### 실습"
   ]
  },
  {
   "cell_type": "code",
   "execution_count": 22,
   "metadata": {},
   "outputs": [
    {
     "name": "stdout",
     "output_type": "stream",
     "text": [
      "Alice 학생의 성적이 추가되었습니다.\n",
      "Bob 학생은 존재하지 않습니다.\n",
      "Alice 학생의 성적이 수정되었습니다.\n",
      "성적은 0~100 사이여야 합니다.\n"
     ]
    }
   ],
   "source": [
    "# 문제 1.\n",
    "# 학생들의 성적을 관리하는 프로그램을 작성하세요. \n",
    "# 학생의 이름과 점수를 입력받고, 성적을 조회하거나 성적을 변경하는 기능을 제공합니다.\n",
    "# 성적이 0에서 100 사이가 아닐 경우 ValueError를 발생시키고, 이를 처리하여 오류 메시지를 출력하세요.\n",
    "# *요구사항 : 초기 학생 성적관리는 빈 딕셔너리 형태입니다. \n",
    "# 딕셔너리, 학생, 성적을 인자로 받아 새로운 학생정보를 추가하는 add_student 함수를 정의하세요.\n",
    "# 딕셔너리, 학생, 성적을 인자로 받아 학생의 성적정보를 수정하는 update_student함수를 정의하세요.\n",
    "# 빈칸 및 코드작성 부분에 코드를 작성하세요.\n",
    "\n",
    "\n",
    "def add_student(students, name, score):\n",
    "    try:\n",
    "        # code\n",
    "        if score < 0 or score > 100:\n",
    "            raise ValueError(\"성적은 0~100 사이여야 합니다.\")\n",
    "        students[name] = score\n",
    "        print(f\"{name} 학생의 성적이 추가되었습니다.\")\n",
    "    except ValueError as e:\n",
    "        print(e)\n",
    "\n",
    "def update_student(students,name, score):\n",
    "    try:    \n",
    "        # code\n",
    "        if name in students:\n",
    "            if score < 0 or score > 100:\n",
    "                raise ValueError(\"성적은 0~100 사이여야 합니다.\")\n",
    "            students[name] = score\n",
    "            print(f\"{name} 학생의 성적이 수정되었습니다.\")\n",
    "        # code\n",
    "        else:\n",
    "            print(f\"{name} 학생은 존재하지 않습니다.\")\n",
    "    except ValueError as e:\n",
    "        print(e)\n",
    "        \n",
    "# test case\n",
    "students = {}\n",
    "add_student(students, \"Alice\", 95)                  # {'Alice' : 95}  print : Alice학생의 성적이 추가되었습니다.\n",
    "update_student(students, \"Bob\", 105)                # 예외 발생       print : Bob 학생은 존재하지 않습니다.\n",
    "update_student(students, \"Alice\", 88)               # {Alice : 88}   print : Alice 학생의 성적이 수정되었습니다.\n",
    "update_student(students, \"Alice\", 105)              # print : 성적은 0에서 100 사이여야 합니다.\n"
   ]
  },
  {
   "cell_type": "code",
   "execution_count": 23,
   "metadata": {},
   "outputs": [
    {
     "name": "stdout",
     "output_type": "stream",
     "text": [
      "apple상품 3개를 주문하셨습니다. 총 가격: 6000원\n",
      "해당 제품 수량이 없습니다.\n",
      "'해당 제품이 없습니다.'\n"
     ]
    }
   ],
   "source": [
    "# 문제 2.\n",
    "# 온라인 주문 시스템에서 주문을 관리하는 프로그램을 작성하세요.\n",
    "# 사용자는 제품 이름과 수량을 입력할 수 있고, 수량이 0 이하일때는 ValueError 예외를 발생시키고 적절한 오류 메세지 출력,\n",
    "# 제품이 존재하지 않는 경우에는 KeyError 예외를 발생시켜 적절한 오류 메세지를 출력합니다.\n",
    "# *요구사항 : 제품과 가격을 관리하는 딕셔너리가 존재합니다.\n",
    "# 주문을 진행하는 order_product 함수는 상품명과 수량을 인자로 받아 총 가격을 출력해주도록 정의해주세요.\n",
    "# 빈칸 및 코드작성 부분에 코드를 작성하세요.\n",
    "\n",
    "# 제품과 가격이 저장된 딕셔너리\n",
    "products = {\n",
    "    \"apple\": 2000,\n",
    "    \"banana\": 1200,\n",
    "    \"orange\": 3000\n",
    "}\n",
    "\n",
    "# 상품 주문 메소드\n",
    "def order_product(product_name, amount):                        # 상품 명/수량을 인자로 받음\n",
    "    try:\n",
    "        # 제품이 없으면 KeyError발생 및 메세지 출력\n",
    "        # 수량이 0 이하일때 ValueError발생 및 메세지 출력\n",
    "        # code\n",
    "        if product_name not in products:\n",
    "            raise KeyError(\"해당 제품이 없습니다.\")\n",
    "        if amount <= 0:\n",
    "            raise ValueError(\"해당 제품 수량이 없습니다.\")\n",
    "        \n",
    "        total = products[product_name] * amount\n",
    "        print(f\"{product_name}상품 {amount}개를 주문하셨습니다. 총 가격: {total}원\")\n",
    "    except (KeyError,ValueError) as e:\n",
    "        print(e)\n",
    "\n",
    "# 결과 테스트\n",
    "order_product(\"apple\", 3)\n",
    "order_product(\"banana\", -1)  # 예외 발생\n",
    "order_product(\"pear\", 2)     # 예외 발생"
   ]
  },
  {
   "cell_type": "code",
   "execution_count": null,
   "metadata": {},
   "outputs": [],
   "source": [
    "# 로봇의 배터리 상태를 관리하는 클래스를 작성하세요. 이 클래스는 로봇의 배터리 수준을 확인하고, \n",
    "# 로봇이 어떤작업을 수행할 때마다 배터리 소모를 관리합니다. \n",
    "# 배터리 수준이 부족할 경우 작업이 수행되지 않도록 하며, 0 미만의 배터리 값으로는 작동하지 않게 예외처리를 하세요.\n",
    "\n",
    "#조건:\n",
    "# 로봇의 배터리 수준은 100으로 시작하며, 작업을 수행할 때마다 배터리가 줄어듭니다.\n",
    "# 작업이 배터리 소모량보다 크면 \"배터리가 부족합니다.\"라는 메시지가 출력되도록 하세요.\n",
    "# charge_battery 메소드를 통해 배터리를 충전할 수 있으며, 0 이하의 값은 충전할 수 없게 예외처리하세요.\n",
    "# 로봇이 작업을 수행할 때 ValueError와 BatteryLowError를 사용하여 배터리 부족 상황을 처리합니다.\n",
    "# 빈칸 및 코드작성 부분에 코드를 작성하세요.\n",
    "\n",
    "# 사용자 정의 예외\n",
    "class BatteryLowError(Exception):\n",
    "    pass\n",
    "\n",
    "class Robot:\n",
    "    def __init__(self):\n",
    "                                                # 초기 배터리 수준은 100\n",
    "\n",
    "    def perform_task(self, task, battery_usage):\n",
    "        try:\n",
    "            # code\n",
    "            print(f\"{} 작업 수행 완료. 배터리 소모: {}. 남은 배터리: {}\")\n",
    "        except [] as e:\n",
    "            print(e)\n",
    "        except [] as e:\n",
    "            print(e)\n",
    "\n",
    "    def charge_battery(self, amount):\n",
    "        try:\n",
    "            # code\n",
    "            print(f\"배터리를 {}만큼 충전했습니다. 현재 배터리: {}\")\n",
    "        except ValueError as e:\n",
    "            print(e)\n",
    "\n",
    "# 테스트 케이스\n",
    "robot = Robot()\n",
    "\n",
    "# 작업 수행\n",
    "robot.perform_task(\"청소\", 30)  # 정상 작업         # 청소 작업/ 배터리소모 30/ 남은배터리 70\n",
    "robot.perform_task(\"운반\", 80)  # 배터리 부족       # BatteryLowError\n",
    "\n",
    "# 충전\n",
    "robot.charge_battery(50)       # 정상 충전\n",
    "robot.perform_task(\"운반\", 80)  # 충전 후 정상 작업\n",
    "\n",
    "# 잘못된 충전 시도\n",
    "robot.charge_battery(-10)      # 예외 처리\n",
    "robot.perform_task(\"정비\", -5)  # 잘못된 배터리 소모량\n"
   ]
  },
  {
   "cell_type": "code",
   "execution_count": null,
   "metadata": {},
   "outputs": [],
   "source": [
    "# 도서 대여 시스템\n",
    "# 문제: Library 클래스를 구현하고, 책을 대여하고 반납하는 시스템을 만들어 보세요. \n",
    "# 책이 없는 상태에서 대여를 시도하면 BookNotAvailableError를 발생시키고, \n",
    "# 이미 대여된 책을 다시 반납하면 BookNotBorrowedError를 발생시키는 예외처리 구문을 구현하세요.\n",
    "\n",
    "class BookNotAvailableError(Exception):\n",
    "    pass\n",
    "\n",
    "class BookNotBorrowedError(Exception):\n",
    "    pass\n",
    "\n",
    "class Library:\n",
    "    def __init__(self):\n",
    "        self.books = {\"파이썬 입문\": 3, \"데이터 과학\": 2, \"AI 기초\": 1}\n",
    "        self.borrowed_books = {}\n",
    "\n",
    "    def borrow(self, book_name):\n",
    "        if self.books.get(book_name, 0) == 0:\n",
    "            raise BookNotAvailableError(f\"{book_name}은(는) 대여할 수 없습니다. 재고가 없습니다.\")\n",
    "        self.books[book_name] -= 1\n",
    "        self.borrowed_books[book_name] = self.borrowed_books.get(book_name, 0) + 1\n",
    "        print(f\"{book_name}을(를) 대여했습니다. 남은 재고: {self.books[book_name]}권\")\n",
    "\n",
    "    def return_book(self, book_name):\n",
    "        if self.borrowed_books.get(book_name, 0) == 0:\n",
    "            raise BookNotBorrowedError(f\"{book_name}은(는) 대여되지 않았습니다.\")\n",
    "        self.borrowed_books[book_name] -= 1\n",
    "        self.books[book_name] += 1\n",
    "        print(f\"{book_name}을(를) 반납했습니다. 현재 재고: {self.books[book_name]}권\")\n",
    "\n",
    "# 테스트 코드\n",
    "library = Library()\n",
    "try:\n",
    "    library.borrow(\"파이썬 입문\")\n",
    "    library.return_book(\"파이썬 입문\")\n",
    "    library.return_book(\"파이썬 입문\")  # 이미 반납된 책을 반납하려는 시도\n",
    "except BookNotAvailableError as e:\n",
    "    print(e)\n",
    "except BookNotBorrowedError as e:\n",
    "    print(e)\n"
   ]
  },
  {
   "cell_type": "code",
   "execution_count": null,
   "metadata": {},
   "outputs": [],
   "source": []
  }
 ],
 "metadata": {
  "kernelspec": {
   "display_name": "usr",
   "language": "python",
   "name": "python3"
  },
  "language_info": {
   "codemirror_mode": {
    "name": "ipython",
    "version": 3
   },
   "file_extension": ".py",
   "mimetype": "text/x-python",
   "name": "python",
   "nbconvert_exporter": "python",
   "pygments_lexer": "ipython3",
   "version": "3.10.12"
  }
 },
 "nbformat": 4,
 "nbformat_minor": 2
}
