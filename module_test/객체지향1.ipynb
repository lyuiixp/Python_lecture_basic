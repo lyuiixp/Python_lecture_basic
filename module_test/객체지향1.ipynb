{
 "cells": [
  {
   "cell_type": "markdown",
   "metadata": {},
   "source": [
    "#### 객체지향\n",
    "- 객체는 **데이터(속성)** 와 **동작(메서드)** 을 하나로 묶은 독립된 개체\n",
    "- 예를 들어, '자동차'라는 객체는 '속도', '색상'과 같은 속성(데이터)을 가지고 있으며, '가속', '감속'과 같은 동작(메서드)을 가질 수 있다."
   ]
  },
  {
   "cell_type": "markdown",
   "metadata": {},
   "source": [
    "### 클래스(Class)\n",
    "- 객체를 만들기 위한 설계도, 클래스를 정의하여 여러 객체들을 만들 수 있다.\n",
    "- 클래스는 데이터(속성)와 함수(메소드)를 하나로 묶어 객체를 정의하는 틀.\n",
    "- 구조\n",
    "```python\n",
    "class Car:\n",
    "    def __init__(self, color, speed):\n",
    "        self.color = color  # 속성\n",
    "        self.speed = speed  # 속성\n",
    "    \n",
    "    def accelerate(self):  # 메서드\n",
    "        brake = self.brake()\n",
    "        self.speed += 10\n",
    "\n",
    "    def brake(self):\n",
    "        self.accelerate()\n",
    "        self.speed -= 10\n",
    "\n",
    "mycar = Car()\n",
    "mycar.accelerate()\n",
    "print(mycar.speed)\n",
    "```\n",
    "- __init__() : 객체가 생성될 때 자동으로 호출되는 생성자. 객체의 속성을 초기화해줌.\n",
    "- self : 클래스 내에서 정의된 인스턴스 변수를 참조할 때 사용."
   ]
  },
  {
   "cell_type": "code",
   "execution_count": null,
   "metadata": {},
   "outputs": [],
   "source": [
    "max()\n",
    "range()\n",
    "len()"
   ]
  },
  {
   "cell_type": "code",
   "execution_count": 5,
   "metadata": {},
   "outputs": [
    {
     "data": {
      "text/plain": [
       "130"
      ]
     },
     "execution_count": 5,
     "metadata": {},
     "output_type": "execute_result"
    }
   ],
   "source": [
    "class Car:\n",
    "    def __init__(self, a, b):\n",
    "        self.color = a              # 속성(인스턴스 명)         # yellow\n",
    "        self.speed = b              # 속성                    # 100\n",
    "    \n",
    "    def accelerate(self, c):            # c : 30\n",
    "        self.speed  += c                # self.speed  = 100 + 30\n",
    "        return self.speed               # 130\n",
    "\n",
    "    def brake(self):\n",
    "        self.speed -= 10\n",
    "        return self.speed\n",
    "\n",
    "mycar = Car('yellow', 100)\n",
    "mycar.color\n",
    "mycar.accelerate(30)\n"
   ]
  },
  {
   "cell_type": "code",
   "execution_count": 6,
   "metadata": {},
   "outputs": [
    {
     "data": {
      "text/plain": [
       "'라떼를 만들 때 에스프레소를 콜롬비아 원두로 만들었습니다. milk를 추가하여 만들었습니다.'"
      ]
     },
     "execution_count": 6,
     "metadata": {},
     "output_type": "execute_result"
    }
   ],
   "source": [
    "class Coffee:\n",
    "    def __init__(self, beans):\n",
    "        self.beans = beans\n",
    "        self.ice = 'ice'\n",
    "        self.water = 'water'\n",
    "        self.milk = 'milk'\n",
    "    \n",
    "    def espresso(self):\n",
    "        return f\"에스프레소를 {self.beans} 원두로 만들었습니다.\"\n",
    "        \n",
    "    def make_ice_americano(self):\n",
    "        espresso = self.espresso()      # \"에스프레소를 {self.beans} 원두로 만들었습니다.\"\n",
    "        return f\"아이스 아메리카노를 만들 때 {espresso} {self.ice}, {self.water}를 추가하여 만들었습니다.\"\n",
    "    \n",
    "    def make_latte(self):\n",
    "        espresso = self.espresso()\n",
    "        return f'라떼를 만들 때 {self.espresso()} {self.milk}를 추가하여 만들었습니다.'\n",
    "    \n",
    "\n",
    "coffee = Coffee('콜롬비아')\n",
    "coffee.make_latte()\n",
    "        "
   ]
  },
  {
   "cell_type": "markdown",
   "metadata": {},
   "source": [
    "#### 상속\n",
    "- 기존의 클래스를 재사용하여 새로운 클래스를 만듬\n",
    "- 새로운 클래스는 기존 클래스의 속성과 메소드를 물려받아 별도의 정의 없이 사용 가능\n",
    "- 자식 클래스에서 부모 클래스의 메소드를 재정의(오버라이딩)해서 사용 가능"
   ]
  },
  {
   "cell_type": "code",
   "execution_count": 7,
   "metadata": {},
   "outputs": [
    {
     "name": "stdout",
     "output_type": "stream",
     "text": [
      "바둑이은(는) 멍멍!\n"
     ]
    }
   ],
   "source": [
    "# 부모 클래스 \n",
    "class Animal:\n",
    "    def __init__(self, name):\n",
    "        self.name = name\n",
    "\n",
    "    def speak(self):\n",
    "        return f\"{self.name}은(는) 소리를 낸다.\"\n",
    "\n",
    "\n",
    "# 자식 클래스 \n",
    "class Dog(Animal):\n",
    "    # def __init__(self, name):\n",
    "    #     self.name = name\n",
    "    def speak(self):\n",
    "        return f\"{self.name}은(는) 멍멍!\"\n",
    "\n",
    "# 사용\n",
    "dog = Dog(\"바둑이\")\n",
    "print(dog.speak())                          # 바둑이은(는) 멍멍!\n"
   ]
  },
  {
   "cell_type": "code",
   "execution_count": 15,
   "metadata": {},
   "outputs": [
    {
     "data": {
      "text/plain": [
       "'진돗개'"
      ]
     },
     "execution_count": 15,
     "metadata": {},
     "output_type": "execute_result"
    }
   ],
   "source": [
    "# super()활용 예제\n",
    "# 부모 클래스\n",
    "class Animal:\n",
    "    def __init__(self, name):\n",
    "        self.name = name\n",
    "\n",
    "    def speak(self):                                # super().speak() \n",
    "        return f\"{self.name}은(는) 소리를 낸다.\"\n",
    "\n",
    "# 자식 클래스\n",
    "class Dog(Animal):\n",
    "    def __init__(self, name, breed):\n",
    "        super().__init__(name)                          # self.name = name                  # 부모 클래스의 __init__ 호출\n",
    "        self._breed = breed                              # 추가 속성 정의\n",
    "\n",
    "    def speak(self):\n",
    "        parent_speak = super().speak()                  # 부모의 리턴값인 'name은 소리를 낸다.'             # parent_speak = f\"{self.name}은(는) 소리를 낸다.\"\n",
    "\n",
    "        return f\"{parent_speak} {self.breed}는 멍멍!\"\n",
    "\n",
    "# 사용\n",
    "dog = Dog(\"바둑이\", \"진돗개\")\n",
    "dog.breed\n",
    "# print(dog.speak())                                      \n"
   ]
  },
  {
   "cell_type": "code",
   "execution_count": 12,
   "metadata": {},
   "outputs": [
    {
     "name": "stdout",
     "output_type": "stream",
     "text": [
      "Animal speaks as a Mammal as a Dog\n"
     ]
    }
   ],
   "source": [
    "# 다중 상속\n",
    "class Animal:                   \n",
    "    def speak(self):\n",
    "        return \"Animal speaks\"\n",
    "\n",
    "class Mammal(Animal):\n",
    "    def speak(self):\n",
    "        return super().speak() + \" as a Mammal\"         # super().speak = \"Animal speaks\" \n",
    "\n",
    "class Dog(Mammal):\n",
    "    def speak(self):\n",
    "        return super().speak() + \" as a Dog\"            # super().speak() = \"Animal speaks as a Mammal\"\n",
    "\n",
    "# 사용\n",
    "dog = Dog()\n",
    "print(dog.speak())  \n",
    "\n"
   ]
  },
  {
   "cell_type": "markdown",
   "metadata": {},
   "source": [
    "#### 다형성\n",
    "- 같은 이름의 메소드가 객체에 따라 다르게 동작"
   ]
  },
  {
   "cell_type": "code",
   "execution_count": 13,
   "metadata": {},
   "outputs": [
    {
     "name": "stdout",
     "output_type": "stream",
     "text": [
      "Animal speaks\n",
      "Animal speaks as a Mammal\n",
      "Animal speaks as a Mammal as a Dog\n"
     ]
    }
   ],
   "source": [
    "animals = [Animal(), Mammal(), Dog()]\n",
    "for animal in animals:\n",
    "    print(animal.speak())  # 각 객체에 따라 다른 메서드가 호출됨"
   ]
  },
  {
   "cell_type": "code",
   "execution_count": null,
   "metadata": {},
   "outputs": [],
   "source": [
    "print(len(\"hello\"))                             # 문자열의 길이: 5\n",
    "print(len([1, 2, 3, 4]))                        # 리스트의 길이: 4\n",
    "print(len({\"key\": \"value\", \"key2\": \"value2\"}))  # 딕셔너리의 길이: 2"
   ]
  },
  {
   "cell_type": "markdown",
   "metadata": {},
   "source": [
    "#### 캡슐화\n",
    "- 속성과 메소드를 하나로 묶고 외부에서 직접적으로 접근하지 못하게 하는 것\n",
    "- 클래스 내부 데이터는 보호되고, 클래스 외부에서는 정의된 메소드를 통해서만 데이터에 접근\n",
    "\n",
    "#### 언더바(_) 사용 : \n",
    "- 단일 언더바(_), protected : 해당 속성이나 메소드는 '내부'적으로만 사용된다. 직접 접근하지 않게 권장.\n",
    "- 이중 언더바(__), private : 클래스 외부에서 접근하지 못하게 하는 의도. 접근 시 attribute error발생\n",
    "- 매직 메소드__a__ : https://seongonion.tistory.com/128\n"
   ]
  },
  {
   "cell_type": "code",
   "execution_count": 18,
   "metadata": {},
   "outputs": [
    {
     "data": {
      "text/plain": [
       "100"
      ]
     },
     "execution_count": 18,
     "metadata": {},
     "output_type": "execute_result"
    }
   ],
   "source": [
    "class BankAccount:\n",
    "    def __init__(self, balance, deposit1):\n",
    "        self.__balance = balance                # 외부에서 직접 접근 지양\n",
    "        self.deposit1 = deposit1\n",
    "\n",
    "    def deposit(self, amount):\n",
    "        self.__balance += amount\n",
    "\n",
    "    def withdraw(self, amount):\n",
    "        if amount <= self.__balance:\n",
    "            self.__balance -= amount\n",
    "            return amount\n",
    "        else:\n",
    "            return \"Insufficient funds\"\n",
    "\n",
    "    def get_balance(self):\n",
    "        return self.__balance\n",
    "\n",
    "bank = BankAccount(100, 10)\n",
    "# bank.__balance\n",
    "bank._BankAccount__balance    # 네임 맹글링"
   ]
  },
  {
   "cell_type": "markdown",
   "metadata": {},
   "source": [
    "- 인스턴스 메소드 : 일반적인 클래스 메소드, self를 사용해 상호작용\n",
    "- 클래스 메소드(@classmethod) : 첫번째 인자로 self가 아닌 cls 입력하여 인스턴스가 아닌 클래스 자체가 넘어옴.\n",
    "- 정적 메소드(@staticmethod) : 클래스와 인스턴스에 독립적인 메소드, 인스턴스 접근 및 메소드 호출이 불가능.\n",
    ">- class method, static method는 상속에서 차이가 남"
   ]
  },
  {
   "cell_type": "code",
   "execution_count": 59,
   "metadata": {},
   "outputs": [],
   "source": [
    "class CustomClass:\n",
    "    class_variable = 1\n",
    "\n",
    "    def __init__(self, a = 1, b = 2):\n",
    "        self.a = a\n",
    "        self.b = b\n",
    "\n",
    "    # instance method\n",
    "    def add_instance_method(self, a,b):\n",
    "        return a + b\n",
    "\n",
    "    # classmethod\n",
    "    @classmethod\n",
    "    def add_class_method(cls, a, b):\n",
    "        return cls.class_variable + a + b # + cls.add_instance_method(cls, a,b)\n",
    "\n",
    "    # staticmethod\n",
    "    @staticmethod\n",
    "    def add_static_method(a, b):\n",
    "        return a + b \n"
   ]
  },
  {
   "cell_type": "code",
   "execution_count": null,
   "metadata": {},
   "outputs": [],
   "source": [
    "CustomClass.add_class_method(3, 5)\n",
    "# CustomClass.add_static_method(3, 5)"
   ]
  },
  {
   "cell_type": "markdown",
   "metadata": {},
   "source": [
    "#### 구현해보기"
   ]
  },
  {
   "cell_type": "code",
   "execution_count": 19,
   "metadata": {},
   "outputs": [
    {
     "name": "stdout",
     "output_type": "stream",
     "text": [
      "이름은 : 용욱, 나이는 : 20, 사는 지역은 : 부산\n"
     ]
    }
   ],
   "source": [
    "# 1.\n",
    "# Person이라는 클래스를 정의하고 이름과 나이, 사는지역을 출력하는 show_info() 메소드를 작성하세요.\n",
    "# 인스턴스를 최초 선언 시 이름과 나이가 초기화 되도록하고 사는지역의 초기값(default)은 '서울'로 지정해주세요.\n",
    "class Person:\n",
    "    def __init__(self, name, age, region = '서울'):\n",
    "        self.name = name\n",
    "        self.age = age\n",
    "        self.region = region\n",
    "\n",
    "    def show_info(self):\n",
    "        print(f\"이름은 : {self.name}, 나이는 : {self.age}, 사는 지역은 : {self.region}\")\n",
    "\n",
    "person_info = Person('용욱', 20, '부산')\n",
    "person_info.show_info()"
   ]
  },
  {
   "cell_type": "code",
   "execution_count": 22,
   "metadata": {},
   "outputs": [
    {
     "name": "stdout",
     "output_type": "stream",
     "text": [
      "5.0\n",
      "5.0\n",
      "0.0\n",
      "Cannot divde by 0\n"
     ]
    }
   ],
   "source": [
    "# 2.\n",
    "# 계산기(Calculator) 클래스를 작성하세요.\n",
    "# 더하기, 빼기, 곱셈, 나눗셈을 수행하는 add(), substract(), multiply(), divide() 메소드를 작성해야 합니다.\n",
    "# 두가지 인자를 입력받고 각 연산의 테스트 케이스를 만들어 호출해보세요.\n",
    "\n",
    "class Calculator:\n",
    "    def __init__(self, x, y):\n",
    "        self.x = x\n",
    "        self.y = y\n",
    "\n",
    "    def add(self):\n",
    "        return self.x + self.y\n",
    "\n",
    "    def subtract(self):\n",
    "        return self.x - self.y\n",
    "\n",
    "    def multiply(self):\n",
    "        return self.x * self.y\n",
    "\n",
    "    def divide(self):\n",
    "        if self.y == 0:\n",
    "            return \"Cannot divde by 0\"\n",
    "        return self.x / self.y\n",
    "\n",
    "# 입력 및 테스트\n",
    "num1 = float(input(\"첫번째 숫자를 입력하세요: \"))\n",
    "num2 = float(input(\"두번째 숫자를 입력하세요: \"))\n",
    "cal = Calculator(num1, num2)\n",
    "print(cal.add())\n",
    "print(cal.subtract())\n",
    "print(cal.multiply())\n",
    "print(cal.divide())\n"
   ]
  },
  {
   "cell_type": "code",
   "execution_count": 23,
   "metadata": {},
   "outputs": [
    {
     "name": "stdout",
     "output_type": "stream",
     "text": [
      "500원이 입금되었습니다.\n",
      "200원이 출금되었습니다.\n",
      "현재 잔고: 1300원\n",
      "잔고가 부족합니다!\n"
     ]
    }
   ],
   "source": [
    "# 3. 은행 계좌 관리 \n",
    "# 사용자의 은행 계좌를 객체로 관리하기 위한 BankAccount 클래스를 구현하고자 한다.\n",
    "\n",
    "# - BankAccount 클래스는 계좌 소유자 이름(account_holder)과 초기 잔액(balance)을 인스턴스 변수로 가진다. \n",
    "#   초기 잔액은 0원을 기본값으로 하며, 생성자(__init__)를 통해 설정된다.\n",
    "\n",
    "# - deposit(amount) 메서드는 입금할 금액(amount)을 매개변수로 받아 잔액에 추가하고, \n",
    "#   \"{입금액}원이 입금되었습니다.\"라는 메시지를 출력\n",
    "\n",
    "# - withdraw(amount) 메서드는 출금할 금액(amount)을 매개변수로 받아, \n",
    "#   잔액이 충분할 경우 잔액에서 차감하고 \"{출금액}원이 출금되었습니다.\"를 출력한다.\n",
    "#   만약 잔액이 부족할 경우 \"잔고가 부족합니다!\"라는 메시지를 출력하고 출금은 수행되지 않는다.\n",
    "\n",
    "# - display_balance() 메서드는 현재 계좌 잔액을 \"현재 잔고: {잔액}원\" 형태로 출력한다.\n",
    "\n",
    "# 위 조건을 모두 만족하는 BankAccount 클래스를 구현하시오.\n",
    "\n",
    "class BankAccount:\n",
    "    def __init__(self, account_holder, balance=0):\n",
    "        self.account_holder = account_holder\n",
    "        self.balance = balance\n",
    "\n",
    "    def deposit(self, amount):\n",
    "        self.balance += amount\n",
    "        print(f\"{amount}원이 입금되었습니다.\")\n",
    "\n",
    "    def withdraw(self, amount):\n",
    "        if self.balance > amount:\n",
    "            self.balance -= amount\n",
    "            print(f\"{amount}원이 출금되었습니다.\")\n",
    "        else:\n",
    "            print(\"잔고가 부족합니다!\")\n",
    "\n",
    "    def display_balance(self):\n",
    "        print(f\"현재 잔고: {self.balance}원\")\n",
    "\n",
    "# 테스트\n",
    "account = BankAccount(\"철수\", 1000)\n",
    "account.deposit(500)       # 출력: 500원이 입금되었습니다.\n",
    "account.withdraw(200)      # 출력: 200원이 출금되었습니다.\n",
    "account.display_balance()  # 출력: 현재 잔고: 1300원\n",
    "account.withdraw(2000)     # 출력: 잔고가 부족합니다!\n"
   ]
  },
  {
   "cell_type": "code",
   "execution_count": null,
   "metadata": {},
   "outputs": [],
   "source": [
    "# 4. 로봇 배터리 관리 \n",
    "# 로봇이라는 클래스를 구현할 때, 로봇의 배터리를 관리하려고 한다.\n",
    "# 초기 인스턴스로 배터리 상태(battery_level)를 가지며 초기값은 100을 가진다.\n",
    "# charge라는 메소드를 통해 충전할 배터리 양(amount)를 인자값으로 입력받고 충전된 배터리양이 100이상일 경우 100으로 한다.\n",
    "# work라는 메소드를 통해 로봇의 작업시간(hours)를 인자 값으로 입력받고 시간 당 10%씩 배터리가 소모된다. 배터리가 0 이하일 경우 작업할 수 없음을 출력한다.\n",
    "# get_battery_status라는 메소드를 통해 현재 배터리 상태를 출력한다.\n",
    "\n",
    "class Robot:\n",
    "    def __init__(self, battery_level):\n",
    "        # 코드작성\n",
    "\n",
    "\n",
    "    def charge(self, amount):\n",
    "        # 배터리를 충전하는 메서드 (최대 100까지 충전)\n",
    "        # 코드작성\n",
    "\n",
    "\n",
    "    def work(self, hours):\n",
    "        # 작업 시간을 입력 받아 배터리를 소모하는 메서드 (1시간 당 10% 소모)\n",
    "        # 코드작성\n",
    "\n",
    "        if :\n",
    "            return \"배터리가 0보다 작아 작업할 수 없습니다.\"\n",
    "\n",
    "\n",
    "    def get_battery_status(self):\n",
    "        # 코드작성\n",
    "        return f\"현재 배터리 상태를 {}% 입니다\"\n",
    "\n",
    "robo = Robot()  # 100\n",
    "robo.work(5)\n",
    "robo.get_battery_status()"
   ]
  },
  {
   "cell_type": "code",
   "execution_count": null,
   "metadata": {},
   "outputs": [],
   "source": [
    "# 상속 활용해보기\n",
    "# 기본 로봇 클래스\n",
    "class Robot:\n",
    "    def __init__(self, battery_level=100):\n",
    "        self.battery_level = battery_level\n",
    "\n",
    "    def check_battery(self):\n",
    "        if self.battery_level < 30:\n",
    "            self.charge()\n",
    "\n",
    "    def charge(self):\n",
    "        pass\n",
    "\n",
    "# 지상 로봇 클래스\n",
    "class GroundRobot(Robot):\n",
    "    def charge(self):\n",
    "        print(f\"지상 로봇 충전 중... 현재 배터리: {self.battery_level}%\")\n",
    "        while self.battery_level < 50:\n",
    "            self.battery_level += 10\n",
    "            print(f\"충전 중... 현재 배터리: {self.battery_level}%\")\n",
    "        print(\"지상 로봇 충전 완료\")\n",
    "\n",
    "# 공중 로봇 클래스\n",
    "class AerialRobot(Robot):\n",
    "    def charge(self):\n",
    "        print(f\"공중 로봇 충전 중... 현재 배터리: {self.battery_level}%\")\n",
    "        while self.battery_level < 100:\n",
    "            self.battery_level += 20\n",
    "            if self.battery_level > 100:\n",
    "                self.battery_level = 100\n",
    "            print(f\"충전 중... 현재 배터리: {self.battery_level}%\")\n",
    "        print(\"공중 로봇 충전 완료\")\n",
    "\n",
    "# 테스트\n",
    "# ground_robot = GroundRobot(20)\n",
    "aerial_robot = AerialRobot(10)\n",
    "\n",
    "# ground_robot.check_battery()\n",
    "aerial_robot.check_battery()\n"
   ]
  },
  {
   "cell_type": "code",
   "execution_count": null,
   "metadata": {},
   "outputs": [],
   "source": [
    "# 다형성\n",
    "# 기본 로봇 클래스\n",
    "class Robot:\n",
    "    def __init__(self, robot_id):\n",
    "        self.robot_id = robot_id\n",
    "\n",
    "    def collect_data(self):\n",
    "        print(\"로봇 데이터를 수집합니다\")\n",
    "\n",
    "# 지상 로봇 클래스\n",
    "class GroundRobot(Robot):\n",
    "    def collect_data(self):\n",
    "        super().collect_data()\n",
    "        print(f\"지상 로봇 {self.robot_id}: 온도 데이터를 수집 중...\")\n",
    "\n",
    "# 공중 로봇 클래스\n",
    "class AerialRobot(Robot):\n",
    "    def collect_data(self):\n",
    "        print(f\"공중 로봇 {self.robot_id}: 대기 중 CO2 농도 데이터를 수집 중...\")\n",
    "\n",
    "# 수중 로봇 클래스\n",
    "class UnderwaterRobot(Robot):\n",
    "    def collect_data(self):\n",
    "        print(f\"수중 로봇 {self.robot_id}: 수심 데이터를 수집 중...\")\n",
    "\n",
    "# 테스트\n",
    "ground_robot = GroundRobot(\"001\")\n",
    "aerial_robot = AerialRobot(\"002\")\n",
    "underwater_robot = UnderwaterRobot(\"003\")\n",
    "\n",
    "ground_robot.collect_data()\n",
    "aerial_robot.collect_data()\n",
    "underwater_robot.collect_data()\n"
   ]
  },
  {
   "cell_type": "markdown",
   "metadata": {},
   "source": []
  }
 ],
 "metadata": {
  "kernelspec": {
   "display_name": "usr",
   "language": "python",
   "name": "python3"
  },
  "language_info": {
   "codemirror_mode": {
    "name": "ipython",
    "version": 3
   },
   "file_extension": ".py",
   "mimetype": "text/x-python",
   "name": "python",
   "nbconvert_exporter": "python",
   "pygments_lexer": "ipython3",
   "version": "3.10.12"
  }
 },
 "nbformat": 4,
 "nbformat_minor": 2
}
