{
 "cells": [
  {
   "cell_type": "markdown",
   "metadata": {},
   "source": [
    "### __모듈__\n",
    "- 파이썬에서 코드의 재사용성을 높이기 위해 함수나 변수, 클래스 등을 모아 놓은 파일.(.py)\n",
    "- 하나의 파일에서 너무 많은 코드를 작성하는 대신, 관련 코드들을 모듈화하여 별도의 파일로 분리.\n",
    "- 모듈 사용 시 코드가 깔끔하고 관리가 쉬워지며, 필요할때마다 가져와서 사용 가능.\n",
    "\n",
    "#### __모듈 가져오기(import)__\n",
    "- __import 모듈명__           \n",
    ">- ex) import os, import math\n",
    "- __from 모듈명 import 함수명__  : \n",
    ">- 필요한 부분만 가져오기에 메모리절약과 코드 가독성이 좋다. \n",
    ">- 모듈명.함수명()형태가 아닌 함수명()으로 바로 사용가능하다\n",
    ">- ex) from test_class import test_solution\n",
    "- __import 모듈명 as 약어__      \n",
    ">- ex) import numpy as np, import pandas as pd\n",
    "\n",
    "#### __많이 사용하는 모듈들__\n",
    "- math\n",
    "- random\n",
    "- datetime\n",
    "- time\n",
    "- os\n",
    "- collections(Counter)\n",
    "- re\n",
    "- sys\n",
    "\n",
    "#### 모듈 설치\n",
    "- 패키지 : 관련된 모듈들을 묶어놓아 폴더구조로 관리 -> `__init__.py`를 이용해 관리\n",
    "- `__init__.py` : 패키지를 정의하는 역할, 패키지 로드 시 실행될 초기화 코드 포함 가능.\n",
    ">- 참고 : https://mmjourney.tistory.com/14\n",
    "- 라이브러리 : 관련된 패키지들을 모아서 한개의 묶음으로 만든 것\n",
    "- 패키지 관리 프로그램 : 다른사람이 만든 모듈들을 쉽게 설치,사용할 수 있도록 pip라는 관리도구 제공\n",
    "- pip : 외부 패키지 관리 도구를 통해 다양한 외부 모듈 설치\n",
    "- __사용법__ : __pip3 install 모듈명__\n",
    "!pip3 install 모듈명\n",
    "\n",
    "#### **`__name__ == \"__main__\"`**\n",
    "- 모듈을 테스트 할때 사용(**단위 테스트**)\n",
    "------------\n"
   ]
  },
  {
   "cell_type": "markdown",
   "metadata": {},
   "source": [
    "#### 프레임워크/ 라이브러리\n",
    "- https://idkim97.github.io/2022-08-16-%ED%94%84%EB%A0%88%EC%9E%84%EC%9B%8C%ED%81%AC%20vs%20%EB%9D%BC%EC%9D%B4%EB%B8%8C%EB%9F%AC%EB%A6%AC/"
   ]
  },
  {
   "cell_type": "code",
   "execution_count": null,
   "metadata": {},
   "outputs": [],
   "source": [
    "import numpy as np\n",
    "# !pip install pandas"
   ]
  },
  {
   "cell_type": "code",
   "execution_count": null,
   "metadata": {},
   "outputs": [],
   "source": [
    "# import datetime\n",
    "from datetime import datetime\n",
    "\n",
    "datetime.now()"
   ]
  },
  {
   "cell_type": "code",
   "execution_count": null,
   "metadata": {},
   "outputs": [],
   "source": [
    "# os\n",
    "import os   # 폴더나 파일 이동,복사,삭제,생성\n",
    "\n",
    "# print(os.getcwd())                                          # 현재 경로\n",
    "# print(os.path.join(os.getcwd(), 'data'))                    # 경로명 추가\n",
    "# # print(os.mkdir('test_dir'))                               # 폴더 생성\n",
    "# # new_dir = os.chdir(os.getcwd() + '/test_dir')             # 경로 수정\n",
    "# # os.rmdir()                                                # 폴더 삭제\n",
    "# # os.remove()                                               # 파일 삭제\n",
    "# print(os.path.abspath('.'))                                 # 절대 경로"
   ]
  },
  {
   "cell_type": "code",
   "execution_count": null,
   "metadata": {},
   "outputs": [],
   "source": [
    "# 자주 사용되는 모듈 예제\n",
    "# math() : 수학 관련 함수들 제공      ex) 루트(제곱근), 삼각함수, 로그 등\n",
    "import math\n",
    "\n",
    "# 제곱근  sqrt()\n",
    "num = 9\n",
    "# print(f\"{num}의 제곱근 : {math.sqrt(num)}\")\n",
    "\n",
    "# 파이, 삼각함수 .pi/ cos(), sin()\n",
    "# math.pi\n",
    "# math.cos(math.pi/2)\n",
    "# 과학적 표기법 -> 변환\n",
    "\n",
    "# 지수, 로그 log(), log10(), exp()\n",
    "# math.log10(100)\n",
    "math.log10(10) "
   ]
  },
  {
   "cell_type": "code",
   "execution_count": null,
   "metadata": {},
   "outputs": [],
   "source": [
    "# random() : 난수 생성\n",
    "import random\n",
    "\n",
    "# 0~1 사이의 난수 생성 .random()\n",
    "# print(f\"0~1사이의 난수 : {random.random()}\")\n",
    "\n",
    "# 정해진 범위 내의 난수 생성 .randint()\n",
    "# rand_num = random.randint(0,1000)\n",
    "# print(f\"범위 내의 생성된 난수 : {rand_num}\")\n",
    "\n",
    "# 리스트에서 임의의 요소 선택 .choice()\n",
    "test_list = ['a', 'b', 'c', 'd']\n",
    "print(f\"리스트 랜덤 선택: {random.choice(test_list)}\")"
   ]
  },
  {
   "cell_type": "code",
   "execution_count": null,
   "metadata": {},
   "outputs": [],
   "source": [
    "# datetime() : 날짜 및 시간 출력\n",
    "from datetime import datetime\n",
    "\n",
    "# 현재 시간 및 날짜\n",
    "# print(f\"현재 날짜, 시간 : {datetime.now()}\")\n",
    "\n",
    "# 날짜 포맷팅\n",
    "formatted_time = datetime.now().strftime('%Y-%m-%d')\n",
    "print(\"포맷된 시간:\", formatted_time)"
   ]
  },
  {
   "cell_type": "code",
   "execution_count": null,
   "metadata": {},
   "outputs": [],
   "source": [
    "# time() : 시간 관련 기능, 주로 코드시간 테스트에 활용\n",
    "import time\n",
    "\n",
    "# 현재시간 출력\n",
    "# time.time()\n",
    "\n",
    "# # # 시간 정지\n",
    "# time.sleep(5)\n",
    "\n",
    "\n",
    "# # 시간 포맷팅\n",
    "# formatted_time = time.strftime('%Y-%m-%d %H:%M:%S', time.localtime(time.time()))\n",
    "# print(f\"포맷된 현재 시간: {formatted_time}\")\n",
    "\n",
    "\n",
    "# 코드 시간효율 테스트\n",
    "# 테스트할 코드 1\n",
    "start_time1 = time.time()       # 시작시간 지정\n",
    "# 코드 작성\n",
    "empty_list =[]\n",
    "for x in range(1000000):\n",
    "    empty_list.append(x**2)\n",
    "\n",
    "end_time1 = time.time()         # 종료시간 지정\n",
    "\n",
    "print(f\"for문의 동작 시간: {end_time1 - start_time1}\")\n",
    "\n",
    "# 테스트할 코드 2\n",
    "start_time2 = time.time()\n",
    "\n",
    "squared_list = [x**2 for x in range(1000000)]\n",
    "\n",
    "end_time2 = time.time()\n",
    "print(f\"리스트 컴프리헨션의 동작 시간: {end_time2 - start_time2}\")"
   ]
  },
  {
   "cell_type": "code",
   "execution_count": null,
   "metadata": {},
   "outputs": [],
   "source": [
    "# Counter() : 개수 세기\n",
    "from collections import Counter\n",
    "\n",
    "# 리스트의 각 요소 개수를 세어 key에 요소 값 value에 count값을 가지는 딕셔너리 만들기\n",
    "elements = ['A', 'A', 'B', 'C', 'C', 'B', 'A', 'B']         # {\"A\" : 3, \"B\" : 3, \"C\" : 2}\n",
    "\n",
    "# 기존방법\n",
    "\n",
    "# count_dict = {}\n",
    "# for x in elements:\n",
    "#     if x in count_dict:\n",
    "#         count_dict[x] += 1\n",
    "#     else:\n",
    "#         count_dict[x] = 1       # {A : 2}\n",
    "\n",
    "# print(count_dict)\n",
    "\n",
    "# Counter() 사용 + 시간테스트\n",
    "print(dict(Counter(elements)))\n",
    "\n"
   ]
  }
 ],
 "metadata": {
  "kernelspec": {
   "display_name": "usr",
   "language": "python",
   "name": "python3"
  },
  "language_info": {
   "codemirror_mode": {
    "name": "ipython",
    "version": 3
   },
   "file_extension": ".py",
   "mimetype": "text/x-python",
   "name": "python",
   "nbconvert_exporter": "python",
   "pygments_lexer": "ipython3",
   "version": "3.10.12"
  }
 },
 "nbformat": 4,
 "nbformat_minor": 2
}
