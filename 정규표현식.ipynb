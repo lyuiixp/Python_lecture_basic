{
 "cells": [
  {
   "cell_type": "markdown",
   "metadata": {},
   "source": [
    "### 정규표현식(re)\n",
    "- 문자열에서 특정 패턴을 찾거나 치환하는 데 사용, 주로 텍스트 데이터 분석, 변환에 많이 사용\n",
    "- re 모듈\n",
    "```python\n",
    "import re\n",
    "\n",
    "re.match('패턴', '문자열') : 문자열의 시작에서 패턴을 찾는다\n",
    "re.search('패턴', '문자열') : 문자열 전체에서 패턴을 검색\n",
    "re.findall('패턴', '문자열') : 패턴과 일치하는 모든 부분을 리스트로 반환\n",
    "re.sub('패턴', '수정할 문자열', '문자열', 바꿀 횟수) : 패턴과 일치하는 부분을 다른 문자열로 치환\n",
    "re.split('패턴', '문자열') : 패턴을 기준으로 문자열을 분할\n",
    "```\n",
    "\n",
    "- 정규표현식 기본 문법\n",
    ">- 문자 클래스 : [abc] 는 'a','b','c'중 하나와 매칭됨\n",
    ">- 메타문자 : . ^ $ * + ? {} [] \\ | () 기호들\n",
    ">>- . : 임의의 한 문자와 매칭\n",
    ">>- ^ : 문자열의 시작\n",
    ">>- $ : 문자열의 끝\n",
    ">>- \\* : 0회 이상 반복되는 패턴\n",
    ">>- \\+ : 1회 이상 반복되는 패턴\n",
    ">>- ? : 0회 또는 1회 등장하는 패턴\n",
    ">>- | : or 연산자 역할, 문자열이 하나라도 포함되는지 \n",
    ">>- () : 정규표현식 그룹\n",
    ">>- [] : 대괄호 안에 범위를 넣음 ex) '[0-9]'\n",
    ">>- {} : 문자{개수}, (문자열){개수} 형식으로 사용. 해당 문자 또는 문자열이 지정한 개수만큼 있는지 확인\n",
    ">>>- (문자열){시작 개수, 끝 개수}, [0-9]{시작, 끝} 형태로 갯수의 범위도 지정가능\n",
    ">>- a-z/ A-Z : 알파벳 문자 범위 표현\n",
    ">>- [^범위] : 특정 문자, 숫자 범위를 포함하지 않는지 확인(^를 대괄호 안에 표시)   ex) [^a-z], [^0-9]\n",
    ">>- \\ : 특수문자를 판단하기위해 특수문자 앞에 붙임\n",
    ">>- \\d : [0-9]와 같은 의미\n",
    ">>- \\D : [^0-9]와 같은 의미\n",
    ">>- \\w : [a-zA-Z0-9]와 같은 의미\n",
    ">>- \\W : [^a-zA-Z0-9]와 같은 의미\n",
    ">>- \\s : 공백문자\n",
    ">>- r prefix : raw string의미. \\n, \\t등의 문자를 평범한 문자열로 처리\n",
    ">-\n",
    "\n",
    "- 그룹\n",
    ">- (?P<이름>정규표현식) : 해당 형태로 그룹에 이름을 지어 관리 가능 ex) 호출 시 : 매치객채.group('이름')"
   ]
  },
  {
   "cell_type": "markdown",
   "metadata": {},
   "source": [
    "import re"
   ]
  },
  {
   "cell_type": "code",
   "execution_count": 1,
   "metadata": {},
   "outputs": [],
   "source": [
    "import re"
   ]
  },
  {
   "cell_type": "code",
   "execution_count": null,
   "metadata": {},
   "outputs": [],
   "source": [
    "re.match('a+b', 'aaabb')"
   ]
  },
  {
   "cell_type": "code",
   "execution_count": null,
   "metadata": {},
   "outputs": [],
   "source": [
    "re.match('ab[0-9]+?c', 'ab905c')"
   ]
  },
  {
   "cell_type": "code",
   "execution_count": null,
   "metadata": {},
   "outputs": [],
   "source": [
    "re.search('small', '안녕 smallee')"
   ]
  },
  {
   "cell_type": "code",
   "execution_count": null,
   "metadata": {},
   "outputs": [],
   "source": [
    "# re.match() 활용\n",
    "# 문자열 시작에서 숫자 확인\n",
    "import re\n",
    "\n",
    "text = \"123abc456\"\n",
    "result = re.match(\"\\d+\", text)\n",
    "if result:\n",
    "    print(\"매칭된 숫자:\", result.group())  \n",
    "else:\n",
    "    print(\"매칭되지 않았습니다.\")\n"
   ]
  },
  {
   "cell_type": "code",
   "execution_count": null,
   "metadata": {},
   "outputs": [],
   "source": [
    "#  알파벳으로 시작하는지 확인\n",
    "text = \"abc123\"\n",
    "result = re.match(\"^[a-zA-Z]+\", text)\n",
    "if result:\n",
    "    print(\"알파벳으로 시작:\", result.group()) \n",
    "else:\n",
    "    print(\"알파벳으로 시작하지 않음\")\n"
   ]
  },
  {
   "cell_type": "code",
   "execution_count": null,
   "metadata": {},
   "outputs": [],
   "source": [
    "# re.search() 활용\n",
    "# 전체 문자열에서 이메일 주소 검색\n",
    "text = \"문의사항은 email@example.com 으로 보내주세요.\"\n",
    "result = re.search(\"\\w+@\\w+\\.\\w+\", text)\n",
    "if result:\n",
    "    print(\"이메일 주소:\", result.group())  \n",
    "else:\n",
    "    print(\"이메일 주소를 찾지 못했습니다.\")\n"
   ]
  },
  {
   "cell_type": "code",
   "execution_count": null,
   "metadata": {},
   "outputs": [],
   "source": [
    "# 문자열에서 첫 번째로 등장하는 숫자 찾기\n",
    "text = \"제품 번호는 12345, 시리얼 번호는 67890입니다.\"\n",
    "result = re.search(\"\\d+\", text)         # [0-9]\n",
    "if result:\n",
    "    print(\"첫 번째로 등장한 숫자:\", result.group())  \n",
    "else:\n",
    "    print(\"숫자를 찾지 못했습니다.\")"
   ]
  },
  {
   "cell_type": "code",
   "execution_count": null,
   "metadata": {},
   "outputs": [],
   "source": [
    "# re.findall()\n",
    "# 모든 숫자 리스트로 추출\n",
    "text = \"123abc456def789\"\n",
    "numbers = re.findall(\"\\d+\", text)\n",
    "print(\"숫자 목록:\", numbers) "
   ]
  },
  {
   "cell_type": "code",
   "execution_count": null,
   "metadata": {},
   "outputs": [],
   "source": [
    "# 모든 단어 리스트로 추출\n",
    "text = \"Python is fun and Useful.\"\n",
    "words = re.findall(\"[^a-zA-Z]+\", text)\n",
    "print(\"단어 목록:\", words) \n",
    "\n"
   ]
  },
  {
   "cell_type": "code",
   "execution_count": null,
   "metadata": {},
   "outputs": [],
   "source": [
    "# re.sub() # replace\n",
    "# 숫자를 \"*\"로 치환\n",
    "text = \"123abc456\"\n",
    "modified_text = re.sub(\"\\d+\", \"*\", text)\n",
    "print(\"수정된 문자열:\", modified_text)  \n"
   ]
  },
  {
   "cell_type": "code",
   "execution_count": null,
   "metadata": {},
   "outputs": [],
   "source": [
    "# re.split()\n",
    "# 공백 기준으로 문자열 분할\n",
    "text = \"Python is fun\"\n",
    "words = re.split(\"\\s+\", text)\n",
    "print(\"분할된 단어:\", words)  \n"
   ]
  },
  {
   "cell_type": "code",
   "execution_count": null,
   "metadata": {},
   "outputs": [],
   "source": [
    "# 쉼표와 공백을 기준으로 문자열 분할\n",
    "text = \"apple, banana, cherry\"\n",
    "fruits = re.split(\",\\s+\", text)\n",
    "print(\"과일 리스트:\", fruits)  \n"
   ]
  },
  {
   "cell_type": "markdown",
   "metadata": {},
   "source": [
    "#### 실습"
   ]
  },
  {
   "cell_type": "code",
   "execution_count": null,
   "metadata": {},
   "outputs": [],
   "source": [
    "# 문제 1.날짜형식 확인하기\n",
    "# YYYY-MM-DD 형식의 날짜형태를 발견할 수 있도록 패턴을 작성해주세요.\n",
    "\n",
    "import re\n",
    "\n",
    "# '-'로 구분된 날짜 형식 (YYYY-MM-DD 형식만)\n",
    "pattern = '\\d{4}-\\d{2}-\\d{2}'\n",
    "\n",
    "\n",
    "# 테스트할 문자열들\n",
    "test_strings = [\n",
    "    \"오늘은 2023-10-08 입니다.\",\n",
    "    \"날짜가 없어요.\",\n",
    "    \"이건 잘못된 형식 202-10-08 입니다.\"\n",
    "]\n",
    "\n",
    "# 날짜 형식이 포함되었는지 테스트\n",
    "for string in test_strings:\n",
    "    if re.search(pattern, string):\n",
    "        print(f\"'{string}'에서 날짜 형식이 발견되었습니다.\")\n",
    "    else:\n",
    "        print(f\"'{string}'에는 날짜 형식이 없습니다.\")"
   ]
  },
  {
   "cell_type": "code",
   "execution_count": null,
   "metadata": {},
   "outputs": [],
   "source": [
    "# 문제2. 이메일 주소 추출하기\n",
    "# 주어진 문자열에서 모든 이메일 주소를 찾아 리스트로 반환하는 함수를 작성하세요. \n",
    "# 이메일은 '@' 기호를 기준으로 앞뒤로 알파벳과 숫자가 있어야 합니다.\n",
    "\n",
    "import re\n",
    "\n",
    "pattern = \"\\w+@\\w+\\.[a-z]+\"     # \\w : [a-zA-Z0-9] 한글도 같이 인식\n",
    "\n",
    "def extract_emails(text):\n",
    "    return re.findall(pattern, text)\n",
    "\n",
    "# 테스트 코드\n",
    "sample_text = \"문의는 support@example.com 또는 help@domain.org로 해주세요.\"\n",
    "print(extract_emails(sample_text))  # 출력: ['support@example.com', 'help@domain.org']\n"
   ]
  },
  {
   "cell_type": "code",
   "execution_count": null,
   "metadata": {},
   "outputs": [],
   "source": [
    "# 문제3. 전화번호 검색\n",
    "# 전화번호부 딕셔너리가 주어질때, 전화번호를 통해 사용자의 이름을 검색하여 찾을 수 있게 함수를 작성하세요.\n",
    "# 번호를 검색했을 때 딕셔너리에 존재하지 않으면 '번호를 찾을 수 없습니다'를 출력하고\n",
    "# 전화번호 형식이 잘못 되었을때는 '유효하지 않은 전화번호 형식입니다'를 출력하세요.\n",
    "\n",
    "import re\n",
    "\n",
    "pattern = '\\d{2,3}-\\d{3,4}-\\d{4}'\n",
    "\n",
    "def search_phonebook(phonebook, number):\n",
    "    if re.match(pattern, number):\n",
    "        return phonebook.get(number, \"번호를 찾을 수 없습니다.\") # dict.get() : 두번째인자는 key가 없을때 default값이 출력\n",
    "    return \"유효하지 않은 전화번호 형식입니다.\"\n",
    "\n",
    "# 테스트 코드\n",
    "phonebook = {\"010-1234-5678\": \"홍길동\", \"02-987-6543\": \"김철수\"}\n",
    "print(search_phonebook(phonebook, \"010-1234-5678\"))  # 출력 : 홍길동\n",
    "print(search_phonebook(phonebook, \"02-987-6543\"))    # 출력 : 김철수\n",
    "print(search_phonebook(phonebook, \"010-0000-0000\"))  # 출력: 번호를 찾을 수 없습니다.\n",
    "\n"
   ]
  },
  {
   "cell_type": "code",
   "execution_count": null,
   "metadata": {},
   "outputs": [],
   "source": [
    "# 문제4. 웹사이트 URL 추출하기\n",
    "# 주어진 텍스트에서 모든 URL을 찾아 리스트로 반환하는 함수를 작성하세요. URL은 http 또는 https로 시작해야 합니다.\n",
    "import re\n",
    "\n",
    "pattern = 'https+://doosanrokey\\.com'\n",
    "\n",
    "def extract_urls(text):\n",
    "    return re.findall(pattern, text)\n",
    "\n",
    "# 테스트 코드\n",
    "sample_text = \"내 블로그는 https://doosanrokey.com, 그리고 포트폴리오는 http://doosanrokey.me 에서 확인하세요.\"\n",
    "print(extract_urls(sample_text))  # 출력: ['https://myblog.com', 'http://portfolio.me']\n"
   ]
  }
 ],
 "metadata": {
  "kernelspec": {
   "display_name": "Python 3",
   "language": "python",
   "name": "python3"
  },
  "language_info": {
   "codemirror_mode": {
    "name": "ipython",
    "version": 3
   },
   "file_extension": ".py",
   "mimetype": "text/x-python",
   "name": "python",
   "nbconvert_exporter": "python",
   "pygments_lexer": "ipython3",
   "version": "3.10.12"
  }
 },
 "nbformat": 4,
 "nbformat_minor": 2
}
