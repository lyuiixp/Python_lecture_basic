{
  "nbformat": 4,
  "nbformat_minor": 0,
  "metadata": {
    "colab": {
      "provenance": [],
      "gpuType": "T4",
      "collapsed_sections": [
        "vxChEshm7Irz"
      ],
      "toc_visible": true
    },
    "kernelspec": {
      "name": "python3",
      "display_name": "Python 3"
    },
    "language_info": {
      "name": "python"
    },
    "accelerator": "GPU"
  },
  "cells": [
    {
      "cell_type": "markdown",
      "source": [
        "# <h1>1.재귀함수(Recursive Function)</h1>"
      ],
      "metadata": {
        "id": "vxChEshm7Irz"
      }
    },
    {
      "cell_type": "markdown",
      "source": [
        "<div class=\"sc-eGRUor gdnhbG atom-one\"><h2 id=\"️-재귀함수recursive-function\">✏️ 재귀함수(recursive function)</h2>\n",
        "<p><strong>👉🏻 재귀함수란, 어떤 함수에서 자신을 다시 호출하여 작업을 수행하는 방식의 함수를 의미한다.<br>\n",
        "즉, 함수 정의 내에 같은 이름의 함수가 올 때 이를 재귀함수라 한다.</strong></p>\n",
        "<p>재귀함수 사용시 반드시 탈출 조건이 있어야 stack overflow를 방지할 수 있다.</p>\n",
        "<br>\n",
        "<p>✨ 다음 예시를 살펴보자.</p>\n",
        "<pre class=\" language-python\"><code class=\" language-python\"><span class=\"token keyword\">def</span> <span class=\"token function\">function</span><span class=\"token punctuation\">(</span>n<span class=\"token punctuation\">)</span><span class=\"token punctuation\">:</span>\n",
        "    <span class=\"token keyword\">if</span> n <span class=\"token operator\">==</span> <span class=\"token number\">0</span><span class=\"token punctuation\">:</span>\n",
        "        <span class=\"token keyword\">return</span>\n",
        "    <span class=\"token keyword\">else</span><span class=\"token punctuation\">:</span>\n",
        "        <span class=\"token keyword\">print</span><span class=\"token punctuation\">(</span>n<span class=\"token punctuation\">)</span>\n",
        "        function<span class=\"token punctuation\">(</span>n<span class=\"token operator\">-</span><span class=\"token number\">1</span><span class=\"token punctuation\">)</span>\n",
        "    \n",
        "function<span class=\"token punctuation\">(</span><span class=\"token number\">3</span><span class=\"token punctuation\">)</span>\n",
        "\n",
        "<span class=\"token comment\"># 결과</span>\n",
        "<span class=\"token number\">3</span>\n",
        "<span class=\"token number\">2</span>  \n",
        "<span class=\"token number\">1</span>  </code></pre>\n",
        "<p>function(3)을 호출하면<br>\n",
        "=&gt; function(2)를 호출하고 (메모리 영역이 구분되고 변수가 만들어진다.)<br>\n",
        "=&gt; function(1)을 호출하고 (메모리 영역이 구분되고 변수가 만들어진다.)<br>\n",
        "=&gt; function(0)이 되면 리턴한다. (메모리 영역이 구분되고 변수가 만들어진다.)<br>\n",
        "=&gt; function(1)로 돌아가서 없어진다.<br>\n",
        "=&gt; function(2)로 돌아가서 없어진다.</p>\n",
        "<br>\n",
        "<hr>\n",
        "<h2 id=\"-재귀함수의-호출-및-리턴-과정\">📌 재귀함수의 호출 및 리턴 과정</h2>\n",
        "<p>재귀함수는 호출과 리턴 과정을 이해하는 것이 중요하다.<br>\n",
        "이 과정을 이해하기 위해선 일반함수의 호출 및 리턴 과정에 대한 이해가 필요하다.</p>\n",
        "<p>👉🏻 <a href=\"http://10bun.tv/beginner/episode-4/\">http://10bun.tv/beginner/episode-4/</a><br>\n",
        "위의 링크는 일반함수와 재귀함수의 호출 및 리턴 과정에 대해 알기 쉽게 설명해 놓았다.<br>\n",
        "아래 내용은 그 중 일부를 발췌하였다.</p>\n",
        "<p><img src=\"https://velog.velcdn.com/images%2Ffalling_star3%2Fpost%2Ffac1f50c-155b-47eb-b720-bd1623188b15%2Fpic-1.fbffa400.png\"></p>\n",
        "<p>C 언어를 이용하여 프로그램을 작성하던 중에 main() 함수에서 \"함수 A\"를 호출했는데, 다시 \"함수 A\"에서 \"함수 B\"를 호출하고, \"함수 B\"가 다시 \"함수 C\"를 호출한 경우를 그림으로 표현한 것입니다.</p>\n",
        "<ul>\n",
        "<li>main() 함수 중간에 \"함수 A\"를 호출하면서 코드 진행이 \"함수 A\"의 처음 부분으로 옮겨갑니다.</li>\n",
        "<li>\"함수 A\" 함수 중간에 \"함수 B\"를 호출하면서 코드 진행이 \"함수 B\"의 처음 부분으로 옮겨갑니다.</li>\n",
        "<li>\"함수 B\" 함수 중간에 \"함수 C\"를 호출하면서 코드 진행이 \"함수 C\"의 처음 부분으로 옮겨갑니다.</li>\n",
        "<li>\"함수 C\"의 모든 실행을 마치면 \"함수 B\"에서 <strong>자신을 호출했던 다음 줄로 리턴(돌아감)</strong>합니다.</li>\n",
        "<li>\"함수 B\"의 모든 실행을 마치면 \"함수 A\"에서 <strong>자신을 호출했던 다음 줄로 리턴(돌아감)</strong>합니다.</li>\n",
        "<li>\"함수 A\"의 모든 실행을 마치면 main() 함수에서 <strong>자신을 호출했던 다음 줄로 리턴(돌아감)</strong>합니다.</li>\n",
        "</ul>\n",
        "<p>대부분의 입문자의 경우에도 이렇게 함수가 호출되고 되돌아오는 과정은 무리 없이 직관적으로 받아들이는 것처럼 보입니다.</p>\n",
        "<p><img src=\"https://velog.velcdn.com/images%2Ffalling_star3%2Fpost%2Ff613d1ed-d6c7-4c9d-8086-db5c8fce4c16%2Fpic-3.15b299dc.png\"></p>\n",
        "<p>재귀호출의 경우에 입문자들이 오해하거나 알고는 있어도 머릿속에서 자연스럽게 떠올리는 그림입니다. 재귀함수 내에서 자신을 다시 호출하면 자신의 처음으로 돌아가서 실행된다고 오해하는 경우가 가끔 있습니다.</p>\n",
        "<p>하지만 재귀함수 내에서 자신을 호출하는 경우에는 위의 그림과 같은 일이 벌어지게 됩니다. 모든 함수는 호출되면 메모리에 새로운 공간을 확보해서 매번 전혀 다른 공간에서 작업이 진행됩니다. 소스 코드에서는 같은 공간처럼 보이지만 실제 실행되는 코드는 전혀 다른 공간에서 이뤄진다고 생각하는 편이 좋습니다.</p>\n",
        "<p>main() 함수에서 처음 재귀함수를 실행했을 때 \"재귀함수 1\"이라는 메모리 공간이 생겨서 작업을 진행하다가 다시 재귀함수를 실행한다면 새로 \"재귀함수 2\"이라는 메모리 공간이 생성되는 방식입니다.</p>\n",
        "<p>이런 방식을 반복하다보면 같은 코드가 메모리 공간만 옮겨다니면서 무한히 반복되기 때문에 메모리가 부족할 때까지 멈추지 않고 반복하다가 프로그램이 종료되는데요, 이것 때문에 재귀함수를 작성할 때에는 언제 멈춰야 할지 탈출조건이 필요합니다.</p>\n",
        "<p>위의 그림에서 \"재귀함수 3\"은 탈출조건을 만나서 실행이 멈추게되고 이후 이전 함수로 복귀하여 나머지 코드를 진행하고 다시 이전 함수로 복귀하는 과정이 계속 진행됩니다.</p>\n",
        "<br>\n",
        "<hr>\n",
        "<h2 id=\"-재귀호출의-예\">📌 재귀호출의 예</h2>\n",
        "<p>✨ 재귀함수의 호출 및 리턴 과정에 대한 이해를 마쳤으면 위의 예시를 다시 살펴보자. 이번에는 print(n)을 function(n-1) 다음 줄로 적어 리턴 과정을 살펴보자.</p>\n",
        "<pre class=\" language-python\"><code class=\" language-python\"><span class=\"token keyword\">def</span> <span class=\"token function\">function</span><span class=\"token punctuation\">(</span>n<span class=\"token punctuation\">)</span><span class=\"token punctuation\">:</span>\n",
        "    <span class=\"token keyword\">if</span> n <span class=\"token operator\">==</span> <span class=\"token number\">0</span><span class=\"token punctuation\">:</span>\n",
        "        <span class=\"token keyword\">return</span>\n",
        "    <span class=\"token keyword\">else</span><span class=\"token punctuation\">:</span>\n",
        "        function<span class=\"token punctuation\">(</span>n<span class=\"token operator\">-</span><span class=\"token number\">1</span><span class=\"token punctuation\">)</span>\n",
        "        <span class=\"token keyword\">print</span><span class=\"token punctuation\">(</span>n<span class=\"token punctuation\">)</span>\n",
        "    \n",
        "function<span class=\"token punctuation\">(</span><span class=\"token number\">3</span><span class=\"token punctuation\">)</span>\n",
        "\n",
        "<span class=\"token comment\"># 결과</span>\n",
        "<span class=\"token number\">1</span>\n",
        "<span class=\"token number\">2</span>\n",
        "<span class=\"token number\">3</span></code></pre>\n",
        "<p>=&gt; 'function(0)'은 탈출 조건을 만나서 실행이 멈추고 이전함수인 'function(1)'로 복귀한다.<br>\n",
        "=&gt; 'function(1)'의 나머지 코드인 print(1)가 실행되고 이전함수인 'function(2)'로 복귀한다.<br>\n",
        "=&gt; 'function(2)'의 나머지 코드인 print(2)가 실행되고 이전함수인 'function(3)'로 복귀한다.<br>\n",
        "=&gt; 'function(3)'의 나머지 코드인 print(3)가 실행되고 자신을 호출한 곳으로 돌아간다.</p>\n",
        "<blockquote>\n",
        "<p>재귀함수는 메모리 성능면에서 보다 떨어지지만 간결한 코드를 제공하며 DFS/BFS 알고리즘 구현에 있어 꼭 알아야하는 개념이므로 제대로 이해하자.</p>\n",
        "</blockquote></div>"
      ],
      "metadata": {
        "id": "My_KSUkB7NIx"
      }
    },
    {
      "cell_type": "markdown",
      "source": [
        "#연습문제\n"
      ],
      "metadata": {
        "id": "C4ZsY89xZNmr"
      }
    },
    {
      "cell_type": "markdown",
      "source": [
        "<h3>문제 1: 리스트의 최대값 찾기</h3>\n",
        "<p>리스트 <code>lst</code>가 주어졌을 때, <strong>리스트에서 최대값</strong>을 찾는 재귀 함수를 작성하세요.</p>\n"
      ],
      "metadata": {
        "id": "X4KrD549aZrR"
      }
    },
    {
      "cell_type": "code",
      "source": [
        "def find_max(lst):\n",
        "    # 종료 조건: 리스트에 요소가 하나만 있으면 그 값 반환\n",
        "    if len(lst) == 1:\n",
        "        return lst[0]\n",
        "    # 재귀 호출: 리스트를 둘로 나눠서 나머지 요소와 비교\n",
        "    max_of_rest = find_max(lst[1:])\n",
        "    return lst[0] if lst[0] > max_of_rest else max_of_rest\n",
        "\n",
        "# 테스트\n",
        "lst = [3, 5, 7, 2, 8, 1]\n",
        "print(find_max(lst))  # 예상 출력: 8"
      ],
      "metadata": {
        "id": "hz2RG0Gj8AB3"
      },
      "execution_count": null,
      "outputs": []
    },
    {
      "cell_type": "markdown",
      "source": [
        "<h3>문제 2: 문자열 뒤집기</h3>\n",
        "<p>문자열 <code>s</code>가 주어졌을 때, <strong>문자열을 뒤집는</strong> 재귀 함수를 작성하세요.</p>"
      ],
      "metadata": {
        "id": "45KxZrlDZxP6"
      }
    },
    {
      "cell_type": "code",
      "source": [
        "def reverse_string(s):\n",
        "    # 종료 조건: 빈 문자열이면 재귀 종료\n",
        "    if len(s) == 0:\n",
        "        return s\n",
        "    # 재귀 호출: 문자열 마지막 문자 + 나머지 문자열을 뒤집은 결과\n",
        "    return s[-1] + reverse_string(s[:-1])\n",
        "\n",
        "# 테스트\n",
        "s = \"hello\"\n",
        "print(reverse_string(s))  # 예상 출력: \"olleh\""
      ],
      "metadata": {
        "id": "r7cuwPDUZ-FZ"
      },
      "execution_count": null,
      "outputs": []
    },
    {
      "cell_type": "markdown",
      "source": [
        "<h3>문제 3: 1부터 n까지의 합 계산하기</h3>\n",
        "<p>정수 <code>n</code>이 주어졌을 때, <strong>1부터 n까지의 합</strong>을 재귀 함수를 사용하여 계산하는 코드를 작성하세요.</p>"
      ],
      "metadata": {
        "id": "vowO-gF_aCzj"
      }
    },
    {
      "cell_type": "code",
      "source": [
        "def recursive_sum(n):\n",
        "    # 종료 조건: n이 0이 되면 재귀 종료\n",
        "    if n == 0:\n",
        "        return 0\n",
        "    # 재귀 호출: n + (n-1)까지의 합을 더함\n",
        "    return n + recursive_sum(n - 1)\n",
        "\n",
        "# 테스트\n",
        "n = 5\n",
        "print(recursive_sum(n))  # 예상 출력: 15 (1 + 2 + 3 + 4 + 5)"
      ],
      "metadata": {
        "id": "0tKoVzN8aOGg"
      },
      "execution_count": null,
      "outputs": []
    },
    {
      "cell_type": "markdown",
      "source": [
        "# <h2 id=\"️-스택stack\">2.스택(Stack), 큐(Queue), 덱(Dequeue)</h2>"
      ],
      "metadata": {
        "id": "FENlcNPm37mo"
      }
    },
    {
      "cell_type": "markdown",
      "source": [
        "\n",
        "<p><strong>👉🏻 스택이란, 한쪽에서만 자료를 넣고 뺄 수 있는 후입선출 LIFO(Last In First Out)형식의 선형 자료구조이다.</strong></p>\n",
        "<p>스택의 기본 개념은 영어 단어의 뜻과 같이 '쌓는다'는 뜻이다. 스택은 같은 구조와 크기의 자료를 정해진 방향으로만 쌓을수 있고, top으로 정한 곳을 통해서만 접근할 수 있다.</p>\n",
        "<p>예를 들어, 박스 쌓기에 비유할 수 있다. 박스를 아래에서 위로 차곡차곡 쌓으면 아래에 있는 박스를 치우기 위해서는 맨 위의 박스부터 치워야 한다.</p>\n",
        "<p><img src=\"https://velog.velcdn.com/images%2Ffalling_star3%2Fpost%2F79f0c606-6710-4452-a82c-b0e2abbf4b1a%2F%EC%BA%A1%EC%B2%98.JPG\"></p>\n",
        "<p>아래부터 1-&gt;2-&gt;3 순서로 쌓여있는 상자를 오른쪽으로 옮긴다고 가정해보자.<br>\n",
        "먼저 가장 위에 있는 3번 상자를 오른쪽으로 옮기고, 그 후에는 2번 상자를 옮기고, 다음에는 1번 상자를 옮길 것이다. 즉, 마지막에 입력된 상자가 첫 번째로 출력된다.</p>\n",
        "<blockquote>\n",
        "<p>1-&gt;2-&gt;3의 순서로 입력되었다면, 3-&gt;2-&gt;1의 순서로 출력되는 것이다.<br>\n",
        "우리는 이것을 LIFO(Last In First Out) 형식이라고 하며 스택은 이러한 구조적 특징을 가진다.</p>\n",
        "</blockquote>\n",
        "<br>\n",
        "<h3 id=\"-스택의-연산\">📌 스택의 연산</h3>\n",
        "<ul>\n",
        "<li>push(삽입): 데이터를 삽입한다.</li>\n",
        "<li>pop(삭제): 데이터를 삭제한다.</li>\n",
        "</ul>\n",
        "<br>\n",
        "<p>✨ <strong>스택 예제</strong></p>\n",
        "<pre class=\" language-python\"><code class=\" language-python\">stack <span class=\"token operator\">=</span> <span class=\"token punctuation\">[</span><span class=\"token punctuation\">]</span>\n",
        "stack<span class=\"token punctuation\">.</span>append<span class=\"token punctuation\">(</span><span class=\"token number\">1</span><span class=\"token punctuation\">)</span>\n",
        "stack<span class=\"token punctuation\">.</span>append<span class=\"token punctuation\">(</span><span class=\"token number\">2</span><span class=\"token punctuation\">)</span>\n",
        "stack<span class=\"token punctuation\">.</span>append<span class=\"token punctuation\">(</span><span class=\"token number\">3</span><span class=\"token punctuation\">)</span>\n",
        "stack<span class=\"token punctuation\">.</span>pop<span class=\"token punctuation\">(</span><span class=\"token punctuation\">)</span>\n",
        "stack<span class=\"token punctuation\">.</span>pop<span class=\"token punctuation\">(</span><span class=\"token punctuation\">)</span>\n",
        "\n",
        "<span class=\"token keyword\">print</span><span class=\"token punctuation\">(</span>stack<span class=\"token punctuation\">)</span>\n",
        "\n",
        "<span class=\"token comment\">#결과</span>\n",
        "<span class=\"token punctuation\">[</span><span class=\"token number\">1</span><span class=\"token punctuation\">]</span></code></pre>\n",
        "<p>위에서 알아본 스택은 LIFO구조이므로 가장 나중에 append된 3부터 pop된다.<br>\n",
        "[1]-&gt;[1,2]-&gt;[1,2,3]-&gt;[1,2]-&gt;[1]</p>\n",
        "<br>\n",
        "<br>\n",
        "</div>"
      ],
      "metadata": {
        "id": "rBF9hOQG3-62"
      }
    },
    {
      "cell_type": "markdown",
      "source": [
        "#<h3>스택 연습문제</h3>"
      ],
      "metadata": {
        "id": "4b4PPHWfdzTF"
      }
    },
    {
      "cell_type": "markdown",
      "source": [
        "<h3>예제 1: 스택에서 데이터 여러 번 꺼내기</h3>\n",
        "<p><strong>문제</strong>: 스택에 \"a\", \"b\", \"c\", \"d\"를 넣고, 데이터를 두 번 꺼내어 출력하세요.</p>"
      ],
      "metadata": {
        "id": "ceaODoSjeh4v"
      }
    },
    {
      "cell_type": "code",
      "source": [
        "# 스택 초기화 및 데이터 삽입\n",
        "stack = [\"a\", \"b\", \"c\", \"d\"]\n",
        "\n",
        "# 두 번 pop하여 데이터 꺼내기\n",
        "print(stack.pop())  # 예상 출력: d\n",
        "print(stack.pop())  # 예상 출력: c"
      ],
      "metadata": {
        "id": "fC4MDLyheuLv"
      },
      "execution_count": null,
      "outputs": []
    },
    {
      "cell_type": "markdown",
      "source": [
        "<h3>예제 2: 스택에서 최상단의 값 확인하기</h3>\n",
        "<p><strong>문제</strong>: 스택에 5, 10, 15를 넣고, 최상단의 값을 확인하세요(데이터는 꺼내지 않음).</p>"
      ],
      "metadata": {
        "id": "KKRerZune0n4"
      }
    },
    {
      "cell_type": "code",
      "source": [
        "# 스택 초기화 및 데이터 삽입\n",
        "stack = [5, 10, 15]\n",
        "\n",
        "# 스택 최상단 값 확인 (pop하지 않음)\n",
        "top_item = stack[-1]\n",
        "print(top_item)  # 예상 출력: 15"
      ],
      "metadata": {
        "id": "irpINAige77p"
      },
      "execution_count": null,
      "outputs": []
    },
    {
      "cell_type": "markdown",
      "source": [
        "<h3>예제 3: 괄호가 올바르게 닫혔는지 확인하기</h3>\n",
        "<p><strong>문제</strong>: 괄호로 이루어진 문자열이 주어졌을 때, 스택을 사용하여 올바르게 괄호가 닫혔는지 확인하세요.</p>"
      ],
      "metadata": {
        "id": "dUAU6srMdgFv"
      }
    },
    {
      "cell_type": "code",
      "source": [
        "def is_valid_parentheses(s):\n",
        "    stack = []\n",
        "    for char in s:\n",
        "        if char == '(':\n",
        "            stack.append(char)\n",
        "        elif char == ')':\n",
        "            if not stack:\n",
        "                return False\n",
        "            stack.pop()\n",
        "\n",
        "    return len(stack) == 0\n",
        "\n",
        "# 테스트\n",
        "print(is_valid_parentheses(\"()()\"))  # 예상 출력: True\n",
        "print(is_valid_parentheses(\"(()\"))   # 예상 출력: False"
      ],
      "metadata": {
        "id": "glwDpl8L46tD"
      },
      "execution_count": null,
      "outputs": []
    },
    {
      "cell_type": "markdown",
      "source": [
        "<h3>예제 4: 문자열이 회문인지 스택을 사용해 확인하기</h3>\n",
        "<p><strong>문제</strong>: 스택을 사용하여 문자열이 **회문(앞뒤가 같은 단어)**인지 확인하는 코드를 작성하세요.</p>"
      ],
      "metadata": {
        "id": "VYB_a7-neEKw"
      }
    },
    {
      "cell_type": "code",
      "source": [
        "def is_palindrome(s):\n",
        "    stack = list(s)\n",
        "    reversed_s = \"\"\n",
        "\n",
        "    while stack:\n",
        "        reversed_s += stack.pop()\n",
        "\n",
        "    return s == reversed_s\n",
        "\n",
        "# 테스트\n",
        "s = \"level\"\n",
        "print(is_palindrome(s))  # 예상 출력: True\n",
        "\n",
        "s = \"hello\"\n",
        "print(is_palindrome(s))  # 예상 출력: False"
      ],
      "metadata": {
        "id": "foC2BIbAefQZ"
      },
      "execution_count": null,
      "outputs": []
    },
    {
      "cell_type": "markdown",
      "source": [],
      "metadata": {
        "id": "2lazUBz2e0ke"
      }
    },
    {
      "cell_type": "markdown",
      "source": [
        "<div class=\"sc-dPiLbb sc-bBHHxi kTIDXm\">\n",
        "\n",
        "<p><strong>👉🏻 큐란, 한 쪽에서 삽입 작업이 이루어지고, 다른 한 쪽에서는 삭제 작업이 이루어지는 선입선출 FIFO(First In First Out)형식의 선형 자료구조이다.</strong></p>\n",
        "<p>큐의 기본 개념은 영어 단어의 뜻인 '줄서는 것'과 같다.<br>\n",
        "흔히, 대기 줄에 비유할 수 있다. 먼저 온 사람이 먼저 들어가는 것이다.</p>\n",
        "<p>top으로 정한 곳을 통해서만 삽입, 삭제가 이루어지는 스택과는 달리 큐는 한쪽에서 삽입 작업이 이루어지고, 다른 쪽에서 삭제 작업이 이루어진다.</p>\n",
        "<p>이때, 삭제 연산만 수행되는 곳을 <strong>프론트(front)</strong>, 삽입 연산만 이루어지는 곳을 <strong>리어(rear)</strong>, 리어에서 이루어지는 삽입 연산을 <strong>인큐(enQueue)</strong>, 프론트에서 이루어지는 삭제 연산을 <strong>디큐(dnQueue)</strong>라고 부른다.</p>\n",
        "<p><img src=\"https://velog.velcdn.com/images%2Ffalling_star3%2Fpost%2F306aab5f-b742-4687-8d53-ab5a45b24c24%2F241.JPG\"></p>\n",
        "<p>자동차들이 터널을 줄지어 지나간다고 생각해보자.<br>\n",
        "먼저 들어온 1번 차가 첫 번째로 나가고, 다음에 들어온 2번 차가 두 번째로 나간다.</p>\n",
        "<blockquote>\n",
        "<p>1-&gt;2-3의 순서로 입력되었다면, 1-&gt;2-&gt;3의 순서로 출력되는 것이다.<br>\n",
        "우리는 이것을 FIFO(First In First Out)형식이라 하며 큐는 이러한 구조적 특징을 가진다.</p>\n",
        "</blockquote>\n",
        "<br>\n",
        "<br>\n",
        "<h3 id=\"-큐의-연산\">📌 큐의 연산</h3>\n",
        "<p>큐의 연산은 collections 모듈에서 제공하는 deque 자료구조를 활용하는 것이 좋다. deque는 스택과 큐의 장점을 모두 채택한 것인데 데이터를 넣고 빼는 속도가 리스트 자료형에 비해 효율적이며 queue라이브러리를 이용하는 것보다 더 간단하다.</p>\n",
        "<ul>\n",
        "<li>append(): 오른쪽에서 데이터를 삽입</li>\n",
        "<li>appendleft(): 왼쪽에서 데이터를 삽입</li>\n",
        "<li>pop(): 오른쪽에서 데이터 삭제</li>\n",
        "<li>popleft(): 왼쪽에서 데이터 삭제</li>\n",
        "</ul>\n",
        "<br>\n",
        "<p>✨ <strong>큐 예제1</strong></p>\n",
        "<pre class=\" language-python\"><code class=\" language-python\"><span class=\"token keyword\">from</span> collections <span class=\"token keyword\">import</span> deque\n",
        "\n",
        "queue <span class=\"token operator\">=</span> deque<span class=\"token punctuation\">(</span><span class=\"token punctuation\">)</span>\n",
        "queue<span class=\"token punctuation\">.</span>append<span class=\"token punctuation\">(</span><span class=\"token number\">1</span><span class=\"token punctuation\">)</span>\n",
        "queue<span class=\"token punctuation\">.</span>append<span class=\"token punctuation\">(</span><span class=\"token number\">2</span><span class=\"token punctuation\">)</span>\n",
        "queue<span class=\"token punctuation\">.</span>append<span class=\"token punctuation\">(</span><span class=\"token number\">3</span><span class=\"token punctuation\">)</span>\n",
        "queue<span class=\"token punctuation\">.</span>popleft<span class=\"token punctuation\">(</span><span class=\"token punctuation\">)</span>\n",
        "queue<span class=\"token punctuation\">.</span>popleft<span class=\"token punctuation\">(</span><span class=\"token punctuation\">)</span>\n",
        "\n",
        "<span class=\"token keyword\">print</span><span class=\"token punctuation\">(</span>queue<span class=\"token punctuation\">)</span>\n",
        "\n",
        "<span class=\"token comment\"># 결과</span>\n",
        "deque<span class=\"token punctuation\">(</span><span class=\"token punctuation\">[</span><span class=\"token number\">3</span><span class=\"token punctuation\">]</span><span class=\"token punctuation\">)</span></code></pre>\n",
        "<p>위에서 알아본 큐는 FIFO구조이므로 가장 먼저 append된 1부터 pop된다.<br>\n",
        "append는 오른쪽에서 데이터를 삽입하고, popleft는 왼쪽에서 데이터를 삭제한다.<br>\n",
        "[1]-&gt;[1,2]-&gt;[1,2,3]-&gt;[2,3]-&gt;[3]</p>\n",
        "<br>\n",
        "<p>append는 오른쪽에서 데이터를 삽입하고, pop은 오른쪽에서 데이터를 삭제한다.<br>\n",
        "[1]-&gt;[1,2]-&gt;[1,2,3]-&gt;[1,2]-&gt;[1]</p>\n",
        "<br>\n",
        "<br>\n"
      ],
      "metadata": {
        "id": "8UHBJDuT5KL8"
      }
    },
    {
      "cell_type": "markdown",
      "source": [
        "#<h3>큐 연습문제</h3>"
      ],
      "metadata": {
        "id": "BV74Jiwgdqtw"
      }
    },
    {
      "cell_type": "markdown",
      "source": [
        "<h3>예제 1: 큐에 데이터 삽입하고 출력하기</h3>\n",
        "<p><strong>문제</strong>: <code>collections.deque</code>를 이용해 큐를 구현하고, 1, 2, 3을 차례대로 큐에 넣고 출력하세요.</p>"
      ],
      "metadata": {
        "id": "HtXiOVTmbkk1"
      }
    },
    {
      "cell_type": "code",
      "source": [
        "from collections import deque\n",
        "\n",
        "# 큐 초기화\n",
        "queue = deque()\n",
        "\n",
        "# 큐에 데이터 삽입\n",
        "queue.append(1)\n",
        "queue.append(2)\n",
        "queue.append(3)\n",
        "\n",
        "# 큐 출력\n",
        "print(queue)  # 예상 출력: deque([1, 2, 3])"
      ],
      "metadata": {
        "colab": {
          "base_uri": "https://localhost:8080/"
        },
        "id": "Isp4fOFO56OW",
        "outputId": "459e8d43-4d69-4d26-bf95-20a27e805476"
      },
      "execution_count": null,
      "outputs": [
        {
          "output_type": "stream",
          "name": "stdout",
          "text": [
            "deque([1, 2, 3])\n"
          ]
        }
      ]
    },
    {
      "cell_type": "markdown",
      "source": [
        "<h3>예제 2: 큐에서 데이터 꺼내기</h3>\n",
        "<p><strong>문제</strong>: 위의 큐에서 데이터를 하나씩 꺼내어 출력하세요.</p>"
      ],
      "metadata": {
        "id": "gUHGPGqqbv8M"
      }
    },
    {
      "cell_type": "code",
      "source": [
        "from collections import deque\n",
        "\n",
        "# 큐 초기화 및 데이터 삽입\n",
        "queue = deque([1, 2, 3])\n",
        "\n",
        "# 큐에서 데이터 꺼내기\n",
        "first_item = queue.popleft()\n",
        "print(first_item)  # 예상 출력: 1\n",
        "\n",
        "second_item = queue.popleft()\n",
        "print(second_item)  # 예상 출력: 2"
      ],
      "metadata": {
        "colab": {
          "base_uri": "https://localhost:8080/"
        },
        "id": "u_J3Kzv9b7kl",
        "outputId": "22b52306-0a8a-4ac7-d554-191ee3296f2c"
      },
      "execution_count": null,
      "outputs": [
        {
          "output_type": "stream",
          "name": "stdout",
          "text": [
            "1\n",
            "2\n"
          ]
        }
      ]
    },
    {
      "cell_type": "markdown",
      "source": [
        "<h3>예제 3: 큐에 데이터 추가 및 꺼내는 순서 확인하기</h3>\n",
        "<p><strong>문제</strong>: 큐에 \"apple\", \"banana\", \"cherry\"를 넣고, 데이터를 하나씩 꺼내면서 순서를 확인하세요.</p>"
      ],
      "metadata": {
        "id": "-nA4s5VQcLGh"
      }
    },
    {
      "cell_type": "code",
      "source": [
        "from collections import deque\n",
        "\n",
        "# 큐 초기화 및 데이터 삽입\n",
        "queue = deque()\n",
        "\n",
        "queue.append(\"apple\")\n",
        "queue.append(\"banana\")\n",
        "queue.append(\"cherry\")\n",
        "\n",
        "# 큐에서 데이터 꺼내기\n",
        "while queue:\n",
        "    item = queue.popleft()\n",
        "    print(item)"
      ],
      "metadata": {
        "colab": {
          "base_uri": "https://localhost:8080/"
        },
        "id": "BJmy8UYAcQh8",
        "outputId": "a426a82f-9676-478b-b39e-4d7326e9bc8d"
      },
      "execution_count": null,
      "outputs": [
        {
          "output_type": "stream",
          "name": "stdout",
          "text": [
            "apple\n",
            "banana\n",
            "cherry\n"
          ]
        }
      ]
    },
    {
      "cell_type": "markdown",
      "source": [
        "<div class=\"sc-dPiLbb sc-bBHHxi kTIDXm\">\n",
        "<p><strong>👉 덱이란, 양쪽에서 삽입과 삭제가 가능한 구조이며 스택과 큐의 연산을 모두 지원한다.</strong></p>\n",
        "<p><img src=\"https://velog.velcdn.com/images%2Ffalling_star3%2Fpost%2F10df11e7-f1b7-4e8d-ae57-7224ab2af1fa%2F2.JPG\"></p>\n",
        "<p>Scroll: 입력 제한 덱 (입력이 한쪽에서만 발생하고, 출력은 양쪽에서 일어날 수 있음)<br>\n",
        "Shelf: 출력 제한 덱 (입력은 양쪽에서 일어나고, 출력은 한쪽에서 일어나도록 제한)</p>\n",
        "<p>덱의 연산은 collections 모듈에서 제공하는 deque 클래스로 구현 가능하다. </p>\n",
        "<ul>\n",
        "<li>append(): 오른쪽에서 데이터를 삽입</li>\n",
        "<li>appendleft(): 왼쪽에서 데이터를 삽입</li>\n",
        "<li>pop(): 오른쪽에서 데이터 삭제</li>\n",
        "<li>popleft(): 왼쪽에서 데이터 삭제</li>\n",
        "</ul>\n",
        "<br>\n",
        "<p>✨ <strong>덱 예제</strong></p>\n",
        "<pre class=\" language-python\"><code class=\" language-python\"><span class=\"token keyword\">from</span> collections <span class=\"token keyword\">import</span> deque\n",
        "\n",
        "queue <span class=\"token operator\">=</span> deque<span class=\"token punctuation\">(</span><span class=\"token punctuation\">)</span>\n",
        "queue<span class=\"token punctuation\">.</span>append<span class=\"token punctuation\">(</span><span class=\"token number\">1</span><span class=\"token punctuation\">)</span>\n",
        "queue<span class=\"token punctuation\">.</span>append<span class=\"token punctuation\">(</span><span class=\"token number\">2</span><span class=\"token punctuation\">)</span>\n",
        "queue<span class=\"token punctuation\">.</span>append<span class=\"token punctuation\">(</span><span class=\"token number\">3</span><span class=\"token punctuation\">)</span>\n",
        "queue<span class=\"token punctuation\">.</span>pop<span class=\"token punctuation\">(</span><span class=\"token punctuation\">)</span>\n",
        "queue<span class=\"token punctuation\">.</span>pop<span class=\"token punctuation\">(</span><span class=\"token punctuation\">)</span>\n",
        "\n",
        "<span class=\"token keyword\">print</span><span class=\"token punctuation\">(</span>queue<span class=\"token punctuation\">)</span>\n",
        "\n",
        "<span class=\"token comment\"># 결과</span>\n",
        "deque<span class=\"token punctuation\">(</span><span class=\"token punctuation\">[</span><span class=\"token number\">1</span><span class=\"token punctuation\">]</span><span class=\"token punctuation\">)</span></code></pre>\n",
        "<p>위에서 알아본 덱은 양쪽에서 삽입과 삭제가 가능하다.<br>\n",
        "append는 오른쪽에서 데이터를 삽입하고, pop은 오른쪽에서 데이터를 삭제한다.<br>\n",
        "[1]-&gt;[1,2]-&gt;[1,2,3]-&gt;[1,2]-&gt;[1]</p>\n",
        "<br>\n",
        "<hr>\n",
        "<ul>\n",
        "<li>오버플로: 특정한 자료구조가 수용할 수 있는 데이터의 크기를 넘어가는 삽입 연산을 수행할 때 발생한다.</li>\n",
        "<li>언더플로: 비어있는 자료구조에서 삭제 연산을 수행할 때 발생한다.</li>\n",
        "</ul>"
      ],
      "metadata": {
        "id": "aIv25MYP6AhY"
      }
    },
    {
      "cell_type": "code",
      "source": [],
      "metadata": {
        "id": "KB4sunp06V1-"
      },
      "execution_count": null,
      "outputs": []
    },
    {
      "cell_type": "markdown",
      "source": [
        "# <h1>3.[자료구조] 그래프(Graph): 인접행렬과 인접리스트</h1>"
      ],
      "metadata": {
        "id": "TJwELCgP8iHy"
      }
    },
    {
      "cell_type": "markdown",
      "source": [
        "<div class=\"sc-dFtzxp bfzjcP\"><div class=\"sc-bXTejn FTZwa\"><div class=\"sc-eGRUor gdnhbG atom-one\"><h2 id=\"️-그래프graph\">✏️ 그래프(Graph)</h2>\n",
        "<p>👉🏻 <strong>그래프(Graph)란 노드(Node)와 간선(Edge)으로 연결관계를 표현하는 자료구조이다. 노드는 정점(Vertex)라고 불리기도 한다.</strong></p>\n",
        "<p><img src=\"https://velog.velcdn.com/images%2Ffalling_star3%2Fpost%2Ffc2c8376-09c3-43da-a2d1-3caf677f4996%2F1231.JPG\"></p>\n",
        "<ul>\n",
        "<li><strong>노드(node)</strong>: 정점 (vertex)이라고도 하며 데이터가 저장되는 그래프의 기본 원소</li>\n",
        "<li><strong>간선 (edge)</strong>: 링크(link)라고도 하며 노드 간의 관계</li>\n",
        "<li><strong>인접 노드</strong>: (adjacent node): 하나의 노드에서 간선에 의해 직접 연결되어 있는 노드</li>\n",
        "<li><strong>차수(degree)</strong>: 노드에 연결된 간선의 수</li>\n",
        "<li><strong>진입 차수(in-degree)</strong>: 외부에서 오는 간선의 수</li>\n",
        "<li><strong>진출 차수(out-degree)</strong>: 외부로 향하는 간선의 수</li>\n",
        "<li><strong>경로 (path)</strong>: 간선을 따라갈 수 있는 길</li>\n",
        "<li><strong>경로의 길이 (length)</strong>: 경로를 구성하는 데 사용된 간선의 수</li>\n",
        "<li><strong>단순 경로 (simple path)</strong>: 경로 중에서 반복되는 간선이 없는 경로</li>\n",
        "<li><strong>사이클 (cycle)</strong>: 시작 노드와 종료 노드가 같은 단순 경로</li>\n",
        "</ul>\n",
        "<br>\n",
        "<hr>\n",
        "<h2 id=\"-그래프의-종류\">📌 그래프의 종류</h2>\n",
        "<p><strong>👉🏻 그래프의 종류에는 무방향 그래프, 가중치가 있는 무방향 그래프, 가중치가 있는 유방향 그래프가 있다.</strong></p>\n",
        "<p><img src=\"https://velog.velcdn.com/images%2Ffalling_star3%2Fpost%2F18cac165-5299-47fa-973c-2286a49ee4fa%2F11.JPG\"></p>\n",
        "<br>\n",
        "<hr>\n",
        "<h2 id=\"-그래프의-구현\">📌 그래프의 구현</h2>\n",
        "<p>👉🏻 <strong>그래프를 구현하는 방법에는 인접행렬(Adjacency Matrix)와 인접리스트(Adjacency List)가 있다.</strong></p>\n",
        "<ul>\n",
        "<li>인접행렬(Adjacency Matrix): 2차원 배열로 그래프의 연결 관계를 표현하는 방식</li>\n",
        "<li>인접리스트(Adjacency List): 리스트로 그래프의 연결 관계를 표현하는 방식</li>\n",
        "</ul>\n",
        "<br>\n",
        "<h3 id=\"인접행렬adjacency-matrix\">인접행렬(Adjacency Matrix)</h3>\n",
        "<p><strong>노드의 개수가 n이라면 n*n 형태의 2차원 배열로 그래프의 연결 관계를 표현한다. </strong><br>\n",
        "인접 행렬에서 행과 열은 노드를 의미하며, 각각의 원소들은 노드 간의 간선을 나타낸다.<br>\n",
        "adj[i][j] : 노드 i에서 노드 j로 가는 간선이 있으면 1, 아니면 0</p>\n",
        "<p><img src=\"https://velog.velcdn.com/images%2Ffalling_star3%2Fpost%2Fc20e690d-9674-49e7-b450-c3e15ed36268%2F22.JPG\"></p>\n",
        "<p><strong>가중치가 없는 무방향 그래프</strong><br>\n",
        ": 연결되어 있는 경우 행렬에서 1의 값을 가지고, 연결되지 않은 경우 0의 값을 가진다. 두 개의 노드에서 간선이 동시에 연결되어 있기 때문에 인접 행렬이 대칭적 구조를 가진다.</p>\n",
        "<br>\n",
        "<p><strong>가중치가 있는 유방향 그래프는 행렬</strong><br>\n",
        ": 행렬에서 각 간선의 가중치 값이 저장된다. 이 경우 가중치가 0인 것과 간선이 없는 것이 구별돼야 한다.</p>\n",
        "<blockquote>\n",
        "<p><strong>장점: </strong> 2차원 배열에 모든 노드들의 간선 정보가 있기 때문에, 두 노드를 연결하는 간선을 조회할 때 O(1) 시간복잡도를 가진다.<br>\n",
        "<strong>단점: </strong>간선의 수와 무관하게 항상 n² 크기의 2차원 배열이 필요하므로 메모리 공간이 낭비된다.<br>\n",
        "그래프의 모든 간선의 수를 알아내려면 인접행렬 전체를 확인해야 하므로 O(n²)의 시간이 소요된다.</p>\n",
        "</blockquote>\n",
        "<br>\n",
        "<br>\n",
        "<h3 id=\"인접리스트adjacency-list\">인접리스트(Adjacency List)</h3>\n",
        "<p><strong>그래프의 각 노드에 인접한 노드들을 연결리스트(Linked List)로 표현하는 방법이다.</strong><br>\n",
        "즉, 노드의 개수만큼 인접리스트가 존재하며, 각각의 인접리스트에는 인접한 노드 정보가 저장된다. 그래프는 각 인접리스트에 대한 헤드포인터를 배열로 갖는다.</p>\n",
        "<ul>\n",
        "<li>헤드포인터: 연결 리스트의 맨 처음 노드를 가리키는 포인터</li>\n",
        "</ul>\n",
        "<p><img src=\"https://velog.velcdn.com/images%2Ffalling_star3%2Fpost%2Ffe4c1a20-1b9a-4f64-ab72-db43276a050d%2F22.JPG\"></p>\n",
        "<p><strong>가중치가 없는 무방향 그래프</strong><br>\n",
        ": 그림과 같이 가중치 표현 없이 인접한 노드 정보가 저장된다.</p>\n",
        "<br>\n",
        "<p><strong>가중치가 있는 유방향 그래프</strong><br>\n",
        ": 종점 [노드 번호 | 간선의 가중치] 정보가 저장된다.</p>\n",
        "<blockquote>\n",
        "<p><strong>장점:</strong> 존재하는 간선만 관리하므로 보다 메모리 사용이 효율적이다.<br>\n",
        "<strong>단점: </strong>두 노드를 연결하는 간선을 조회하거나 노드의 차수를 알기 위해서는 노드의 인접 리스트를 탐색해야 하므로 노드의 차수만큼의 시간이 필요하다.</p>\n",
        "</blockquote>\n",
        "<br>\n",
        "<br>\n",
        "<h3 id=\"-인접행렬과-인접리스트-비교\">💡<strong> 인접행렬과 인접리스트 비교</strong></h3>\n",
        "<p><img src=\"https://velog.velcdn.com/images%2Ffalling_star3%2Fpost%2F33d21ba3-12b3-4985-a28f-83a255c2e6e7%2F%EB%8B%A4%EC%9A%B4%EB%A1%9C%EB%93%9C%20(4).png\"></p></div></div></div>"
      ],
      "metadata": {
        "id": "CewCdQI18j55"
      }
    },
    {
      "cell_type": "code",
      "source": [],
      "metadata": {
        "id": "3RCsY4mr8yQV"
      },
      "execution_count": null,
      "outputs": []
    },
    {
      "cell_type": "markdown",
      "source": [
        "# <h2 id=\"-깊이우선탐색dfs과-너비우선탐색bfs\">4.깊이우선탐색(DFS)과 너비우선탐색(BFS)</h2>"
      ],
      "metadata": {
        "id": "degu_L4q9tD1"
      }
    },
    {
      "cell_type": "markdown",
      "source": [
        "#<h2 id=\"️-깊이우선탐색dfs-구현\">4.1.깊이우선탐색(DFS) 구현</h2>"
      ],
      "metadata": {
        "id": "HxqZFDacn4Rq"
      }
    },
    {
      "cell_type": "markdown",
      "source": [
        "<div class=\"sc-bXTejn FTZwa\"><div class=\"sc-eGRUor gdnhbG atom-one\">\n",
        "<hr>\n",
        "<br>\n",
        "<p><strong>👉🏻 깊이우선탐색 DFS(Depth-First Search)는 그래프에서 깊은 부분을 우선적으로 탐색하는 알고리즘이다.</strong></p>\n",
        "<h4 id=\"-깊이우선탐색dfs-구현-방법\">▶ 깊이우선탐색(DFS) 구현 방법</h4>\n",
        "<blockquote>\n",
        "<ol>\n",
        "<li>탐색 시작 노드를 스택에 삽입하고 방문 처리를 한다.</li>\n",
        "<li>스택의 최상단 노드에 방문하지 않은 인접 노드가 있으면 그 인접 노드를 스택에 넣고 방문 처리를 한다. 방문하지 않은 인접 노드가 없으면 스택에서 최상단 노드를 꺼낸다.</li>\n",
        "<li>2번 과정을 더 이상 수행할 수 없을 때까지 반복한다.</li>\n",
        "</ol>\n",
        "</blockquote>\n",
        "<img src=\"https://images.velog.io/images/falling_star3/post/e41d947f-5d7c-4123-b36f-189ba24e52dc/2.JPG\">\n",
        "<p>▶ 해당 그래프를 DFS로 구현해보자. DFS는 Stack을 이용한다. Stack은 한 방향에서만 자료를 넣고 뺄 수 있는 후입선출 방식 구조이므로, 가장 늦게 들어온 노드를 가장 먼저 뺄 수 있다. 또한, 한 번 담았던 노드는 다시 담지 않는다.</p>\n",
        "<img src=\"https://images.velog.io/images/falling_star3/post/6204a8b1-d6a9-4567-ad22-d52766366a00/3.JPG\">\n",
        "<p>▶ 먼저 시작 노드인 0번 노드를 스택에 담았다. </p>\n",
        "<img src=\"https://images.velog.io/images/falling_star3/post/ef6a514e-a63f-4683-8af5-72b0726f0c0a/4.JPG\">\n",
        "<p>▶ 이 후 0번 노드를 꺼내 출력하고, 그 인접 노드인 1번 노드를 스택에 담았다.</p>\n",
        "<img src=\"https://images.velog.io/images/falling_star3/post/f402b5b2-edbf-4ff5-ad29-06bef89900a1/5.JPG\">\n",
        "<p>▶ 이 후 1번 노드를 꺼내 출력하고, 그 인접 노드인 2번 노드와 3번 노드를 스택에 담았다.</p>\n",
        "<img src=\"https://images.velog.io/images/falling_star3/post/ed30907d-8c19-4441-b6cb-1fecb1dda10d/6.JPG\">\n",
        "<p>▶ 이 후 3번 노드를 꺼내 출력하고, 그 인접 노드인 4번 노드와 5번 노드를 스택에 담았다.<br>\n",
        "&nbsp;&nbsp;&nbsp; 2번 노드는 이미 스택에 담겨있으므로 스택에 다시 추가하지 않는다.</p>\n",
        "<img src=\"https://images.velog.io/images/falling_star3/post/fc044990-981a-49ac-8044-054f55cf028b/7.JPG\">\n",
        "<p>▶ 이 후 5번 노드를 꺼내 출력하고, 그 인접 노드인 6번 노드와 7번 노드를 스택에 담았다.</p>\n",
        "<img src=\"https://images.velog.io/images/falling_star3/post/9ed1e8f6-5cdf-4e2e-b56b-c63a045e2ba5/8.JPG\">\n",
        "<p>▶ 이 후 7번 노드를 꺼내 출력하고, 인접 노드가 없으므로 더 담지 않는다.</p>\n",
        "<img src=\"https://images.velog.io/images/falling_star3/post/278f618d-f5ed-4135-b39d-080bddbbea56/9.JPG\">\n",
        "<p>▶ 이 후 6번 노드를 꺼내 출력하고, 그 인접 노드인 8번 노드를 스택에 담았다.</p>\n",
        "<img src=\"https://images.velog.io/images/falling_star3/post/fdbe8d36-d1ee-4d16-b687-b35b7cec613a/10.JPG\">\n",
        "<p>▶ 이 후 8번 노드를 꺼내 출력하고, 인접 노드가 없으므로 더 담지 않는다.</p>\n",
        "<img src=\"https://images.velog.io/images/falling_star3/post/6a751560-cdb2-46b9-977d-8e926242822a/11.JPG\">\n",
        "<p>▶ 이 후 4번 노드를 꺼내 출력하고, 2번 노드를 꺼내 출력한다. 더 꺼낼 노드가 없으므로 순회는 종료한다.</p>\n",
        "<br>\n",
        "<p><strong>DFS 경로 : 0 &gt; 1 &gt; 3 &gt; 5 &gt; 7 &gt; 6 &gt; 8 &gt; 4 &gt; 2</strong></p>\n",
        "<br>\n",
        "<p>💡 출력 순서와 과정은 스택이기 때문에 위와 같이 이루어지는 것이다. 스택은 마치 박스 쌓기와 같아서 가장 늦게 올린 박스를 가장 먼저 꺼낼 수 있다. DFS 구현 과정 또한 스택으로 구현하는 것이기에 가장 위에 있는 노드를 계속 꺼내는 것이다.</p>\n",
        "<br>\n",
        "<br>\n",
        "<hr></div>"
      ],
      "metadata": {
        "id": "qQimVq7H940-"
      }
    },
    {
      "cell_type": "markdown",
      "source": [
        "<h3 id=\"-dfs-예제\">▶ DFS 예제</h3>\n",
        "<pre class=\" language-python\"><code class=\" language-python\"><span class=\"token comment\"># DFS 메서드 정의</span>\n",
        "<span class=\"token keyword\">def</span> <span class=\"token function\">dfs</span><span class=\"token punctuation\">(</span>graph<span class=\"token punctuation\">,</span> v<span class=\"token punctuation\">,</span> visited<span class=\"token punctuation\">)</span><span class=\"token punctuation\">:</span>\n",
        "    <span class=\"token comment\">#현재 노드를 방문 처리</span>\n",
        "    visited<span class=\"token punctuation\">[</span>v<span class=\"token punctuation\">]</span> <span class=\"token operator\">=</span> <span class=\"token boolean\">True</span>\n",
        "    <span class=\"token keyword\">print</span><span class=\"token punctuation\">(</span>v<span class=\"token punctuation\">,</span> end<span class=\"token operator\">=</span><span class=\"token string\">' '</span><span class=\"token punctuation\">)</span>\n",
        "    <span class=\"token comment\"># 현재 노드와 연결된 자식 노드를 재귀적으로 방문</span>\n",
        "    <span class=\"token keyword\">for</span> i <span class=\"token keyword\">in</span> graph<span class=\"token punctuation\">[</span>v<span class=\"token punctuation\">]</span><span class=\"token punctuation\">:</span>\n",
        "        <span class=\"token keyword\">if</span> <span class=\"token keyword\">not</span> visited<span class=\"token punctuation\">[</span>i<span class=\"token punctuation\">]</span><span class=\"token punctuation\">:</span>\n",
        "            dfs<span class=\"token punctuation\">(</span>graph<span class=\"token punctuation\">,</span> i<span class=\"token punctuation\">,</span> visited<span class=\"token punctuation\">)</span>\n",
        "\n",
        "<span class=\"token comment\"># 각 노드가 연결된 정보를 리스트 자료형으로 표현(2차원 리스트)</span>\n",
        "graph <span class=\"token operator\">=</span> <span class=\"token punctuation\">[</span>\n",
        "    <span class=\"token punctuation\">[</span><span class=\"token punctuation\">]</span><span class=\"token punctuation\">,</span>\n",
        "    <span class=\"token punctuation\">[</span><span class=\"token number\">2</span><span class=\"token punctuation\">,</span> <span class=\"token number\">3</span><span class=\"token punctuation\">,</span> <span class=\"token number\">8</span><span class=\"token punctuation\">]</span><span class=\"token punctuation\">,</span>\n",
        "    <span class=\"token punctuation\">[</span><span class=\"token number\">1</span><span class=\"token punctuation\">,</span> <span class=\"token number\">7</span><span class=\"token punctuation\">]</span><span class=\"token punctuation\">,</span>\n",
        "    <span class=\"token punctuation\">[</span><span class=\"token number\">1</span><span class=\"token punctuation\">,</span> <span class=\"token number\">4</span><span class=\"token punctuation\">,</span> <span class=\"token number\">5</span><span class=\"token punctuation\">]</span><span class=\"token punctuation\">,</span>\n",
        "    <span class=\"token punctuation\">[</span><span class=\"token number\">3</span><span class=\"token punctuation\">,</span> <span class=\"token number\">5</span><span class=\"token punctuation\">]</span><span class=\"token punctuation\">,</span>\n",
        "    <span class=\"token punctuation\">[</span><span class=\"token number\">3</span><span class=\"token punctuation\">,</span> <span class=\"token number\">4</span><span class=\"token punctuation\">]</span><span class=\"token punctuation\">,</span>\n",
        "    <span class=\"token punctuation\">[</span><span class=\"token number\">7</span><span class=\"token punctuation\">]</span><span class=\"token punctuation\">,</span>\n",
        "    <span class=\"token punctuation\">[</span><span class=\"token number\">2</span><span class=\"token punctuation\">,</span> <span class=\"token number\">6</span><span class=\"token punctuation\">,</span> <span class=\"token number\">8</span><span class=\"token punctuation\">]</span><span class=\"token punctuation\">,</span>\n",
        "    <span class=\"token punctuation\">[</span><span class=\"token number\">1</span><span class=\"token punctuation\">,</span> <span class=\"token number\">7</span><span class=\"token punctuation\">]</span>\n",
        "<span class=\"token punctuation\">]</span>\n",
        "\n",
        "<span class=\"token comment\"># 각 노드가 방문된 정보를 리스트 자료형으로 표현(1차원 리스트)</span>\n",
        "visited <span class=\"token operator\">=</span> <span class=\"token punctuation\">[</span><span class=\"token boolean\">False</span><span class=\"token punctuation\">]</span> <span class=\"token operator\">*</span> <span class=\"token number\">9</span>\n",
        "\n",
        "dfs<span class=\"token punctuation\">(</span>graph<span class=\"token punctuation\">,</span> <span class=\"token number\">1</span><span class=\"token punctuation\">,</span> visited<span class=\"token punctuation\">)</span>\n",
        "\n",
        "<span class=\"token comment\"># 출력</span>\n",
        "<span class=\"token number\">1</span> <span class=\"token number\">2</span> <span class=\"token number\">7</span> <span class=\"token number\">6</span> <span class=\"token number\">8</span> <span class=\"token number\">3</span> <span class=\"token number\">4</span> <span class=\"token number\">5</span></code></pre>\n",
        "<img src=\"https://images.velog.io/images/falling_star3/post/fd2467ce-afb4-4242-a671-740782a71429/%EC%BA%A1%EC%B2%98.JPG\">"
      ],
      "metadata": {
        "id": "l-sjE84zqBjH"
      }
    },
    {
      "cell_type": "markdown",
      "source": [
        "# 연습문제"
      ],
      "metadata": {
        "id": "Vaa0C1BPioRz"
      }
    },
    {
      "cell_type": "markdown",
      "source": [
        "<h3><strong>문제 1: 간단한 DFS 탐색</strong></h3>\n",
        "<p>주어진 그래프에서 DFS를 사용해 모든 노드를 탐색하세요.</p>\n",
        "<pre class=\"!overflow-visible\"><div class=\"dark bg-gray-950 contain-inline-size rounded-md border-[0.5px] border-token-border-medium relative\"><div class=\"flex items-center text-token-text-secondary bg-token-main-surface-secondary px-4 py-2 text-xs font-sans justify-between rounded-t-md h-9\">lua</div><div class=\"sticky top-9 md:top-[5.75rem]\"><div class=\"absolute bottom-0 right-2 flex h-9 items-center\"><div class=\"flex items-center rounded bg-token-main-surface-secondary px-2 font-sans text-xs text-token-text-secondary\"><span class=\"\" data-state=\"closed\"><button class=\"flex gap-1 items-center py-1\"><svg width=\"24\" height=\"24\" viewBox=\"0 0 24 24\" fill=\"none\" xmlns=\"http://www.w3.org/2000/svg\" class=\"icon-sm\"><path fill-rule=\"evenodd\" clip-rule=\"evenodd\" d=\"M7 5C7 3.34315 8.34315 2 10 2H19C20.6569 2 22 3.34315 22 5V14C22 15.6569 20.6569 17 19 17H17V19C17 20.6569 15.6569 22 14 22H5C3.34315 22 2 20.6569 2 19V10C2 8.34315 3.34315 7 5 7H7V5ZM9 7H14C15.6569 7 17 8.34315 17 10V15H19C19.5523 15 20 14.5523 20 14V5C20 4.44772 19.5523 4 19 4H10C9.44772 4 9 4.44772 9 5V7ZM5 9C4.44772 9 4 9.44772 4 10V19C4 19.5523 4.44772 20 5 20H14C14.5523 20 15 19.5523 15 19V10C15 9.44772 14.5523 9 14 9H5Z\" fill=\"currentColor\"></path></svg>코드 복사</button></span></div></div></div><div class=\"overflow-y-auto p-4\" dir=\"ltr\"><code class=\"!whitespace-pre hljs language-lua\"><span class=\"hljs-number\">1</span> <span class=\"hljs-comment\">-- 2 -- 4</span>\n",
        "|   \n",
        "<span class=\"hljs-number\">3</span> <span class=\"hljs-comment\">-- 5</span>\n",
        "</code></div></div></pre>"
      ],
      "metadata": {
        "id": "1lvZzDkRirUM"
      }
    },
    {
      "cell_type": "code",
      "source": [
        "def dfs(graph, node, visited=None):\n",
        "    if visited is None:\n",
        "        visited = set()  # 방문한 노드를 저장하는 집합\n",
        "    visited.add(node)  # 현재 노드를 방문\n",
        "    print(node, end=' ')  # 방문한 노드를 출력\n",
        "\n",
        "    for neighbor in graph[node]:  # 현재 노드의 이웃 노드를 순회\n",
        "        if neighbor not in visited:  # 방문하지 않은 노드일 경우 재귀 호출\n",
        "            dfs(graph, neighbor, visited)\n",
        "\n",
        "graph = {\n",
        "    1: [2, 3],  # 1번 노드는 2번, 3번 노드와 연결\n",
        "    2: [1, 4],  # 2번 노드는 1번, 4번 노드와 연결\n",
        "    3: [1, 5],  # 3번 노드는 1번, 5번 노드와 연결\n",
        "    4: [2],  # 4번 노드는 2번 노드와 연결\n",
        "    5: [3]  # 5번 노드는 3번 노드와 연결\n",
        "}\n",
        "\n",
        "dfs(graph, 1)  # 예상 출력: 1 2 4 3 5\n"
      ],
      "metadata": {
        "colab": {
          "base_uri": "https://localhost:8080/"
        },
        "id": "X_p0UVFnUvnp",
        "outputId": "8c248737-d898-4c16-e28c-d641e943a325"
      },
      "execution_count": null,
      "outputs": [
        {
          "output_type": "stream",
          "name": "stdout",
          "text": [
            "1 2 4 3 5 "
          ]
        }
      ]
    },
    {
      "cell_type": "markdown",
      "source": [
        "<p><strong>설명</strong>: 이 문제는 모든 가능한 경로를 출력하는 것입니다. DFS로 탐색하며, 경로를 찾으면 그 경로를 출력합니다. 각 경로는 노드에서 더 이상 진행할 수 없을 때 출력됩니다.</p>"
      ],
      "metadata": {
        "id": "oZdbwKQZjGwW"
      }
    },
    {
      "cell_type": "markdown",
      "source": [
        "<h3><strong>문제 2: DFS로 경로 탐색</strong></h3>\n",
        "<p>주어진 그래프에서 1번 노드에서 DFS로 가능한 경로를 모두 탐색하세요.</p>\n",
        "<pre class=\"!overflow-visible\"><div class=\"dark bg-gray-950 contain-inline-size rounded-md border-[0.5px] border-token-border-medium relative\"><div class=\"flex items-center text-token-text-secondary bg-token-main-surface-secondary px-4 py-2 text-xs font-sans justify-between rounded-t-md h-9\">lua</div><div class=\"sticky top-9 md:top-[5.75rem]\"><div class=\"absolute bottom-0 right-2 flex h-9 items-center\"><div class=\"flex items-center rounded bg-token-main-surface-secondary px-2 font-sans text-xs text-token-text-secondary\"><span class=\"\" data-state=\"closed\"><button class=\"flex gap-1 items-center py-1\"><svg width=\"24\" height=\"24\" viewBox=\"0 0 24 24\" fill=\"none\" xmlns=\"http://www.w3.org/2000/svg\" class=\"icon-sm\"><path fill-rule=\"evenodd\" clip-rule=\"evenodd\" d=\"M7 5C7 3.34315 8.34315 2 10 2H19C20.6569 2 22 3.34315 22 5V14C22 15.6569 20.6569 17 19 17H17V19C17 20.6569 15.6569 22 14 22H5C3.34315 22 2 20.6569 2 19V10C2 8.34315 3.34315 7 5 7H7V5ZM9 7H14C15.6569 7 17 8.34315 17 10V15H19C19.5523 15 20 14.5523 20 14V5C20 4.44772 19.5523 4 19 4H10C9.44772 4 9 4.44772 9 5V7ZM5 9C4.44772 9 4 9.44772 4 10V19C4 19.5523 4.44772 20 5 20H14C14.5523 20 15 19.5523 15 19V10C15 9.44772 14.5523 9 14 9H5Z\" fill=\"currentColor\"></path></svg>코드 복사</button></span></div></div></div><div class=\"overflow-y-auto p-4\" dir=\"ltr\"><code class=\"!whitespace-pre hljs language-lua\"><span class=\"hljs-number\">1</span> <span class=\"hljs-comment\">-- 2 -- 4</span>\n",
        "|    |\n",
        "<span class=\"hljs-number\">3</span> <span class=\"hljs-comment\">-- 5</span>\n",
        "</code></div></div></pre>"
      ],
      "metadata": {
        "id": "2BhS_6ZIi_Bn"
      }
    },
    {
      "cell_type": "code",
      "source": [
        "def dfs_paths(graph, node, path=None):\n",
        "    if path is None:\n",
        "        path = []  # 경로를 저장하는 리스트\n",
        "    path.append(node)  # 현재 노드를 경로에 추가\n",
        "\n",
        "    if not graph[node]:  # 더 이상 방문할 이웃이 없는 경우 경로 출력\n",
        "        print(' -> '.join(map(str, path)))\n",
        "\n",
        "    for neighbor in graph[node]:  # 이웃 노드를 탐색\n",
        "        if neighbor not in path:  # 아직 방문하지 않은 노드일 경우\n",
        "            dfs_paths(graph, neighbor, path.copy())  # 경로를 복사해서 재귀적으로 탐색\n",
        "\n",
        "graph = {\n",
        "    1: [2, 3],\n",
        "    2: [4, 5],\n",
        "    3: [],\n",
        "    4: [],\n",
        "    5: []\n",
        "}\n",
        "\n",
        "dfs_paths(graph, 1)"
      ],
      "metadata": {
        "colab": {
          "base_uri": "https://localhost:8080/"
        },
        "id": "vtVT6vPfjfCt",
        "outputId": "8b78286a-4e79-4423-863f-754ffb0e2450"
      },
      "execution_count": null,
      "outputs": [
        {
          "output_type": "stream",
          "name": "stdout",
          "text": [
            "1 -> 2 -> 4\n",
            "1 -> 2 -> 5\n",
            "1 -> 3\n"
          ]
        }
      ]
    },
    {
      "cell_type": "markdown",
      "source": [
        "<h3><strong>문제 3: DFS로 특정 노드 찾기</strong></h3>\n",
        "<p>DFS를 사용하여 그래프에서 특정 노드 <code>5</code>를 찾아보세요.</p>\n",
        "<pre class=\"!overflow-visible\"><div class=\"dark bg-gray-950 contain-inline-size rounded-md border-[0.5px] border-token-border-medium relative\"><div class=\"flex items-center text-token-text-secondary bg-token-main-surface-secondary px-4 py-2 text-xs font-sans justify-between rounded-t-md h-9\">lua</div><div class=\"sticky top-9 md:top-[5.75rem]\"><div class=\"absolute bottom-0 right-2 flex h-9 items-center\"><div class=\"flex items-center rounded bg-token-main-surface-secondary px-2 font-sans text-xs text-token-text-secondary\"><span class=\"\" data-state=\"closed\"><button class=\"flex gap-1 items-center py-1\"><svg width=\"24\" height=\"24\" viewBox=\"0 0 24 24\" fill=\"none\" xmlns=\"http://www.w3.org/2000/svg\" class=\"icon-sm\"><path fill-rule=\"evenodd\" clip-rule=\"evenodd\" d=\"M7 5C7 3.34315 8.34315 2 10 2H19C20.6569 2 22 3.34315 22 5V14C22 15.6569 20.6569 17 19 17H17V19C17 20.6569 15.6569 22 14 22H5C3.34315 22 2 20.6569 2 19V10C2 8.34315 3.34315 7 5 7H7V5ZM9 7H14C15.6569 7 17 8.34315 17 10V15H19C19.5523 15 20 14.5523 20 14V5C20 4.44772 19.5523 4 19 4H10C9.44772 4 9 4.44772 9 5V7ZM5 9C4.44772 9 4 9.44772 4 10V19C4 19.5523 4.44772 20 5 20H14C14.5523 20 15 19.5523 15 19V10C15 9.44772 14.5523 9 14 9H5Z\" fill=\"currentColor\"></path></svg>코드 복사</button></span></div></div></div><div class=\"overflow-y-auto p-4\" dir=\"ltr\"><code class=\"!whitespace-pre hljs language-lua\"><span class=\"hljs-number\">1</span> <span class=\"hljs-comment\">-- 2 -- 5</span>\n",
        "|   \n",
        "<span class=\"hljs-number\">3</span> <span class=\"hljs-comment\">-- 4</span>\n",
        "</code></div></div></pre>"
      ],
      "metadata": {
        "id": "QATLkIiLj7GO"
      }
    },
    {
      "cell_type": "code",
      "source": [
        "def dfs_search(graph, node, target, visited=None):\n",
        "    if visited is None:\n",
        "        visited = set()  # 방문한 노드를 기록하는 집합\n",
        "    visited.add(node)  # 현재 노드를 방문\n",
        "\n",
        "    if node == target:  # 목표 노드를 찾으면 종료\n",
        "        print(f\"Node {target} found\")\n",
        "        return True\n",
        "\n",
        "    for neighbor in graph[node]:  # 이웃 노드를 탐색\n",
        "        if neighbor not in visited:  # 아직 방문하지 않은 노드일 경우\n",
        "            if dfs_search(graph, neighbor, target, visited):  # 목표를 찾을 때까지 재귀 호출\n",
        "                return True\n",
        "    return False\n",
        "\n",
        "graph = {\n",
        "    1: [2, 3],\n",
        "    2: [5],\n",
        "    3: [4],\n",
        "    4: [],\n",
        "    5: []\n",
        "}\n",
        "\n",
        "dfs_search(graph, 1, 5)  # 예상 출력: Node 5 found"
      ],
      "metadata": {
        "colab": {
          "base_uri": "https://localhost:8080/"
        },
        "id": "-M_Id39EkD90",
        "outputId": "0667e432-6a77-41de-f10b-f552185428e8"
      },
      "execution_count": null,
      "outputs": [
        {
          "output_type": "stream",
          "name": "stdout",
          "text": [
            "Node 5 found\n"
          ]
        },
        {
          "output_type": "execute_result",
          "data": {
            "text/plain": [
              "True"
            ]
          },
          "metadata": {},
          "execution_count": 10
        }
      ]
    },
    {
      "cell_type": "markdown",
      "source": [
        "<h3><strong>문제 4: DFS로 트리 깊이 계산</strong></h3>\n",
        "<p>주어진 트리에서 DFS를 사용해 트리의 깊이를 계산하세요.</p>\n",
        "<pre class=\"!overflow-visible\"><div class=\"dark bg-gray-950 contain-inline-size rounded-md border-[0.5px] border-token-border-medium relative\"><div class=\"flex items-center text-token-text-secondary bg-token-main-surface-secondary px-4 py-2 text-xs font-sans justify-between rounded-t-md h-9\">markdown</div><div class=\"sticky top-9 md:top-[5.75rem]\"><div class=\"absolute bottom-0 right-2 flex h-9 items-center\"><div class=\"flex items-center rounded bg-token-main-surface-secondary px-2 font-sans text-xs text-token-text-secondary\"><span class=\"\" data-state=\"closed\"><button class=\"flex gap-1 items-center py-1\"><svg width=\"24\" height=\"24\" viewBox=\"0 0 24 24\" fill=\"none\" xmlns=\"http://www.w3.org/2000/svg\" class=\"icon-sm\"><path fill-rule=\"evenodd\" clip-rule=\"evenodd\" d=\"M7 5C7 3.34315 8.34315 2 10 2H19C20.6569 2 22 3.34315 22 5V14C22 15.6569 20.6569 17 19 17H17V19C17 20.6569 15.6569 22 14 22H5C3.34315 22 2 20.6569 2 19V10C2 8.34315 3.34315 7 5 7H7V5ZM9 7H14C15.6569 7 17 8.34315 17 10V15H19C19.5523 15 20 14.5523 20 14V5C20 4.44772 19.5523 4 19 4H10C9.44772 4 9 4.44772 9 5V7ZM5 9C4.44772 9 4 9.44772 4 10V19C4 19.5523 4.44772 20 5 20H14C14.5523 20 15 19.5523 15 19V10C15 9.44772 14.5523 9 14 9H5Z\" fill=\"currentColor\"></path></svg>코드 복사</button></span></div></div></div><div class=\"overflow-y-auto p-4\" dir=\"ltr\"><code class=\"!whitespace-pre hljs language-markdown\"><span class=\"hljs-code\">      1\n",
        "     / \\\n",
        "    2   3\n",
        "   /   \n",
        "  4\n",
        " /\n",
        "5\n",
        "</span></code></div></div></pre>"
      ],
      "metadata": {
        "id": "oEU9hsawkHzY"
      }
    },
    {
      "cell_type": "code",
      "source": [
        "def dfs_depth(graph, node):\n",
        "    if not graph[node]:  # 이웃 노드가 없으면 깊이는 1\n",
        "        return 1\n",
        "    depths = []\n",
        "    for neighbor in graph[node]:  # 이웃 노드의 깊이를 계산\n",
        "        depths.append(dfs_depth(graph, neighbor))\n",
        "    return 1 + max(depths)  # 자식 노드 중 최대 깊이를 반환\n",
        "\n",
        "graph = {\n",
        "    1: [2, 3],\n",
        "    2: [4],\n",
        "    3: [],\n",
        "    4: [5],\n",
        "    5: []\n",
        "}\n",
        "\n",
        "print(dfs_depth(graph, 1))  # 예상 출력: 4"
      ],
      "metadata": {
        "colab": {
          "base_uri": "https://localhost:8080/"
        },
        "id": "Qxz2eMVvkXd9",
        "outputId": "cdac0c69-676c-4bc4-96aa-0f8a226f8e66"
      },
      "execution_count": null,
      "outputs": [
        {
          "output_type": "stream",
          "name": "stdout",
          "text": [
            "4\n"
          ]
        }
      ]
    },
    {
      "cell_type": "markdown",
      "source": [
        "<h3><strong>문제 5: DFS로 사이클 탐지</strong></h3>\n",
        "<p>DFS를 사용해 그래프에 사이클이 있는지 탐지하세요.</p>\n",
        "<pre class=\"!overflow-visible\"><div class=\"dark bg-gray-950 contain-inline-size rounded-md border-[0.5px] border-token-border-medium relative\"><div class=\"flex items-center text-token-text-secondary bg-token-main-surface-secondary px-4 py-2 text-xs font-sans justify-between rounded-t-md h-9\">lua</div><div class=\"sticky top-9 md:top-[5.75rem]\"><div class=\"absolute bottom-0 right-2 flex h-9 items-center\"><div class=\"flex items-center rounded bg-token-main-surface-secondary px-2 font-sans text-xs text-token-text-secondary\"><span class=\"\" data-state=\"closed\"><button class=\"flex gap-1 items-center py-1\"><svg width=\"24\" height=\"24\" viewBox=\"0 0 24 24\" fill=\"none\" xmlns=\"http://www.w3.org/2000/svg\" class=\"icon-sm\"><path fill-rule=\"evenodd\" clip-rule=\"evenodd\" d=\"M7 5C7 3.34315 8.34315 2 10 2H19C20.6569 2 22 3.34315 22 5V14C22 15.6569 20.6569 17 19 17H17V19C17 20.6569 15.6569 22 14 22H5C3.34315 22 2 20.6569 2 19V10C2 8.34315 3.34315 7 5 7H7V5ZM9 7H14C15.6569 7 17 8.34315 17 10V15H19C19.5523 15 20 14.5523 20 14V5C20 4.44772 19.5523 4 19 4H10C9.44772 4 9 4.44772 9 5V7ZM5 9C4.44772 9 4 9.44772 4 10V19C4 19.5523 4.44772 20 5 20H14C14.5523 20 15 19.5523 15 19V10C15 9.44772 14.5523 9 14 9H5Z\" fill=\"currentColor\"></path></svg>코드 복사</button></span></div></div></div><div class=\"overflow-y-auto p-4\" dir=\"ltr\"><code class=\"!whitespace-pre hljs language-lua\"><span class=\"hljs-number\">1</span> <span class=\"hljs-comment\">-- 2</span>\n",
        "|    |\n",
        "<span class=\"hljs-number\">3</span> <span class=\"hljs-comment\">-- 4</span>\n",
        "</code></div></div></pre>"
      ],
      "metadata": {
        "id": "ppovIEtpkjrL"
      }
    },
    {
      "cell_type": "code",
      "source": [
        "def dfs_cycle(graph, node, visited=None, parent=None):\n",
        "    if visited is None:\n",
        "        visited = set()  # 방문한 노드를 기록하는 집합\n",
        "    visited.add(node)  # 현재 노드를 방문\n",
        "\n",
        "    for neighbor in graph[node]:  # 이웃 노드를 탐색\n",
        "        if neighbor not in visited:  # 아직 방문하지 않은 경우 재귀 호출\n",
        "            if dfs_cycle(graph, neighbor, visited, node):\n",
        "                return True\n",
        "        elif neighbor != parent:  # 부모 노드가 아닌 경우에 방문한 노드를 만났다면 사이클 존재\n",
        "            return True\n",
        "    return False\n",
        "\n",
        "graph = {\n",
        "    1: [2, 3],\n",
        "    2: [1, 4],\n",
        "    3: [1],\n",
        "    4: [2]\n",
        "}\n",
        "\n",
        "print(dfs_cycle(graph, 1))  # 예상 출력: True"
      ],
      "metadata": {
        "colab": {
          "base_uri": "https://localhost:8080/"
        },
        "id": "MJGagtsJksVs",
        "outputId": "661ec7d5-a84d-4bd5-ffdb-926387badd63"
      },
      "execution_count": null,
      "outputs": [
        {
          "output_type": "stream",
          "name": "stdout",
          "text": [
            "False\n"
          ]
        }
      ]
    },
    {
      "cell_type": "markdown",
      "source": [
        "<h3><strong>문제 6: DFS로 노드의 최단 경로 찾기</strong></h3>\n",
        "<p>DFS를 사용하여 노드 1에서 노드 5까지의 최단 경로를 찾으세요.</p>\n",
        "<pre class=\"!overflow-visible\"><div class=\"dark bg-gray-950 contain-inline-size rounded-md border-[0.5px] border-token-border-medium relative\"><div class=\"flex items-center text-token-text-secondary bg-token-main-surface-secondary px-4 py-2 text-xs font-sans justify-between rounded-t-md h-9\">lua</div><div class=\"sticky top-9 md:top-[5.75rem]\"><div class=\"absolute bottom-0 right-2 flex h-9 items-center\"><div class=\"flex items-center rounded bg-token-main-surface-secondary px-2 font-sans text-xs text-token-text-secondary\"><span class=\"\" data-state=\"closed\"><button class=\"flex gap-1 items-center py-1\"><svg width=\"24\" height=\"24\" viewBox=\"0 0 24 24\" fill=\"none\" xmlns=\"http://www.w3.org/2000/svg\" class=\"icon-sm\"><path fill-rule=\"evenodd\" clip-rule=\"evenodd\" d=\"M7 5C7 3.34315 8.34315 2 10 2H19C20.6569 2 22 3.34315 22 5V14C22 15.6569 20.6569 17 19 17H17V19C17 20.6569 15.6569 22 14 22H5C3.34315 22 2 20.6569 2 19V10C2 8.34315 3.34315 7 5 7H7V5ZM9 7H14C15.6569 7 17 8.34315 17 10V15H19C19.5523 15 20 14.5523 20 14V5C20 4.44772 19.5523 4 19 4H10C9.44772 4 9 4.44772 9 5V7ZM5 9C4.44772 9 4 9.44772 4 10V19C4 19.5523 4.44772 20 5 20H14C14.5523 20 15 19.5523 15 19V10C15 9.44772 14.5523 9 14 9H5Z\" fill=\"currentColor\"></path></svg>코드 복사</button></span></div></div></div><div class=\"overflow-y-auto p-4\" dir=\"ltr\"><code class=\"!whitespace-pre hljs language-lua\"><span class=\"hljs-number\">1</span> <span class=\"hljs-comment\">-- 2 -- 5</span>\n",
        "|   \n",
        "<span class=\"hljs-number\">3</span> <span class=\"hljs-comment\">-- 4</span>\n",
        "</code></div></div></pre>"
      ],
      "metadata": {
        "id": "dTY64izbkyBj"
      }
    },
    {
      "cell_type": "code",
      "source": [
        "def dfs_shortest_path(graph, start, goal, path=None):\n",
        "    if path is None:\n",
        "        path = []  # 현재 경로를 저장하는 리스트\n",
        "    path.append(start)  # 시작 노드를 경로에 추가\n",
        "\n",
        "    if start == goal:  # 목표 노드에 도착하면 경로 반환\n",
        "        return path\n",
        "\n",
        "    for neighbor in graph[start]:  # 이웃 노드를 탐색\n",
        "        if neighbor not in path:  # 방문하지 않은 노드일 경우 재귀 호출\n",
        "            new_path = dfs_shortest_path(graph, neighbor, goal, path.copy())\n",
        "            if new_path:\n",
        "                return new_path\n",
        "    return None\n",
        "\n",
        "graph = {\n",
        "    1: [2, 3],\n",
        "    2: [5],\n",
        "    3: [4],\n",
        "    4: [],\n",
        "    5: []\n",
        "}\n",
        "\n",
        "print(dfs_shortest_path(graph, 1, 5))  # 예상 출력: [1, 2, 5]"
      ],
      "metadata": {
        "colab": {
          "base_uri": "https://localhost:8080/"
        },
        "id": "qJqayy9pk6Au",
        "outputId": "b2e0108f-77d6-4ec6-879f-94b25db9e232"
      },
      "execution_count": null,
      "outputs": [
        {
          "output_type": "stream",
          "name": "stdout",
          "text": [
            "[1, 2, 5]\n"
          ]
        }
      ]
    },
    {
      "cell_type": "markdown",
      "source": [],
      "metadata": {
        "id": "GMA7jnVNU7UN"
      }
    },
    {
      "cell_type": "code",
      "source": [],
      "metadata": {
        "id": "whg_Usk0VatB"
      },
      "execution_count": null,
      "outputs": []
    },
    {
      "cell_type": "markdown",
      "source": [
        "#<h2 id=\"️너비우선탐색bfs\">4.2.너비우선탐색(BFS)</h2>"
      ],
      "metadata": {
        "id": "3voIO9Wcpj0f"
      }
    },
    {
      "cell_type": "markdown",
      "source": [
        "<div class=\"sc-bXTejn FTZwa\"><div class=\"sc-eGRUor gdnhbG atom-one\">\n",
        "\n",
        "<br>\n",
        "<p>👉🏻 <strong>BFS(Breadth First Search)는 그래프에서 가까운 노드부터 탐색하는 알고리즘이다.</strong></p>\n",
        "<br>\n",
        "<h4 id=\"-너비우선탐색bfs-구현-방법\">▶ 너비우선탐색(BFS) 구현 방법</h4>\n",
        "<blockquote>\n",
        "<ol>\n",
        "<li>탐색 시작 노드를 큐에 삽입하고 방문 처리를 한다.</li>\n",
        "<li>큐에서 노드를 꺼내 해당 노드의 인접 노드 중에서 방문하지 않은 노드를 모두 큐에 삽입하고 방문 처리를 한다.</li>\n",
        "<li>2번의 과정을 더 이상 수행할 수 없을 때까지 반복한다.</li>\n",
        "</ol>\n",
        "</blockquote>\n",
        "<img src=\"https://images.velog.io/images/falling_star3/post/24e141be-fab0-4f60-b481-51fdbbd9b557/12.JPG\">\n",
        "<p>▶ 해당 그래프를 BFS로 구현해보자. BFS는 Queue를 이용한다. Queue는 가장 먼저 들어온 것이 가장 먼저 나가는 선입선출 방식의 구조이다. DFS 구현과 마찬가지로 한번 큐에 담았던 노드는 다시 담지 않는다.</p>\n",
        "<img src=\"https://images.velog.io/images/falling_star3/post/d8023884-3f4c-4835-a640-b234a1b4eaee/13.JPG\">\n",
        "<p>▶ 먼저 시작 노드인 0번 노드를 큐에 담았다.</p>\n",
        "<img src=\"https://images.velog.io/images/falling_star3/post/acdf78a4-fc42-4fc9-9e16-6b09d25b512f/14.JPG\">\n",
        "<p>▶ 이 후 0번 노드를 꺼내 출력하고, 그 인접 노드인 1번 노드를 큐에 담았다.<br>\n",
        "&nbsp;&nbsp;&nbsp; 큐는 선입선출이므로 꺼내는 방향이 그림의 화살표처럼 아래부터이다.</p>\n",
        "<img src=\"https://images.velog.io/images/falling_star3/post/747d5b01-de9e-4b95-bb95-77f082e933fb/15.JPG\">\n",
        "<p>▶ 이 후 1번 노드를 꺼내 출력하고, 그 인접 노드인 2번 노드와 3번 노드를 큐에 담았다.</p>\n",
        "<img src=\"https://images.velog.io/images/falling_star3/post/15a961c6-c3a6-4a3f-abf2-b5e70dafca82/17.JPG\">\n",
        "<p>▶ 이 후 2번 노드를 꺼내 출력하고, 그 인접 노드인 4번 노드를 큐에 담았다.</p>\n",
        "<p>💡 큐는 선입선출 방식이므로 가장 아래 있는 2번 노드부터 꺼낸다. 또한, 그 인접 노드 중 1번, 3번은 이미 큐에 들어갔었으므로 4번 노드만 큐에 담긴다.</p>\n",
        "<img src=\"https://images.velog.io/images/falling_star3/post/c02907b8-1cec-4552-8367-2900678a8345/18.JPG\">\n",
        "<p>▶ 이 후 3번 노드를 꺼내 출력하고, 그 인접 노드인 5번 노드를 큐에 담았다.</p>\n",
        "<img src=\"https://images.velog.io/images/falling_star3/post/2f32457f-2656-4eda-9704-422b98f0da3b/19.JPG\">\n",
        "<p>▶ 이 후 4번 노드를 꺼내 출력하고, 그 인접 노드는 전부 큐에 담았던 적이 있으므로 다시 담지 않는다.</p>\n",
        "<img src=\"https://images.velog.io/images/falling_star3/post/ab53f2fc-85e5-4c2b-86e2-881794e4fe33/21.JPG\">\n",
        "<p>▶ 이 후 5번 노드를 꺼내 출력하고, 그 인접 노드인 6번 노드와 7번 노드를 큐에 담았다.</p>\n",
        "<img src=\"https://images.velog.io/images/falling_star3/post/b2cd6057-bfac-4d8e-933e-43c1c6d19ba7/22.JPG\">\n",
        "<p>▶ 이 후 6번 노드를 꺼내 출력하고, 그 인접 노드인 8번 노드를 큐에 담았다.</p>\n",
        "<img src=\"https://images.velog.io/images/falling_star3/post/3f314ed3-1616-4db0-8b9b-800102a40114/23.JPG\">\n",
        "<p>▶ 이 후 7번 노드를 꺼내 출력하고, 8번 노드를 꺼내 출력한다. 더 꺼낼 노드가 없으므로 순회는 종료한다.</p>\n",
        "<br>\n",
        "<p><strong>BFS 경로 : 0 &gt; 1 &gt; 2 &gt; 3 &gt; 4 &gt; 5 &gt; 6 &gt; 7 &gt; 8 </strong></p>\n",
        "<br>\n",
        "<br>\n",
        "<hr></div>"
      ],
      "metadata": {
        "id": "ErsQMnunpP9d"
      }
    },
    {
      "cell_type": "markdown",
      "source": [
        "<h3 id=\"-bfs-예제\">▶ BFS 예제</h3>\n",
        "<pre class=\" language-python\"><code class=\" language-python\"><span class=\"token keyword\">from</span> collections <span class=\"token keyword\">import</span> deque\n",
        "\n",
        "<span class=\"token comment\"># BFS 메서드 정의</span>\n",
        "<span class=\"token keyword\">def</span> <span class=\"token function\">bfs</span><span class=\"token punctuation\">(</span>graph<span class=\"token punctuation\">,</span> start<span class=\"token punctuation\">,</span> visited<span class=\"token punctuation\">)</span><span class=\"token punctuation\">:</span>\n",
        "    <span class=\"token comment\"># 큐(Queue) 구현을 위해 deque 라이브러리 사용</span>\n",
        "    queue <span class=\"token operator\">=</span> deque<span class=\"token punctuation\">(</span><span class=\"token punctuation\">[</span>start<span class=\"token punctuation\">]</span><span class=\"token punctuation\">)</span>\n",
        "    <span class=\"token comment\"># 현재 노드를 방문 처리</span>\n",
        "    visited<span class=\"token punctuation\">[</span>start<span class=\"token punctuation\">]</span> <span class=\"token operator\">=</span> <span class=\"token boolean\">True</span>\n",
        "    <span class=\"token comment\"># 큐가 빌 때까지 반복</span>\n",
        "    <span class=\"token keyword\">while</span> queue<span class=\"token punctuation\">:</span>\n",
        "        <span class=\"token comment\"># 큐에서 하나의 원소를 뽑아 출력</span>\n",
        "        v <span class=\"token operator\">=</span> queue<span class=\"token punctuation\">.</span>popleft<span class=\"token punctuation\">(</span><span class=\"token punctuation\">)</span>\n",
        "        <span class=\"token keyword\">print</span><span class=\"token punctuation\">(</span>v<span class=\"token punctuation\">,</span> end <span class=\"token operator\">=</span> <span class=\"token string\">\" \"</span><span class=\"token punctuation\">)</span>\n",
        "        <span class=\"token comment\"># 해당 원소와 연결된, 아직 방문하지 않은 원소들을 큐에 삽입</span>\n",
        "        <span class=\"token keyword\">for</span> i <span class=\"token keyword\">in</span> graph<span class=\"token punctuation\">[</span>v<span class=\"token punctuation\">]</span><span class=\"token punctuation\">:</span>\n",
        "            <span class=\"token keyword\">if</span> <span class=\"token keyword\">not</span> visited<span class=\"token punctuation\">[</span>i<span class=\"token punctuation\">]</span><span class=\"token punctuation\">:</span>\n",
        "                queue<span class=\"token punctuation\">.</span>append<span class=\"token punctuation\">(</span>i<span class=\"token punctuation\">)</span>\n",
        "                visited<span class=\"token punctuation\">[</span>i<span class=\"token punctuation\">]</span> <span class=\"token operator\">=</span> <span class=\"token boolean\">True</span>\n",
        "\n",
        "        \n",
        "<span class=\"token comment\"># 각 노드가 연결된 정보를 리스트 자료형으로 표현(2차원 리스트)</span>\n",
        "graph <span class=\"token operator\">=</span> <span class=\"token punctuation\">[</span>\n",
        "    <span class=\"token punctuation\">[</span><span class=\"token punctuation\">]</span><span class=\"token punctuation\">,</span>\n",
        "    <span class=\"token punctuation\">[</span><span class=\"token number\">2</span><span class=\"token punctuation\">,</span> <span class=\"token number\">3</span><span class=\"token punctuation\">,</span> <span class=\"token number\">8</span><span class=\"token punctuation\">]</span><span class=\"token punctuation\">,</span>\n",
        "    <span class=\"token punctuation\">[</span><span class=\"token number\">1</span><span class=\"token punctuation\">,</span> <span class=\"token number\">7</span><span class=\"token punctuation\">]</span><span class=\"token punctuation\">,</span>\n",
        "    <span class=\"token punctuation\">[</span><span class=\"token number\">1</span><span class=\"token punctuation\">,</span> <span class=\"token number\">4</span><span class=\"token punctuation\">,</span> <span class=\"token number\">5</span><span class=\"token punctuation\">]</span><span class=\"token punctuation\">,</span>\n",
        "    <span class=\"token punctuation\">[</span><span class=\"token number\">3</span><span class=\"token punctuation\">,</span> <span class=\"token number\">5</span><span class=\"token punctuation\">]</span><span class=\"token punctuation\">,</span>\n",
        "    <span class=\"token punctuation\">[</span><span class=\"token number\">3</span><span class=\"token punctuation\">,</span> <span class=\"token number\">4</span><span class=\"token punctuation\">]</span><span class=\"token punctuation\">,</span>\n",
        "    <span class=\"token punctuation\">[</span><span class=\"token number\">7</span><span class=\"token punctuation\">]</span><span class=\"token punctuation\">,</span>\n",
        "    <span class=\"token punctuation\">[</span><span class=\"token number\">2</span><span class=\"token punctuation\">,</span> <span class=\"token number\">6</span><span class=\"token punctuation\">,</span> <span class=\"token number\">8</span><span class=\"token punctuation\">]</span><span class=\"token punctuation\">,</span>\n",
        "    <span class=\"token punctuation\">[</span><span class=\"token number\">1</span><span class=\"token punctuation\">,</span> <span class=\"token number\">7</span><span class=\"token punctuation\">]</span>\n",
        "<span class=\"token punctuation\">]</span>\n",
        "\n",
        "visited <span class=\"token operator\">=</span> <span class=\"token punctuation\">[</span><span class=\"token boolean\">False</span><span class=\"token punctuation\">]</span><span class=\"token operator\">*</span><span class=\"token number\">9</span>\n",
        "bfs<span class=\"token punctuation\">(</span>graph<span class=\"token punctuation\">,</span> <span class=\"token number\">1</span><span class=\"token punctuation\">,</span> visited<span class=\"token punctuation\">)</span>\n",
        "\n",
        "<span class=\"token comment\"># 출력</span>\n",
        "<span class=\"token number\">1</span> <span class=\"token number\">2</span> <span class=\"token number\">3</span> <span class=\"token number\">8</span> <span class=\"token number\">7</span> <span class=\"token number\">4</span> <span class=\"token number\">5</span> <span class=\"token number\">6</span> </code></pre>\n",
        "<img src=\"https://images.velog.io/images/falling_star3/post/81d9171c-5206-48af-8d16-61f2e6bb3715/%EC%BA%A1%EC%B2%98.JPG\">"
      ],
      "metadata": {
        "id": "DCTW8pZPqZlP"
      }
    },
    {
      "cell_type": "markdown",
      "source": [
        "#연습문제"
      ],
      "metadata": {
        "id": "cIkfw9-JqjYk"
      }
    },
    {
      "cell_type": "markdown",
      "source": [
        "<h3><strong>문제 1: 간단한 BFS 탐색</strong></h3>\n",
        "<p>주어진 그래프에서 BFS를 사용해 모든 노드를 탐색하세요.</p>\n",
        "<pre class=\"!overflow-visible\"><div class=\"dark bg-gray-950 contain-inline-size rounded-md border-[0.5px] border-token-border-medium relative\"><div class=\"flex items-center text-token-text-secondary bg-token-main-surface-secondary px-4 py-2 text-xs font-sans justify-between rounded-t-md h-9\">lua</div><div class=\"sticky top-9 md:top-[5.75rem]\"><div class=\"absolute bottom-0 right-2 flex h-9 items-center\"><div class=\"flex items-center rounded bg-token-main-surface-secondary px-2 font-sans text-xs text-token-text-secondary\"><span class=\"\" data-state=\"closed\"><button class=\"flex gap-1 items-center py-1\"><svg width=\"24\" height=\"24\" viewBox=\"0 0 24 24\" fill=\"none\" xmlns=\"http://www.w3.org/2000/svg\" class=\"icon-sm\"><path fill-rule=\"evenodd\" clip-rule=\"evenodd\" d=\"M7 5C7 3.34315 8.34315 2 10 2H19C20.6569 2 22 3.34315 22 5V14C22 15.6569 20.6569 17 19 17H17V19C17 20.6569 15.6569 22 14 22H5C3.34315 22 2 20.6569 2 19V10C2 8.34315 3.34315 7 5 7H7V5ZM9 7H14C15.6569 7 17 8.34315 17 10V15H19C19.5523 15 20 14.5523 20 14V5C20 4.44772 19.5523 4 19 4H10C9.44772 4 9 4.44772 9 5V7ZM5 9C4.44772 9 4 9.44772 4 10V19C4 19.5523 4.44772 20 5 20H14C14.5523 20 15 19.5523 15 19V10C15 9.44772 14.5523 9 14 9H5Z\" fill=\"currentColor\"></path></svg>코드 복사</button></span></div></div></div><div class=\"overflow-y-auto p-4\" dir=\"ltr\"><code class=\"!whitespace-pre hljs language-lua\"><span class=\"hljs-number\">1</span> <span class=\"hljs-comment\">-- 2 -- 4</span>\n",
        "|   \n",
        "<span class=\"hljs-number\">3</span> <span class=\"hljs-comment\">-- 5</span>\n",
        "</code></div></div></pre>"
      ],
      "metadata": {
        "id": "R19YsTl6qnJu"
      }
    },
    {
      "cell_type": "code",
      "source": [
        "from collections import deque\n",
        "\n",
        "def bfs(graph, start):\n",
        "    visited = set()  # 방문한 노드를 저장하는 집합\n",
        "    queue = deque([start])  # 탐색할 노드를 저장하는 큐\n",
        "    visited.add(start)\n",
        "\n",
        "    while queue:  # 큐가 빌 때까지 반복\n",
        "        node = queue.popleft()  # 큐에서 노드를 꺼냄\n",
        "        print(node, end=' ')  # 현재 노드를 출력\n",
        "\n",
        "        for neighbor in graph[node]:  # 인접한 노드를 순회\n",
        "            if neighbor not in visited:  # 방문하지 않은 노드일 경우\n",
        "                visited.add(neighbor)  # 방문 처리\n",
        "                queue.append(neighbor)  # 큐에 추가\n",
        "\n",
        "graph = {\n",
        "    1: [2, 3],\n",
        "    2: [1, 4],\n",
        "    3: [1, 5],\n",
        "    4: [2],\n",
        "    5: [3]\n",
        "}\n",
        "\n",
        "bfs(graph, 1)  # 예상 출력: 1 2 3 4 5"
      ],
      "metadata": {
        "id": "GL7j5xahr8DL"
      },
      "execution_count": null,
      "outputs": []
    },
    {
      "cell_type": "markdown",
      "source": [
        "<p><strong>설명</strong>: BFS는 시작 노드에서 가까운 노드부터 차례대로 탐색합니다. 큐를 사용하여 먼저 들어온 노드를 먼저 처리합니다.</p>"
      ],
      "metadata": {
        "id": "4eOCR_7msA_D"
      }
    },
    {
      "cell_type": "markdown",
      "source": [
        "<h3><strong>문제 2: BFS로 특정 노드 찾기</strong></h3>\n",
        "<p>BFS를 사용하여 그래프에서 특정 노드 <code>5</code>를 찾아보세요.</p>\n",
        "<pre class=\"!overflow-visible\"><div class=\"dark bg-gray-950 contain-inline-size rounded-md border-[0.5px] border-token-border-medium relative\"><div class=\"flex items-center text-token-text-secondary bg-token-main-surface-secondary px-4 py-2 text-xs font-sans justify-between rounded-t-md h-9\">lua</div><div class=\"sticky top-9 md:top-[5.75rem]\"><div class=\"absolute bottom-0 right-2 flex h-9 items-center\"><div class=\"flex items-center rounded bg-token-main-surface-secondary px-2 font-sans text-xs text-token-text-secondary\"><span class=\"\" data-state=\"closed\"><button class=\"flex gap-1 items-center py-1\"><svg width=\"24\" height=\"24\" viewBox=\"0 0 24 24\" fill=\"none\" xmlns=\"http://www.w3.org/2000/svg\" class=\"icon-sm\"><path fill-rule=\"evenodd\" clip-rule=\"evenodd\" d=\"M7 5C7 3.34315 8.34315 2 10 2H19C20.6569 2 22 3.34315 22 5V14C22 15.6569 20.6569 17 19 17H17V19C17 20.6569 15.6569 22 14 22H5C3.34315 22 2 20.6569 2 19V10C2 8.34315 3.34315 7 5 7H7V5ZM9 7H14C15.6569 7 17 8.34315 17 10V15H19C19.5523 15 20 14.5523 20 14V5C20 4.44772 19.5523 4 19 4H10C9.44772 4 9 4.44772 9 5V7ZM5 9C4.44772 9 4 9.44772 4 10V19C4 19.5523 4.44772 20 5 20H14C14.5523 20 15 19.5523 15 19V10C15 9.44772 14.5523 9 14 9H5Z\" fill=\"currentColor\"></path></svg>코드 복사</button></span></div></div></div><div class=\"overflow-y-auto p-4\" dir=\"ltr\"><code class=\"!whitespace-pre hljs language-lua\"><span class=\"hljs-number\">1</span> <span class=\"hljs-comment\">-- 2 -- 5</span>\n",
        "|   \n",
        "<span class=\"hljs-number\">3</span> <span class=\"hljs-comment\">-- 4</span>\n",
        "</code></div></div></pre>"
      ],
      "metadata": {
        "id": "qFFTt3w4sBxd"
      }
    },
    {
      "cell_type": "code",
      "source": [
        "from collections import deque\n",
        "\n",
        "def bfs_search(graph, start, target):\n",
        "    visited = set()  # 방문한 노드를 저장하는 집합\n",
        "    queue = deque([start])\n",
        "    visited.add(start)\n",
        "\n",
        "    while queue:\n",
        "        node = queue.popleft()\n",
        "        if node == target:  # 목표 노드를 찾으면 종료\n",
        "            print(f\"Node {target} found\")\n",
        "            return\n",
        "\n",
        "        for neighbor in graph[node]:\n",
        "            if neighbor not in visited:\n",
        "                visited.add(neighbor)\n",
        "                queue.append(neighbor)\n",
        "\n",
        "graph = {\n",
        "    1: [2, 3],\n",
        "    2: [5],\n",
        "    3: [4],\n",
        "    4: [],\n",
        "    5: []\n",
        "}\n",
        "\n",
        "bfs_search(graph, 1, 5)  # 예상 출력: Node 5 found"
      ],
      "metadata": {
        "id": "UUSDHvlxsNoW"
      },
      "execution_count": null,
      "outputs": []
    },
    {
      "cell_type": "markdown",
      "source": [
        "<h3><strong>문제 3: BFS로 최단 경로 찾기</strong></h3>\n",
        "<p>BFS를 사용하여 노드 1에서 노드 5까지의 최단 경로를 찾으세요.</p>\n",
        "<pre class=\"!overflow-visible\"><div class=\"dark bg-gray-950 contain-inline-size rounded-md border-[0.5px] border-token-border-medium relative\"><div class=\"flex items-center text-token-text-secondary bg-token-main-surface-secondary px-4 py-2 text-xs font-sans justify-between rounded-t-md h-9\">lua</div><div class=\"sticky top-9 md:top-[5.75rem]\"><div class=\"absolute bottom-0 right-2 flex h-9 items-center\"><div class=\"flex items-center rounded bg-token-main-surface-secondary px-2 font-sans text-xs text-token-text-secondary\"><span class=\"\" data-state=\"closed\"><button class=\"flex gap-1 items-center py-1\"><svg width=\"24\" height=\"24\" viewBox=\"0 0 24 24\" fill=\"none\" xmlns=\"http://www.w3.org/2000/svg\" class=\"icon-sm\"><path fill-rule=\"evenodd\" clip-rule=\"evenodd\" d=\"M7 5C7 3.34315 8.34315 2 10 2H19C20.6569 2 22 3.34315 22 5V14C22 15.6569 20.6569 17 19 17H17V19C17 20.6569 15.6569 22 14 22H5C3.34315 22 2 20.6569 2 19V10C2 8.34315 3.34315 7 5 7H7V5ZM9 7H14C15.6569 7 17 8.34315 17 10V15H19C19.5523 15 20 14.5523 20 14V5C20 4.44772 19.5523 4 19 4H10C9.44772 4 9 4.44772 9 5V7ZM5 9C4.44772 9 4 9.44772 4 10V19C4 19.5523 4.44772 20 5 20H14C14.5523 20 15 19.5523 15 19V10C15 9.44772 14.5523 9 14 9H5Z\" fill=\"currentColor\"></path></svg>코드 복사</button></span></div></div></div><div class=\"overflow-y-auto p-4\" dir=\"ltr\"><code class=\"!whitespace-pre hljs language-lua\"><span class=\"hljs-number\">1</span> <span class=\"hljs-comment\">-- 2 -- 5</span>\n",
        "|   \n",
        "<span class=\"hljs-number\">3</span> <span class=\"hljs-comment\">-- 4</span>\n",
        "</code></div></div></pre>"
      ],
      "metadata": {
        "id": "VCMMQ1jqsSPo"
      }
    },
    {
      "cell_type": "code",
      "source": [
        "from collections import deque\n",
        "\n",
        "def bfs_shortest_path(graph, start, goal):\n",
        "    queue = deque([[start]])  # 경로를 큐에 저장\n",
        "    visited = set()\n",
        "\n",
        "    while queue:\n",
        "        path = queue.popleft()  # 경로를 큐에서 꺼냄\n",
        "        node = path[-1]  # 경로의 마지막 노드를 가져옴\n",
        "\n",
        "        if node == goal:  # 목표 노드에 도착하면 경로 반환\n",
        "            return path\n",
        "\n",
        "        if node not in visited:\n",
        "            visited.add(node)\n",
        "\n",
        "            for neighbor in graph[node]:\n",
        "                new_path = list(path)\n",
        "                new_path.append(neighbor)\n",
        "                queue.append(new_path)\n",
        "\n",
        "graph = {\n",
        "    1: [2, 3],\n",
        "    2: [5],\n",
        "    3: [4],\n",
        "    4: [],\n",
        "    5: []\n",
        "}\n",
        "\n",
        "print(bfs_shortest_path(graph, 1, 5))  # 예상 출력: [1, 2, 5]"
      ],
      "metadata": {
        "id": "RnYEE8v7saxW"
      },
      "execution_count": null,
      "outputs": []
    },
    {
      "cell_type": "markdown",
      "source": [
        "<p><strong>설명</strong>: BFS는 최단 경로를 찾기에 적합한 탐색 방법입니다. 경로를 유지하면서 너비 우선 탐색을 진행하여 목표 노드에 도달할 때까지 탐색합니다.</p>"
      ],
      "metadata": {
        "id": "RLpWBFx6svYr"
      }
    },
    {
      "cell_type": "markdown",
      "source": [
        "<h3><strong>문제 4: BFS로 트리의 레벨 계산</strong></h3>\n",
        "<p>BFS를 사용해 이진 트리의 각 노드의 레벨을 계산하세요.</p>\n",
        "<pre class=\"!overflow-visible\"><div class=\"dark bg-gray-950 contain-inline-size rounded-md border-[0.5px] border-token-border-medium relative\"><div class=\"flex items-center text-token-text-secondary bg-token-main-surface-secondary px-4 py-2 text-xs font-sans justify-between rounded-t-md h-9\">markdown</div><div class=\"sticky top-9 md:top-[5.75rem]\"><div class=\"absolute bottom-0 right-2 flex h-9 items-center\"><div class=\"flex items-center rounded bg-token-main-surface-secondary px-2 font-sans text-xs text-token-text-secondary\"><span class=\"\" data-state=\"closed\"><button class=\"flex gap-1 items-center py-1\"><svg width=\"24\" height=\"24\" viewBox=\"0 0 24 24\" fill=\"none\" xmlns=\"http://www.w3.org/2000/svg\" class=\"icon-sm\"><path fill-rule=\"evenodd\" clip-rule=\"evenodd\" d=\"M7 5C7 3.34315 8.34315 2 10 2H19C20.6569 2 22 3.34315 22 5V14C22 15.6569 20.6569 17 19 17H17V19C17 20.6569 15.6569 22 14 22H5C3.34315 22 2 20.6569 2 19V10C2 8.34315 3.34315 7 5 7H7V5ZM9 7H14C15.6569 7 17 8.34315 17 10V15H19C19.5523 15 20 14.5523 20 14V5C20 4.44772 19.5523 4 19 4H10C9.44772 4 9 4.44772 9 5V7ZM5 9C4.44772 9 4 9.44772 4 10V19C4 19.5523 4.44772 20 5 20H14C14.5523 20 15 19.5523 15 19V10C15 9.44772 14.5523 9 14 9H5Z\" fill=\"currentColor\"></path></svg>코드 복사</button></span></div></div></div><div class=\"overflow-y-auto p-4\" dir=\"ltr\"><code class=\"!whitespace-pre hljs language-markdown\"><span class=\"hljs-code\">      1\n",
        "     / \\\n",
        "    2   3\n",
        "   / \\\n",
        "  4   5\n",
        "</span></code></div></div></pre>"
      ],
      "metadata": {
        "id": "uG-SdvwBswkR"
      }
    },
    {
      "cell_type": "code",
      "source": [
        "from collections import deque\n",
        "\n",
        "def bfs_level(tree, start):\n",
        "    queue = deque([(start, 0)])  # 노드와 레벨을 함께 저장\n",
        "    visited = set()\n",
        "\n",
        "    while queue:\n",
        "        node, level = queue.popleft()\n",
        "        print(f\"Node {node} is at level {level}\")\n",
        "        visited.add(node)\n",
        "\n",
        "        for neighbor in tree[node]:\n",
        "            if neighbor not in visited:\n",
        "                queue.append((neighbor, level + 1))  # 이웃 노드의 레벨은 현재 레벨 + 1\n",
        "\n",
        "tree = {\n",
        "    1: [2, 3],\n",
        "    2: [4, 5],\n",
        "    3: [],\n",
        "    4: [],\n",
        "    5: []\n",
        "}\n",
        "\n",
        "bfs_level(tree, 1)"
      ],
      "metadata": {
        "id": "W78Lg7QCtBsA"
      },
      "execution_count": null,
      "outputs": []
    },
    {
      "cell_type": "markdown",
      "source": [
        "<p><strong>설명</strong>: BFS는 트리의 각 노드의 레벨을 계산하는 데 적합합니다. 큐에 노드와 레벨을 함께 저장하여, 이웃 노드를 탐색할 때마다 레벨을 증가시킵니다.</p>"
      ],
      "metadata": {
        "id": "LdIm__yUtLvH"
      }
    },
    {
      "cell_type": "markdown",
      "source": [
        "<h3><strong>문제 5: BFS로 그래프의 사이클 탐지</strong></h3>\n",
        "<p>BFS를 사용해 그래프에서 사이클이 있는지 탐지하세요.</p>\n",
        "<pre class=\"!overflow-visible\"><div class=\"dark bg-gray-950 contain-inline-size rounded-md border-[0.5px] border-token-border-medium relative\"><div class=\"flex items-center text-token-text-secondary bg-token-main-surface-secondary px-4 py-2 text-xs font-sans justify-between rounded-t-md h-9\">lua</div><div class=\"sticky top-9 md:top-[5.75rem]\"><div class=\"absolute bottom-0 right-2 flex h-9 items-center\"><div class=\"flex items-center rounded bg-token-main-surface-secondary px-2 font-sans text-xs text-token-text-secondary\"><span class=\"\" data-state=\"closed\"><button class=\"flex gap-1 items-center py-1\"><svg width=\"24\" height=\"24\" viewBox=\"0 0 24 24\" fill=\"none\" xmlns=\"http://www.w3.org/2000/svg\" class=\"icon-sm\"><path fill-rule=\"evenodd\" clip-rule=\"evenodd\" d=\"M7 5C7 3.34315 8.34315 2 10 2H19C20.6569 2 22 3.34315 22 5V14C22 15.6569 20.6569 17 19 17H17V19C17 20.6569 15.6569 22 14 22H5C3.34315 22 2 20.6569 2 19V10C2 8.34315 3.34315 7 5 7H7V5ZM9 7H14C15.6569 7 17 8.34315 17 10V15H19C19.5523 15 20 14.5523 20 14V5C20 4.44772 19.5523 4 19 4H10C9.44772 4 9 4.44772 9 5V7ZM5 9C4.44772 9 4 9.44772 4 10V19C4 19.5523 4.44772 20 5 20H14C14.5523 20 15 19.5523 15 19V10C15 9.44772 14.5523 9 14 9H5Z\" fill=\"currentColor\"></path></svg>코드 복사</button></span></div></div></div><div class=\"overflow-y-auto p-4\" dir=\"ltr\"><code class=\"!whitespace-pre hljs language-lua\"><span class=\"hljs-number\">1</span> <span class=\"hljs-comment\">-- 2</span>\n",
        "|    |\n",
        "<span class=\"hljs-number\">3</span> <span class=\"hljs-comment\">-- 4</span>\n",
        "</code></div></div></pre>"
      ],
      "metadata": {
        "id": "jcdwk3fetMwy"
      }
    },
    {
      "cell_type": "code",
      "source": [
        "from collections import deque\n",
        "\n",
        "def bfs_cycle(graph, start):\n",
        "    visited = set()\n",
        "    queue = deque([(start, None)])  # (노드, 부모) 쌍을 저장\n",
        "\n",
        "    while queue:\n",
        "        node, parent = queue.popleft()\n",
        "        visited.add(node)\n",
        "\n",
        "        for neighbor in graph[node]:\n",
        "            if neighbor not in visited:\n",
        "                queue.append((neighbor, node))\n",
        "            elif neighbor != parent:  # 부모 노드가 아닌데 방문한 노드면 사이클 존재\n",
        "                return True\n",
        "\n",
        "    return False\n",
        "\n",
        "graph = {\n",
        "    1: [2, 3],\n",
        "    2: [1, 4],\n",
        "    3: [1],\n",
        "    4: [2]\n",
        "}\n",
        "\n",
        "print(bfs_cycle(graph, 1))  # 예상 출력: True"
      ],
      "metadata": {
        "id": "mINHUvyMtmmN"
      },
      "execution_count": null,
      "outputs": []
    },
    {
      "cell_type": "markdown",
      "source": [
        "<p><strong>설명</strong>: BFS를 사용하여 사이클을 탐지하는 방법은 방문한 노드를 기억하고, 자식 노드에서 부모 노드가 아닌 노드를 다시 방문할 경우 사이클이 있다고 판단합니다.</p>"
      ],
      "metadata": {
        "id": "-eAoHymTuRYt"
      }
    },
    {
      "cell_type": "markdown",
      "source": [
        "<h3><strong>문제 6: BFS로 이진 트리에서 특정 레벨의 노드 출력</strong></h3>\n",
        "<p>BFS를 사용해 이진 트리의 특정 레벨에 있는 모든 노드를 출력하세요.</p>\n",
        "<pre class=\"!overflow-visible\"><div class=\"dark bg-gray-950 contain-inline-size rounded-md border-[0.5px] border-token-border-medium relative\"><div class=\"flex items-center text-token-text-secondary bg-token-main-surface-secondary px-4 py-2 text-xs font-sans justify-between rounded-t-md h-9\">markdown</div><div class=\"sticky top-9 md:top-[5.75rem]\"><div class=\"absolute bottom-0 right-2 flex h-9 items-center\"><div class=\"flex items-center rounded bg-token-main-surface-secondary px-2 font-sans text-xs text-token-text-secondary\"><span class=\"\" data-state=\"closed\"><button class=\"flex gap-1 items-center py-1\"><svg width=\"24\" height=\"24\" viewBox=\"0 0 24 24\" fill=\"none\" xmlns=\"http://www.w3.org/2000/svg\" class=\"icon-sm\"><path fill-rule=\"evenodd\" clip-rule=\"evenodd\" d=\"M7 5C7 3.34315 8.34315 2 10 2H19C20.6569 2 22 3.34315 22 5V14C22 15.6569 20.6569 17 19 17H17V19C17 20.6569 15.6569 22 14 22H5C3.34315 22 2 20.6569 2 19V10C2 8.34315 3.34315 7 5 7H7V5ZM9 7H14C15.6569 7 17 8.34315 17 10V15H19C19.5523 15 20 14.5523 20 14V5C20 4.44772 19.5523 4 19 4H10C9.44772 4 9 4.44772 9 5V7ZM5 9C4.44772 9 4 9.44772 4 10V19C4 19.5523 4.44772 20 5 20H14C14.5523 20 15 19.5523 15 19V10C15 9.44772 14.5523 9 14 9H5Z\" fill=\"currentColor\"></path></svg>코드 복사</button></span></div></div></div><div class=\"overflow-y-auto p-4\" dir=\"ltr\"><code class=\"!whitespace-pre hljs language-markdown\"><span class=\"hljs-code\">      1\n",
        "     / \\\n",
        "    2   3\n",
        "   / \\\n",
        "  4   5\n",
        "</span></code></div></div></pre>"
      ],
      "metadata": {
        "id": "mTjzhFJ1uSHe"
      }
    },
    {
      "cell_type": "code",
      "source": [
        "from collections import deque\n",
        "\n",
        "def bfs_print_level(tree, start, target_level):\n",
        "    queue = deque([(start, 0)])  # (노드, 현재 레벨) 쌍을 저장\n",
        "\n",
        "    while queue:\n",
        "        node, level = queue.popleft()\n",
        "\n",
        "        if level == target_level:  # 목표 레벨에 도달하면 출력\n",
        "            print(node, end=' ')\n",
        "\n",
        "        for neighbor in tree[node]:\n",
        "            queue.append((neighbor, level + 1))\n",
        "\n",
        "tree = {\n",
        "    1: [2, 3],\n",
        "    2: [4, 5],\n",
        "    3: [],\n",
        "    4: [],\n",
        "    5: []\n",
        "}\n",
        "\n",
        "bfs_print_level(tree, 1, 2)  # 예상 출력: 4 5"
      ],
      "metadata": {
        "id": "ae-v-bFHudWH"
      },
      "execution_count": null,
      "outputs": []
    }
  ]
}