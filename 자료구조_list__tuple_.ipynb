{
  "cells": [
    {
      "cell_type": "markdown",
      "metadata": {
        "id": "Ps4qr-cceFXZ"
      },
      "source": [
        "<h2 id=\"_1\">문자열은 어떻게 만들고 사용할까?</h2>\n",
        "<h3 id=\"1\">1. 큰따옴표로 양쪽 둘러싸기</h3>\n",
        "<pre><code class=\"language-python hljs md-csc-wrap\"><span class=\"hljs-string\">\"Hello World\"</span>\n",
        "</code></pre>\n",
        "<h3 id=\"2\">2. 작은따옴표로 양쪽 둘러싸기</h3>\n",
        "<pre><code class=\"language-python hljs md-csc-wrap\"><span class=\"hljs-string\">'Python is fun'</span>\n",
        "</code></pre>\n",
        "<h3 id=\"3-3\">3. 큰따옴표 3개를 연속으로 써서 양쪽 둘러싸기</h3>\n",
        "<pre><code class=\"language-python hljs md-csc-wrap\"><span class=\"hljs-string\">\"\"\"Life is too short, You need python\"\"\"</span>\n",
        "</code></pre>\n",
        "<h3 id=\"4-3\">4. 작은따옴표 3개를 연속으로 써서 양쪽 둘러싸기</h3>\n",
        "<pre><code class=\"language-python hljs md-csc-wrap\"><span class=\"hljs-string\">'''Life is too short, You need python'''</span>\n",
        "</code></pre>"
      ]
    },
    {
      "cell_type": "code",
      "execution_count": 43,
      "metadata": {},
      "outputs": [
        {
          "data": {
            "text/plain": [
              "'life is short , \"\\' %$&(\"\")'"
            ]
          },
          "execution_count": 43,
          "metadata": {},
          "output_type": "execute_result"
        }
      ],
      "source": [
        "string = \"\"\"\n",
        "life is short , \"' %$&(\"\")\n",
        "\"\"\"\n",
        "string\n"
      ]
    },
    {
      "cell_type": "markdown",
      "metadata": {
        "id": "2rHsz6L-fcwB"
      },
      "source": [
        "<p>단순함이 자랑인 파이썬이 문자열을 만드는 방법은 왜 4가지일까? 그 이유에 대해 알아보자.</p>\n",
        "<h2 id=\"_2\">문자열 안에 작은따옴표나 큰따옴표를 포함시키고 싶을 때</h2>\n",
        "<p>문자열을 만들어 주는 주인공은 작은따옴표(')와 큰따옴표(\")이다. 그런데 문자열 안에도 작은따옴표와 큰따옴표가 들어 있어야 할 경우가 있다. 이때는 좀 더 특별한 기술이 필요하다. 예제를 하나씩 살펴보면서 원리를 익혀 보자.</p>"
      ]
    },
    {
      "cell_type": "markdown",
      "metadata": {
        "id": "ThCMO7iEfoA4"
      },
      "source": [
        "<h3 id=\"1_1\">1. 문자열에 작은따옴표 포함하기</h3>\n",
        "<pre><code class=\"language-plaintext hljs md-csc-wrap\">Python's favorite food is perl\n",
        "</code></pre>\n",
        "<p>위와 같은 문자열을 food 변수에 저장하고 싶다고 가정해 보자. 문자열 중 Python's에 작은따옴표(')가 포함되어 있다.</p>\n",
        "<p>이 경우에는 문자열을 큰따옴표로 둘러싸야 한다. 큰따옴표 안에 들어 있는 작은따옴표는 문자열을 나타내기 위한 기호로 인식되지 않는다. 대화형 인터프리터를 열고 다음과 같이 입력해 보자.</p>\n",
        "<pre><code class=\"language-python hljs md-csc-wrap\"><span class=\"hljs-meta\">&gt;&gt;&gt; </span>food = <span class=\"hljs-string\">\"Python's favorite food is perl\"</span>\n",
        "</code></pre>"
      ]
    },
    {
      "cell_type": "code",
      "execution_count": null,
      "metadata": {
        "id": "DXXO-fIBgb7v"
      },
      "outputs": [],
      "source": []
    },
    {
      "cell_type": "markdown",
      "metadata": {
        "id": "XEXoaYLAgcps"
      },
      "source": [
        "<h3 id=\"2_1\">2. 문자열에 큰따옴표 포함하기</h3>\n",
        "<pre><code class=\"language-plaintext hljs md-csc-wrap\">\"Python is very easy.\" he says.\n",
        "</code></pre>\n",
        "<pre><code class=\"language-python hljs md-csc-wrap\"><span class=\"hljs-meta\">&gt;&gt;&gt; </span>say = <span class=\"hljs-string\">'\"Python is very easy.\" he says.'</span>\n",
        "</code></pre>\n"
      ]
    },
    {
      "cell_type": "code",
      "execution_count": null,
      "metadata": {
        "id": "6lyKgq8bhGYg"
      },
      "outputs": [],
      "source": []
    },
    {
      "cell_type": "markdown",
      "metadata": {
        "id": "grd6-qghhG4k"
      },
      "source": [
        "<h3 id=\"3\">3. 역슬래시를 사용해서 작은따옴표와 큰따옴표를 문자열에 포함하기</h3>\n",
        "<pre><code class=\"language-python hljs md-csc-wrap\"><span class=\"hljs-meta\">&gt;&gt;&gt; </span>food = <span class=\"hljs-string\">'Python\\'s favorite food is perl'</span>\n",
        "<span class=\"hljs-meta\">&gt;&gt;&gt; </span>say = <span class=\"hljs-string\">\"\\\"Python is very easy.\\\" he says.\"</span>\n",
        "</code></pre>"
      ]
    },
    {
      "cell_type": "code",
      "execution_count": null,
      "metadata": {
        "id": "P5dxLyZthTpq"
      },
      "outputs": [],
      "source": []
    },
    {
      "cell_type": "markdown",
      "metadata": {
        "id": "gYbC_oedhb9c"
      },
      "source": [
        "<h2 id=\"_3\">여러 줄인 문자열을 변수에 대입하고 싶을 때</h2>\n",
        "<p>문자열이 항상 한 줄짜리만 있는 것은 아니다. 다음과 같은 여러 줄의 문자열을 변수에 대입하려면 어떻게 해야 할까?</p>\n",
        "<pre><code class=\"language-plaintext hljs md-csc-wrap\">Life is too short\n",
        "You need python\n",
        "</code></pre>\n",
        "<h3 id=\"1-n\">1. 줄을 바꾸기 위한 이스케이프 코드 <code>\\n</code> 삽입하기</h3>\n",
        "<pre><code class=\"language-python hljs md-csc-wrap\"><span class=\"hljs-meta\">&gt;&gt;&gt; </span>multiline = <span class=\"hljs-string\">\"Life is too short\\nYou need python\"</span>\n",
        "</code></pre>\n",
        "<p>위 예처럼 줄바꿈 문자인 <code>\\n</code>을 삽입하는 방법이 있지만, 읽기가 불편하고 줄이 길어지는 단점이 있다.</p>"
      ]
    },
    {
      "cell_type": "code",
      "execution_count": null,
      "metadata": {
        "id": "LU9SpIaPh0lf"
      },
      "outputs": [],
      "source": []
    },
    {
      "cell_type": "markdown",
      "metadata": {
        "id": "0qES9vw2h1JJ"
      },
      "source": [
        "<h3 id=\"2-3-3\">2. 연속된 작은따옴표 3개 또는 큰따옴표 3개 사용하기</h3>\n",
        "<p>1번 방법의 단점을 극복하기 위해 파이썬에서는 다음과 같이 작은따옴표 3개(''') 또는 큰따옴표 3개(\"\"\")를 사용한다.</p>\n",
        "<pre><code class=\"language-python hljs md-csc-wrap\"><span class=\"hljs-meta\">&gt;&gt;&gt; </span>multiline=<span class=\"hljs-string\">'''\n",
        "<span class=\"hljs-meta\">... </span>Life is too short\n",
        "<span class=\"hljs-meta\">... </span>You need python\n",
        "<span class=\"hljs-meta\">... </span>'''</span>\n",
        "</code></pre>"
      ]
    },
    {
      "cell_type": "code",
      "execution_count": null,
      "metadata": {
        "id": "lxF_4MxQib12"
      },
      "outputs": [],
      "source": []
    },
    {
      "cell_type": "markdown",
      "metadata": {
        "id": "PWvSU4Czipxh"
      },
      "source": [
        "<fieldset><legend>점프 투 파이썬</legend>\n",
        "<strong>이스케이프 코드란?</strong><p></p><div>\n",
        "        \n",
        "    </div>\n",
        "<p>문자열 예제에서 여러 줄의 문장을 처리할 때 역슬래시 문자와 소문자 n을 조합한 <code>\\n</code> 이스케이프 코드를 사용했다. 이스케이프(escape) 코드란 프로그래밍할 때 사용할 수 있도록 미리 정의해 둔 ‘문자 조합’을 말한다. 주로 출력물을 보기 좋게 정렬하는 용도로 사용한다. 몇 가지 이스케이프 코드를 정리하면 다음과 같다.</p>\n",
        "<table>\n",
        "<thead>\n",
        "<tr>\n",
        "<th>코드</th>\n",
        "<th>설명</th>\n",
        "</tr>\n",
        "</thead>\n",
        "<tbody>\n",
        "<tr>\n",
        "<td><code>\\n</code></td>\n",
        "<td>문자열 안에서 줄을 바꿀 때 사용</td>\n",
        "</tr>\n",
        "<tr>\n",
        "<td><code>\\t</code></td>\n",
        "<td>문자열 사이에 탭 간격을 줄 때 사용</td>\n",
        "</tr>\n",
        "<tr>\n",
        "<td><code>\\\\</code></td>\n",
        "<td><code>\\</code>를 그대로 표현할 때 사용</td>\n",
        "</tr>\n",
        "<tr>\n",
        "<td><code>\\'</code></td>\n",
        "<td>작은따옴표(')를 그대로 표현할 때 사용</td>\n",
        "</tr>\n",
        "<tr>\n",
        "<td><code>\\\"</code></td>\n",
        "<td>큰따옴표(\")를 그대로 표현할 때 사용</td>\n",
        "</tr>\n",
        "<tr>\n",
        "<td><code>\\r</code></td>\n",
        "<td>캐리지 리턴(줄 바꿈 문자, 커서를 현재 줄의 가장 앞으로 이동)</td>\n",
        "</tr>\n",
        "<tr>\n",
        "<td><code>\\f</code></td>\n",
        "<td>폼 피드(줄 바꿈 문자, 커서를 현재 줄의 다음 줄로 이동)</td>\n",
        "</tr>\n",
        "<tr>\n",
        "<td><code>\\a</code></td>\n",
        "<td>벨 소리(출력할 때 PC 스피커에서 '삑' 소리가 난다)</td>\n",
        "</tr>\n",
        "<tr>\n",
        "<td><code>\\b</code></td>\n",
        "<td>백 스페이스</td>\n",
        "</tr>\n",
        "<tr>\n",
        "<td><code>\\000</code></td>\n",
        "<td>널 문자</td>\n",
        "</tr>\n",
        "</tbody>\n",
        "</table>\n",
        "<p>이 중에서 활용 빈도가 높은 것은 <code>\\n</code>, <code>\\t</code>, <code>\\\\</code>, <code>\\'</code>, <code>\\\"</code>이다. 나머지는 프로그램에서 잘 사용하지 않는다.\n",
        "</p></fieldset>"
      ]
    },
    {
      "cell_type": "code",
      "execution_count": null,
      "metadata": {
        "id": "82lDNUKbirvI"
      },
      "outputs": [],
      "source": []
    },
    {
      "cell_type": "markdown",
      "metadata": {
        "id": "UfOpmuTTg7e1"
      },
      "source": [
        "<h1 id=\"yui_3_17_2_1_1726633024452_30\"> 리스트 사용하기</h1>\n",
        "<p id=\"yui_3_17_2_1_1726633024452_36\">지금까지 변수에는 값을 한 개씩만 저장했습니다.</p>\n",
        "<div class=\"hlcode\">\n",
        "    <div class=\"syntax\">\n",
        "        <pre><span></span><span class=\"n\">a</span> <span class=\"o\">=</span> <span class=\"mi\">10</span>\n",
        "<span class=\"n\">b</span> <span class=\"o\">=</span> <span class=\"mi\">20</span>\n",
        "</pre>\n",
        "    </div>\n",
        "</div>\n",
        "<p>그럼 값을 30개 저장하려면 어떻게 해야 할까요? 다음과 같이 변수 30개에 값 30개를 저장하면 됩니다.</p>\n",
        "<div class=\"hlcode\">\n",
        "    <div class=\"syntax\">\n",
        "        <pre><span></span><span class=\"n\">a1</span> <span class=\"o\">=</span> <span class=\"mi\">10</span>\n",
        "<span class=\"n\">a2</span> <span class=\"o\">=</span> <span class=\"mi\">20</span>\n",
        "<span class=\"c1\"># ... (생략)</span>\n",
        "<span class=\"n\">a29</span> <span class=\"o\">=</span> <span class=\"mi\">60</span>\n",
        "<span class=\"n\">a30</span> <span class=\"o\">=</span> <span class=\"mi\">40</span>\n",
        "</pre>\n",
        "    </div>\n",
        "</div>\n",
        "<p>변수 30개를 일일이 타이핑하기는 쉽지 않습니다. 만약 저장할 값이 3,000개라면 정말 끔찍하죠? 이때는 리스트를 사용하면 편리합니다. 리스트는 말 그대로 목록이라는 뜻이며 값을 일렬로 늘어놓은 형태입니다(보통 리스트의 값은 코드로 생성하는 경우가 많아서 타이핑할 일이 거의 없습니다).</p>"
      ]
    },
    {
      "cell_type": "markdown",
      "metadata": {
        "id": "EcbeUUgYX6pz"
      },
      "source": [
        "<h2 class=\"section\"> 리스트 만들기<p>변수 30개를 일일이 타이핑하기는 쉽지 않습니다. 만약 저장할 값이 3,000개라면 정말 끔찍하죠? 이때는 리스트를 사용하면 편리합니다. 리스트는 말 그대로 목록이라는 뜻이며 값을 일렬로 늘어놓은 형태입니다(보통 리스트의 값은 코드로 생성하는 경우가 많아서 타이핑할 일이 거의 없습니다).</p></h2>\n",
        "<p>변수에 값을 저장할 때 <b><span class=\"cdio-codei\">[ ]</span></b>(대괄호)로 묶어주면 리스트가 되며 각 값은 <b><span class=\"cdio-codei\">,</span></b>(콤마)로 구분해줍니다.\n",
        "</p>\n",
        "<ul class=\"cdio-ul\">\n",
        "    <li><b><span class=\"cdio-codei\">리스트 = [값, 값, 값]</span></b></li>\n",
        "</ul>\n",
        "<div class=\"hlcode\">\n",
        "    <div class=\"syntax\">\n",
        "        <pre><span></span><span class=\"o\">&gt;&gt;&gt;</span> <span class=\"n\">a</span> <span class=\"o\">=</span> <span class=\"p\">[</span><span class=\"mi\">38</span><span class=\"p\">,</span> <span class=\"mi\">21</span><span class=\"p\">,</span> <span class=\"mi\">53</span><span class=\"p\">,</span> <span class=\"mi\">62</span><span class=\"p\">,</span> <span class=\"mi\">19</span><span class=\"p\">]</span>\n",
        "<span class=\"o\">&gt;&gt;&gt;</span> <span class=\"n\">a</span>\n",
        "<span class=\"p\">[</span><span class=\"mi\">38</span><span class=\"p\">,</span> <span class=\"mi\">21</span><span class=\"p\">,</span> <span class=\"mi\">53</span><span class=\"p\">,</span> <span class=\"mi\">62</span><span class=\"p\">,</span> <span class=\"mi\">19</span><span class=\"p\">]</span>\n",
        "</pre>\n",
        "    </div>\n",
        "</div>\n",
        "<p><span class=\"cdio-codei\">a = [38, 21, 53, 62, 19]</span>와 같이 변수에 <span class=\"cdio-codei\">[ ]</span>로 값을 저장하여 리스트를 만들었습니다. 특히 리스트에 저장된 각 값 요소(element)라고 부릅니다. 이 단어를 잘 기억해두세요.</p>"
      ]
    },
    {
      "cell_type": "code",
      "execution_count": null,
      "metadata": {
        "id": "twskcZ8yYeps"
      },
      "outputs": [],
      "source": []
    },
    {
      "cell_type": "markdown",
      "metadata": {
        "id": "LDGUK6ccYfKD"
      },
      "source": [
        "<h3 style=\"mso-list: l75 level3 lfo167;\">리스트에 여러 가지 자료형 저장하기</h3>\n",
        "<p>리스트는 문자열, 정수, 실수, 불 등 모든 자료형을 저장할 수 있으며 자료형을 섞어서 저장해도 됩니다(불 자료형은 'Unit 8 불과 비교, 논리 연산자 알아보기'에서 설명하겠습니다).\n",
        "</p>\n",
        "<div class=\"hlcode\">\n",
        "    <div class=\"syntax\">\n",
        "        <pre><span></span><span class=\"o\">&gt;&gt;&gt;</span> <span class=\"n\">person</span> <span class=\"o\">=</span> <span class=\"p\">[</span><span class=\"s1\">'james'</span><span class=\"p\">,</span> <span class=\"mi\">17</span><span class=\"p\">,</span> <span class=\"mf\">175.3</span><span class=\"p\">,</span> <span class=\"bp\">True</span><span class=\"p\">]</span>\n",
        "<span class=\"o\">&gt;&gt;&gt;</span> <span class=\"n\">person</span>\n",
        "<span class=\"p\">[</span><span class=\"s1\">'james'</span><span class=\"p\">,</span> <span class=\"mi\">17</span><span class=\"p\">,</span> <span class=\"mf\">175.3</span><span class=\"p\">,</span> <span class=\"bp\">True</span><span class=\"p\">]</span>\n",
        "</pre>\n",
        "    </div>\n",
        "</div>\n",
        "<p>이처럼 리스트에 여러 가지 자료형을 사용하면 관련 정보를 하나로 묶기 좋습니다.</p>\n",
        "<section class=\"cdio-tipbox\">\n",
        "    <div><span class=\"type\">에러</span></div>\n",
        "    <p class=\"a2\"><span class=\"cdio-codei\">SyntaxError: invalid syntax</span>: <span class=\"cdio-codei\">[ ]</span>의 짝이 맞지 않거나 각 값을 구분할 때 <span class=\"cdio-codei\">,</span>를 넣지 않아서 발생하는 구문 에러입니다. <span class=\"cdio-codei\">[ ]</span>의 짝이 맞는지, <span class=\"cdio-codei\">,</span>를\n",
        "        빠뜨리지 않았는지 확인해주세요.</p>\n",
        "</section>"
      ]
    },
    {
      "cell_type": "code",
      "execution_count": null,
      "metadata": {
        "id": "rRhr_az-Y5r5"
      },
      "outputs": [],
      "source": []
    },
    {
      "cell_type": "markdown",
      "metadata": {
        "id": "zQs_3XEhZGQ_"
      },
      "source": [
        "<h3 style=\"mso-list: l75 level3 lfo167;\">빈 리스트 만들기</h3>\n",
        "<p>빈 리스트를 만들 때는 <span class=\"cdio-codei\">[ ]</span>만 지정하거나 <span class=\"cdio-codei\">list</span>를 사용하면 됩니다.</p>\n",
        "<ul class=\"cdio-ul\">\n",
        "    <li><b><span class=\"cdio-codei\">리스트 = []</span></b></li>\n",
        "    <li><b><span class=\"cdio-codei\">리스트 = list()</span></b><b></b></li>\n",
        "</ul>\n",
        "<div class=\"hlcode\">\n",
        "    <div class=\"syntax\">\n",
        "        <pre><span></span><span class=\"o\">&gt;&gt;&gt;</span> <span class=\"n\">a</span> <span class=\"o\">=</span> <span class=\"p\">[]</span>\n",
        "<span class=\"o\">&gt;&gt;&gt;</span> <span class=\"n\">a</span>\n",
        "<span class=\"p\">[]</span>\n",
        "<span class=\"o\">&gt;&gt;&gt;</span> <span class=\"n\">b</span> <span class=\"o\">=</span> <span class=\"nb\">list</span><span class=\"p\">()</span>\n",
        "<span class=\"o\">&gt;&gt;&gt;</span> <span class=\"n\">b</span>\n",
        "<span class=\"p\">[]</span>\n",
        "</pre>\n",
        "    </div>\n",
        "</div>"
      ]
    },
    {
      "cell_type": "code",
      "execution_count": 44,
      "metadata": {
        "id": "ppiVRPkOZoeD"
      },
      "outputs": [
        {
          "data": {
            "text/plain": [
              "list"
            ]
          },
          "execution_count": 44,
          "metadata": {},
          "output_type": "execute_result"
        }
      ],
      "source": [
        "a = list((1,2))\n",
        "type(a)"
      ]
    },
    {
      "cell_type": "markdown",
      "metadata": {
        "id": "_8rJn8tZZx6Y"
      },
      "source": [
        "<h3 style=\"mso-list: l75 level3 lfo167;\">range를 사용하여 리스트 만들기</h3>\n",
        "<p>이번에는 <span class=\"cdio-codei\">range</span>를 사용하여 리스트를 만들어보겠습니다. <span class=\"cdio-codei\">range</span>는 연속된 숫자를 생성하는데 <span class=\"cdio-codei\">range</span>에 10을 지정하면 0부터 9까지 숫자를 생성합니다. 즉, 지정한 횟수 숫자는 생성되는 숫자에 포함되지 않습니다.</p>\n",
        "<ul class=\"cdio-ul\">\n",
        "    <li><b><span class=\"cdio-codei\">range(</span></b><b><span class=\"cdio-codei\">횟수)</span></b></li>\n",
        "</ul>\n",
        "<div class=\"hlcode\">\n",
        "    <div class=\"syntax\">\n",
        "        <pre><span></span><span class=\"o\">&gt;&gt;&gt;</span> <span class=\"nb\">range</span><span class=\"p\">(</span><span class=\"mi\">10</span><span class=\"p\">)</span>\n",
        "<span class=\"nb\">range</span><span class=\"p\">(</span><span class=\"mi\">0</span><span class=\"p\">,</span> <span class=\"mi\">10</span><span class=\"p\">)</span>\n",
        "</pre>\n",
        "    </div>\n",
        "</div>"
      ]
    },
    {
      "cell_type": "code",
      "execution_count": 46,
      "metadata": {
        "id": "ZNcI2m2VaF1K"
      },
      "outputs": [
        {
          "data": {
            "text/plain": [
              "[0, 1, 2, 3, 4, 5, 6, 7, 8, 9]"
            ]
          },
          "execution_count": 46,
          "metadata": {},
          "output_type": "execute_result"
        }
      ],
      "source": [
        "a = list(range(10))\n",
        "a"
      ]
    },
    {
      "cell_type": "markdown",
      "metadata": {
        "id": "eHlbQrUhaGWq"
      },
      "source": [
        "<p id=\"yui_3_17_2_1_1726633024452_37\"><span class=\"cdio-codei\">range(0, 10)</span>이라고 나와서 10까지 생성될 것 같지만 10은 포함되지 않습니다. 다음과 같이 <span class=\"cdio-codei\">list</span>에 <span class=\"cdio-codei\">range(10)</span>을 넣어보면 0부터 9까지 들어있는 리스트가 생성됩니다.</p>\n",
        "<ul class=\"cdio-ul\">\n",
        "    <li><b><span class=\"cdio-codei\">리스트 = list(range(횟수))</span></b></li>\n",
        "</ul>\n",
        "<div class=\"hlcode\">\n",
        "    <div class=\"syntax\">\n",
        "        <pre><span></span><span class=\"o\">&gt;&gt;&gt;</span> <span class=\"n\">a</span> <span class=\"o\">=</span> <span class=\"nb\">list</span><span class=\"p\">(</span><span class=\"nb\">range</span><span class=\"p\">(</span><span class=\"mi\">10</span><span class=\"p\">))</span>\n",
        "<span class=\"o\">&gt;&gt;&gt;</span> <span class=\"n\">a</span>\n",
        "<span class=\"p\">[</span><span class=\"mi\">0</span><span class=\"p\">,</span> <span class=\"mi\">1</span><span class=\"p\">,</span> <span class=\"mi\">2</span><span class=\"p\">,</span> <span class=\"mi\">3</span><span class=\"p\">,</span> <span class=\"mi\">4</span><span class=\"p\">,</span> <span class=\"mi\">5</span><span class=\"p\">,</span> <span class=\"mi\">6</span><span class=\"p\">,</span> <span class=\"mi\">7</span><span class=\"p\">,</span> <span class=\"mi\">8</span><span class=\"p\">,</span> <span class=\"mi\">9</span><span class=\"p\">]</span>\n",
        "</pre>\n",
        "    </div>\n",
        "</div>\n"
      ]
    },
    {
      "cell_type": "code",
      "execution_count": null,
      "metadata": {
        "id": "ffdsBS25aWVd"
      },
      "outputs": [],
      "source": []
    },
    {
      "cell_type": "markdown",
      "metadata": {
        "id": "CgARIe5CaW53"
      },
      "source": [
        "<p><span class=\"cdio-codei\">range</span>는 시작하는 숫자와 끝나는 숫자를 지정할 수도 있습니다. 이때도 끝나는 숫자는 생성되는 숫자에 포함되지 않습니다. 즉, <span class=\"cdio-codei\">list</span>에\n",
        "    <span class=\"cdio-codei\">range(5, 12)</span>를 넣으면 5부터 11까지 들어있는 리스트가 생성됩니다.<b><span class=\"cdio-codei\"></span></b></p>\n",
        "    <ul class=\"cdio-ul\">\n",
        "    <li><b><span class=\"cdio-codei\">리스트 = list(range(시작, 끝))</span></b></li>\n",
        "</ul>\n",
        "<div class=\"hlcode\">\n",
        "    <div class=\"syntax\">\n",
        "        <pre><span></span><span class=\"o\">&gt;&gt;&gt;</span> <span class=\"n\">b</span> <span class=\"o\">=</span> <span class=\"nb\">list</span><span class=\"p\">(</span><span class=\"nb\">range</span><span class=\"p\">(</span><span class=\"mi\">5</span><span class=\"p\">,</span> <span class=\"mi\">12</span><span class=\"p\">))</span>\n",
        "<span class=\"o\">&gt;&gt;&gt;</span> <span class=\"n\">b</span>\n",
        "<span class=\"p\">[</span><span class=\"mi\">5</span><span class=\"p\">,</span> <span class=\"mi\">6</span><span class=\"p\">,</span> <span class=\"mi\">7</span><span class=\"p\">,</span> <span class=\"mi\">8</span><span class=\"p\">,</span> <span class=\"mi\">9</span><span class=\"p\">,</span> <span class=\"mi\">10</span><span class=\"p\">,</span> <span class=\"mi\">11</span><span class=\"p\">]</span>\n",
        "</pre>\n",
        "    </div>\n",
        "</div>"
      ]
    },
    {
      "cell_type": "code",
      "execution_count": 49,
      "metadata": {
        "id": "rRrSAO2NanlP"
      },
      "outputs": [
        {
          "data": {
            "text/plain": [
              "[5, 7, 9, 11, 13]"
            ]
          },
          "execution_count": 49,
          "metadata": {},
          "output_type": "execute_result"
        }
      ],
      "source": [
        "a = list(range(5,15,2))\n",
        "a"
      ]
    },
    {
      "cell_type": "markdown",
      "metadata": {
        "id": "L9VF487yaoVf"
      },
      "source": [
        "<p>이번에는 증가폭을 사용하는 방법입니다. <span class=\"cdio-codei\">range</span>에 증가폭을 지정하면 해당 값만큼 증가하면서 숫자를 생성합니다.<b><span class=\"cdio-codei\"></span></b></p>\n",
        "<ul class=\"cdio-ul\">\n",
        "    <li><b><span class=\"cdio-codei\">리스트 = list(range(시작, 끝, 증가폭))</span></b></li>\n",
        "</ul>\n",
        "<div class=\"hlcode\">\n",
        "    <div class=\"syntax\">\n",
        "        <pre><span></span><span class=\"o\">&gt;&gt;&gt;</span> <span class=\"n\">c</span> <span class=\"o\">=</span> <span class=\"nb\">list</span><span class=\"p\">(</span><span class=\"nb\">range</span><span class=\"p\">(</span><span class=\"o\">-</span><span class=\"mi\">4</span><span class=\"p\">,</span> <span class=\"mi\">10</span><span class=\"p\">,</span> <span class=\"mi\">2</span><span class=\"p\">))</span>\n",
        "<span class=\"o\">&gt;&gt;&gt;</span> <span class=\"n\">c</span>\n",
        "<span class=\"p\">[</span><span class=\"o\">-</span><span class=\"mi\">4</span><span class=\"p\">,</span> <span class=\"o\">-</span><span class=\"mi\">2</span><span class=\"p\">,</span> <span class=\"mi\">0</span><span class=\"p\">,</span> <span class=\"mi\">2</span><span class=\"p\">,</span> <span class=\"mi\">4</span><span class=\"p\">,</span> <span class=\"mi\">6</span><span class=\"p\">,</span> <span class=\"mi\">8</span><span class=\"p\">]</span>\n",
        "</pre>\n",
        "    </div>\n",
        "</div>"
      ]
    },
    {
      "cell_type": "code",
      "execution_count": 52,
      "metadata": {
        "id": "uIvSKqi0a9Jh"
      },
      "outputs": [
        {
          "data": {
            "text/plain": [
              "[0, 1, 2, 3, 4, 5, 6, 7, 8, 9, 10, 11]"
            ]
          },
          "execution_count": 52,
          "metadata": {},
          "output_type": "execute_result"
        }
      ],
      "source": [
        "a = list(range(12))\n",
        "a"
      ]
    },
    {
      "cell_type": "markdown",
      "metadata": {
        "id": "ILwAj9B1a9vu"
      },
      "source": [
        "<p>만약 증가폭을 음수로 지정하면 해당 값만큼 숫자가 감소합니다.</p>\n",
        "<div class=\"hlcode\">\n",
        "    <div class=\"syntax\">\n",
        "        <pre><span></span><span class=\"o\">&gt;&gt;&gt;</span> <span class=\"n\">d</span> <span class=\"o\">=</span> <span class=\"nb\">list</span><span class=\"p\">(</span><span class=\"nb\">range</span><span class=\"p\">(</span><span class=\"mi\">10</span><span class=\"p\">,</span> <span class=\"mi\">0</span><span class=\"p\">,</span> <span class=\"o\">-</span><span class=\"mi\">1</span><span class=\"p\">))</span>\n",
        "<span class=\"o\">&gt;&gt;&gt;</span> <span class=\"n\">d</span>\n",
        "<span class=\"p\">[</span><span class=\"mi\">10</span><span class=\"p\">,</span> <span class=\"mi\">9</span><span class=\"p\">,</span> <span class=\"mi\">8</span><span class=\"p\">,</span> <span class=\"mi\">7</span><span class=\"p\">,</span> <span class=\"mi\">6</span><span class=\"p\">,</span> <span class=\"mi\">5</span><span class=\"p\">,</span> <span class=\"mi\">4</span><span class=\"p\">,</span> <span class=\"mi\">3</span><span class=\"p\">,</span> <span class=\"mi\">2</span><span class=\"p\">,</span> <span class=\"mi\">1</span><span class=\"p\">]</span>\n",
        "</pre>\n",
        "    </div>\n",
        "</div>"
      ]
    },
    {
      "cell_type": "code",
      "execution_count": null,
      "metadata": {
        "id": "pOO2dqRMbFOR"
      },
      "outputs": [],
      "source": []
    },
    {
      "cell_type": "markdown",
      "metadata": {
        "id": "7l8h8zLyDRRS"
      },
      "source": [
        "<h3 id=\"-append\">리스트에 요소 추가하기 - append</h3>\n",
        "<p>append의 사전적 의미는 ‘덧붙이다, 첨부하다’이다. 이 뜻을 안다면 다음 예가 바로 이해될 것이다. append(x)는 리스트의 맨 마지막에 x를 추가하는 함수이다.</p>\n",
        "<pre><code class=\"language-python hljs md-csc-wrap\"><span class=\"hljs-meta\">&gt;&gt;&gt; </span>a = [<span class=\"hljs-number\">1</span>, <span class=\"hljs-number\">2</span>, <span class=\"hljs-number\">3</span>]\n",
        "<span class=\"hljs-meta\">&gt;&gt;&gt; </span>a.append(<span class=\"hljs-number\">4</span>)\n",
        "<span class=\"hljs-meta\">&gt;&gt;&gt; </span>a\n",
        "[<span class=\"hljs-number\">1</span>, <span class=\"hljs-number\">2</span>, <span class=\"hljs-number\">3</span>, <span class=\"hljs-number\">4</span>]\n",
        "</code></pre>"
      ]
    },
    {
      "cell_type": "code",
      "execution_count": 50,
      "metadata": {
        "id": "Ix7yMB38Dtny"
      },
      "outputs": [
        {
          "data": {
            "text/plain": [
              "[1, 2, 3, 4]"
            ]
          },
          "execution_count": 50,
          "metadata": {},
          "output_type": "execute_result"
        }
      ],
      "source": [
        "a = [1,2,3]\n",
        "a.append(4)\n",
        "a"
      ]
    },
    {
      "cell_type": "markdown",
      "metadata": {
        "id": "cu3kIHkzFdBf"
      },
      "source": [
        "<h2>인덱스 사용하기</h2>\n",
        "<p id=\"yui_3_17_2_1_1726645349970_30\">이번에는 시퀀스 객체에 들어있는 요소에 접근하는 방법을 알아보겠습니다. 시퀀스 객체의 각 요소는 순서가 정해져 있으며, 이 순서를 인덱스라고 부릅니다.</p>\n",
        "<p>다음과 같이 시퀀스 객체에 <span class=\"cdio-codei\">[ ]</span>(대괄호)를 붙이고 <span class=\"cdio-codei\">[ ] </span>안에 각 요소의 인덱스를 지정하면 해당 요소에 접근할 수 있습니다.</p>\n",
        "<ul class=\"cdio-ul\">\n",
        "    <li><b><span class=\"cdio-codei\">시퀀스객체[인덱스]</span></b></li>\n",
        "</ul>\n",
        "<div class=\"hlcode\">\n",
        "    <div class=\"syntax\">\n",
        "        <pre><span></span><span class=\"o\">&gt;&gt;&gt;</span> <span class=\"n\">a</span> <span class=\"o\">=</span> <span class=\"p\">[</span><span class=\"mi\">38</span><span class=\"p\">,</span> <span class=\"mi\">21</span><span class=\"p\">,</span> <span class=\"mi\">53</span><span class=\"p\">,</span> <span class=\"mi\">62</span><span class=\"p\">,</span> <span class=\"mi\">19</span><span class=\"p\">]</span>\n",
        "<span class=\"o\">&gt;&gt;&gt;</span> <span class=\"n\">a</span><span class=\"p\">[</span><span class=\"mi\">0</span><span class=\"p\">]</span>&nbsp;&nbsp;&nbsp; <span class=\"c1\"># 리스트의 첫 번째(인덱스 0) 요소 출력</span>\n",
        "<span class=\"mi\">38</span>\n",
        "<span class=\"o\">&gt;&gt;&gt;</span> <span class=\"n\">a</span><span class=\"p\">[</span><span class=\"mi\">2</span><span class=\"p\">]</span>&nbsp;&nbsp;&nbsp; <span class=\"c1\"># 리스트의 세 번째(인덱스 2) 요소 출력</span>\n",
        "<span class=\"mi\">53</span>\n",
        "<span class=\"o\">&gt;&gt;&gt;</span> <span class=\"n\">a</span><span class=\"p\">[</span><span class=\"mi\">4</span><span class=\"p\">]</span>&nbsp;&nbsp;&nbsp; <span class=\"c1\"># 리스트의 다섯 번째(인덱스 4) 요소 출력</span>\n",
        "<span class=\"mi\">19</span>\n",
        "</pre>\n",
        "    </div>\n",
        "</div>"
      ]
    },
    {
      "cell_type": "code",
      "execution_count": null,
      "metadata": {
        "id": "zyEk7s20F_tx"
      },
      "outputs": [],
      "source": []
    },
    {
      "cell_type": "markdown",
      "metadata": {
        "id": "b_anO_I3GTir"
      },
      "source": [
        "<h2 class=\"title-article\">파이썬 리스트 콜론<span id=\"DragSchLayerPos\" style=\"position: absolute; width: 0px; height: 0px; font-size: 0px;\"></span>, [ : ] 슬라이싱 ( List Slicing )</h2>\n",
        "<p style=\"font-size: 1.25em;\"><b>리스트에서 원하는 부분을<span id=\"DragSchLayerPos\" style=\"position: absolute; width: 0px; height: 0px; font-size: 0px;\"></span> 추출(슬라이싱) 하기</b></p>\n",
        "<p>파이썬 리스트(python list)에서 원하는 부분을 추출(슬라이싱) 하기 위해서는 인덱스의 숫자를 적어준다.</p>\n",
        "<p>다음 예제를 보면, 콜론&nbsp; :&nbsp; 앞과 뒤에 숫자를 써준다.</p>\n",
        "<p>앞에 써주는 숫자는, 시작 인덱스(오프셋 offset) 를 나타낸다.</p>\n",
        "<p>뒤에 써주는 숫자는, 우리가 추출을 끝내려는 인덱스에 1을 더해준 값을 써주면 된다.</p>\n",
        "<p>중요!</p>\n",
        "<p><b>콜론 왼쪽 숫자 = 우리가 추출하기 원하는<span id=\"DragSchLayerPos\" style=\"position: absolute; width: 0px; height: 0px; font-size: 0px;\"></span> 시작 인덱스&nbsp;</b></p>\n",
        "<p><b>콜론 오른쪽에 써주는 숫자 = 우리가 추출하기 원하는 끝 인덱스 + 1&nbsp;</b></p>"
      ]
    },
    {
      "cell_type": "markdown",
      "metadata": {
        "id": "SR5tljKtHQEl"
      },
      "source": [
        "<figure class=\"imageblock alignLeft\" data-filename=\"스크린샷 2019-09-30 16.55.08.png\" width=\"761\" height=\"509\"><span data-url=\"https://blog.kakaocdn.net/dn/kwH1C/btqyGGCbaWM/mWvTmoRBJ8UIF7FxKg658k/img.png\" data-phocus=\"https://blog.kakaocdn.net/dn/kwH1C/btqyGGCbaWM/mWvTmoRBJ8UIF7FxKg658k/img.png\"><img src=\"https://blog.kakaocdn.net/dn/kwH1C/btqyGGCbaWM/mWvTmoRBJ8UIF7FxKg658k/img.png\" srcset=\"https://img1.daumcdn.net/thumb/R1280x0/?scode=mtistory2&amp;fname=https%3A%2F%2Fblog.kakaocdn.net%2Fdn%2FkwH1C%2FbtqyGGCbaWM%2FmWvTmoRBJ8UIF7FxKg658k%2Fimg.png\" data-filename=\"스크린샷 2019-09-30 16.55.08.png\" width=\"761\" height=\"509\" onerror=\"this.onerror=null; this.src='//t1.daumcdn.net/tistory_admin/static/images/no-image-v1.png'; this.srcset='//t1.daumcdn.net/tistory_admin/static/images/no-image-v1.png';\" data-phocus-index=\"0\"></span></figure>"
      ]
    },
    {
      "cell_type": "markdown",
      "metadata": {
        "id": "yeDWZBuhHUIk"
      },
      "source": [
        "<p>위에서 Nested List (중첩 리스트)에서도 원하는 값을 슬라이싱 (Slicing) 할 수 있다.&nbsp;</p>\n",
        "<p>6과 7을 가져오기 위해서,</p>\n",
        "<p>먼저 my_list[1] 로 접근하면, [ 3, 6, 7 ] 이 되고,</p>\n",
        "<p>여기서 6과 7만 가져와야 하므로, 6은 인덱스가 1이고, 7은 인덱스가 2 이므로,&nbsp;</p>\n",
        "<p>시작인덱스는 1 , 끝 인덱스는 2 + 1 = 3 으로 써주면 =&gt; my_list[ 1 ][ 1 : 3 ] 이렇게 된다.</p>"
      ]
    },
    {
      "cell_type": "markdown",
      "metadata": {
        "id": "MJnS4uCPHs63"
      },
      "source": [
        "<p style=\"font-size: 1.25em;\"><b>슬라이싱(추출) 문법은 다음과 같다. Nested<span id=\"DragSchLayerPos\" style=\"position: absolute; width: 0px; height: 0px; font-size: 0px;\"></span> List 예제도 포함.</b></p>\n",
        "<ul>\n",
        "<li>[:]&nbsp;처음부터&nbsp;끝까지</li>\n",
        "<li>[start:] start오프셋(인덱스)부터 끝까지</li>\n",
        "<li>[:end] 처음부터 end-1 오프셋(인덱스)까지&nbsp;</li>\n",
        "<li>[start : end] start오프셋부터 end-1 오프셋(인덱스)까지</li>\n",
        "<li>[start&nbsp;:&nbsp;end&nbsp;:&nbsp;step]&nbsp;step만큼&nbsp;문자를&nbsp;건너뛰면서,&nbsp;위와&nbsp;동일하게&nbsp;추출</li>\n",
        "</ul>\n"
      ]
    },
    {
      "cell_type": "code",
      "execution_count": 51,
      "metadata": {
        "id": "GjlQbolGH14Y"
      },
      "outputs": [
        {
          "data": {
            "text/plain": [
              "[1, 2, 3, 4, 5]"
            ]
          },
          "execution_count": 51,
          "metadata": {},
          "output_type": "execute_result"
        }
      ],
      "source": [
        "a = [1,2,3,4,5,6,7]\n",
        "a[:5]"
      ]
    },
    {
      "cell_type": "markdown",
      "metadata": {
        "id": "CB3C396rK-bn"
      },
      "source": [
        "<h3 data-ke-size=\"size23\"><b>리스트<span id=\"DragSchLayerPos\" style=\"position: absolute; width: 0px; height: 0px; font-size: 0px;\"></span> 연결</b></h3>\n",
        "<h4 data-ke-size=\"size20\">+연산자를 이용한 리스트 연결</h4>\n",
        "<div style=\"padding: 10px; background: #f8f8f8;\"><span style=\"color: #ee2323;\">리스트1 + 리스트2 + ........ 리스트 n</span></div>\n",
        "<p>위 처럼 리스트를 + 연산자를 활용하여 연결할 수 있습니다. 아래 예제는 user_1과 user_2 리스트를 + 연산자를 통해 연결한 코드입니다.</p>\n",
        "<pre id=\"code_1571667551696\" class=\"python\" data-ke-language=\"python\" data-ke-type=\"codeblock\"><code class=\"hljs\">user_1 = [<span class=\"hljs-string\">'Jason'</span> , <span class=\"hljs-string\">'Smith'</span>, <span class=\"hljs-string\">'Kevin'</span>]\n",
        "user_2 = [<span class=\"hljs-string\">'Sunny'</span>, <span class=\"hljs-string\">'Jamie'</span>]\n",
        "<span class=\"hljs-built_in\">print</span>(user_1 + user_2)</code></pre>"
      ]
    },
    {
      "cell_type": "code",
      "execution_count": null,
      "metadata": {
        "id": "zRH0-mGwLRue"
      },
      "outputs": [],
      "source": []
    },
    {
      "cell_type": "markdown",
      "metadata": {
        "id": "2NszJEfALWlo"
      },
      "source": [
        "<p>아래와 같이 여러개의 리스트를 연결할 수도 있습니다.</p>\n",
        "<pre id=\"code_1571667715168\" class=\"python\" data-ke-language=\"python\" data-ke-type=\"codeblock\"><code class=\"hljs\">user_1&nbsp;=&nbsp;[<span class=\"hljs-string\">'Jason'</span>&nbsp;,&nbsp;<span class=\"hljs-string\">'Smith'</span>,&nbsp;<span class=\"hljs-string\">'Kevin'</span>]\n",
        "user_2&nbsp;=&nbsp;[<span class=\"hljs-string\">'Sunny'</span>,&nbsp;<span class=\"hljs-string\">'Jamie'</span>]\n",
        "user_3&nbsp;=&nbsp;[<span class=\"hljs-string\">'Vicoria'</span>]\n",
        "<span class=\"hljs-built_in\">print</span>(user_1&nbsp;+&nbsp;user_2&nbsp;+&nbsp;user_3)</code></pre>"
      ]
    },
    {
      "cell_type": "code",
      "execution_count": null,
      "metadata": {
        "id": "lej04LvGLigM"
      },
      "outputs": [],
      "source": []
    },
    {
      "cell_type": "markdown",
      "metadata": {
        "id": "wGH5_bcpLjDE"
      },
      "source": [
        "<h3 data-ke-size=\"size23\"><b>extend 함수를 이용한 리스트 연결</b></h3>\n",
        "<div style=\"padding: 10px; background: #f8f8f8;\"><span style=\"color: #ee2323;\">리스트.extend(추가하고자 하는 리스트)</span></div>\n",
        "<p>다른 방법으로는 extend함수를 통해 연결할 수도 있습니다. 이 방법과 +연산자를 통한 리스트 연결방법의 차이는 extend함수를 호출한 리스트에 새로운 리스트가 추가되면서 연결되는 구조입니다. 즉 + 연산자는 기존에 존재하는 리스트는 건드리지 않고 새로운 리스트를 만드는 반면, extend함수를 사용하면 원본 리스트에 새 내용을 추가합니다.</p>\n",
        "<pre id=\"code_1571667941083\" class=\"python\" data-ke-language=\"python\" data-ke-type=\"codeblock\"><code class=\"hljs\">user_1 = [<span class=\"hljs-string\">'Jason'</span> , <span class=\"hljs-string\">'Smith'</span>, <span class=\"hljs-string\">'Kevin'</span>]\n",
        "user_1.extend([<span class=\"hljs-string\">'Sunny'</span>, <span class=\"hljs-string\">'Jamie'</span>])&nbsp; &nbsp; <span class=\"hljs-comment\">#user_1의 리스트에 추가된다.</span>\n",
        "<span class=\"hljs-built_in\">print</span>(user_1)</code></pre>"
      ]
    },
    {
      "cell_type": "code",
      "execution_count": 56,
      "metadata": {
        "id": "pzZykiq8LvG8"
      },
      "outputs": [
        {
          "data": {
            "text/plain": [
              "['jack', 'smith', 'kevin']"
            ]
          },
          "execution_count": 56,
          "metadata": {},
          "output_type": "execute_result"
        }
      ],
      "source": [
        "# insert(idx, value) : 지정된 인덱스에 원하는 값 추가\n",
        "# append() : 리스트 끝에 추가해준다\n",
        "# extend() : 리스트 + 리스트 = 합쳐진 리스트\n",
        "user_1 = ['jack', 'smith', 'kevin']\n",
        "user_1.extend(['john'])\n",
        "del user_1[-1]\n",
        "user_1"
      ]
    },
    {
      "cell_type": "markdown",
      "metadata": {
        "id": "XEqd5mfhOfnF"
      },
      "source": [
        "<figure class=\"imageblock alignCenter\" data-origin-width=\"442\" data-origin-height=\"323\" data-ke-mobilestyle=\"widthOrigin\" style=\"margin-left: calc(50% - 221px); width: 442px;\"><span data-url=\"https://blog.kakaocdn.net/dn/bLMUkd/btriRYpEbBr/ZrQLH2HTjt0dU4jKyD4hRk/img.png\" data-phocus=\"https://blog.kakaocdn.net/dn/bLMUkd/btriRYpEbBr/ZrQLH2HTjt0dU4jKyD4hRk/img.png\" data-alt=\"del(list[index])\" style=\"padding-bottom: 73.0769%;\"><img data-origin-width=\"442\" data-origin-height=\"323\" data-ke-mobilestyle=\"widthOrigin\" onerror=\"this.onerror=null; this.src='//t1.daumcdn.net/tistory_admin/static/images/no-image-v1.png'; this.srcset='//t1.daumcdn.net/tistory_admin/static/images/no-image-v1.png';\" class=\"lazyautosizes lazyloaded\" data-src=\"https://blog.kakaocdn.net/dn/bLMUkd/btriRYpEbBr/ZrQLH2HTjt0dU4jKyD4hRk/img.png\" data-srcset=\"https://img1.daumcdn.net/thumb/R1280x0/?scode=mtistory2&amp;fname=https%3A%2F%2Fblog.kakaocdn.net%2Fdn%2FbLMUkd%2FbtriRYpEbBr%2FZrQLH2HTjt0dU4jKyD4hRk%2Fimg.png\" data-sizes=\"auto\" data-phocus-index=\"9\" sizes=\"737px\" srcset=\"https://img1.daumcdn.net/thumb/R1280x0/?scode=mtistory2&amp;fname=https%3A%2F%2Fblog.kakaocdn.net%2Fdn%2FbLMUkd%2FbtriRYpEbBr%2FZrQLH2HTjt0dU4jKyD4hRk%2Fimg.png\" src=\"https://blog.kakaocdn.net/dn/bLMUkd/btriRYpEbBr/ZrQLH2HTjt0dU4jKyD4hRk/img.png\"></span><figcaption>del(list[index])</figcaption>\n",
        "</figure>"
      ]
    },
    {
      "cell_type": "code",
      "execution_count": null,
      "metadata": {
        "id": "QH8it3GlOoiN"
      },
      "outputs": [],
      "source": []
    },
    {
      "cell_type": "markdown",
      "metadata": {
        "id": "DiVns7VVPDfY"
      },
      "source": [
        "<h2 id=\"1-list-repetition\">list Repetition(리스트 반복)</h2>\n",
        "<ul>\n",
        "<li><code>*</code> 연산자로 리스트를 반복 시킬 수 있습니다.</li>\n",
        "</ul>\n",
        "<pre><code class=\"language-python hljs md-csc-wrap\"><span class=\"hljs-meta\">&gt;&gt;&gt; </span>a = [<span class=\"hljs-number\">5</span>,<span class=\"hljs-number\">3</span>]\n",
        "<span class=\"hljs-meta\">&gt;&gt;&gt; </span>b = a * <span class=\"hljs-number\">3</span>\n",
        "<span class=\"hljs-meta\">&gt;&gt;&gt; </span>a\n",
        "[<span class=\"hljs-number\">5</span>, <span class=\"hljs-number\">3</span>]\n",
        "<span class=\"hljs-meta\">&gt;&gt;&gt; </span>b\n",
        "[<span class=\"hljs-number\">5</span>, <span class=\"hljs-number\">3</span>, <span class=\"hljs-number\">5</span>, <span class=\"hljs-number\">3</span>, <span class=\"hljs-number\">5</span>, <span class=\"hljs-number\">3</span>]\n",
        "</code></pre>\n"
      ]
    },
    {
      "cell_type": "code",
      "execution_count": null,
      "metadata": {
        "id": "r7Y43VLWPvUq"
      },
      "outputs": [],
      "source": []
    },
    {
      "cell_type": "markdown",
      "metadata": {
        "id": "kr3pEz0kPwKg"
      },
      "source": [
        "<pre><code class=\"language-python hljs md-csc-wrap\"><span class=\"hljs-meta\">&gt;&gt;&gt; </span>a = [[<span class=\"hljs-number\">2</span>,<span class=\"hljs-number\">5</span>]] * <span class=\"hljs-number\">3</span>\n",
        "<span class=\"hljs-meta\">&gt;&gt;&gt; </span>a\n",
        "[[<span class=\"hljs-number\">2</span>, <span class=\"hljs-number\">5</span>], [<span class=\"hljs-number\">2</span>, <span class=\"hljs-number\">5</span>], [<span class=\"hljs-number\">2</span>, <span class=\"hljs-number\">5</span>]]\n",
        "<span class=\"hljs-meta\">&gt;&gt;&gt; </span>a[<span class=\"hljs-number\">0</span>].append(<span class=\"hljs-number\">7</span>)\n",
        "<span class=\"hljs-meta\">&gt;&gt;&gt; </span>a\n",
        "[[<span class=\"hljs-number\">2</span>, <span class=\"hljs-number\">5</span>, <span class=\"hljs-number\">7</span>], [<span class=\"hljs-number\">2</span>, <span class=\"hljs-number\">5</span>, <span class=\"hljs-number\">7</span>], [<span class=\"hljs-number\">2</span>, <span class=\"hljs-number\">5</span>, <span class=\"hljs-number\">7</span>]\n",
        "</code></pre>"
      ]
    },
    {
      "cell_type": "code",
      "execution_count": null,
      "metadata": {
        "id": "EWQx6e5_PzQE"
      },
      "outputs": [],
      "source": []
    },
    {
      "cell_type": "markdown",
      "metadata": {
        "id": "nb3AGc8sP-Hr"
      },
      "source": [
        "<h4><strong>리스트 수정하기</strong></h4>\n",
        "<ul class=\"cdio-ul\" id=\"yui_3_17_2_1_1726657695387_33\">\n",
        "    <li id=\"yui_3_17_2_1_1726657695387_32\"><b id=\"yui_3_17_2_1_1726657695387_31\"><span class=\"cdio-codei\" id=\"yui_3_17_2_1_1726657695387_30\">시퀀스객체[시작인덱스:끝인덱스] = 시퀀스객체</span></b></li>\n",
        "</ul>\n",
        "<div class=\"hlcode\">\n",
        "    <div class=\"syntax\">\n",
        "        <pre><span></span><span class=\"o\">&gt;&gt;&gt;</span> <span class=\"n\">a</span> <span class=\"o\">=</span> <span class=\"p\">[</span><span class=\"mi\">0</span><span class=\"p\">,</span> <span class=\"mi\">10</span><span class=\"p\">,</span> <span class=\"mi\">20</span><span class=\"p\">,</span> <span class=\"mi\">30</span><span class=\"p\">,</span> <span class=\"mi\">40</span><span class=\"p\">,</span> <span class=\"mi\">50</span><span class=\"p\">,</span> <span class=\"mi\">60</span><span class=\"p\">,</span> <span class=\"mi\">70</span><span class=\"p\">,</span> <span class=\"mi\">80</span><span class=\"p\">,</span> <span class=\"mi\">90</span><span class=\"p\">]</span>\n",
        "<span class=\"o\">&gt;&gt;&gt;</span> <span class=\"n\">a</span><span class=\"p\">[</span><span class=\"mi\">2</span><span class=\"p\">:</span><span class=\"mi\">5</span><span class=\"p\">]</span> <span class=\"o\">=</span> <span class=\"p\">[</span><span class=\"s1\">'a'</span><span class=\"p\">,</span> <span class=\"s1\">'b'</span><span class=\"p\">,</span> <span class=\"s1\">'c'</span><span class=\"p\">]</span>&nbsp;&nbsp;&nbsp; <span class=\"c1\"># 인덱스 2부터 4까지 값 할당</span>\n",
        "<span class=\"o\">&gt;&gt;&gt;</span> <span class=\"n\">a</span>\n",
        "<span class=\"p\">[</span><span class=\"mi\">0</span><span class=\"p\">,</span> <span class=\"mi\">10</span><span class=\"p\">,</span> <span class=\"s1\">'a'</span><span class=\"p\">,</span> <span class=\"s1\">'b'</span><span class=\"p\">,</span> <span class=\"s1\">'c'</span><span class=\"p\">,</span> <span class=\"mi\">50</span><span class=\"p\">,</span> <span class=\"mi\">60</span><span class=\"p\">,</span> <span class=\"mi\">70</span><span class=\"p\">,</span> <span class=\"mi\">80</span><span class=\"p\">,</span> <span class=\"mi\">90</span><span class=\"p\">]</span>\n",
        "</pre>\n",
        "    </div>\n",
        "</div>"
      ]
    },
    {
      "cell_type": "markdown",
      "metadata": {
        "id": "7wgT-bsW1Ljt"
      },
      "source": [
        "<figure class=\"cdio-fig\">\n",
        "    <figcaption>▼ <b>그림 11-35</b> 특정 범위에 요소 할당하기</figcaption><img src=\"https://dojang.io/pluginfile.php/13495/mod_page/content/10/011035.png\"></figure>"
      ]
    },
    {
      "cell_type": "markdown",
      "metadata": {
        "id": "L0eurS1y1RrU"
      },
      "source": [
        "<p><span class=\"cdio-codei\">a[2:5] = ['a', 'b', 'c']</span>는 슬라이스 범위와 할당할 리스트의 요소 개수를 정확히 맞추었지만, 사실 개수를 맞추지 않아도 상관없습니다.</p>\n",
        "<p>다음과 같이 요소 개수를 맞추지 않아도 알아서 할당됩니다. 만약 할당할 요소 개수가 적으면 그만큼 리스트의 요소 개수도 줄어듭니다.</p>\n",
        "<div class=\"hlcode\">\n",
        "    <div class=\"syntax\">\n",
        "        <pre><span></span><span class=\"o\">&gt;&gt;&gt;</span> <span class=\"n\">a</span> <span class=\"o\">=</span> <span class=\"p\">[</span><span class=\"mi\">0</span><span class=\"p\">,</span> <span class=\"mi\">10</span><span class=\"p\">,</span> <span class=\"mi\">20</span><span class=\"p\">,</span> <span class=\"mi\">30</span><span class=\"p\">,</span> <span class=\"mi\">40</span><span class=\"p\">,</span> <span class=\"mi\">50</span><span class=\"p\">,</span> <span class=\"mi\">60</span><span class=\"p\">,</span> <span class=\"mi\">70</span><span class=\"p\">,</span> <span class=\"mi\">80</span><span class=\"p\">,</span> <span class=\"mi\">90</span><span class=\"p\">]</span>\n",
        "<span class=\"o\">&gt;&gt;&gt;</span> <span class=\"n\">a</span><span class=\"p\">[</span><span class=\"mi\">2</span><span class=\"p\">:</span><span class=\"mi\">5</span><span class=\"p\">]</span> <span class=\"o\">=</span> <span class=\"p\">[</span><span class=\"s1\">'a'</span><span class=\"p\">]</span>&nbsp;&nbsp;&nbsp; <span class=\"c1\"># 인덱스 2부터 4까지에 값 1개를 할당하여 요소의 개수가 줄어듦</span>\n",
        "<span class=\"o\">&gt;&gt;&gt;</span> <span class=\"n\">a</span>\n",
        "<span class=\"p\">[</span><span class=\"mi\">0</span><span class=\"p\">,</span> <span class=\"mi\">10</span><span class=\"p\">,</span> <span class=\"s1\">'a'</span><span class=\"p\">,</span> <span class=\"mi\">50</span><span class=\"p\">,</span> <span class=\"mi\">60</span><span class=\"p\">,</span> <span class=\"mi\">70</span><span class=\"p\">,</span> <span class=\"mi\">80</span><span class=\"p\">,</span> <span class=\"mi\">90</span><span class=\"p\">]</span>\n",
        "</pre>\n",
        "    </div>\n",
        "</div>"
      ]
    },
    {
      "cell_type": "markdown",
      "metadata": {
        "id": "vMtp7hvF1eJx"
      },
      "source": [
        "<figure class=\"cdio-fig\">\n",
        "    <figcaption>▼ <b>그림 11-36</b> 슬라이스 범위보다 할당할 요소 개수가 적을 때</figcaption><img src=\"https://dojang.io/pluginfile.php/13495/mod_page/content/10/011036.png\"></figure>"
      ]
    },
    {
      "cell_type": "markdown",
      "metadata": {
        "id": "Pg24UpNo1ihf"
      },
      "source": [
        "<p>반면 할당할 요소 개수가 많으면 그만큼 리스트의 요소 개수도 늘어납니다.</p>\n",
        "<div class=\"hlcode\">\n",
        "    <div class=\"syntax\">\n",
        "        <pre><span></span><span class=\"o\">&gt;&gt;&gt;</span> <span class=\"n\">a</span> <span class=\"o\">=</span> <span class=\"p\">[</span><span class=\"mi\">0</span><span class=\"p\">,</span> <span class=\"mi\">10</span><span class=\"p\">,</span> <span class=\"mi\">20</span><span class=\"p\">,</span> <span class=\"mi\">30</span><span class=\"p\">,</span> <span class=\"mi\">40</span><span class=\"p\">,</span> <span class=\"mi\">50</span><span class=\"p\">,</span> <span class=\"mi\">60</span><span class=\"p\">,</span> <span class=\"mi\">70</span><span class=\"p\">,</span> <span class=\"mi\">80</span><span class=\"p\">,</span> <span class=\"mi\">90</span><span class=\"p\">]</span>\n",
        "<span class=\"o\">&gt;&gt;&gt;</span> <span class=\"n\">a</span><span class=\"p\">[</span><span class=\"mi\">2</span><span class=\"p\">:</span><span class=\"mi\">5</span><span class=\"p\">]</span> <span class=\"o\">=</span> <span class=\"p\">[</span><span class=\"s1\">'a'</span><span class=\"p\">,</span> <span class=\"s1\">'b'</span><span class=\"p\">,</span> <span class=\"s1\">'c'</span><span class=\"p\">,</span> <span class=\"s1\">'d'</span><span class=\"p\">,</span> <span class=\"s1\">'e'</span><span class=\"p\">]</span> <span class=\"c1\"># 인덱스 2부터 4까지 값 5개를 할당하여 요소의 개수가 늘어남</span>\n",
        "<span class=\"o\">&gt;&gt;&gt;</span> <span class=\"n\">a</span>\n",
        "<span class=\"p\">[</span><span class=\"mi\">0</span><span class=\"p\">,</span> <span class=\"mi\">10</span><span class=\"p\">,</span> <span class=\"s1\">'a'</span><span class=\"p\">,</span> <span class=\"s1\">'b'</span><span class=\"p\">,</span> <span class=\"s1\">'c'</span><span class=\"p\">,</span> <span class=\"s1\">'d'</span><span class=\"p\">,</span> <span class=\"s1\">'e'</span><span class=\"p\">,</span> <span class=\"mi\">50</span><span class=\"p\">,</span> <span class=\"mi\">60</span><span class=\"p\">,</span> <span class=\"mi\">70</span><span class=\"p\">,</span> <span class=\"mi\">80</span><span class=\"p\">,</span> <span class=\"mi\">90</span><span class=\"p\">]</span>\n",
        "</pre>\n",
        "    </div>\n",
        "</div>"
      ]
    },
    {
      "cell_type": "markdown",
      "metadata": {
        "id": "V1c5Ljyi1oOa"
      },
      "source": [
        "<figure class=\"cdio-fig\">\n",
        "    <figcaption>▼ <b>그림 11-37</b> 슬라이스 범위와 할당할 요소의 개수가 다를 때</figcaption><img src=\"https://dojang.io/pluginfile.php/13495/mod_page/content/10/011037.png\"></figure>"
      ]
    },
    {
      "cell_type": "code",
      "execution_count": null,
      "metadata": {
        "id": "X4Q3KXsaz4Cg"
      },
      "outputs": [],
      "source": []
    },
    {
      "cell_type": "markdown",
      "metadata": {
        "id": "uODAfWKu1v7T"
      },
      "source": [
        "<h3 style=\"mso-list: l75 level3 lfo167;\"><span style=\"mso-list: Ignore;\"><span style=\"font: 7pt/normal &quot;Times New Roman&quot;; font-size-adjust: none; font-stretch: normal;\">&nbsp;\n",
        "</span></span>del로 슬라이스 삭제하기</h3>\n",
        "<ul class=\"cdio-ul\">\n",
        "    <li><b><span class=\"cdio-codei\">del </span></b><b><span class=\"cdio-codei\">시퀀스객체[시작인덱스:끝인덱스]</span></b></li>\n",
        "</ul>\n",
        "<div class=\"hlcode\">\n",
        "    <div class=\"syntax\">\n",
        "        <pre><span></span><span class=\"o\">&gt;&gt;&gt;</span> <span class=\"n\">a</span> <span class=\"o\">=</span> <span class=\"p\">[</span><span class=\"mi\">0</span><span class=\"p\">,</span> <span class=\"mi\">10</span><span class=\"p\">,</span> <span class=\"mi\">20</span><span class=\"p\">,</span> <span class=\"mi\">30</span><span class=\"p\">,</span> <span class=\"mi\">40</span><span class=\"p\">,</span> <span class=\"mi\">50</span><span class=\"p\">,</span> <span class=\"mi\">60</span><span class=\"p\">,</span> <span class=\"mi\">70</span><span class=\"p\">,</span> <span class=\"mi\">80</span><span class=\"p\">,</span> <span class=\"mi\">90</span><span class=\"p\">]</span>\n",
        "<span class=\"o\">&gt;&gt;&gt;</span> <span class=\"k\">del</span> <span class=\"n\">a</span><span class=\"p\">[</span><span class=\"mi\">2</span><span class=\"p\">:</span><span class=\"mi\">5</span><span class=\"p\">]</span>&nbsp;&nbsp;&nbsp; <span class=\"c1\"># 인덱스 2부터 4까지 요소를 삭제</span>\n",
        "<span class=\"o\">&gt;&gt;&gt;</span> <span class=\"n\">a</span>\n",
        "<span class=\"p\">[</span><span class=\"mi\">0</span><span class=\"p\">,</span> <span class=\"mi\">10</span><span class=\"p\">,</span> <span class=\"mi\">50</span><span class=\"p\">,</span> <span class=\"mi\">60</span><span class=\"p\">,</span> <span class=\"mi\">70</span><span class=\"p\">,</span> <span class=\"mi\">80</span><span class=\"p\">,</span> <span class=\"mi\">90</span><span class=\"p\">]</span>\n",
        "</pre>\n",
        "    </div>\n",
        "</div>\n",
        "<p>리스트 <span class=\"cdio-codei\">a</span>에서 인덱스 2, 3, 4인 요소 20, 30, 40이 삭제되었습니다. 특히 <span class=\"cdio-codei\">del</span>로 요소를 삭제하면 원래 있던 리스트가 변경되며 새 리스트는 생성되지 않습니다.</p>"
      ]
    },
    {
      "cell_type": "markdown",
      "metadata": {
        "id": "kZKNheEU2CJk"
      },
      "source": [
        "<figure class=\"cdio-fig\">\n",
        "    <figcaption>▼ <b>그림 11-39</b> 슬라이스 삭제하기</figcaption><img src=\"https://dojang.io/pluginfile.php/13495/mod_page/content/10/011039.png\"></figure>"
      ]
    },
    {
      "cell_type": "code",
      "execution_count": null,
      "metadata": {
        "id": "I5ZdiXd02EyV"
      },
      "outputs": [],
      "source": []
    },
    {
      "cell_type": "markdown",
      "metadata": {
        "id": "9tlvFvtr2QPl"
      },
      "source": [
        "<p>인덱스 증가폭을 지정하면 인덱스를 건너뛰면서 삭제하겠죠? 다음은 인덱스 2부터 2씩 증가시키면서 인덱스 6까지 삭제합니다.</p>\n",
        "<div class=\"hlcode\">\n",
        "    <div class=\"syntax\">\n",
        "        <pre><span></span><span class=\"o\">&gt;&gt;&gt;</span> <span class=\"n\">a</span> <span class=\"o\">=</span> <span class=\"p\">[</span><span class=\"mi\">0</span><span class=\"p\">,</span> <span class=\"mi\">10</span><span class=\"p\">,</span> <span class=\"mi\">20</span><span class=\"p\">,</span> <span class=\"mi\">30</span><span class=\"p\">,</span> <span class=\"mi\">40</span><span class=\"p\">,</span> <span class=\"mi\">50</span><span class=\"p\">,</span> <span class=\"mi\">60</span><span class=\"p\">,</span> <span class=\"mi\">70</span><span class=\"p\">,</span> <span class=\"mi\">80</span><span class=\"p\">,</span> <span class=\"mi\">90</span><span class=\"p\">]</span>\n",
        "<span class=\"o\">&gt;&gt;&gt;</span> <span class=\"k\">del</span> <span class=\"n\">a</span><span class=\"p\">[</span><span class=\"mi\">2</span><span class=\"p\">:</span><span class=\"mi\">8</span><span class=\"p\">:</span><span class=\"mi\">2</span><span class=\"p\">]</span>&nbsp;&nbsp;&nbsp; <span class=\"c1\"># 인덱스 2부터 2씩 증가시키면서 인덱스 6까지 삭제</span>\n",
        "<span class=\"o\">&gt;&gt;&gt;</span> <span class=\"n\">a</span>\n",
        "<span class=\"p\">[</span><span class=\"mi\">0</span><span class=\"p\">,</span> <span class=\"mi\">10</span><span class=\"p\">,</span> <span class=\"mi\">30</span><span class=\"p\">,</span> <span class=\"mi\">50</span><span class=\"p\">,</span> <span class=\"mi\">70</span><span class=\"p\">,</span> <span class=\"mi\">80</span><span class=\"p\">,</span> <span class=\"mi\">90</span><span class=\"p\">]</span>\n",
        "</pre>\n",
        "    </div>\n",
        "</div>"
      ]
    },
    {
      "cell_type": "markdown",
      "metadata": {
        "id": "sRqWSXZB2W5_"
      },
      "source": [
        "<figure class=\"cdio-fig\">\n",
        "    <figcaption>▼ <b>그림 11-40</b> 인덱스 증가폭을 지정하여 슬라이스 삭제하기</figcaption><img src=\"https://dojang.io/pluginfile.php/13495/mod_page/content/10/011040.png\"></figure>"
      ]
    },
    {
      "cell_type": "code",
      "execution_count": null,
      "metadata": {
        "id": "w0li3rjh4aPB"
      },
      "outputs": [],
      "source": []
    },
    {
      "cell_type": "markdown",
      "metadata": {
        "id": "KgKkwbLR4am2"
      },
      "source": [
        "<h2 id=\"3-remove\">remove()</h2>\n",
        "<ul>\n",
        "<li><code>remove(값)</code></li>\n",
        "<li>위 모듈과 달리, 삭제할 값을 입력한다.</li>\n",
        "<li>입력한 값이 리스트에 여러개 있으면 가장 앞에 있는 값만 삭제한다.<br>\n",
        "<img src=\"https://velog.velcdn.com/images/gktnals108/post/f74dd5bb-5331-4cbf-9c42-b35af0f55593/image.png\"></li>\n",
        "</ul>"
      ]
    },
    {
      "cell_type": "code",
      "execution_count": 59,
      "metadata": {
        "id": "2hpOlthD5Scx"
      },
      "outputs": [
        {
          "data": {
            "text/plain": [
              "[]"
            ]
          },
          "execution_count": 59,
          "metadata": {},
          "output_type": "execute_result"
        }
      ],
      "source": [
        "a = [1,2,3,4,6,3]\n",
        "a.clear()\n",
        "a\n",
        "# [1,2,4,6]"
      ]
    },
    {
      "cell_type": "markdown",
      "metadata": {
        "id": "RKXgJ7JH5S7F"
      },
      "source": [
        "<h2>리스트의 요소 개수 구하기</h2>\n",
        "<div class=\"hlcode\"><div class=\"syntax\"><pre><span></span><span class=\"o\">&gt;&gt;&gt;</span><b> <span class=\"n\">a</span> <span class=\"o\">=</span> <span class=\"p\">[</span><span class=\"mi\">0</span><span class=\"p\">,</span> <span class=\"mi\">10</span><span class=\"p\">,</span> <span class=\"mi\">20</span><span class=\"p\">,</span> <span class=\"mi\">30</span><span class=\"p\">,</span> <span class=\"mi\">40</span><span class=\"p\">,</span> <span class=\"mi\">50</span><span class=\"p\">,</span> <span class=\"mi\">60</span><span class=\"p\">,</span> <span class=\"mi\">70</span><span class=\"p\">,</span> <span class=\"mi\">80</span><span class=\"p\">,</span> <span class=\"mi\">90</span><span class=\"p\">]</span></b>\n",
        "<span class=\"o\">&gt;&gt;&gt;</span> <b><span class=\"nb\">len</span><span class=\"p\">(</span><span class=\"n\">a</span><span class=\"p\">)</span></b>\n",
        "<span class=\"mi\">10</span>\n",
        "<span class=\"o\">&gt;&gt;&gt;</span> <b><span class=\"nb\">len</span><span class=\"p\">([</span><span class=\"mi\">0</span><span class=\"p\">,</span> <span class=\"mi\">10</span><span class=\"p\">,</span> <span class=\"mi\">20</span><span class=\"p\">,</span> <span class=\"mi\">30</span><span class=\"p\">,</span> <span class=\"mi\">40</span><span class=\"p\">,</span> <span class=\"mi\">50</span><span class=\"p\">,</span> <span class=\"mi\">60</span><span class=\"p\">,</span> <span class=\"mi\">70</span><span class=\"p\">,</span> <span class=\"mi\">80</span><span class=\"p\">,</span> <span class=\"mi\">90</span><span class=\"p\">])</span></b>\n",
        "<span class=\"mi\">10</span>\n",
        "</pre></div>\n",
        "</div>\n",
        "<p id=\"yui_3_17_2_1_1726658927011_48\">그럼 <span class=\"cdio-codei\">range</span>로 만든 리스트의\n",
        "요소 개수를 구해보겠습니다.</p>\n",
        "<div class=\"hlcode\"><div class=\"syntax\"><pre><span></span><span class=\"o\">&gt;&gt;&gt;</span><b> <span class=\"n\">b</span> <span class=\"o\">=</span> <span class=\"nb\">list</span><span class=\"p\">(</span><span class=\"nb\">range</span><span class=\"p\">(</span><span class=\"mi\">2321</span><span class=\"p\">,</span> <span class=\"mi\">3569</span><span class=\"p\">,</span> <span class=\"mi\">3</span><span class=\"p\">))</span></b>\n",
        "<span class=\"o\">&gt;&gt;&gt;</span> <b><span class=\"nb\">len</span><span class=\"p\">(</span><span class=\"n\">b</span><span class=\"p\">)</span></b>\n",
        "<span class=\"mi\">416</span>\n",
        "</pre></div>\n",
        "</div>"
      ]
    },
    {
      "cell_type": "markdown",
      "metadata": {
        "id": "PV00afeH53DQ"
      },
      "source": [
        "<p><strong>특정 요소 개수 구하기 →  <code>count()</code>사용</strong></p>\n",
        "<pre class=\" language-python\"><code class=\" language-python\">\n",
        "i <span class=\"token operator\">=</span> <span class=\"token punctuation\">[</span><span class=\"token number\">1</span><span class=\"token punctuation\">,</span><span class=\"token number\">1</span><span class=\"token punctuation\">,</span><span class=\"token number\">3</span><span class=\"token punctuation\">,</span><span class=\"token number\">4</span><span class=\"token punctuation\">,</span><span class=\"token number\">5</span><span class=\"token punctuation\">,</span><span class=\"token number\">3</span><span class=\"token punctuation\">,</span><span class=\"token number\">3</span><span class=\"token punctuation\">,</span><span class=\"token number\">7</span><span class=\"token punctuation\">,</span><span class=\"token number\">6</span><span class=\"token punctuation\">,</span><span class=\"token number\">8</span><span class=\"token punctuation\">,</span><span class=\"token number\">9</span><span class=\"token punctuation\">,</span><span class=\"token number\">3</span><span class=\"token punctuation\">,</span><span class=\"token number\">2</span><span class=\"token punctuation\">,</span><span class=\"token number\">5</span><span class=\"token punctuation\">,</span><span class=\"token number\">9</span><span class=\"token punctuation\">]</span>\n",
        "\n",
        "<span class=\"token keyword\">print</span><span class=\"token punctuation\">(</span>i<span class=\"token punctuation\">.</span>count<span class=\"token punctuation\">(</span><span class=\"token number\">3</span><span class=\"token punctuation\">)</span><span class=\"token punctuation\">)</span> <span class=\"token comment\">#리스트i에 요소3의 개수 구할때 </span>\n",
        "\n",
        "<span class=\"token operator\">&gt;&gt;</span><span class=\"token operator\">&gt;</span> <span class=\"token number\">4</span> </code></pre>"
      ]
    },
    {
      "cell_type": "code",
      "execution_count": 60,
      "metadata": {},
      "outputs": [
        {
          "data": {
            "text/plain": [
              "4"
            ]
          },
          "execution_count": 60,
          "metadata": {},
          "output_type": "execute_result"
        }
      ],
      "source": [
        "a = [1,2,[1,2], 'abc']\n",
        "len(a)"
      ]
    },
    {
      "cell_type": "code",
      "execution_count": 57,
      "metadata": {
        "id": "CoNUb2Qz6CPt"
      },
      "outputs": [
        {
          "data": {
            "text/plain": [
              "1"
            ]
          },
          "execution_count": 57,
          "metadata": {},
          "output_type": "execute_result"
        }
      ],
      "source": [
        "a = [1,2,3,4,6,6,7,8,10]\n",
        "a.count(1)"
      ]
    },
    {
      "cell_type": "markdown",
      "metadata": {
        "id": "sfoSOSgq3DeP"
      },
      "source": [
        "<h2> 연습문제</h2>"
      ]
    },
    {
      "cell_type": "markdown",
      "metadata": {
        "id": "enkXNr2K2q36"
      },
      "source": [
        "<h2>최근 3년간 인구 출력하기</h2>\n",
        "<div class=\"hlcode\"><div class=\"syntax\"><pre><span></span><span class=\"n\">year</span> <span class=\"o\">=</span> <span class=\"p\">[</span><span class=\"mi\">2011</span><span class=\"p\">,</span> <span class=\"mi\">2012</span><span class=\"p\">,</span> <span class=\"mi\">2013</span><span class=\"p\">,</span> <span class=\"mi\">2014</span><span class=\"p\">,</span> <span class=\"mi\">2015</span><span class=\"p\">,</span> <span class=\"mi\">2016</span><span class=\"p\">,</span> <span class=\"mi\">2017</span><span class=\"p\">,</span> <span class=\"mi\">2018</span><span class=\"p\">]</span>\n",
        "<span class=\"n\">population</span> <span class=\"o\">=</span> <span class=\"p\">[</span><span class=\"mi\">10249679</span><span class=\"p\">,</span> <span class=\"mi\">10195318</span><span class=\"p\">,</span> <span class=\"mi\">10143645</span><span class=\"p\">,</span> <span class=\"mi\">10103233</span><span class=\"p\">,</span> <span class=\"mi\">10022181</span><span class=\"p\">,</span> <span class=\"mi\">9930616</span><span class=\"p\">,</span> <span class=\"mi\">9857426</span><span class=\"p\">,</span> <span class=\"mi\">9838892</span><span class=\"p\">]</span>\n",
        "&nbsp;\n",
        "<span class=\"k\">print</span><span class=\"p\">(</span><u>&nbsp;&nbsp;&nbsp;&nbsp;&nbsp;&nbsp;&nbsp;&nbsp; </u><span class=\"p\">)</span>\n",
        "<span class=\"k\">print</span><span class=\"p\">(</span><u>&nbsp;&nbsp;&nbsp;&nbsp;&nbsp;&nbsp;&nbsp;&nbsp;&nbsp;&nbsp;&nbsp;&nbsp;&nbsp;&nbsp; </u><span class=\"p\">)</span>\n",
        "</pre></div>\n",
        "</div>"
      ]
    },
    {
      "cell_type": "code",
      "execution_count": null,
      "metadata": {
        "id": "9ejGFK0V3H-X"
      },
      "outputs": [],
      "source": []
    },
    {
      "cell_type": "markdown",
      "metadata": {
        "id": "ojP5WlmT3MD2"
      },
      "source": [
        "<h2>인덱스가 홀수인 요소 출력하기</h2>\n",
        "<div class=\"hlcode\"><div class=\"syntax\"><pre><span></span><span class=\"n\">n</span> <span class=\"o\">=</span> <span class=\"o\">-</span><span class=\"mi\">32</span><span class=\"p\">,</span> <span class=\"mi\">75</span><span class=\"p\">,</span> <span class=\"mi\">97</span><span class=\"p\">,</span> <span class=\"o\">-</span><span class=\"mi\">10</span><span class=\"p\">,</span> <span class=\"mi\">9</span><span class=\"p\">,</span> <span class=\"mi\">32</span><span class=\"p\">,</span> <span class=\"mi\">4</span><span class=\"p\">,</span> <span class=\"o\">-</span><span class=\"mi\">15</span><span class=\"p\">,</span> <span class=\"mi\">0</span><span class=\"p\">,</span> <span class=\"mi\">76</span><span class=\"p\">,</span> <span class=\"mi\">14</span><span class=\"p\">,</span> <span class=\"mi\">2</span>\n",
        "&nbsp;\n",
        "<span class=\"k\">print</span><span class=\"p\">(</span><u>&nbsp;&nbsp;&nbsp;&nbsp;&nbsp;&nbsp;&nbsp;&nbsp;&nbsp;&nbsp;&nbsp;&nbsp;&nbsp; </u><span class=\"p\">)</span>\n",
        "</pre></div>\n",
        "</div>"
      ]
    },
    {
      "cell_type": "code",
      "execution_count": null,
      "metadata": {
        "id": "Lbhdym7P4UFB"
      },
      "outputs": [],
      "source": []
    },
    {
      "cell_type": "markdown",
      "metadata": {
        "id": "oLCIgjU6JRb6"
      },
      "source": [
        "<h1>Python 리스트 요소 포함여부 확인 in</h1>\n",
        "<ul><li>리스트에서 어떤 요소가 포함이 되어 있는지 확인 하는 방법</li></ul>\n",
        "<h2><span id=\"1차원_예시\"></span><span class=\"mw-headline\" id=\"1.EC.B0.A8.EC.9B.90_.EC.98.88.EC.8B.9C\"><span class=\"mw-headline-number\"></span> 1차원 예시</span><span class=\"mw-editsection\"><span class=\"mw-editsection-bracket\">[</span><a href=\"/w/index.php?title=Python_%EB%A6%AC%EC%8A%A4%ED%8A%B8_%EC%9A%94%EC%86%8C_%ED%8F%AC%ED%95%A8%EC%97%AC%EB%B6%80_%ED%99%95%EC%9D%B8_in&amp;veaction=edit&amp;section=2\" class=\"mw-editsection-visualeditor\" title=\"부분 편집: 1차원 예시\"></a><span class=\"mw-editsection-divider\"> | </span><a href=\"/w/index.php?title=Python_%EB%A6%AC%EC%8A%A4%ED%8A%B8_%EC%9A%94%EC%86%8C_%ED%8F%AC%ED%95%A8%EC%97%AC%EB%B6%80_%ED%99%95%EC%9D%B8_in&amp;action=edit&amp;section=2\" title=\"부분 편집: 1차원 예시\"></a><span class=\"mw-editsection-bracket\">]</span></span></h2>\n",
        "<div class=\"runbox\"><!----> <div class=\"hlctl\"><div class=\"left\">\n",
        "\t\t\t<pre><span></span><span class=\"n\">fruits</span> <span class=\"o\">=</span> <span class=\"p\">[</span><span class=\"s1\">''</span><span class=\"p\">,</span> <span class=\"s1\">'banana'</span><span class=\"p\">,</span> <span class=\"s1\">'cherry'</span><span class=\"p\">]</span>\n",
        "\n",
        "<span class=\"k\">if</span> <span class=\"s1\">'apple'</span> <span class=\"ow\">in</span> <span class=\"n\">fruits</span><span class=\"p\">:</span>\n",
        "    <span class=\"nb\">print</span><span class=\"p\">(</span><span class=\"s1\">'포함'</span><span class=\"p\">)</span>\n",
        "<span class=\"k\">else</span><span class=\"p\">:</span>\n",
        "    <span class=\"nb\">print</span><span class=\"p\">(</span><span class=\"s1\">'미포함'</span><span class=\"p\">)</span>\n",
        "</pre></div></div> <!----> <!----> <!----> <!----> <div class=\"outputs\"><div class=\"output stream\"><pre><span><span class=\"stdout\">미포함\n",
        "</span></span></pre></div></div></div><!----></div>"
      ]
    },
    {
      "cell_type": "code",
      "execution_count": null,
      "metadata": {
        "id": "WzSeLk_-KagR"
      },
      "outputs": [],
      "source": []
    },
    {
      "cell_type": "markdown",
      "metadata": {
        "id": "UdP9MIzKKhBs"
      },
      "source": [
        "<div><div class=\"mw-highlight mw-highlight-lang-python mw-content-ltr run\" dir=\"ltr\"><pre><span></span><span class=\"n\">fruits</span> <span class=\"o\">=</span> <span class=\"p\">[</span><span class=\"s1\">'apple'</span><span class=\"p\">,</span> <span class=\"s1\">'banana'</span><span class=\"p\">,</span> <span class=\"s1\">'cherry'</span><span class=\"p\">]</span>\n",
        "\n",
        "<span class=\"k\">if</span> <span class=\"s1\">'apple'</span> <span class=\"ow\">not</span> <span class=\"ow\">in</span> <span class=\"n\">fruits</span><span class=\"p\">:</span>\n",
        "    <span class=\"nb\">print</span><span class=\"p\">(</span><span class=\"s1\">'미포함'</span><span class=\"p\">)</span>\n",
        "<span class=\"k\">else</span><span class=\"p\">:</span>\n",
        "    <span class=\"nb\">print</span><span class=\"p\">(</span><span class=\"s1\">'포함'</span><span class=\"p\">)</span>\n",
        "</pre></div></div>"
      ]
    },
    {
      "cell_type": "code",
      "execution_count": null,
      "metadata": {
        "id": "EQHn4Oj0KivC"
      },
      "outputs": [],
      "source": []
    },
    {
      "cell_type": "markdown",
      "metadata": {
        "id": "R6jimEtgKqe5"
      },
      "source": [
        "<h2><span id=\"2차원_예시2\"></span><span class=\"mw-headline\" id=\"2.EC.B0.A8.EC.9B.90_.EC.98.88.EC.8B.9C2\"><span class=\"mw-headline-number\"></span> 2차원 예시2</span><span class=\"mw-editsection\"><span class=\"mw-editsection-bracket\">[</span><a href=\"/w/index.php?title=Python_%EB%A6%AC%EC%8A%A4%ED%8A%B8_%EC%9A%94%EC%86%8C_%ED%8F%AC%ED%95%A8%EC%97%AC%EB%B6%80_%ED%99%95%EC%9D%B8_in&amp;veaction=edit&amp;section=4\" class=\"mw-editsection-visualeditor\" title=\"부분 편집: 2차원 예시2\"></a><span class=\"mw-editsection-divider\"> | </span><a href=\"/w/index.php?title=Python_%EB%A6%AC%EC%8A%A4%ED%8A%B8_%EC%9A%94%EC%86%8C_%ED%8F%AC%ED%95%A8%EC%97%AC%EB%B6%80_%ED%99%95%EC%9D%B8_in&amp;action=edit&amp;section=4\" title=\"부분 편집: 2차원 예시2\"></a><span class=\"mw-editsection-bracket\">]</span></span></h2>\n",
        "<div><div class=\"mw-highlight mw-highlight-lang-python mw-content-ltr run\" dir=\"ltr\"><pre><span></span><span class=\"n\">lsts</span> <span class=\"o\">=</span> <span class=\"p\">[[</span><span class=\"s1\">'a'</span><span class=\"p\">,</span> <span class=\"s1\">'b'</span><span class=\"p\">],</span> <span class=\"p\">[</span><span class=\"s1\">'c'</span><span class=\"p\">,</span> <span class=\"s1\">'d'</span><span class=\"p\">],</span> <span class=\"p\">[</span><span class=\"s1\">'e'</span><span class=\"p\">,</span> <span class=\"s1\">'f'</span><span class=\"p\">]]</span>\n",
        "\n",
        "<span class=\"k\">for</span> <span class=\"n\">lst</span> <span class=\"ow\">in</span> <span class=\"n\">lsts</span><span class=\"p\">:</span>\n",
        "    <span class=\"k\">if</span> <span class=\"s1\">'a'</span> <span class=\"ow\">in</span> <span class=\"n\">lst</span><span class=\"p\">[</span><span class=\"mi\">0</span><span class=\"p\">]:</span>\n",
        "        <span class=\"nb\">print</span><span class=\"p\">(</span><span class=\"s1\">'포함'</span><span class=\"p\">)</span>\n",
        "    <span class=\"k\">else</span><span class=\"p\">:</span>\n",
        "        <span class=\"nb\">print</span><span class=\"p\">(</span><span class=\"s1\">'미포함'</span><span class=\"p\">)</span>\n",
        "</pre></div></div>"
      ]
    },
    {
      "cell_type": "code",
      "execution_count": 64,
      "metadata": {},
      "outputs": [
        {
          "data": {
            "text/plain": [
              "2"
            ]
          },
          "execution_count": 64,
          "metadata": {},
          "output_type": "execute_result"
        }
      ],
      "source": [
        "a = [['a','b'],\n",
        "     [1,2]]\n",
        "# length =2\n",
        "\n",
        "a[1][1]"
      ]
    },
    {
      "cell_type": "markdown",
      "metadata": {
        "id": "mBaZXSo-LM-F"
      },
      "source": [
        "<h3 id=\"-insert\">리스트에 요소 삽입 - insert</h3>\n",
        "<p>insert(a, b)는 리스트의 a번째 위치에 b를 삽입하는 함수이다. 파이썬은 숫자를 0부터 센다는 것을 반드시 기억하자.</p>\n",
        "<pre><code class=\"language-python hljs md-csc-wrap\"><span class=\"hljs-meta\">&gt;&gt;&gt; </span>a = [<span class=\"hljs-number\">1</span>, <span class=\"hljs-number\">2</span>, <span class=\"hljs-number\">3</span>]\n",
        "<span class=\"hljs-meta\">&gt;&gt;&gt; </span>a.insert(<span class=\"hljs-number\">0</span>, <span class=\"hljs-number\">4</span>)\n",
        "<span class=\"hljs-meta\">&gt;&gt;&gt; </span>a\n",
        "[<span class=\"hljs-number\">4</span>, <span class=\"hljs-number\">1</span>, <span class=\"hljs-number\">2</span>, <span class=\"hljs-number\">3</span>]\n",
        "</code></pre>"
      ]
    },
    {
      "cell_type": "markdown",
      "metadata": {
        "id": "ADMQShgyLc4h"
      },
      "source": [
        "<pre><code class=\"language-python hljs md-csc-wrap\"><span class=\"hljs-meta\">&gt;&gt;&gt; </span>a.insert(<span class=\"hljs-number\">3</span>, <span class=\"hljs-number\">5</span>)\n",
        "<span class=\"hljs-meta\">&gt;&gt;&gt; </span>a\n",
        "[<span class=\"hljs-number\">4</span>, <span class=\"hljs-number\">1</span>, <span class=\"hljs-number\">2</span>, <span class=\"hljs-number\">5</span>, <span class=\"hljs-number\">3</span>]\n",
        "</code></pre>"
      ]
    },
    {
      "cell_type": "code",
      "execution_count": null,
      "metadata": {
        "id": "775sMyyFLgpw"
      },
      "outputs": [],
      "source": []
    },
    {
      "cell_type": "markdown",
      "metadata": {
        "id": "Dw0OucveLucl"
      },
      "source": [
        "<h3 id=\"-sort\">리스트 정렬 - sort</h3>\n",
        "<p>sort 함수는 리스트의 요소를 순서대로 정렬해 준다.</p>\n",
        "<pre><code class=\"language-python hljs md-csc-wrap\"><span class=\"hljs-meta\">&gt;&gt;&gt; </span>a = [<span class=\"hljs-number\">1</span>, <span class=\"hljs-number\">4</span>, <span class=\"hljs-number\">3</span>, <span class=\"hljs-number\">2</span>]\n",
        "<span class=\"hljs-meta\">&gt;&gt;&gt; </span>a.sort()\n",
        "<span class=\"hljs-meta\">&gt;&gt;&gt; </span>a\n",
        "[<span class=\"hljs-number\">1</span>, <span class=\"hljs-number\">2</span>, <span class=\"hljs-number\">3</span>, <span class=\"hljs-number\">4</span>]\n",
        "</code></pre>\n",
        "<p>문자 역시 알파벳 순서로 정렬할 수 있다.</p>\n",
        "<pre><code class=\"language-python hljs md-csc-wrap\"><span class=\"hljs-meta\">&gt;&gt;&gt; </span>a = [<span class=\"hljs-string\">'a'</span>, <span class=\"hljs-string\">'c'</span>, <span class=\"hljs-string\">'b'</span>]\n",
        "<span class=\"hljs-meta\">&gt;&gt;&gt; </span>a.sort()\n",
        "<span class=\"hljs-meta\">&gt;&gt;&gt; </span>a\n",
        "[<span class=\"hljs-string\">'a'</span>, <span class=\"hljs-string\">'b'</span>, <span class=\"hljs-string\">'c'</span>]\n",
        "</code></pre>"
      ]
    },
    {
      "cell_type": "code",
      "execution_count": 72,
      "metadata": {
        "id": "s5KL7UCWL-_0"
      },
      "outputs": [
        {
          "data": {
            "text/plain": [
              "(1, 2, 3)"
            ]
          },
          "execution_count": 72,
          "metadata": {},
          "output_type": "execute_result"
        }
      ],
      "source": [
        "tuple(sorted((3,2,1)))"
      ]
    },
    {
      "cell_type": "markdown",
      "metadata": {
        "id": "YnEKIqyhMF8b"
      },
      "source": [
        "<h3 id=\"-reverse\">리스트 뒤집기 - reverse</h3>\n",
        "<p>reverse 함수는 리스트를 역순으로 뒤집어 준다. 이때 리스트 요소들을 순서대로 정렬한 다음 다시 역순으로 정렬하는 것이 아니라 현재의 리스트를 그대로 거꾸로 뒤집는다.</p>\n",
        "<pre><code class=\"language-python hljs md-csc-wrap\"><span class=\"hljs-meta\">&gt;&gt;&gt; </span>a = [<span class=\"hljs-string\">'a'</span>, <span class=\"hljs-string\">'c'</span>, <span class=\"hljs-string\">'b'</span>]\n",
        "<span class=\"hljs-meta\">&gt;&gt;&gt; </span>a.reverse()\n",
        "<span class=\"hljs-meta\">&gt;&gt;&gt; </span>a\n",
        "[<span class=\"hljs-string\">'b'</span>, <span class=\"hljs-string\">'c'</span>, <span class=\"hljs-string\">'a'</span>]\n",
        "</code></pre>"
      ]
    },
    {
      "cell_type": "code",
      "execution_count": null,
      "metadata": {
        "id": "VCsfKbdWMVgL"
      },
      "outputs": [],
      "source": [
        "list.reverse()"
      ]
    },
    {
      "cell_type": "markdown",
      "metadata": {
        "id": "glokq6w1MtGZ"
      },
      "source": [
        "<h3 style=\"mso-list: l75 level3 lfo167;\"><span style=\"mso-list: Ignore;\"><span style=\"font: 7pt/normal &quot;Times New Roman&quot;; font-size-adjust: none; font-stretch: normal;\">&nbsp;\n",
        "</span></span>for 반복문으로 요소 출력하기</h3>\n",
        "<div class=\"hlcode\">\n",
        "    <div class=\"syntax\">\n",
        "        <pre><span></span><span class=\"k\">for</span> <span class=\"err\">변수</span> <span class=\"ow\">in</span> <span class=\"err\">리스트</span><span class=\"p\">:</span>\n",
        "&nbsp;&nbsp;&nbsp; &nbsp;<span class=\"err\">반복할</span> <span class=\"err\">코드</span>\n",
        "</pre>\n",
        "    </div>\n",
        "</div>\n",
        "<div class=\"hlcode\">\n",
        "    <div class=\"syntax\">\n",
        "        <pre><span></span><span class=\"o\">&gt;&gt;&gt;</span> <span class=\"n\">a</span> <span class=\"o\">=</span> <span class=\"p\">[</span><span class=\"mi\">38</span><span class=\"p\">,</span> <span class=\"mi\">21</span><span class=\"p\">,</span> <span class=\"mi\">53</span><span class=\"p\">,</span> <span class=\"mi\">62</span><span class=\"p\">,</span> <span class=\"mi\">19</span><span class=\"p\">]</span>\n",
        "<span class=\"o\">&gt;&gt;&gt;</span> <span class=\"k\">for</span> <span class=\"n\">i</span> <span class=\"ow\">in</span> <span class=\"n\">a</span><span class=\"p\">:</span>\n",
        "<span class=\"o\">...</span>&nbsp;&nbsp;&nbsp;&nbsp; <span class=\"k\">print</span><span class=\"p\">(</span><span class=\"n\">i</span><span class=\"p\">)</span>\n",
        "<span class=\"o\">...</span>\n",
        "<span class=\"mi\">38</span>\n",
        "<span class=\"mi\">21</span>\n",
        "<span class=\"mi\">53</span>\n",
        "<span class=\"mi\">62</span>\n",
        "<span class=\"mi\">19</span>\n",
        "</pre>\n",
        "    </div>\n",
        "</div>"
      ]
    },
    {
      "cell_type": "code",
      "execution_count": null,
      "metadata": {
        "id": "W2JcV3INM7a1"
      },
      "outputs": [],
      "source": []
    },
    {
      "cell_type": "markdown",
      "metadata": {
        "id": "nPtu-LZINQzx"
      },
      "source": [
        "<h1> 연습문제 </h>\n",
        "<h3 style=\"mso-list: l75 level3 lfo167;\" id=\"yui_3_17_2_1_1726664177590_48\"><span style=\"mso-list: Ignore;\">1.<span style=\"font: 7pt/normal &quot;Times New Roman&quot;; font-size-adjust: none; font-stretch: normal;\">&nbsp;\n",
        "</span></span>리스트의 가장 작은 수와 가장 큰 수 구하기</h3>"
      ]
    },
    {
      "cell_type": "markdown",
      "metadata": {
        "id": "nnw67RN-Nnu4"
      },
      "source": [
        "<div class=\"hlcode\">\n",
        "    <div class=\"syntax\">\n",
        "        <pre><span></span><span class=\"o\">&gt;&gt;&gt;</span> <span class=\"n\">a</span> <span class=\"o\">=</span> <span class=\"p\">[</span><span class=\"mi\">38</span><span class=\"p\">,</span> <span class=\"mi\">21</span><span class=\"p\">,</span> <span class=\"mi\">53</span><span class=\"p\">,</span> <span class=\"mi\">62</span><span class=\"p\">,</span> <span class=\"mi\">19</span><span class=\"p\">]</span>\n",
        "<span class=\"o\">&gt;&gt;&gt;</span> <span class=\"n\">smallest</span> <span class=\"o\">=</span> <span class=\"n\">a</span><span class=\"p\">[</span><span class=\"mi\">0</span><span class=\"p\">]</span>\n",
        "<span class=\"o\">&gt;&gt;&gt;</span> <span class=\"k\">for</span> <span class=\"n\">i</span> <span class=\"ow\">in</span> <span class=\"n\">a</span><span class=\"p\">:</span>\n",
        "<span class=\"o\">...</span>&nbsp;&nbsp;&nbsp;&nbsp; <span class=\"k\">if</span> <span class=\"n\">i</span> <span class=\"o\">&lt;</span> <span class=\"n\">smallest</span><span class=\"p\">:</span>\n",
        "<span class=\"o\">...</span>&nbsp;&nbsp;&nbsp;&nbsp;&nbsp;&nbsp;&nbsp;&nbsp; <span class=\"n\">smallest</span> <span class=\"o\">=</span> <span class=\"n\">i</span>\n",
        "<span class=\"o\">...</span>\n",
        "<span class=\"o\">&gt;&gt;&gt;</span> <span class=\"n\">smallest</span>\n",
        "<span class=\"mi\">19</span>\n",
        "</pre>\n",
        "    </div>\n",
        "</div>"
      ]
    },
    {
      "cell_type": "markdown",
      "metadata": {
        "id": "j5uGM5PXN3V5"
      },
      "source": [
        "<h3> 가장 작은수 구하는 코드 </h3>"
      ]
    },
    {
      "cell_type": "code",
      "execution_count": 75,
      "metadata": {
        "id": "dAXOA0ZCNoro"
      },
      "outputs": [
        {
          "data": {
            "text/plain": [
              "19"
            ]
          },
          "execution_count": 75,
          "metadata": {},
          "output_type": "execute_result"
        }
      ],
      "source": [
        "a = [38, 21, 53, 62, 19]\n",
        "min(a)"
      ]
    },
    {
      "cell_type": "markdown",
      "metadata": {
        "id": "MnPnSaRzN-Iu"
      },
      "source": [
        "<h3> 가장 큰수 구하는 코드 </h3>"
      ]
    },
    {
      "cell_type": "code",
      "execution_count": 76,
      "metadata": {
        "id": "tpt1XVcPN1MJ"
      },
      "outputs": [
        {
          "data": {
            "text/plain": [
              "62"
            ]
          },
          "execution_count": 76,
          "metadata": {},
          "output_type": "execute_result"
        }
      ],
      "source": [
        "max(a)"
      ]
    },
    {
      "cell_type": "markdown",
      "metadata": {
        "id": "oYjAp3t4OOtC"
      },
      "source": [
        "<h2>튜플 사용하기</h2>\n",
        "<p>변수에 값을 저장할 때 <b><span class=\"cdio-codei\">( )</span></b>(괄호)로 묶어주면 튜플이 되며 각 값은 <b><span class=\"cdio-codei\">,</span></b>(콤마)로 구분해줍니다. 또는, 괄호로 묶지 않고 값만 콤마로 구분해도 튜플이 됩니다.</p>\n",
        "<ul class=\"cdio-ul\">\n",
        "    <li><b><span class=\"cdio-codei\">튜플 = (값, 값, 값)</span></b></li>\n",
        "    <li><b><span class=\"cdio-codei\">튜플 = 값, 값, 값</span></b><b></b></li>\n",
        "</ul>\n",
        "<div class=\"hlcode\">\n",
        "    <div class=\"syntax\">\n",
        "        <pre><span></span><span class=\"o\">&gt;&gt;&gt;</span> <span class=\"n\">a</span> <span class=\"o\">=</span> <span class=\"p\">(</span><span class=\"mi\">38</span><span class=\"p\">,</span> <span class=\"mi\">21</span><span class=\"p\">,</span> <span class=\"mi\">53</span><span class=\"p\">,</span> <span class=\"mi\">62</span><span class=\"p\">,</span> <span class=\"mi\">19</span><span class=\"p\">)</span>\n",
        "<span class=\"o\">&gt;&gt;&gt;</span> <span class=\"n\">a</span>\n",
        "<span class=\"p\">(</span><span class=\"mi\">38</span><span class=\"p\">,</span> <span class=\"mi\">21</span><span class=\"p\">,</span> <span class=\"mi\">53</span><span class=\"p\">,</span> <span class=\"mi\">62</span><span class=\"p\">,</span> <span class=\"mi\">19</span><span class=\"p\">)</span>\n",
        "</pre>\n",
        "    </div>\n",
        "</div>"
      ]
    },
    {
      "cell_type": "code",
      "execution_count": 78,
      "metadata": {
        "id": "uZ0EkTUEOnp1"
      },
      "outputs": [
        {
          "data": {
            "text/plain": [
              "(1, 2, 4)"
            ]
          },
          "execution_count": 78,
          "metadata": {},
          "output_type": "execute_result"
        }
      ],
      "source": [
        "(1,2) + (4,)"
      ]
    },
    {
      "cell_type": "markdown",
      "metadata": {
        "id": "Du36rygFOoL9"
      },
      "source": [
        "<p>튜플도 리스트처럼 여러 자료형을 섞어서 저장해도 됩니다.</p>\n",
        "<div class=\"hlcode\">\n",
        "    <div class=\"syntax\">\n",
        "        <pre><span></span><span class=\"o\">&gt;&gt;&gt;</span> <span class=\"n\">person</span> <span class=\"o\">=</span> <span class=\"p\">(</span><span class=\"s1\">'james'</span><span class=\"p\">,</span> <span class=\"mi\">17</span><span class=\"p\">,</span> <span class=\"mf\">175.3</span><span class=\"p\">,</span> <span class=\"bp\">True</span><span class=\"p\">)</span>\n",
        "<span class=\"o\">&gt;&gt;&gt;</span> <span class=\"n\">person</span>\n",
        "<span class=\"p\">(</span><span class=\"s1\">'james'</span><span class=\"p\">,</span> <span class=\"mi\">17</span><span class=\"p\">,</span> <span class=\"mf\">175.3</span><span class=\"p\">,</span> <span class=\"bp\">True</span><span class=\"p\">)</span>\n",
        "</pre>\n",
        "    </div>\n",
        "</div>"
      ]
    },
    {
      "cell_type": "code",
      "execution_count": null,
      "metadata": {},
      "outputs": [],
      "source": []
    },
    {
      "cell_type": "markdown",
      "metadata": {
        "id": "7fKydQs3PvbF"
      },
      "source": [
        "<h1> 심충문제 </h1>"
      ]
    },
    {
      "cell_type": "markdown",
      "metadata": {
        "id": "AXHefdGIQ41U"
      },
      "source": [
        "<h2> 문제1 </h2>\n",
        "(\"김철수\", 90, 85, 75),<br>\n",
        "    (\"이영희\", 80, 92, 88),<br>\n",
        "    (\"박민수\", 75, 80, 95) <br>\n",
        "    성적을 가진 학생들의 국어,수학,영어 평균과 총점을 구하시오"
      ]
    },
    {
      "cell_type": "code",
      "execution_count": 79,
      "metadata": {},
      "outputs": [
        {
          "data": {
            "text/plain": [
              "170"
            ]
          },
          "execution_count": 79,
          "metadata": {},
          "output_type": "execute_result"
        }
      ],
      "source": [
        "sum([ 10, 20, 50, 90])"
      ]
    },
    {
      "cell_type": "code",
      "execution_count": 87,
      "metadata": {
        "id": "r8yvr1voRFFI"
      },
      "outputs": [
        {
          "name": "stdout",
          "output_type": "stream",
          "text": [
            "철수의 국영수 평균은 83.3점, 총점은 250점 입니다\n",
            "영희의 국영수 평균은 86.7점, 총점은 260점 입니다\n",
            "민수의 국영수 평균은 83.3점, 총점은 250점 입니다\n"
          ]
        }
      ],
      "source": [
        "a = (('철수', 90, 85, 75),\n",
        "     ('영희', 80, 92, 88),\n",
        "     ('민수', 75, 80, 95))\n",
        "\n",
        "\n",
        "for x in a:\n",
        "    name = x[0]   # x[0] 철수 , 영희, 민수\n",
        "    score_sum = sum(x[1:]) # sum(x[1:]) = 국영수 합\n",
        "    avg = score_sum/3\n",
        "    print(f\"{name}의 국영수 평균은 {avg:.1f}점, 총점은 {score_sum}점 입니다\")"
      ]
    },
    {
      "cell_type": "markdown",
      "metadata": {
        "id": "Mq5IDzqaRF0o"
      },
      "source": [
        "<h2> 문제2 </h2>\n",
        "국어 성적이 가장 높은 학생의 이름을 구하시오"
      ]
    },
    {
      "cell_type": "code",
      "execution_count": 91,
      "metadata": {
        "id": "SLg43ufHRSlp"
      },
      "outputs": [
        {
          "name": "stdout",
          "output_type": "stream",
          "text": [
            "철수\n"
          ]
        },
        {
          "data": {
            "text/plain": [
              "'철수'"
            ]
          },
          "execution_count": 91,
          "metadata": {},
          "output_type": "execute_result"
        }
      ],
      "source": [
        "a = (('철수', 90, 85, 75),\n",
        "     ('영희', 80, 92, 88),\n",
        "     ('민수', 75, 80, 95))\n",
        "\n",
        "score = a[0][1] # 90점\n",
        "\n",
        "for x in a:\n",
        "    if x[1] >= score:  \n",
        "        name = x[0] \n",
        "        print(name)\n",
        "name"
      ]
    },
    {
      "cell_type": "code",
      "execution_count": 82,
      "metadata": {},
      "outputs": [
        {
          "data": {
            "text/plain": [
              "90"
            ]
          },
          "execution_count": 82,
          "metadata": {},
          "output_type": "execute_result"
        }
      ],
      "source": []
    },
    {
      "cell_type": "code",
      "execution_count": null,
      "metadata": {},
      "outputs": [],
      "source": []
    }
  ],
  "metadata": {
    "accelerator": "GPU",
    "colab": {
      "gpuType": "T4",
      "provenance": []
    },
    "kernelspec": {
      "display_name": "Python 3",
      "name": "python3"
    },
    "language_info": {
      "codemirror_mode": {
        "name": "ipython",
        "version": 3
      },
      "file_extension": ".py",
      "mimetype": "text/x-python",
      "name": "python",
      "nbconvert_exporter": "python",
      "pygments_lexer": "ipython3",
      "version": "3.10.12"
    }
  },
  "nbformat": 4,
  "nbformat_minor": 0
}
