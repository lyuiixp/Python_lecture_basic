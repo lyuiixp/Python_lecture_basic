{
 "cells": [
  {
   "cell_type": "markdown",
   "metadata": {},
   "source": [
    "## 반복문(for문, while문)\n",
    "\n",
    "#### **for 문**\n",
    ">- **for 변수 in 리스트**:  형태로 사용가능하며 리스트 외에 **다른 구조도 사용가능(튜플, 문자열, 딕셔너리..)**\n",
    "```python\n",
    "for x in list:\n",
    "```\n",
    ">- **range() 활용** => for 변수 in range() : 인덱스를 활용가능\n",
    "```python\n",
    "for x in range():\n",
    "```\n",
    ">- **enumerate() 활용** : 인덱스와 값을 동시에 처리할 때 유용  \n",
    "```python\n",
    "for x,y in enumerate(list):\n",
    "```\n",
    ">- 중첩 반복문 : 시간복잡도에 유의하여 사용\n",
    "```python\n",
    "for i in list:\n",
    "  for j in range(i):\n",
    "    print('')\n",
    "```\n",
    "\n",
    "#### **while 문**\n",
    ">- 조건이 참인 동안 반복 수행함\n",
    ">- 조건에 걸리지 않으면 while문을 빠져나감\n",
    ">- **break** : **반복문을 즉시 종료, 무한루프에 빠질 경우를 방지**\n",
    ">- continue : 조건에 만족될 때, 다음 반복으로 건너뛰기\n",
    "\n",
    "#### **List Comprehension**\n",
    "```python\n",
    "X = [1,2,3]     # 반복할 객체 리스트\n",
    "new_list = []   # 새로 생성할 리스트\n",
    "for i in X:     # i 라는 임의변수는 반복할 객체리스트의 각 항목(임의변수 이름은 변경가능)\n",
    "   if 조건:      # 조건이 만족할 시\n",
    "     new_list.append(변수 표현식)    # 새로운 리스트에 표현식을 통해 나온 값을 추가\n",
    "```\n",
    "---\n",
    "- 위 형태를 아래 컴프리헨션 문법을 통해 편리하고 직관적으로 표현\n",
    "- 파이썬은 comprehension문법에 속도 최적화가 되어 조금 더 빠름\n",
    "---\n",
    "```python\n",
    "X = [1,2,3]\n",
    "new_list = [표현하고 싶은 값 for i in X if 조건]\n",
    "```\n",
    "\n",
    "\n"
   ]
  },
  {
   "cell_type": "code",
   "execution_count": null,
   "metadata": {},
   "outputs": [],
   "source": [
    "# for문 test\n",
    "# 기본 문\n",
    "test_list = [100, 200, 300]\n",
    "for i in test_list:\n",
    "    print(i)\n"
   ]
  },
  {
   "cell_type": "code",
   "execution_count": null,
   "metadata": {},
   "outputs": [],
   "source": [
    "# range()\n",
    "for i in range(len(test_list)):\n",
    "    print(test_list[i])"
   ]
  },
  {
   "cell_type": "code",
   "execution_count": null,
   "metadata": {},
   "outputs": [],
   "source": [
    "# enumerate()\n",
    "test_list = [100, 200, 300]\n",
    "\n",
    "for idx, val in enumerate(test_list):\n",
    "    print(idx, val)\n",
    "    "
   ]
  },
  {
   "cell_type": "code",
   "execution_count": 10,
   "metadata": {},
   "outputs": [],
   "source": [
    "# while문 test\n",
    "while True:\n",
    "    input_chat = input(\"입력: \")\n",
    "    if input_chat == '탈출':\n",
    "        break"
   ]
  },
  {
   "cell_type": "code",
   "execution_count": null,
   "metadata": {},
   "outputs": [],
   "source": [
    "n = 0\n",
    "while n<5:\n",
    "    print(n)\n",
    "    n += 1\n",
    "else:\n",
    "    print('n값이 5이상입니다')"
   ]
  },
  {
   "cell_type": "code",
   "execution_count": null,
   "metadata": {},
   "outputs": [],
   "source": [
    "# 1부터 10까지 출력하시오\n",
    "# for문\n",
    "for x in range(1,11):\n",
    "    print(x)\n",
    "\n",
    "# while문\n",
    "x=1 \n",
    "while x<11:\n",
    "    print(x)\n",
    "    x += 1\n"
   ]
  },
  {
   "cell_type": "code",
   "execution_count": null,
   "metadata": {},
   "outputs": [],
   "source": [
    "# 1~100까지의 합 구하기\n",
    "\n",
    "total = 0\n",
    "for x in range(1,101):\n",
    "    total += x\n",
    "\n",
    "print(total)"
   ]
  },
  {
   "cell_type": "code",
   "execution_count": null,
   "metadata": {},
   "outputs": [],
   "source": [
    "# 주어진 리스트에서 짝수만 출력\n",
    "numbers = [12, 7, 9, 20, 33, 48, 55]\n",
    "\n",
    "for x in numbers:\n",
    "    if x%2 == 0:\n",
    "        print(x)"
   ]
  },
  {
   "cell_type": "code",
   "execution_count": null,
   "metadata": {},
   "outputs": [],
   "source": [
    "# 리스트 컴프리헨션 test\n",
    "# 1에서 20까지 숫자 중 짝수의 값은 제곱하고, 홀수의 값은 '홀수'라는 문자열이 들어간 리스트를 생성하시오.\n",
    "\n",
    "result_list = []\n",
    "for x in range(1,21):\n",
    "    if x%2 ==0:\n",
    "        result_list.append(x**2)\n",
    "    else:\n",
    "        result_list.append('홀수')\n",
    "    \n",
    "result = [x**2 if x%2==0 else '홀수' for x in range(1,21)]\n",
    "print(result, end='')\n"
   ]
  },
  {
   "cell_type": "code",
   "execution_count": null,
   "metadata": {},
   "outputs": [],
   "source": [
    "print(*result)"
   ]
  },
  {
   "cell_type": "markdown",
   "metadata": {},
   "source": [
    "#### 실습문제!\n",
    "- 코드를 직접 구현해보기\n",
    "- 구현이 힘들다면 구현된 코드에 직접 주석을 달아보세요.\n",
    "- pep8 ,pep20"
   ]
  },
  {
   "cell_type": "code",
   "execution_count": null,
   "metadata": {},
   "outputs": [],
   "source": [
    "# 문제 1)\n",
    "# 1~100까지의 숫자 중 3 또는 5의 배수만 출력하시오\n",
    "\n",
    "# 코드작성\n",
    "for x in range(1,101):\n",
    "    if x%3==0 or x%5==0:\n",
    "        print(x, end = ' ')"
   ]
  },
  {
   "cell_type": "code",
   "execution_count": null,
   "metadata": {},
   "outputs": [],
   "source": [
    "# 문제 2) 상품 리스트에 가격이 매칭된 상태로 출력하기 \n",
    "# 빈칸을 채워보세요.\n",
    "\n",
    "products = [\"노트북\", \"모니터\", \"키보드\", \"마우스\"]\n",
    "prices = [1200000, 300000, 50000, 30000]\n",
    "\n",
    "for idx, (product, price) in enumerate(zip(products, prices)):          # index, value\n",
    "    print(f\"{idx}. {product} - {price}원\")\n"
   ]
  },
  {
   "cell_type": "code",
   "execution_count": null,
   "metadata": {},
   "outputs": [],
   "source": [
    "# 문제 3) 1부터 입력받은 수까지 홀수의 합만 구하기(while문 활용하기)\n",
    "# 기존의 코드에서 수정 및 추가할 부분을 작성하세요.\n",
    "\n",
    "n = int(input(\"input integer : \"))\n",
    "total = 0\n",
    "i = 1\n",
    "\n",
    "while i <= n:\n",
    "    if i%2 == 1:\n",
    "        total += i\n",
    "    i += 1\n",
    "\n",
    "\n",
    "print(f\"1부터 {n}까지 홀수의 합: {total}\")\n"
   ]
  },
  {
   "cell_type": "code",
   "execution_count": null,
   "metadata": {},
   "outputs": [],
   "source": [
    "# 문제 4) (# 중첩 반복문 활용하기!)\n",
    "# 학생들의 과목별 점수가 입력된 딕셔너리가 존재할 때, 과목별 성적이 90점 이상인 학생들을 출력하세요.\n",
    "# 출력예시) 철수의 수학과목 성적은 90점 입니다.\n",
    "students = {\n",
    "    '철수' : {'수학': 90, '과학':75},\n",
    "    '민수' : {'수학': 70, '과학':65},\n",
    "    '지영' : {'수학': 95, '과학':91}\n",
    "}\n",
    "\n",
    "# 코드작성\n",
    "for name, subjects in students.items():\n",
    "    for subject, score in subjects.items():\n",
    "        if score >= 90:\n",
    "            print(f\"{name}의 {subject}과목 성적은 {score}점 입니다.\")\n"
   ]
  },
  {
   "cell_type": "code",
   "execution_count": null,
   "metadata": {},
   "outputs": [],
   "source": [
    "# 문제 5) (# while문 활용하기!)\n",
    "# 사용자가 숫자를 입력할때마다 합계를 계산하여 출력하는 프로그램을 작성하세요.\n",
    "# 사용자가 0을 입력하게되면 프로그램이 종료됩니다.\n",
    "\n",
    "# 코드작성\n",
    "total = 0\n",
    "while True:\n",
    "    n = int(input(\"input integer : \"))\n",
    "    if n == 0:\n",
    "        break\n",
    "    total += n\n",
    "    print(total)"
   ]
  },
  {
   "cell_type": "code",
   "execution_count": null,
   "metadata": {},
   "outputs": [],
   "source": [
    "# 문제 6) (조건, 반복문 활용!)\n",
    "# 로봇이 좌표 (0,0)에서 시작하여, 주어진 명령에 따라 이동합니다. \n",
    "# 명령 리스트(commands)가 주어졌을 때, 최종 위치를 출력하세요.\n",
    "commands = ['UP', 'UP', 'LEFT', 'DOWN', 'RIGHT']\n",
    "position = [0, 0]\n",
    "\n",
    "# 코드작성\n",
    "for command in commands:\n",
    "    if command == \"UP\":\n",
    "        position[1] += 1\n",
    "    elif command == 'DOWN':\n",
    "        position[1] -= 1\n",
    "    elif command == \"LEFT\":\n",
    "        position[0] -= 1\n",
    "    elif command == 'RIGHT':\n",
    "        position[0] += 1\n",
    "\n",
    "# 0,1\n",
    "position"
   ]
  },
  {
   "cell_type": "code",
   "execution_count": null,
   "metadata": {},
   "outputs": [],
   "source": [
    "# 문제 7) (while문 활용!)\n",
    "# 로봇의 배터리 잔량이 100%에서 시작하여, 매번 10%씩 소모됩니다. \n",
    "# 배터리가 0%가 될 때까지 소모되는 과정을 출력하는 프로그램을 작성하세요. \n",
    "# 단, 배터리가 20% 이하가 되면 \"경고!: 배터리 잔량이 적습니다\" 메시지를 함께 출력하세요.\n",
    "\n",
    "# 각 []에 들어갈 코드를 작성하세요.\n",
    "\n",
    "battery = 100\n",
    "while battery>=0:\n",
    "    print(battery)\n",
    "    if battery<=20:\n",
    "        print(\"경고!: 배터리 잔량이 적습니다\")\n",
    "    battery -= 10\n",
    "    "
   ]
  },
  {
   "cell_type": "code",
   "execution_count": null,
   "metadata": {},
   "outputs": [],
   "source": []
  }
 ],
 "metadata": {
  "kernelspec": {
   "display_name": "usr",
   "language": "python",
   "name": "python3"
  },
  "language_info": {
   "codemirror_mode": {
    "name": "ipython",
    "version": 3
   },
   "file_extension": ".py",
   "mimetype": "text/x-python",
   "name": "python",
   "nbconvert_exporter": "python",
   "pygments_lexer": "ipython3",
   "version": "3.10.12"
  }
 },
 "nbformat": 4,
 "nbformat_minor": 2
}
