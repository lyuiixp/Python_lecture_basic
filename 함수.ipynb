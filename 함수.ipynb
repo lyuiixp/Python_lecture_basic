{
 "cells": [
  {
   "cell_type": "markdown",
   "metadata": {},
   "source": [
    "## 함수(method)\n",
    "- https://wikidocs.net/24\n",
    "- 함수란? 입력을 받고 특정 기능을 수행한 후 값을 반환\n",
    "- 사용이유? **코드의 재사용성, 코드의 유지보수 용이**\n",
    "- 예시) 아이스 아메리카노 제작, range()...\n",
    "- 구조\n",
    "```python\n",
    "# 함수 정의\n",
    "def 함수명(인자):\n",
    "    함수의 기능\n",
    "    return 반환할 값\n",
    "\n",
    "# 함수 호출\n",
    "함수명(인수)\n",
    "```"
   ]
  },
  {
   "cell_type": "code",
   "execution_count": 5,
   "metadata": {},
   "outputs": [],
   "source": [
    "def make_americano(shot, water):\n",
    "    print(f\"아메리카노 제작에는 {shot}, {water}가 필요합니다.\")\n",
    "    if shot != None and water != None:\n",
    "        print('아메리카노 제작 완료!')"
   ]
  },
  {
   "cell_type": "markdown",
   "metadata": {},
   "source": [
    "#### 초기값 설정(default)\n",
    "```python\n",
    "def test_default(a, b=1):\n",
    "    return a+b\n",
    "\n",
    "test_default(5,1)\n",
    "```"
   ]
  },
  {
   "cell_type": "code",
   "execution_count": 8,
   "metadata": {},
   "outputs": [
    {
     "data": {
      "text/plain": [
       "7"
      ]
     },
     "execution_count": 8,
     "metadata": {},
     "output_type": "execute_result"
    }
   ],
   "source": [
    "def test_default(a, b=1):       # default\n",
    "    return a+b\n",
    "\n",
    "test_default(5, 2)"
   ]
  },
  {
   "cell_type": "markdown",
   "metadata": {},
   "source": [
    "#### 여러 입력값 받기\n",
    "- ***매개변수** : 여러개의 입력값을 튜플로 모아 만들어줌, *args 형태, 다른 매개변수와 같이 사용 가능.\n",
    "- ****kwargs**, 키워드 매개변수 : 인수 값으로 name = '철수' 형태를 받게되면 key = value형태인 딕셔너리 값이 저장된다."
   ]
  },
  {
   "cell_type": "code",
   "execution_count": 9,
   "metadata": {},
   "outputs": [
    {
     "name": "stdout",
     "output_type": "stream",
     "text": [
      "1234\n",
      "(12345, 11, 2)\n"
     ]
    }
   ],
   "source": [
    "def test_args(a, *args):\n",
    "    print(a)\n",
    "    print(args)\n",
    "\n",
    "test_args(1234,   12345,11,2)"
   ]
  },
  {
   "cell_type": "code",
   "execution_count": 10,
   "metadata": {},
   "outputs": [
    {
     "name": "stdout",
     "output_type": "stream",
     "text": [
      "{'a': 1}\n"
     ]
    }
   ],
   "source": [
    "def test_kwargs(**kwargs):\n",
    "    print(kwargs)\n",
    "\n",
    "test_kwargs(a=1)"
   ]
  },
  {
   "cell_type": "markdown",
   "metadata": {},
   "source": [
    "#### **지역변수/ 전역변수**\n",
    ">- 지역변수 : 함수 내에서만 정의된 변수로 함수 외부에서 사용할수 없음\n",
    ">- 전역변수 : 함수 외부에서 정의된 변수로 함수 내부에서 사용하고 싶을 경우 global키워드를 사용 \n",
    ">- 전역변수 사용 시 외부 변수의 값이 변화할 수 있어 사용에 유의\n",
    "- 예시)\n",
    "```python\n",
    "count = 0\n",
    "\n",
    "\n",
    "def count_num():\n",
    "    global count\n",
    "    count += 1\n",
    "```"
   ]
  },
  {
   "cell_type": "code",
   "execution_count": 11,
   "metadata": {},
   "outputs": [
    {
     "name": "stdout",
     "output_type": "stream",
     "text": [
      "1\n"
     ]
    }
   ],
   "source": [
    "# 지역변수\n",
    "count = 0 \n",
    "\n",
    "def count_num1():\n",
    "    count = 1\n",
    "    print(count)\n",
    "\n",
    "count_num1()"
   ]
  },
  {
   "cell_type": "code",
   "execution_count": 12,
   "metadata": {},
   "outputs": [
    {
     "name": "stdout",
     "output_type": "stream",
     "text": [
      "1\n",
      "2\n",
      "2\n"
     ]
    }
   ],
   "source": [
    "# 전역변수\n",
    "count = 0       # 1, 2\n",
    "\n",
    "def count_num2():\n",
    "    global count\n",
    "    count += 1\n",
    "    print(count)\n",
    "\n",
    "count_num2()\n",
    "count_num2()\n",
    "print(count)"
   ]
  },
  {
   "cell_type": "markdown",
   "metadata": {},
   "source": [
    "#### 재귀 함수\n",
    "- 함수에서 자기 자신을 다시 호출해 작업 수행\n",
    "- 주로 반복문을 구현할 때 사용"
   ]
  },
  {
   "cell_type": "code",
   "execution_count": 13,
   "metadata": {},
   "outputs": [
    {
     "data": {
      "text/plain": [
       "6"
      ]
     },
     "execution_count": 13,
     "metadata": {},
     "output_type": "execute_result"
    }
   ],
   "source": [
    "# 예시\n",
    "def factorial(n):\n",
    "    if n == 1:\n",
    "        return 1\n",
    "    return n * factorial(n - 1)\n",
    "\n",
    "factorial(3)\n",
    "# 3 * 2 * 1"
   ]
  },
  {
   "cell_type": "markdown",
   "metadata": {},
   "source": [
    "#### lambda 함수\n",
    "- def과 동일한 역할, 간결하게 만들 때 사용\n",
    "- 구조\n",
    "```python\n",
    "함수 명 = lambda 매개변수1, 매개변수2,.. : 표현식\n",
    "```"
   ]
  },
  {
   "cell_type": "code",
   "execution_count": null,
   "metadata": {},
   "outputs": [],
   "source": [
    "add = lambda a,b: a+b\n",
    "add(3,4)"
   ]
  },
  {
   "cell_type": "code",
   "execution_count": null,
   "metadata": {},
   "outputs": [],
   "source": [
    "# map() 함수 활용\n",
    "# map()은 시퀀스의 모든 요소에 함수를 적용한 결과 반환\n",
    "test_list = [1,2,3,4]\n",
    "square_list = list(map(lambda x: x**2, test_list))\n",
    "\n",
    "square_list"
   ]
  },
  {
   "cell_type": "markdown",
   "metadata": {},
   "source": [
    "#### **함수명** 지을때 유의할 점!\n",
    ">- 명확한 의미 내포\n",
    ">- 함수가 수행하는 기능이 추측가능 해야함\n",
    ">- 동사를 명사보다 앞에 명시 ex) make_americano(), insert_userinfo()\n",
    ">- 적절한 약어 사용    ex) connect_database -> connect_DB\n",
    ">- 주석 활용\n",
    "\n",
    "- 함수명 규칙\n",
    ">- 특수문자 사용불가(언더바 제외)\n",
    ">- 숫자로 시작 불가\n",
    ">- 공백 포함 불가\n",
    ">- 주로 스네이크 케이스 사용( 소문자 시작, 언더바 사용 )\n",
    ">- 키워드, 파이썬 예약어등 사용 불가\n",
    "```\n",
    "# 키워드 확인\n",
    "import keyword\n",
    "print(keyword.kwlist)\n",
    "```"
   ]
  },
  {
   "cell_type": "markdown",
   "metadata": {},
   "source": [
    "## 연습문제\n",
    "- 함수명, 변수명은 자유롭게 작성하되 직관적으로 이해할 수 있게 작성해주세요.\n",
    "  "
   ]
  },
  {
   "cell_type": "code",
   "execution_count": 14,
   "metadata": {},
   "outputs": [
    {
     "name": "stdout",
     "output_type": "stream",
     "text": [
      "(25, 3)\n"
     ]
    }
   ],
   "source": [
    "# 요구사항: 숫자 리스트를 받아 최댓값과 최솟값을 튜플로 반환하는 함수\n",
    "\n",
    "def get_min_max(numbers):\n",
    "    return max(numbers), min(numbers)\n",
    "\n",
    "# 테스트\n",
    "nums = [10, 3, 25, 7, 8]\n",
    "print(get_min_max(nums))  # 출력: (25, 3)\n"
   ]
  },
  {
   "cell_type": "code",
   "execution_count": 15,
   "metadata": {},
   "outputs": [
    {
     "data": {
      "text/plain": [
       "80.0"
      ]
     },
     "execution_count": 15,
     "metadata": {},
     "output_type": "execute_result"
    }
   ],
   "source": [
    "# 1. 학생별 점수가 입력된 딕셔너리가 인자로 들어가고 평균점수를 반환하는 함수를 작성하세요.\n",
    "\n",
    "# 함수 정의\n",
    "def calculate_avg(score_dict):\n",
    "    total = 0\n",
    "    for score in score_dict.values():\n",
    "        total += score\n",
    "    return total/len(score_dict)\n",
    "\n",
    "# 함수 호출 후 테스트\n",
    "students = {'Alice': 90, 'Bob': 80, 'Charlie': 70}\n",
    "calculate_avg(students)\n"
   ]
  },
  {
   "cell_type": "code",
   "execution_count": 23,
   "metadata": {},
   "outputs": [
    {
     "data": {
      "text/plain": [
       "('Alice', 90)"
      ]
     },
     "execution_count": 23,
     "metadata": {},
     "output_type": "execute_result"
    }
   ],
   "source": [
    "# 1-1. 학생 점수 딕셔너리에서 가장 높은 점수를 받은 학생 찾기\n",
    "def top_student(score_dict):\n",
    "    top_student = \"\"\n",
    "    max_score = -1\n",
    "    for name, score in score_dict.items():\n",
    "        if score > max_score:\n",
    "            max_score = score\n",
    "            top_student = name\n",
    "    return top_student, max_score\n",
    "\n",
    "\n",
    "# 출력 예시 : ('Alice', 95)\n",
    "students = {'Alice': 90, 'Bob': 80, 'Charlie': 70}\n",
    "top_student(students)"
   ]
  },
  {
   "cell_type": "code",
   "execution_count": 17,
   "metadata": {},
   "outputs": [
    {
     "data": {
      "text/plain": [
       "False"
      ]
     },
     "execution_count": 17,
     "metadata": {},
     "output_type": "execute_result"
    }
   ],
   "source": [
    "# 2. 문자열을 입력받아 앞뒤로 바꿔도 같은 문자열인지 확인하는 함수를 작성하세요. ex) level, sns\n",
    "\n",
    "# 함수정의\n",
    "def is_palindrome(input_string):\n",
    "    return input_string == input_string[::-1]\n",
    "\n",
    "# 함수호출(테스트)\n",
    "# 출력 : True/ False\n",
    "is_palindrome('level1')"
   ]
  },
  {
   "cell_type": "code",
   "execution_count": 18,
   "metadata": {},
   "outputs": [
    {
     "data": {
      "text/plain": [
       "[1, 4, 9, 16]"
      ]
     },
     "execution_count": 18,
     "metadata": {},
     "output_type": "execute_result"
    }
   ],
   "source": [
    "# 3. 리스트의 요소를 모두 제곱하여 새로운 리스트를 만드는 함수를 작성하세요.\n",
    "\n",
    "# 함수정의\n",
    "def square_list(input_list):\n",
    "    return [x**2 for x in input_list]\n",
    "\n",
    "# 함수호출(테스트)\n",
    "# 출력 : [1, 4, 9, 16]\n",
    "square_list([1,2,3,4])"
   ]
  },
  {
   "cell_type": "code",
   "execution_count": 24,
   "metadata": {},
   "outputs": [
    {
     "data": {
      "text/plain": [
       "[1, 4, 3, 16]"
      ]
     },
     "execution_count": 24,
     "metadata": {},
     "output_type": "execute_result"
    }
   ],
   "source": [
    "# 3-1. 리스트에서 짝수요소는 제곱하고 홀수는 그대로 존재하는 새로운 리스트를 만드는 함수를 작성하세요.\n",
    "def square_list(input_list):    \n",
    "    return [x**2 if x%2==0 else x for x in input_list]\n",
    "\n",
    "square_list([1,2,3,4])"
   ]
  },
  {
   "cell_type": "code",
   "execution_count": 19,
   "metadata": {},
   "outputs": [
    {
     "data": {
      "text/plain": [
       "[200, 7, 10]"
      ]
     },
     "execution_count": 19,
     "metadata": {},
     "output_type": "execute_result"
    }
   ],
   "source": [
    "# 4. 숫자 리스트를 인자로 받고 리스트의 양수 요소들만 들어있는 새로운 리스트를 반환하도록 함수를 작성하세요.\n",
    "\n",
    "# 함수정의\n",
    "def filter_positive(input_list):\n",
    "    result = []\n",
    "    for num in input_list:\n",
    "        if num >0:\n",
    "            result.append(num)\n",
    "    return result\n",
    "\n",
    "# 함수호출(테스트)\n",
    "test_list = [0, -1, 200, -30, 7, 10]\n",
    "filter_positive(test_list)"
   ]
  },
  {
   "cell_type": "code",
   "execution_count": 20,
   "metadata": {},
   "outputs": [
    {
     "data": {
      "text/plain": [
       "{'python': 6, 'AI': 2, 'robot': 5, 'deep learning': 13}"
      ]
     },
     "execution_count": 20,
     "metadata": {},
     "output_type": "execute_result"
    }
   ],
   "source": [
    "# 5. 문자열 리스트에서 각 문자열의 길이를 딕셔너리로 반환하는 함수를 작성하세요.\n",
    "\n",
    "# 함수정의\n",
    "def word_length_dict(word_list):\n",
    "    result_dict ={}\n",
    "    for word in word_list:\n",
    "        result_dict[word] = len(word)\n",
    "    return result_dict\n",
    "\n",
    "# 출력예시 : {'python': 6, 'AI': 2, 'robot': 5, 'deep learning': 13}\n",
    "word_list = [\"python\", \"AI\", \"robot\", \"deep learning\"]\n",
    "word_length_dict(word_list)\n"
   ]
  },
  {
   "cell_type": "code",
   "execution_count": 22,
   "metadata": {},
   "outputs": [
    {
     "data": {
      "text/plain": [
       "10"
      ]
     },
     "execution_count": 22,
     "metadata": {},
     "output_type": "execute_result"
    }
   ],
   "source": [
    "# 6 문자열에서 숫자만 뽑아 합을 반환하는 함수를 작성하세요.\n",
    "# 요구사항: 문자열에서 숫자만 찾아서 모두 더한 값을 반환하는 함수 >> isdigit() 함수를 활용해보세요!\n",
    "\n",
    "# 함수정의\n",
    "def sum_digit(sample):\n",
    "    result_num = 0\n",
    "    for x in sample:\n",
    "        if x.isdigit():\n",
    "            result_num += int(x)\n",
    "\n",
    "    return result_num\n",
    "# 출력 예시 : 10 (1+2+3+4)\n",
    "sample = \"a1b2c3d4\"\n",
    "sum_digit(sample)"
   ]
  },
  {
   "cell_type": "code",
   "execution_count": null,
   "metadata": {},
   "outputs": [],
   "source": []
  }
 ],
 "metadata": {
  "kernelspec": {
   "display_name": "usr",
   "language": "python",
   "name": "python3"
  },
  "language_info": {
   "codemirror_mode": {
    "name": "ipython",
    "version": 3
   },
   "file_extension": ".py",
   "mimetype": "text/x-python",
   "name": "python",
   "nbconvert_exporter": "python",
   "pygments_lexer": "ipython3",
   "version": "3.10.12"
  }
 },
 "nbformat": 4,
 "nbformat_minor": 2
}
