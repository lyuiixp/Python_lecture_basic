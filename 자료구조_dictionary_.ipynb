{
  "nbformat": 4,
  "nbformat_minor": 0,
  "metadata": {
    "colab": {
      "provenance": [],
      "gpuType": "T4"
    },
    "kernelspec": {
      "name": "python3",
      "display_name": "Python 3"
    },
    "language_info": {
      "name": "python"
    },
    "accelerator": "GPU"
  },
  "cells": [
    {
      "cell_type": "markdown",
      "source": [
        "<h2 id=\"_1\">딕셔너리란?</h2>\n",
        "<p>딕셔너리는 단어 그대로 ‘사전’이라는 뜻이다. 즉 \"people\"이라는 단어에 \"사람\", \"baseball\"이라는 단어에 \"야구\"라는 뜻이 부합되듯이 딕셔너리는 Key와 Value를 한 쌍으로 가지는 자료형이다. 예컨대 Key가 \"baseball\"이라면 Value는 \"야구\"가 될 것이다.</p>\n",
        "<p><img alt=\"\" src=\"https://wikidocs.net/images/page/16/02_5_baseball.png\"></p>\n",
        "<p>딕셔너리는 리스트나 튜플처럼 순차적으로(sequential) 해당 요솟값을 구하지 않고 Key를 통해 Value를 얻는다. 이것이 바로 딕셔너리의 가장 큰 특징이다. baseball이라는 단어의 뜻을 찾기 위해 사전의 내용을 순차적으로 모두 검색하는 것이 아니라 baseball이라는 단어가 있는 곳만 펼쳐 보는 것이다.</p>"
      ],
      "metadata": {
        "id": "H4Y6RAC1GDxo"
      }
    },
    {
      "cell_type": "markdown",
      "source": [
        "<h2 id=\"_2\">딕셔너리는 어떻게 만들까?</h2>\n",
        "<pre><code class=\"language-plaintext hljs md-csc-wrap\">{Key1: Value1, Key2: Value2, Key3: Value3, ...}\n",
        "</code></pre>\n",
        "<p><em>딕셔너리 dic의 정보</em></p>\n",
        "<table>\n",
        "<thead>\n",
        "<tr>\n",
        "<th>key</th>\n",
        "<th>value</th>\n",
        "</tr>\n",
        "</thead>\n",
        "<tbody>\n",
        "<tr>\n",
        "<td>name</td>\n",
        "<td>pey</td>\n",
        "</tr>\n",
        "<tr>\n",
        "<td>phone</td>\n",
        "<td>010-9999-1234</td>\n",
        "</tr>\n",
        "<tr>\n",
        "<td>birth</td>\n",
        "<td>1118</td>\n",
        "</tr>\n",
        "</tbody>\n",
        "</table>"
      ],
      "metadata": {
        "id": "ch2QKR8ZGfqA"
      }
    },
    {
      "cell_type": "code",
      "source": [],
      "metadata": {
        "id": "8Pfsq9SjH80W"
      },
      "execution_count": null,
      "outputs": []
    },
    {
      "cell_type": "markdown",
      "source": [
        "<h3 style=\"mso-list: l75 level3 lfo167;\"><span style=\"mso-list: Ignore;\"><span style=\"font: 7pt/normal &quot;Times New Roman&quot;; font-size-adjust: none; font-stretch: normal;\">&nbsp;\n",
        "</span></span>키 이름이 중복되면?</h3>\n",
        "<div class=\"hlcode\">\n",
        "    <div class=\"syntax\">\n",
        "        <pre><span></span><span class=\"o\">&gt;&gt;&gt;</span> <span class=\"n\">lux</span> <span class=\"o\">=</span> <span class=\"p\">{</span><span class=\"s1\">'health'</span><span class=\"p\">:</span> <span class=\"mi\">490</span><span class=\"p\">,</span> <span class=\"s1\">'health'</span><span class=\"p\">:</span> <span class=\"mi\">800</span><span class=\"p\">,</span> <span class=\"s1\">'mana'</span><span class=\"p\">:</span> <span class=\"mi\">334</span><span class=\"p\">,</span> <span class=\"s1\">'melee'</span><span class=\"p\">:</span> <span class=\"mi\">550</span><span class=\"p\">,</span> <span class=\"s1\">'armor'</span><span class=\"p\">:</span> <span class=\"mf\">18.72</span><span class=\"p\">}</span>\n",
        "<span class=\"o\">&gt;&gt;&gt;</span> <span class=\"n\">lux</span><span class=\"p\">[</span><span class=\"s1\">'health'</span><span class=\"p\">]</span>&nbsp;&nbsp;&nbsp; <span class=\"c1\"># 키가 중복되면 가장 뒤에 있는 값만 사용함</span>\n",
        "<span class=\"mi\">800</span>\n",
        "<span class=\"o\">&gt;&gt;&gt;</span> <span class=\"n\">lux</span>&nbsp;&nbsp;&nbsp; <span class=\"c1\"># 중복되는 키는 저장되지 않음</span>\n",
        "<span class=\"p\">{</span><span class=\"s1\">'health'</span><span class=\"p\">:</span> <span class=\"mi\">800</span><span class=\"p\">,</span> <span class=\"s1\">'mana'</span><span class=\"p\">:</span> <span class=\"mi\">334</span><span class=\"p\">,</span> <span class=\"s1\">'melee'</span><span class=\"p\">:</span> <span class=\"mi\">550</span><span class=\"p\">,</span> <span class=\"s1\">'armor'</span><span class=\"p\">:</span> <span class=\"mf\">18.72</span><span class=\"p\">}</span>\n",
        "</pre>\n",
        "    </div>\n",
        "</div>"
      ],
      "metadata": {
        "id": "8SV3pOI5IHOR"
      }
    },
    {
      "cell_type": "code",
      "source": [],
      "metadata": {
        "id": "3_CdawkAITi_"
      },
      "execution_count": null,
      "outputs": []
    },
    {
      "cell_type": "markdown",
      "source": [
        "<p data-ke-size=\"size18\"><span style=\"font-family: 'Noto Sans Demilight', 'Noto Sans KR';\">파이썬의 딕셔너리 자료형에서 값을 꺼내는 방법은 2가지가 있다.</span></p>\n",
        "<pre id=\"code_1632529347921\" class=\"python\" data-ke-language=\"python\" data-ke-type=\"codeblock\"><code class=\"hljs\">table_dict = {<span class=\"hljs-string\">'a'</span>: <span class=\"hljs-number\">1</span>, <span class=\"hljs-string\">'b'</span>: <span class=\"hljs-number\">2</span>, <span class=\"hljs-string\">'c'</span>:<span class=\"hljs-number\">3</span>}\n",
        "\n",
        "<span class=\"hljs-comment\"># 첫번째</span>\n",
        "table_dict[<span class=\"hljs-string\">'a'</span>]   // <span class=\"hljs-number\">1</span>\n",
        "\n",
        "<span class=\"hljs-comment\">#두번째 </span>\n",
        "table_dict.get(<span class=\"hljs-string\">'b'</span>)   // <span class=\"hljs-number\">2</span></code></pre>\n",
        "<pre id=\"code_1632529833400\" class=\"python\" data-ke-language=\"python\" data-ke-type=\"codeblock\"><code class=\"hljs\">table_dict = {<span class=\"hljs-string\">'a'</span>: <span class=\"hljs-number\">1</span>, <span class=\"hljs-string\">'b'</span>: <span class=\"hljs-number\">2</span>, <span class=\"hljs-string\">'c'</span>:<span class=\"hljs-number\">3</span>}\n",
        "\n",
        "table_dict.get(<span class=\"hljs-string\">'d'</span>)\n",
        "<span class=\"hljs-meta\">&gt;&gt;&gt; </span>none\n",
        "\n",
        "table_dict.get(<span class=\"hljs-string\">'d'</span>, <span class=\"hljs-number\">4</span>)\n",
        "<span class=\"hljs-meta\">&gt;&gt;&gt; </span><span class=\"hljs-number\">4</span></code></pre>"
      ],
      "metadata": {
        "id": "PLX9i1n4OQuj"
      }
    },
    {
      "cell_type": "code",
      "source": [],
      "metadata": {
        "id": "pREStDYyOjBm"
      },
      "execution_count": null,
      "outputs": []
    },
    {
      "cell_type": "markdown",
      "source": [
        "<h2 id=\"_3\">딕셔너리 쌍 추가, 삭제하기</h2>\n",
        "<h3 id=\"_4\">1.딕셔너리 쌍 추가하기</h3>\n",
        "<pre><code class=\"language-python hljs md-csc-wrap\"><span class=\"hljs-meta\">&gt;&gt;&gt; </span>a = {<span class=\"hljs-number\">1</span>: <span class=\"hljs-string\">'a'</span>}\n",
        "<span class=\"hljs-meta\">&gt;&gt;&gt; </span>a[<span class=\"hljs-number\">2</span>] = <span class=\"hljs-string\">'b'</span>\n",
        "<span class=\"hljs-meta\">&gt;&gt;&gt; </span>a\n",
        "{<span class=\"hljs-number\">1</span>: <span class=\"hljs-string\">'a'</span>, <span class=\"hljs-number\">2</span>: <span class=\"hljs-string\">'b'</span>}\n",
        "</code></pre>\n",
        "<pre><code class=\"language-python hljs md-csc-wrap\"><span class=\"hljs-meta\">&gt;&gt;&gt; </span>a[<span class=\"hljs-string\">'name'</span>] = <span class=\"hljs-string\">'pey'</span>\n",
        "<span class=\"hljs-meta\">&gt;&gt;&gt; </span>a\n",
        "{<span class=\"hljs-number\">1</span>: <span class=\"hljs-string\">'a'</span>, <span class=\"hljs-number\">2</span>: <span class=\"hljs-string\">'b'</span>, <span class=\"hljs-string\">'name'</span>: <span class=\"hljs-string\">'pey'</span>}\n",
        "</code></pre>"
      ],
      "metadata": {
        "id": "dX4fHh3uI7vU"
      }
    },
    {
      "cell_type": "code",
      "source": [],
      "metadata": {
        "id": "HvkMaF2OJ7ka"
      },
      "execution_count": null,
      "outputs": []
    },
    {
      "cell_type": "markdown",
      "source": [
        "<h3 id=\"_5\">2.딕셔너리 요소 삭제하기</h3>\n",
        "<pre><code class=\"language-python hljs md-csc-wrap\"><span class=\"hljs-meta\">&gt;&gt;&gt; </span><span class=\"hljs-keyword\">del</span> a[<span class=\"hljs-number\">1</span>]\n",
        "<span class=\"hljs-meta\">&gt;&gt;&gt; </span>a\n",
        "{<span class=\"hljs-number\">2</span>: <span class=\"hljs-string\">'b'</span>, <span class=\"hljs-string\">'name'</span>: <span class=\"hljs-string\">'pey'</span>, <span class=\"hljs-number\">3</span>: [<span class=\"hljs-number\">1</span>, <span class=\"hljs-number\">2</span>, <span class=\"hljs-number\">3</span>]}\n",
        "</code></pre>"
      ],
      "metadata": {
        "id": "tSPwMTloKAnn"
      }
    },
    {
      "cell_type": "code",
      "source": [],
      "metadata": {
        "id": "98tBVMSELlGT"
      },
      "execution_count": null,
      "outputs": []
    },
    {
      "cell_type": "markdown",
      "source": [
        "<h2 data-ke-size=\"size26\"><b><span style=\"background-color: #006dd7;\">&nbsp;</span>&nbsp; update 사용법</b></h2>\n",
        "<p data-ke-size=\"size18\">update 함수에 <span style=\"background-color: #99cefa;\"><b>수정하거나 추가하고자 할 키와 값</b></span>을 딕셔너리 형태로 넘겨주면 된다. 아래 코드는 기존 딕셔너리(sample_dict)에 <span style=\"background-color: #99cefa;\"><b>해당 키가 이미 있다면 대응하는 값을 수정(업데이트)</b></span>하고 <span style=\"background-color: #99cefa;\"><b>없다면 새로운 키와 값을 추가</b></span>한다.</p>\n",
        "<pre id=\"code_1663214067673\" class=\"python\" data-ke-language=\"python\" data-ke-type=\"codeblock\"><code class=\"hljs\"><table class=\"hljs-ln\"><tbody><tr><td class=\"hljs-ln-line hljs-ln-numbers\" data-line-number=\"1\"><div class=\"hljs-ln-n\" data-line-number=\"1\"></div></td><td class=\"hljs-ln-line hljs-ln-code\" data-line-number=\"1\">sample_dict = {</td></tr><tr><td class=\"hljs-ln-line hljs-ln-numbers\" data-line-number=\"2\"><div class=\"hljs-ln-n\" data-line-number=\"2\"></div></td><td class=\"hljs-ln-line hljs-ln-code\" data-line-number=\"2\">    <span class=\"hljs-string\"><span class=\"hljs-string\">'수학'</span></span>:<span class=\"hljs-number\"><span class=\"hljs-number\">80</span></span>,</td></tr><tr><td class=\"hljs-ln-line hljs-ln-numbers\" data-line-number=\"3\"><div class=\"hljs-ln-n\" data-line-number=\"3\"></div></td><td class=\"hljs-ln-line hljs-ln-code\" data-line-number=\"3\">    <span class=\"hljs-string\"><span class=\"hljs-string\">'국어'</span></span>:<span class=\"hljs-number\"><span class=\"hljs-number\">90</span></span></td></tr><tr><td class=\"hljs-ln-line hljs-ln-numbers\" data-line-number=\"4\"><div class=\"hljs-ln-n\" data-line-number=\"4\"></div></td><td class=\"hljs-ln-line hljs-ln-code\" data-line-number=\"4\">}</td></tr><tr><td class=\"hljs-ln-line hljs-ln-numbers\" data-line-number=\"5\"><div class=\"hljs-ln-n\" data-line-number=\"5\"></div></td><td class=\"hljs-ln-line hljs-ln-code\" data-line-number=\"5\"> </td></tr><tr><td class=\"hljs-ln-line hljs-ln-numbers\" data-line-number=\"6\"><div class=\"hljs-ln-n\" data-line-number=\"6\"></div></td><td class=\"hljs-ln-line hljs-ln-code\" data-line-number=\"6\"><span class=\"hljs-comment\"><span class=\"hljs-comment\">## 수학 성적을 95로 수정, 영어 성적 70점 추가</span></span></td></tr><tr><td class=\"hljs-ln-line hljs-ln-numbers\" data-line-number=\"7\"><div class=\"hljs-ln-n\" data-line-number=\"7\"></div></td><td class=\"hljs-ln-line hljs-ln-code\" data-line-number=\"7\">sample_dict.update({<span class=\"hljs-string\"><span class=\"hljs-string\">'수학'</span></span>:<span class=\"hljs-number\"><span class=\"hljs-number\">95</span></span>, <span class=\"hljs-string\"><span class=\"hljs-string\">'영어'</span></span>:<span class=\"hljs-number\"><span class=\"hljs-number\">70</span></span>})</td></tr><tr><td class=\"hljs-ln-line hljs-ln-numbers\" data-line-number=\"8\"><div class=\"hljs-ln-n\" data-line-number=\"8\"></div></td><td class=\"hljs-ln-line hljs-ln-code\" data-line-number=\"8\"> </td></tr><tr><td class=\"hljs-ln-line hljs-ln-numbers\" data-line-number=\"9\"><div class=\"hljs-ln-n\" data-line-number=\"9\"></div></td><td class=\"hljs-ln-line hljs-ln-code\" data-line-number=\"9\"><span class=\"hljs-built_in\">print</span>(sample_dict)</td></tr></tbody></table></code></pre>"
      ],
      "metadata": {
        "id": "VwicRNJcQNkI"
      }
    },
    {
      "cell_type": "code",
      "source": [],
      "metadata": {
        "id": "Sj5BG7vBROZp"
      },
      "execution_count": null,
      "outputs": []
    },
    {
      "cell_type": "markdown",
      "source": [
        "<h2>반복문으로 딕셔너리의 키-값 쌍을 모두 출력하기</h2>\n",
        "<div class=\"hlcode\" id=\"yui_3_17_2_1_1726748983884_32\">\n",
        "    <div class=\"syntax\" id=\"yui_3_17_2_1_1726748983884_31\">\n",
        "        <pre id=\"yui_3_17_2_1_1726748983884_30\"><span></span><span class=\"o\">&gt;&gt;&gt;</span> <span class=\"n\">x</span> <span class=\"o\">=</span> <span class=\"p\">{</span><span class=\"s1\">'a'</span><span class=\"p\">:</span> <span class=\"mi\">10</span><span class=\"p\">,</span> <span class=\"s1\">'b'</span><span class=\"p\">:</span> <span class=\"mi\">20</span><span class=\"p\">,</span> <span class=\"s1\">'c'</span><span class=\"p\">:</span> <span class=\"mi\">30</span><span class=\"p\">,</span> <span class=\"s1\">'d'</span><span class=\"p\">:</span> <span class=\"mi\">40</span><span class=\"p\">}</span>\n",
        "<span class=\"o\">&gt;&gt;&gt;</span> <span class=\"k\">for</span> <span class=\"n\">i</span> <span class=\"ow\">in</span> <span class=\"n\">x</span><span class=\"p\">:</span>\n",
        "<span class=\"o\">...</span>&nbsp;&nbsp;&nbsp;&nbsp; <span class=\"k\">print</span><span class=\"p\">(</span><span class=\"n\">i</span><span class=\"p\">,</span> <span class=\"n\">end</span><span class=\"o\">=</span><span class=\"s1\">' '</span><span class=\"p\">)</span>\n",
        "<span class=\"o\">...</span>\n",
        "<span class=\"n\">a</span> <span class=\"n\">b</span> <span class=\"n\">c</span> <span class=\"n\">d</span>\n",
        "</pre>\n",
        "    </div>\n",
        "</div>"
      ],
      "metadata": {
        "id": "1AioC0_GRO3n"
      }
    },
    {
      "cell_type": "code",
      "source": [],
      "metadata": {
        "id": "O8mIV4hRR_LP"
      },
      "execution_count": null,
      "outputs": []
    },
    {
      "cell_type": "markdown",
      "source": [
        "<p><span class=\"cdio-codei\">for i in x:</span>처럼 <span class=\"cdio-codei\">for</span> 반복문에 딕셔너리를 지정한 뒤에 <span class=\"cdio-codei\">print</span>로 변수 <span class=\"cdio-codei\">i</span>를 출력해보면 값은 출력되지 않고 키만 출력됩니다. 그럼 키와 값을 모두 출력하려면 어떻게 해야 할까요?</p>\n",
        "<p>이때는 <span class=\"cdio-codei\">for in</span> 뒤에 딕셔너리를 지정하고 <span class=\"cdio-codei\">items</span>를 사용해야 합니다.</p>\n",
        "<div class=\"hlcode\">\n",
        "    <div class=\"syntax\">\n",
        "        <pre><span></span><span class=\"k\">for</span> <span class=\"err\">키</span><span class=\"p\">,</span> <span class=\"err\">값</span> <span class=\"ow\">in</span> <span class=\"err\">딕셔너리</span><span class=\"o\">.</span><span class=\"n\">items</span><span class=\"p\">():</span>\n",
        "&nbsp;&nbsp;&nbsp; &nbsp;<span class=\"err\">반복할</span> <span class=\"err\">코드</span>\n",
        "</pre>\n",
        "    </div>\n",
        "</div>\n",
        "<div class=\"hlcode\">\n",
        "    <div class=\"syntax\">\n",
        "        <pre><span></span><span class=\"o\">&gt;&gt;&gt;</span> <span class=\"n\">x</span> <span class=\"o\">=</span> <span class=\"p\">{</span><span class=\"s1\">'a'</span><span class=\"p\">:</span> <span class=\"mi\">10</span><span class=\"p\">,</span> <span class=\"s1\">'b'</span><span class=\"p\">:</span> <span class=\"mi\">20</span><span class=\"p\">,</span> <span class=\"s1\">'c'</span><span class=\"p\">:</span> <span class=\"mi\">30</span><span class=\"p\">,</span> <span class=\"s1\">'d'</span><span class=\"p\">:</span> <span class=\"mi\">40</span><span class=\"p\">}</span>\n",
        "<span class=\"o\">&gt;&gt;&gt;</span> <span class=\"k\">for</span> <span class=\"n\">key</span><span class=\"p\">,</span> <span class=\"n\">value</span> <span class=\"ow\">in</span> <span class=\"n\">x</span><span class=\"o\">.</span><span class=\"n\">items</span><span class=\"p\">():</span>\n",
        "<span class=\"o\">...</span>&nbsp;&nbsp;&nbsp;&nbsp; <span class=\"k\">print</span><span class=\"p\">(</span><span class=\"n\">key</span><span class=\"p\">,</span> <span class=\"n\">value</span><span class=\"p\">)</span>\n",
        "<span class=\"o\">...</span>\n",
        "<span class=\"n\">a</span> <span class=\"mi\">10</span>\n",
        "<span class=\"n\">b</span> <span class=\"mi\">20</span>\n",
        "<span class=\"n\">c</span> <span class=\"mi\">30</span>\n",
        "<span class=\"n\">d</span> <span class=\"mi\">40</span>\n",
        "</pre>\n",
        "    </div>\n",
        "</div>"
      ],
      "metadata": {
        "id": "zFbWHK1kRoJO"
      }
    },
    {
      "cell_type": "code",
      "source": [],
      "metadata": {
        "id": "4QCmOZWsR7zx"
      },
      "execution_count": null,
      "outputs": []
    },
    {
      "cell_type": "markdown",
      "source": [
        "\n",
        "<li><span class=\"cdio-codei\">items: 키-값\n",
        "쌍을 모두 가져옴</span></li>\n",
        "<li><span class=\"cdio-codei\">keys: 키를 모두 가져옴</span></li>\n",
        "<li><span class=\"cdio-codei\">values: 값을 모두 가져옴</span></li>\n",
        "<h3 style=\"mso-list: l75 level3 lfo167;\" id=\"yui_3_17_2_1_1726748983884_38\"><span style=\"mso-list: Ignore;\"><span style=\"font: 7pt/normal &quot;Times New Roman&quot;; font-size-adjust: none; font-stretch: normal;\">&nbsp;\n",
        "</span></span>딕셔너리의 키만 출력하기</h3>"
      ],
      "metadata": {
        "id": "zc4lmgp2SUrn"
      }
    },
    {
      "cell_type": "markdown",
      "source": [
        "<div class=\"hlcode\">\n",
        "    <div class=\"syntax\">\n",
        "        <pre><span></span><span class=\"o\">&gt;&gt;&gt;</span> <span class=\"n\">x</span> <span class=\"o\">=</span> <span class=\"p\">{</span><span class=\"s1\">'a'</span><span class=\"p\">:</span> <span class=\"mi\">10</span><span class=\"p\">,</span> <span class=\"s1\">'b'</span><span class=\"p\">:</span> <span class=\"mi\">20</span><span class=\"p\">,</span> <span class=\"s1\">'c'</span><span class=\"p\">:</span> <span class=\"mi\">30</span><span class=\"p\">,</span> <span class=\"s1\">'d'</span><span class=\"p\">:</span> <span class=\"mi\">40</span><span class=\"p\">}</span>\n",
        "<span class=\"o\">&gt;&gt;&gt;</span> <span class=\"k\">for</span> <span class=\"n\">key</span> <span class=\"ow\">in</span> <span class=\"n\">x</span><span class=\"o\">.</span><span class=\"n\">keys</span><span class=\"p\">():</span>\n",
        "<span class=\"o\">...</span>&nbsp;&nbsp;&nbsp;&nbsp; <span class=\"k\">print</span><span class=\"p\">(</span><span class=\"n\">key</span><span class=\"p\">,</span> <span class=\"n\">end</span><span class=\"o\">=</span><span class=\"s1\">' '</span><span class=\"p\">)</span>\n",
        "<span class=\"o\">...</span>\n",
        "<span class=\"n\">a</span> <span class=\"n\">b</span> <span class=\"n\">c</span> <span class=\"n\">d</span>\n",
        "</pre>\n",
        "    </div>\n",
        "</div>"
      ],
      "metadata": {
        "id": "R0EPXBZhSnlQ"
      }
    },
    {
      "cell_type": "code",
      "source": [],
      "metadata": {
        "id": "HMvDLfMES8Xp"
      },
      "execution_count": null,
      "outputs": []
    },
    {
      "cell_type": "markdown",
      "source": [
        "<h3 style=\"mso-list: l75 level3 lfo167;\"><span style=\"mso-list: Ignore;\"><span style=\"font: 7pt/normal &quot;Times New Roman&quot;; font-size-adjust: none; font-stretch: normal;\">&nbsp;\n",
        "</span></span>딕셔너리의 값만 출력하기</h3>\n",
        "<div class=\"hlcode\">\n",
        "    <div class=\"syntax\">\n",
        "        <pre><span></span><span class=\"o\">&gt;&gt;&gt;</span> <span class=\"n\">x</span> <span class=\"o\">=</span> <span class=\"p\">{</span><span class=\"s1\">'a'</span><span class=\"p\">:</span> <span class=\"mi\">10</span><span class=\"p\">,</span> <span class=\"s1\">'b'</span><span class=\"p\">:</span> <span class=\"mi\">20</span><span class=\"p\">,</span> <span class=\"s1\">'c'</span><span class=\"p\">:</span> <span class=\"mi\">30</span><span class=\"p\">,</span> <span class=\"s1\">'d'</span><span class=\"p\">:</span> <span class=\"mi\">40</span><span class=\"p\">}</span>\n",
        "<span class=\"o\">&gt;&gt;&gt;</span> <span class=\"k\">for</span> <span class=\"n\">value</span> <span class=\"ow\">in</span> <span class=\"n\">x</span><span class=\"o\">.</span><span class=\"n\">values</span><span class=\"p\">():</span>\n",
        "<span class=\"o\">...</span>&nbsp;&nbsp;&nbsp;&nbsp; <span class=\"k\">print</span><span class=\"p\">(</span><span class=\"n\">value</span><span class=\"p\">,</span> <span class=\"n\">end</span><span class=\"o\">=</span><span class=\"s1\">' '</span><span class=\"p\">)</span>\n",
        "<span class=\"o\">...</span>\n",
        "<span class=\"mi\">10</span> <span class=\"mi\">20</span> <span class=\"mi\">30</span> <span class=\"mi\">40</span>\n",
        "</pre>\n",
        "    </div>\n",
        "</div>"
      ],
      "metadata": {
        "id": "n1n0OqBWS6n7"
      }
    },
    {
      "cell_type": "code",
      "source": [],
      "metadata": {
        "id": "K09jLB9iTD-i"
      },
      "execution_count": null,
      "outputs": []
    },
    {
      "cell_type": "markdown",
      "source": [
        "<p>Key에 리스트는 쓸 수 없다. 하지만 튜플은 Key로 쓸 수 있다. 딕셔너리의 Key로 쓸 수 있느냐, 없느냐는 Key가 변하는(mutable) 값인지, 변하지 않는(immutable) 값인지에 달려 있다. 리스트는 그 값이 변할 수 있기 때문에 Key로 쓸 수 없다. 다음 예처럼 리스트를 Key로 설정하면 리스트를 키 값으로 사용할 수 없다는 오류가 발생한다.</p>\n",
        "<pre><code class=\"language-python hljs md-csc-wrap\"><span class=\"hljs-meta\">&gt;&gt;&gt; </span>a = {[<span class=\"hljs-number\">1</span>,<span class=\"hljs-number\">2</span>] : <span class=\"hljs-string\">'hi'</span>}\n",
        "Traceback (most recent call last):\n",
        "  File <span class=\"hljs-string\">\"&lt;stdin&gt;\"</span>, line <span class=\"hljs-number\">1</span>, <span class=\"hljs-keyword\">in</span> &lt;module&gt;\n",
        "TypeError: unhashable <span class=\"hljs-built_in\">type</span>: <span class=\"hljs-string\">'list'</span>\n",
        "</code></pre>\n",
        "<p>단, Value에는 변하는 값이든, 변하지 않는 값이든 아무 값이나 넣을 수 있다.</p>"
      ],
      "metadata": {
        "id": "vkfwGeNudmqx"
      }
    },
    {
      "cell_type": "code",
      "source": [],
      "metadata": {
        "id": "IVUZK2Wzd8Qr"
      },
      "execution_count": null,
      "outputs": []
    },
    {
      "cell_type": "markdown",
      "source": [
        "<h2 id=\"_1\">집합 자료형은 어떻게 만들까?</h2>\n",
        "<p>집합 자료형은 다음과 같이 set 키워드를 사용해 만들 수 있다.</p>\n",
        "<pre><code class=\"language-python hljs md-csc-wrap\"><span class=\"hljs-meta\">&gt;&gt;&gt; </span>s1 = <span class=\"hljs-built_in\">set</span>([<span class=\"hljs-number\">1</span>, <span class=\"hljs-number\">2</span>, <span class=\"hljs-number\">3</span>])\n",
        "<span class=\"hljs-meta\">&gt;&gt;&gt; </span>s1\n",
        "{<span class=\"hljs-number\">1</span>, <span class=\"hljs-number\">2</span>, <span class=\"hljs-number\">3</span>}\n",
        "</code></pre>\n",
        "<pre><code class=\"language-python hljs md-csc-wrap\"><span class=\"hljs-meta\">&gt;&gt;&gt; </span>s2 = <span class=\"hljs-built_in\">set</span>(<span class=\"hljs-string\">\"Hello\"</span>)\n",
        "<span class=\"hljs-meta\">&gt;&gt;&gt; </span>s2\n",
        "{<span class=\"hljs-string\">'e'</span>, <span class=\"hljs-string\">'H'</span>, <span class=\"hljs-string\">'l'</span>, <span class=\"hljs-string\">'o'</span>}\n",
        "</code></pre>"
      ],
      "metadata": {
        "id": "LVFZsROVek3J"
      }
    },
    {
      "cell_type": "code",
      "source": [],
      "metadata": {
        "id": "XV5Ex37ag630"
      },
      "execution_count": null,
      "outputs": []
    },
    {
      "cell_type": "markdown",
      "source": [
        "<h2 id=\"_2\">집합 자료형의 특징</h2>\n",
        "<ul>\n",
        "<li>중복을 허용하지 않는다.</li>\n",
        "<li>순서가 없다(Unordered).</li>\n",
        "</ul>\n",
        "<blockquote>\n",
        "<p>set은 중복을 허용하지 않는 특징 때문에 데이터의 중복을 제거하기 위한 필터로 종종 사용된다.</p>\n",
        "</blockquote>\n",
        "<p>리스트나 튜플은 순서가 있기(ordered) 때문에 인덱싱을 통해 요솟값을 얻을 수 있지만, set 자료형은 순서가 없기(unordered) 때문에 인덱싱을 통해 요솟값을 얻을 수 없다.  딕셔너리 역시 순서가 없는 자료형이므로 인덱싱을 지원하지 않는다.</p>\n",
        "<p>만약 set 자료형에 저장된 값을 인덱싱으로 접근하려면 다음과 같이 리스트나 튜플로 변환한 후에 해야 한다.</p>"
      ],
      "metadata": {
        "id": "QcPvUot5g7bU"
      }
    },
    {
      "cell_type": "markdown",
      "source": [
        "<pre><code class=\"language-python hljs md-csc-wrap\"><span class=\"hljs-meta\">&gt;&gt;&gt; </span>s1 = <span class=\"hljs-built_in\">set</span>([<span class=\"hljs-number\">1</span>, <span class=\"hljs-number\">2</span>, <span class=\"hljs-number\">3</span>])\n",
        "<span class=\"hljs-meta\">&gt;&gt;&gt; </span>l1 = <span class=\"hljs-built_in\">list</span>(s1)\n",
        "<span class=\"hljs-meta\">&gt;&gt;&gt; </span>l1\n",
        "[<span class=\"hljs-number\">1</span>, <span class=\"hljs-number\">2</span>, <span class=\"hljs-number\">3</span>]\n",
        "<span class=\"hljs-meta\">&gt;&gt;&gt; </span>l1[<span class=\"hljs-number\">0</span>]\n",
        "<span class=\"hljs-number\">1</span>\n",
        "<span class=\"hljs-meta\">&gt;&gt;&gt; </span>t1 = <span class=\"hljs-built_in\">tuple</span>(s1)\n",
        "<span class=\"hljs-meta\">&gt;&gt;&gt; </span>t1\n",
        "(<span class=\"hljs-number\">1</span>, <span class=\"hljs-number\">2</span>, <span class=\"hljs-number\">3</span>)\n",
        "<span class=\"hljs-meta\">&gt;&gt;&gt; </span>t1[<span class=\"hljs-number\">0</span>]\n",
        "<span class=\"hljs-number\">1</span>\n",
        "</code></pre>"
      ],
      "metadata": {
        "id": "KseJNg7Ehay8"
      }
    },
    {
      "cell_type": "code",
      "source": [],
      "metadata": {
        "id": "I7h_G3GBhen_"
      },
      "execution_count": null,
      "outputs": []
    },
    {
      "cell_type": "markdown",
      "source": [
        "<h2 id=\"_3\">교집합, 합집합, 차집합 구하기</h2>\n",
        "<img src=\"https://img1.daumcdn.net/thumb/R800x0/?scode=mtistory2&amp;fname=https%3A%2F%2Ft1.daumcdn.net%2Fcfile%2Ftistory%2F99C9173B5AFCF1C516\" jsaction=\"\" class=\"sFlh5c FyHeAf iPVvYb\" style=\"max-width: 617px; height: 326px; margin: 0px; width: 353px;\" alt=\"Python] numpy 집합함수 (set functions)\" jsname=\"kn3ccd\" aria-hidden=\"false\">"
      ],
      "metadata": {
        "id": "pSNm9g4GhpNi"
      }
    },
    {
      "cell_type": "markdown",
      "source": [
        "<p>set 자료형을 정말 유용하게 사용하는 경우는 교집합, 합집합, 차집합을 구할 때이다.</p>\n",
        "<pre><code class=\"language-python hljs md-csc-wrap\"><span class=\"hljs-meta\">&gt;&gt;&gt; </span>s1 = <span class=\"hljs-built_in\">set</span>([<span class=\"hljs-number\">1</span>, <span class=\"hljs-number\">2</span>, <span class=\"hljs-number\">3</span>, <span class=\"hljs-number\">4</span>, <span class=\"hljs-number\">5</span>, <span class=\"hljs-number\">6</span>])\n",
        "<span class=\"hljs-meta\">&gt;&gt;&gt; </span>s2 = <span class=\"hljs-built_in\">set</span>([<span class=\"hljs-number\">4</span>, <span class=\"hljs-number\">5</span>, <span class=\"hljs-number\">6</span>, <span class=\"hljs-number\">7</span>, <span class=\"hljs-number\">8</span>, <span class=\"hljs-number\">9</span>])\n",
        "</code></pre>"
      ],
      "metadata": {
        "id": "0jrGT6YFiKFF"
      }
    },
    {
      "cell_type": "markdown",
      "source": [
        "<h3 id=\"_4\">교집합 구하기</h3>\n",
        "<p>s1과 s2의 교집합을 구해 보자. 다음과 같이 ‘&amp;’를 이용하면 교집합을 간단히 구할 수 있다.</p>\n",
        "<pre><code class=\"language-python hljs md-csc-wrap\"><span class=\"hljs-meta\">&gt;&gt;&gt; </span>s1 &amp; s2\n",
        "{<span class=\"hljs-number\">4</span>, <span class=\"hljs-number\">5</span>, <span class=\"hljs-number\">6</span>}\n",
        "</code></pre>\n",
        "<p>또는 다음과 같이 intersection 함수를 사용해도 결과는 동일하다.</p>\n",
        "<pre><code class=\"language-python hljs md-csc-wrap\"><span class=\"hljs-meta\">&gt;&gt;&gt; </span>s1.intersection(s2)\n",
        "{<span class=\"hljs-number\">4</span>, <span class=\"hljs-number\">5</span>, <span class=\"hljs-number\">6</span>}\n",
        "</code></pre>\n",
        "<p>s2.intersection(s1)을 사용해도 결과는 동일하다.</p>"
      ],
      "metadata": {
        "id": "v6rJR-DhiZWP"
      }
    },
    {
      "cell_type": "code",
      "source": [],
      "metadata": {
        "id": "45oHhdH3i74w"
      },
      "execution_count": null,
      "outputs": []
    },
    {
      "cell_type": "markdown",
      "source": [
        "<h3 id=\"_5\">합집합 구하기</h3>\n",
        "<p>이번에는 합집합을 구해 보자. ‘|’를 사용하면 합집합을 구할 수 있다. 이때 4, 5, 6처럼 중복해서 포함된 값은 1개씩만 표현된다.</p>\n",
        "<pre><code class=\"language-python hljs md-csc-wrap\"><span class=\"hljs-meta\">&gt;&gt;&gt; </span>s1 | s2\n",
        "{<span class=\"hljs-number\">1</span>, <span class=\"hljs-number\">2</span>, <span class=\"hljs-number\">3</span>, <span class=\"hljs-number\">4</span>, <span class=\"hljs-number\">5</span>, <span class=\"hljs-number\">6</span>, <span class=\"hljs-number\">7</span>, <span class=\"hljs-number\">8</span>, <span class=\"hljs-number\">9</span>}\n",
        "</code></pre>\n",
        "<pre><code class=\"language-python hljs md-csc-wrap\"><span class=\"hljs-meta\">&gt;&gt;&gt; </span>s1.union(s2)\n",
        "{<span class=\"hljs-number\">1</span>, <span class=\"hljs-number\">2</span>, <span class=\"hljs-number\">3</span>, <span class=\"hljs-number\">4</span>, <span class=\"hljs-number\">5</span>, <span class=\"hljs-number\">6</span>, <span class=\"hljs-number\">7</span>, <span class=\"hljs-number\">8</span>, <span class=\"hljs-number\">9</span>}\n",
        "</code></pre>\n",
        "<p>s2.union(s1)을 사용해도 결과는 동일하다.</p>"
      ],
      "metadata": {
        "id": "Sv8sFVqxjIqr"
      }
    },
    {
      "cell_type": "code",
      "source": [],
      "metadata": {
        "id": "sYLqT0CjjgZP"
      },
      "execution_count": null,
      "outputs": []
    },
    {
      "cell_type": "markdown",
      "source": [
        "<h3 id=\"_6\">차집합 구하기</h3>\n",
        "<p>마지막으로 차집합을 구해 보자. -(빼기)를 사용하면 차집합을 구할 수 있다.</p>\n",
        "<pre><code class=\"language-python hljs md-csc-wrap\"><span class=\"hljs-meta\">&gt;&gt;&gt; </span>s1 - s2\n",
        "{<span class=\"hljs-number\">1</span>, <span class=\"hljs-number\">2</span>, <span class=\"hljs-number\">3</span>}\n",
        "<span class=\"hljs-meta\">&gt;&gt;&gt; </span>s2 - s1\n",
        "{<span class=\"hljs-number\">8</span>, <span class=\"hljs-number\">9</span>, <span class=\"hljs-number\">7</span>}\n",
        "</code></pre>\n",
        "<p>difference 함수를 사용해도 차집합을 구할 수 있다.</p>\n",
        "<pre><code class=\"language-python hljs md-csc-wrap\"><span class=\"hljs-meta\">&gt;&gt;&gt; </span>s1.difference(s2)\n",
        "{<span class=\"hljs-number\">1</span>, <span class=\"hljs-number\">2</span>, <span class=\"hljs-number\">3</span>}\n",
        "<span class=\"hljs-meta\">&gt;&gt;&gt; </span>s2.difference(s1)\n",
        "{<span class=\"hljs-number\">8</span>, <span class=\"hljs-number\">9</span>, <span class=\"hljs-number\">7</span>}\n",
        "</code></pre>"
      ],
      "metadata": {
        "id": "_ZCpR51qjtNW"
      }
    },
    {
      "cell_type": "code",
      "source": [],
      "metadata": {
        "id": "0TDOTp22kD0D"
      },
      "execution_count": null,
      "outputs": []
    }
  ]
}