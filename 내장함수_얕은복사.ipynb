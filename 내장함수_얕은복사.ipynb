{
 "cells": [
  {
   "cell_type": "markdown",
   "metadata": {},
   "source": [
    "### 얕은 복사 vs 깊은 복사\n",
    "\n",
    "#### 1) 얕은 복사\n",
    "- 얕은 복사는 객체의 참조를 복사하여 원본 객체와 복사된 객체가 같은 메모리 공간을 참조.\n",
    "- 리스트와 같은 가변 객체를 복사할 때 주의."
   ]
  },
  {
   "cell_type": "code",
   "execution_count": null,
   "metadata": {},
   "outputs": [],
   "source": [
    "# 얕은 복사 \n",
    "a = [1,2,3]\n",
    "b = a\n",
    "a.append(4)\n",
    "b.append(5)\n",
    "b"
   ]
  },
  {
   "cell_type": "code",
   "execution_count": null,
   "metadata": {},
   "outputs": [],
   "source": [
    "# list의 곱은 얕은 복사\n",
    "a = [[1,2]] * 3         # [1,2]\n",
    "a[2].append(3)        \n",
    "a                   # [[1,2,3], [1,2,3], [1,2,3]]\n",
    "# [[1,2],3]\n",
    "# [1,2,3]\n",
    "# [[1,3],2]"
   ]
  },
  {
   "cell_type": "code",
   "execution_count": null,
   "metadata": {},
   "outputs": [],
   "source": [
    "import copy\n",
    "\n",
    "# 얕은 복사 예제\n",
    "list1 = [[1, 2], [3, 4]]\n",
    "list2 = list1               # 같은 메모리 참조\n",
    "list3 = copy.copy(list1)    # 얕은 복사\n",
    "\n",
    "list1[0][0] = 100\n",
    "print(\"list1:\", list1)  # [[100, 2], [3, 4]]\n",
    "print(\"list2:\", list2)  # [[100, 2], [3, 4]] -> 원본이 변경됨\n",
    "print(\"list3:\", list3)  # [[100, 2], [3, 4]] -> 얕은 복사는 내부 리스트를 참조하므로 값이 변함"
   ]
  },
  {
   "cell_type": "code",
   "execution_count": null,
   "metadata": {},
   "outputs": [],
   "source": [
    "print(id(list1[0]))  # list1[0]의 메모리 주소\n",
    "print(id(list2[0]))  # list2[0]의 메모리 주소 (list1과 동일)"
   ]
  },
  {
   "cell_type": "markdown",
   "metadata": {},
   "source": [
    "#### 2) 깊은 복사\n",
    "- 깊은 복사는 원본 객체와 복사된 객체가 서로 다른 메모리 공간을 가지며, 내부 요소까지 모두 복사.\n",
    "- copy.deepcopy() 함수를 사용."
   ]
  },
  {
   "cell_type": "code",
   "execution_count": null,
   "metadata": {},
   "outputs": [],
   "source": [
    "import copy \n",
    "\n",
    "list1 = [[100, 2], [3, 4]]\n",
    "list4 = copy.deepcopy(list1)\n",
    "list1[0][0] = 200\n",
    "print(\"list1:\", list1)  \n",
    "print(\"list4:\", list4)  "
   ]
  },
  {
   "cell_type": "code",
   "execution_count": null,
   "metadata": {},
   "outputs": [],
   "source": [
    "# dictionary\n",
    "dict1 = {\"a\": [1, 2], \"b\": [3, 4]}\n",
    "dict2 = dict1.copy()    # 얕은 복사\n",
    "\n",
    "# 원본 변경\n",
    "dict1[\"a\"][0] = 10\n",
    "print(\"dict1:\", dict1)  \n",
    "print(\"dict2:\", dict2)  "
   ]
  },
  {
   "cell_type": "code",
   "execution_count": null,
   "metadata": {},
   "outputs": [],
   "source": [
    "import copy\n",
    "\n",
    "dict3 = copy.deepcopy(dict1)\n",
    "dict1[\"a\"][0] = 20\n",
    "print(\"dict1:\", dict1) \n",
    "print(\"dict3:\", dict3) "
   ]
  },
  {
   "cell_type": "code",
   "execution_count": null,
   "metadata": {},
   "outputs": [],
   "source": [
    "list_a = [1, 2, 3]\n",
    "list_b = list_a                # 얕은 복사\n",
    "print(id(list_a), id(list_b))  # 동일한 메모리 주소\n",
    "\n",
    "list_c = list_a.copy()         # 얕은 복사\n",
    "print(id(list_a), id(list_c))  # 다른 메모리 주소지만 내부 요소는 동일 참조\n",
    "\n",
    "list_d = copy.deepcopy(list_a)\n",
    "print(id(list_a), id(list_d))  # 완전히 다른 메모리 주소"
   ]
  },
  {
   "cell_type": "markdown",
   "metadata": {},
   "source": [
    "### 내장함수"
   ]
  },
  {
   "cell_type": "markdown",
   "metadata": {},
   "source": [
    "#### 1. 문자열 관련 내장함수\n",
    "- len(): 문자열의 길이를 반환\n",
    "- upper(): 문자열을 모두 대문자로 변환\n",
    "- lower(): 문자열을 모두 소문자로 변환\n",
    "- strip(): 문자열의 앞뒤 공백을 제거\n",
    "- replace(old, new): 문자열 내 특정 문자를 다른 문자로 대체\n",
    "- split(delimiter): 문자열을 구분자로 나누어 리스트로 반환\n",
    "- join(iterable): 리스트 같은 반복 가능한 객체를 하나의 문자열로 합침"
   ]
  },
  {
   "cell_type": "code",
   "execution_count": null,
   "metadata": {},
   "outputs": [],
   "source": [
    "ex_string = 'Rokey-bootcamp'\n",
    "\n",
    "ex_string.split('b')"
   ]
  },
  {
   "cell_type": "code",
   "execution_count": null,
   "metadata": {},
   "outputs": [],
   "source": [
    "# join\n",
    "words = [\"Python\", \"is\", \"awesome\"]\n",
    "\n",
    "# 공백을 기준으로 문자열 연결\n",
    "sentence = \" \".join(words)\n",
    "print(sentence)"
   ]
  },
  {
   "cell_type": "code",
   "execution_count": null,
   "metadata": {},
   "outputs": [],
   "source": [
    "names = [\"P\", \"i\", \"a\"]\n",
    "\n",
    "# 쉼표와 공백으로 연결\n",
    "result = \", \".join(names)\n",
    "print(result)\n"
   ]
  },
  {
   "cell_type": "code",
   "execution_count": null,
   "metadata": {},
   "outputs": [],
   "source": [
    "names = [\"P\", \"i\", \"a\"]\n",
    "\"\".join(names)"
   ]
  },
  {
   "cell_type": "markdown",
   "metadata": {},
   "source": [
    "#### 2. 리스트 관련 내장함수\n",
    "- len(): 리스트의 길이를 반환\n",
    "- append(x): 리스트 끝에 요소 x를 추가\n",
    "- insert(i, x): 인덱스 i에 요소 x를 삽입\n",
    "- pop(i): 인덱스 i에 있는 요소를 제거하고 반환\n",
    "- remove(x): 리스트에서 값 x를 제거\n",
    "- sort(): 리스트를 오름차순으로 정렬\n",
    "- reverse(): 리스트의 순서를 반대로 뒤집음"
   ]
  },
  {
   "cell_type": "code",
   "execution_count": null,
   "metadata": {},
   "outputs": [],
   "source": [
    "ex_list = [10, 20, 30, 40]\n",
    "ex_list.append(100)\n",
    "ex_list.insert(1, 200)\n",
    "ex_list.pop(1)\n",
    "ex_list.remove(100)\n",
    "ex_list.reverse()\n",
    "ex_list"
   ]
  },
  {
   "cell_type": "code",
   "execution_count": null,
   "metadata": {},
   "outputs": [],
   "source": []
  },
  {
   "cell_type": "markdown",
   "metadata": {},
   "source": [
    "#### 3. 딕셔너리 관련 내장함수\n",
    "- keys(): 딕셔너리의 모든 키를 반환\n",
    "- values(): 딕셔너리의 모든 값을 반환\n",
    "- items(): 키-값 쌍을 튜플 형태로 반환\n",
    "- get(key, default): 키에 대한 값을 반환하고, 키가 없으면 기본값을 반환\n",
    "- update(): 딕셔너리에 다른 딕셔너리 값을 추가하거나 갱신\n",
    "- pop(key): 해당 키의 값을 제거하고 반환"
   ]
  },
  {
   "cell_type": "code",
   "execution_count": 3,
   "metadata": {},
   "outputs": [],
   "source": [
    "scores = {'math': 85, 'science': 90}\n"
   ]
  },
  {
   "cell_type": "code",
   "execution_count": null,
   "metadata": {},
   "outputs": [],
   "source": []
  },
  {
   "cell_type": "markdown",
   "metadata": {},
   "source": [
    "#### 4. 집합(set) 관련 내장함수\n",
    "- add(x): 집합에 요소 x를 추가\n",
    "- remove(x): 집합에서 요소 x를 제거\n",
    "- union(): 두 집합의 합집합을 반환\n",
    "- intersection(): 두 집합의 교집합을 반환\n",
    "- difference(): 두 집합의 차집합을 반환"
   ]
  },
  {
   "cell_type": "code",
   "execution_count": null,
   "metadata": {},
   "outputs": [],
   "source": [
    "numbers = {1, 2, 3, 4, 5}\n",
    "numbers.add(6)\n",
    "numbers.remove(1)\n",
    "numbers"
   ]
  },
  {
   "cell_type": "code",
   "execution_count": null,
   "metadata": {},
   "outputs": [],
   "source": [
    "num_set = {1,2,3,4}\n",
    "numbers.difference(num_set)"
   ]
  },
  {
   "cell_type": "markdown",
   "metadata": {},
   "source": [
    "#### 5. 기타 내장 함수\n",
    "- max(iterable): 최대값을 반환\n",
    "- min(iterable): 최소값을 반환\n",
    "- sum(iterable): 요소의 합을 반환\n",
    "- enumerate(iterable): 반복문에서 인덱스와 요소를 함께 반환\n",
    "- zip(*iterables): 여러 리스트의 요소를 튜플로 묶어 반환\n",
    "- all(iterable): 모든요소가 참이면 True, 하나라도 거짓이면 False를 반환\n",
    "- any(iterable): 하나라도 참인 요소가 있으면 True, 전부 거짓이면 False를 반환\n",
    "- sorted(iterable, key = None, reverse = False) : 정렬된 리스트로 반환, key 옵션에 따라 정렬방식 정의가능      ex) len, abs\n",
    "- abs(iterable): 요소의 절대값 반환\n",
    "- round(number, ndigits): number를 ndigits 자리까지 반올림하여 반환"
   ]
  },
  {
   "cell_type": "code",
   "execution_count": null,
   "metadata": {},
   "outputs": [],
   "source": [
    "a = 10.19872\n",
    "round(a, 2)"
   ]
  },
  {
   "cell_type": "code",
   "execution_count": null,
   "metadata": {},
   "outputs": [],
   "source": [
    "sum_list = [1,2,3,4,5,6,7,8,9,10]\n",
    "sum(sum_list)"
   ]
  },
  {
   "cell_type": "code",
   "execution_count": null,
   "metadata": {},
   "outputs": [],
   "source": [
    "for i, v in enumerate(sum_list):\n",
    "    print(i, v)"
   ]
  },
  {
   "cell_type": "code",
   "execution_count": null,
   "metadata": {},
   "outputs": [],
   "source": [
    "# zip \n",
    "# 학생 이름과 점수를 병렬로 묶어 출력하기\n",
    "names = [\"Alice\", \"Bob\", \"Charlie\"]\n",
    "scores = [85, 92, 78]\n",
    "\n",
    "# zip()으로 묶기\n",
    "for name, score in zip(names, scores):\n",
    "    print(f\"{name} scored {score}\")\n"
   ]
  },
  {
   "cell_type": "code",
   "execution_count": null,
   "metadata": {},
   "outputs": [],
   "source": [
    "names = [\"Alice\", \"Bob\", \"Charlie\"]\n",
    "sorted(names, key=len, reverse= True)"
   ]
  },
  {
   "cell_type": "code",
   "execution_count": null,
   "metadata": {},
   "outputs": [],
   "source": []
  },
  {
   "cell_type": "markdown",
   "metadata": {},
   "source": [
    "#### 연습문제"
   ]
  },
  {
   "cell_type": "code",
   "execution_count": null,
   "metadata": {},
   "outputs": [],
   "source": [
    "nums = [1, 2, 3, 4, 5]\n",
    "\n",
    "any(x<0 for x in nums)"
   ]
  },
  {
   "cell_type": "code",
   "execution_count": null,
   "metadata": {},
   "outputs": [],
   "source": [
    "# 학생들의 이름과 점수를 리스트로 입력받아 각 학생의 점수를 출력하고 평균구하기\n",
    "names = [\"Alice\", \"Bob\", \"Charlie\"]\n",
    "scores = [85, 90, 78]\n",
    "\n",
    "# zip()으로 묶기\n",
    "for name, score in zip(names, scores):\n",
    "    print(f\"{name} scored {score}\")\n",
    "\n",
    "average_score = sum(scores)/len(scores)\n",
    "print(round(average_score,2))\n"
   ]
  },
  {
   "cell_type": "code",
   "execution_count": null,
   "metadata": {},
   "outputs": [],
   "source": [
    "# 사용자로부터 숫자를 3개 입력받아 리스트에 추가하고, 모든 숫자가 양수인지 검사해보세요\n",
    "# 모두 양수면 '모든 수가 양수입니다' 출력, 아니면 '모든 수가 양수가 아닙니다' 출력\n",
    "\n",
    "nums = []\n",
    "for x in range(3):\n",
    "    num = int(input('input number'))\n",
    "    nums.append(num)\n",
    "\n",
    "if all(i>0 for i in nums):\n",
    "    print('모든 수가 양수입니다')\n",
    "else:\n",
    "    print('모든 수가 양수가 아닙니다')"
   ]
  },
  {
   "cell_type": "code",
   "execution_count": null,
   "metadata": {},
   "outputs": [],
   "source": [
    "# 두 문장을 입력받아 두 문장에 공통으로 포함된 단어를 출력\n",
    "sentence1 = \"Python is powerful and easy to learn\"\n",
    "sentence2 = \"Learning Python is fun and powerful\"\n",
    "\n",
    "# intersection\n",
    "\n",
    "word1 = set(sentence1.split())\n",
    "word2 = set(sentence2.split())\n",
    "\n",
    "word1.intersection(word2)\n",
    "\n"
   ]
  },
  {
   "cell_type": "code",
   "execution_count": null,
   "metadata": {},
   "outputs": [],
   "source": []
  }
 ],
 "metadata": {
  "kernelspec": {
   "display_name": "usr",
   "language": "python",
   "name": "python3"
  },
  "language_info": {
   "codemirror_mode": {
    "name": "ipython",
    "version": 3
   },
   "file_extension": ".py",
   "mimetype": "text/x-python",
   "name": "python",
   "nbconvert_exporter": "python",
   "pygments_lexer": "ipython3",
   "version": "3.10.12"
  }
 },
 "nbformat": 4,
 "nbformat_minor": 2
}
