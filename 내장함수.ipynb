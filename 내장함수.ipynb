{
 "cells": [
  {
   "cell_type": "markdown",
   "metadata": {},
   "source": [
    "## 내장함수\n",
    "#### 1. 문자열 관련 내장함수\n",
    "- len(): 문자열의 길이를 반환\n",
    "- upper(): 문자열을 모두 대문자로 변환\n",
    "- lower(): 문자열을 모두 소문자로 변환\n",
    "- strip(): 문자열의 앞뒤 공백을 제거\n",
    "- replace(old, new): 문자열 내 특정 문자를 다른 문자로 대체\n",
    "- split(delimiter): 문자열을 구분자로 나누어 리스트로 반환\n",
    "- join(iterable): 리스트 같은 반복 가능한 객체를 하나의 문자열로 합침"
   ]
  },
  {
   "cell_type": "code",
   "execution_count": null,
   "metadata": {},
   "outputs": [],
   "source": [
    "ex_string = 'Rokey- bootcamp'\n",
    "# ex_string.strip()\n",
    "ex_string.split(' ')"
   ]
  },
  {
   "cell_type": "code",
   "execution_count": null,
   "metadata": {},
   "outputs": [],
   "source": [
    "# join\n",
    "words = [\"Python\", \"is\", \"awesome\"]\n",
    "\n",
    "# 공백을 기준으로 문자열 연결\n",
    "sentence = \" \".join(words)\n",
    "print(sentence)"
   ]
  },
  {
   "cell_type": "code",
   "execution_count": null,
   "metadata": {},
   "outputs": [],
   "source": [
    "names = [\"P\", \"i\", \"a\"]\n",
    "\n",
    "# 쉼표와 공백으로 연결\n",
    "result = \", \".join(names)\n",
    "print(result)\n"
   ]
  },
  {
   "cell_type": "code",
   "execution_count": null,
   "metadata": {},
   "outputs": [],
   "source": [
    "names = [\"P\", \"i\", \"a\"]\n",
    "\"\".join(names)"
   ]
  },
  {
   "cell_type": "markdown",
   "metadata": {},
   "source": [
    "#### 2. 리스트 관련 내장함수\n",
    "- len(): 리스트의 길이를 반환\n",
    "- append(x): 리스트 끝에 요소 x를 추가\n",
    "- insert(i, x): 인덱스 i에 요소 x를 삽입\n",
    "- pop(i): 인덱스 i에 있는 요소를 제거하고 반환\n",
    "- remove(x): 리스트에서 값 x를 제거\n",
    "- sort(): 리스트를 오름차순으로 정렬\n",
    "- reverse(): 리스트의 순서를 반대로 뒤집음"
   ]
  },
  {
   "cell_type": "code",
   "execution_count": 11,
   "metadata": {},
   "outputs": [
    {
     "data": {
      "text/plain": [
       "[40, 30, 20, 10]"
      ]
     },
     "execution_count": 11,
     "metadata": {},
     "output_type": "execute_result"
    }
   ],
   "source": [
    "ex_list = [10, 20, 30, 40]\n",
    "ex_list.append(100)\n",
    "ex_list.insert(1, 200)\n",
    "ex_list.pop(1)\n",
    "ex_list.remove(100)\n",
    "ex_list.reverse()\n",
    "ex_list"
   ]
  },
  {
   "cell_type": "markdown",
   "metadata": {},
   "source": [
    "#### 3. 딕셔너리 관련 내장함수\n",
    "- keys(): 딕셔너리의 모든 키를 반환\n",
    "- values(): 딕셔너리의 모든 값을 반환\n",
    "- items(): 키-값 쌍을 튜플 형태로 반환\n",
    "- get(key, default): 키에 대한 값을 반환하고, 키가 없으면 기본값을 반환\n",
    "- update(): 딕셔너리에 다른 딕셔너리 값을 추가하거나 갱신\n",
    "- pop(key): 해당 키의 값을 제거하고 반환"
   ]
  },
  {
   "cell_type": "code",
   "execution_count": null,
   "metadata": {},
   "outputs": [],
   "source": [
    "scores = {'math': 85, 'science': 90}\n"
   ]
  },
  {
   "cell_type": "markdown",
   "metadata": {},
   "source": [
    "#### 4. 집합(set) 관련 내장함수\n",
    "- add(x): 집합에 요소 x를 추가\n",
    "- remove(x): 집합에서 요소 x를 제거\n",
    "- union(): 두 집합의 합집합을 반환\n",
    "- intersection(): 두 집합의 교집합을 반환\n",
    "- difference(): 두 집합의 차집합을 반환"
   ]
  },
  {
   "cell_type": "code",
   "execution_count": null,
   "metadata": {},
   "outputs": [],
   "source": [
    "numbers = {1, 2, 3, 4, 5}\n",
    "numbers.add(6)\n",
    "numbers.remove(1)\n",
    "numbers"
   ]
  },
  {
   "cell_type": "code",
   "execution_count": null,
   "metadata": {},
   "outputs": [],
   "source": [
    "num_set = {1,2,3,4}\n",
    "numbers.difference(num_set)"
   ]
  },
  {
   "cell_type": "markdown",
   "metadata": {},
   "source": [
    "#### 5. 기타 내장 함수\n",
    "- max(iterable): 최대값을 반환\n",
    "- min(iterable): 최소값을 반환\n",
    "- sum(iterable): 요소의 합을 반환\n",
    "- enumerate(iterable): 반복문에서 인덱스와 요소를 함께 반환\n",
    "- zip(*iterables): 여러 리스트의 요소를 튜플로 묶어 반환\n",
    "- all(iterable): 모든요소가 참이면 True, 하나라도 거짓이면 False를 반환\n",
    "- any(iterable): 하나라도 참인 요소가 있으면 True, 전부 거짓이면 False를 반환\n",
    "- sorted(iterable, key = None, reverse = False) : 정렬된 리스트로 반환, key 옵션에 따라 정렬방식 정의가능      ex) len, abs\n",
    "- abs(iterable): 요소의 절대값 반환\n",
    "- round(number, ndigits): number를 ndigits 자리까지 반올림하여 반환"
   ]
  },
  {
   "cell_type": "code",
   "execution_count": 13,
   "metadata": {},
   "outputs": [
    {
     "data": {
      "text/plain": [
       "10.199"
      ]
     },
     "execution_count": 13,
     "metadata": {},
     "output_type": "execute_result"
    }
   ],
   "source": [
    "a = 10.19872\n",
    "round(a, 3)"
   ]
  },
  {
   "cell_type": "code",
   "execution_count": 15,
   "metadata": {},
   "outputs": [
    {
     "ename": "TypeError",
     "evalue": "unsupported operand type(s) for +: 'int' and 'str'",
     "output_type": "error",
     "traceback": [
      "\u001b[0;31m---------------------------------------------------------------------------\u001b[0m",
      "\u001b[0;31mTypeError\u001b[0m                                 Traceback (most recent call last)",
      "Cell \u001b[0;32mIn[15], line 2\u001b[0m\n\u001b[1;32m      1\u001b[0m sum_list \u001b[38;5;241m=\u001b[39m [\u001b[38;5;241m1\u001b[39m,\u001b[38;5;241m2\u001b[39m,\u001b[38;5;241m3\u001b[39m,\u001b[38;5;241m4\u001b[39m,\u001b[38;5;241m5\u001b[39m,\u001b[38;5;241m6\u001b[39m,\u001b[38;5;241m7\u001b[39m,\u001b[38;5;241m8\u001b[39m,\u001b[38;5;241m9\u001b[39m,\u001b[38;5;241m10\u001b[39m,\u001b[38;5;124m'\u001b[39m\u001b[38;5;124ma\u001b[39m\u001b[38;5;124m'\u001b[39m]\n\u001b[0;32m----> 2\u001b[0m \u001b[38;5;28;43msum\u001b[39;49m\u001b[43m(\u001b[49m\u001b[43msum_list\u001b[49m\u001b[43m)\u001b[49m\n",
      "\u001b[0;31mTypeError\u001b[0m: unsupported operand type(s) for +: 'int' and 'str'"
     ]
    }
   ],
   "source": [
    "sum_list = [1,2,3,4,5,6,7,8,9,10,'a']\n",
    "sum(sum_list)"
   ]
  },
  {
   "cell_type": "code",
   "execution_count": 16,
   "metadata": {},
   "outputs": [
    {
     "name": "stdout",
     "output_type": "stream",
     "text": [
      "0 1\n",
      "1 2\n",
      "2 3\n",
      "3 4\n",
      "4 5\n",
      "5 6\n",
      "6 7\n",
      "7 8\n",
      "8 9\n",
      "9 10\n",
      "10 a\n"
     ]
    }
   ],
   "source": [
    "for i, v in enumerate(sum_list):        # index ,value\n",
    "    print(i, v)"
   ]
  },
  {
   "cell_type": "code",
   "execution_count": 17,
   "metadata": {},
   "outputs": [
    {
     "name": "stdout",
     "output_type": "stream",
     "text": [
      "Alice scored 85\n",
      "Bob scored 92\n",
      "Charlie scored 78\n"
     ]
    }
   ],
   "source": [
    "# zip \n",
    "# 학생 이름과 점수를 병렬로 묶어 출력하기\n",
    "names = [\"Alice\", \"Bob\", \"Charlie\"]\n",
    "scores = [85, 92, 78]\n",
    "\n",
    "# zip()으로 묶기\n",
    "for name, score in zip(names, scores):\n",
    "    print(f\"{name} scored {score}\")\n"
   ]
  },
  {
   "cell_type": "code",
   "execution_count": 20,
   "metadata": {},
   "outputs": [
    {
     "data": {
      "text/plain": [
       "['Charlie', 'Alice', 'Bob']"
      ]
     },
     "execution_count": 20,
     "metadata": {},
     "output_type": "execute_result"
    }
   ],
   "source": [
    "names = [\"Alice\", \"Bob\", \"Charlie\"]\n",
    "sorted(names, key=len, reverse= True)"
   ]
  },
  {
   "cell_type": "code",
   "execution_count": null,
   "metadata": {},
   "outputs": [],
   "source": []
  },
  {
   "cell_type": "code",
   "execution_count": null,
   "metadata": {},
   "outputs": [],
   "source": []
  }
 ],
 "metadata": {
  "kernelspec": {
   "display_name": "usr",
   "language": "python",
   "name": "python3"
  },
  "language_info": {
   "codemirror_mode": {
    "name": "ipython",
    "version": 3
   },
   "file_extension": ".py",
   "mimetype": "text/x-python",
   "name": "python",
   "nbconvert_exporter": "python",
   "pygments_lexer": "ipython3",
   "version": "3.10.12"
  }
 },
 "nbformat": 4,
 "nbformat_minor": 2
}
