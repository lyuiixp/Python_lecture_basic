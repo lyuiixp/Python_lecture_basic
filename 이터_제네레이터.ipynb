{
 "cells": [
  {
   "cell_type": "markdown",
   "metadata": {},
   "source": [
    "### 이터레이터(Iterator)\n",
    "- 이터레이터 란? 값을 차례대로 꺼낼 수 있는 객체\n",
    "- 구성\n",
    "```python\n",
    "__iter__() : # 객체를 반환하는 메소드\n",
    "__next__() : # __iter__() 에서 받은 다음 값을 반환하는 메소드, 더이상 값이 없으면 StopIteration 예외 발생 \n",
    "__getitem__() : # 인덱스로 접근 가능하게함\n",
    "```\n",
    "- 특징 : 한번 순회한 값은 다시 순회할 수 없음. 메모리를 절약하며 데이터를 처리할 수 있음."
   ]
  },
  {
   "cell_type": "code",
   "execution_count": 2,
   "metadata": {},
   "outputs": [
    {
     "name": "stdout",
     "output_type": "stream",
     "text": [
      "1\n",
      "2\n",
      "3\n"
     ]
    }
   ],
   "source": [
    "# 간단한 리스트 이터레이터 예시\n",
    "my_list = [1, 2, 3]\n",
    "it = iter(my_list)  # 이터레이터 객체 생성\n",
    "\n",
    "print(next(it))  # 1\n",
    "print(next(it))  # 2\n",
    "print(next(it))  # 3\n"
   ]
  },
  {
   "cell_type": "code",
   "execution_count": 3,
   "metadata": {},
   "outputs": [
    {
     "name": "stdout",
     "output_type": "stream",
     "text": [
      "1\n",
      "2\n",
      "3\n"
     ]
    }
   ],
   "source": [
    "# 간단한 리스트 이터레이터 예시\n",
    "my_list = [1, 2, 3]\n",
    "it = iter(my_list)  # 이터레이터 객체 생성\n",
    "\n",
    "while True:\n",
    "    try:\n",
    "        # 다음 요소를 가져오기\n",
    "        print(next(it))\n",
    "    except StopIteration:\n",
    "        # 반복이 끝나면 StopIteration 예외 발생\n",
    "        break  # while 루프 종료\n"
   ]
  },
  {
   "cell_type": "code",
   "execution_count": 4,
   "metadata": {},
   "outputs": [
    {
     "name": "stdout",
     "output_type": "stream",
     "text": [
      "1\n",
      "2\n",
      "3\n",
      "4\n",
      "5\n"
     ]
    }
   ],
   "source": [
    "# 클래스 구현\n",
    "class MyIterator:\n",
    "    def __init__(self, max_num):\n",
    "        self.max_num = max_num\n",
    "        self.current = 0\n",
    "\n",
    "    def __iter__(self):\n",
    "        return self\n",
    "\n",
    "    def __next__(self):\n",
    "        if self.current < self.max_num:\n",
    "            self.current += 1\n",
    "            return self.current\n",
    "        else:\n",
    "            raise StopIteration\n",
    "\n",
    "my_iter = MyIterator(5)\n",
    "for num in my_iter:\n",
    "    print(num)\n"
   ]
  },
  {
   "cell_type": "markdown",
   "metadata": {},
   "source": [
    "### 제네레이터(Generator)\n",
    "\n",
    "- 이터레이터를 생성하는 함수\n",
    "- yield 키워드를 사용하여 값을 하나씩 반환하며, 실행을 멈추고 다음 호출 시 이전상태에서 다시 시작.\n",
    "- 특징\n",
    ">- 메모리 효율이 좋음. 반복적인 연산에서 성능 최적화\n",
    ">- 한번에 하나의 값만 반환하며, yield를 만나면 함수가 멈추고 그 상태를 기억\n"
   ]
  },
  {
   "cell_type": "code",
   "execution_count": 5,
   "metadata": {},
   "outputs": [
    {
     "name": "stdout",
     "output_type": "stream",
     "text": [
      "1\n",
      "2\n",
      "3\n"
     ]
    }
   ],
   "source": [
    "# 제네레이터 함수\n",
    "def my_generator():\n",
    "    yield 1\n",
    "    yield 2\n",
    "    yield 3\n",
    "\n",
    "gen = my_generator()\n",
    "\n",
    "print(next(gen))  # 1\n",
    "print(next(gen))  # 2\n",
    "print(next(gen))  # 3"
   ]
  },
  {
   "cell_type": "code",
   "execution_count": 6,
   "metadata": {},
   "outputs": [
    {
     "name": "stdout",
     "output_type": "stream",
     "text": [
      "0\n",
      "1\n",
      "2\n",
      "3\n",
      "4\n"
     ]
    }
   ],
   "source": [
    "def infinite_generator():\n",
    "    num = 0\n",
    "    while True:\n",
    "        yield num\n",
    "        num += 1\n",
    "\n",
    "infinite_gen = infinite_generator()\n",
    "\n",
    "print(next(infinite_gen))  # 0\n",
    "print(next(infinite_gen))  # 1\n",
    "print(next(infinite_gen))\n",
    "print(next(infinite_gen))\n",
    "print(next(infinite_gen))\n"
   ]
  },
  {
   "cell_type": "markdown",
   "metadata": {},
   "source": [
    "#### 제네레이터 표현식\n",
    "- 리스트 컴프리헨션과 같은 구문 사용\n",
    "- 대괄호 대신 중괄호 사용 (,)\n",
    "- 필요한 시점에 하나씩 값을 생성하기에 모든 값을 저장하는 리스트 컴프리헨션보다 메모리 절약, 대용량 데이터 처리에 유리\n",
    "- 코드의 간결함"
   ]
  },
  {
   "cell_type": "code",
   "execution_count": 7,
   "metadata": {},
   "outputs": [
    {
     "name": "stdout",
     "output_type": "stream",
     "text": [
      "0\n",
      "2\n",
      "4\n",
      "6\n",
      "8\n"
     ]
    }
   ],
   "source": [
    "gen_expr = (x * 2 for x in range(5))\n",
    "for val in gen_expr:\n",
    "    print(val)              # 0, 2, 4, 6, 8"
   ]
  },
  {
   "cell_type": "markdown",
   "metadata": {},
   "source": [
    "#### 이터레이터와 제네레이터 차이점\n",
    "- 이터레이터는 __iter__(), __next__() 메소드를 가진 객체\n",
    "- 제네레이터는 yield를 사용하여 값을 반환하는 함수\n",
    "- 제네레이터는 이터레이터의 특수한 형태로, 간결하게 이터레이터를 구현할 수 있는 방법"
   ]
  },
  {
   "cell_type": "markdown",
   "metadata": {},
   "source": [
    "#### 실습"
   ]
  },
  {
   "cell_type": "code",
   "execution_count": 8,
   "metadata": {},
   "outputs": [
    {
     "name": "stdout",
     "output_type": "stream",
     "text": [
      "1\n",
      "4\n",
      "9\n",
      "16\n",
      "25\n"
     ]
    }
   ],
   "source": [
    "# 1.  SquareIterator라는 클래스를 만들고, 이터레이터를 사용하여 주어진 범위 내의 숫자들의 제곱 값을 반환하도록 하세요.\n",
    "# 클래스 내부에 __iter__() 와 __next__() 메소드를 구현하세요.\n",
    "\n",
    "class SquareIterator:\n",
    "    def __init__(self, start, end):\n",
    "        self.current = start\n",
    "        self.end = end\n",
    "\n",
    "    # iter\n",
    "    def __iter__(self):\n",
    "        return self\n",
    "\n",
    "    def __next__(self):\n",
    "        if self.current > self.end:\n",
    "            raise StopIteration\n",
    "        else:\n",
    "            result = self.current **2          # 값의 조건    \n",
    "            self.current += 1                  # 값 업데이트      \n",
    "            return result\n",
    "\n",
    "# 테스트 코드\n",
    "for square in SquareIterator(1, 5):\n",
    "    print(square)\n",
    "\n",
    "# 1 \n",
    "# 4\n",
    "# 9\n",
    "# 16\n",
    "# 25\n"
   ]
  },
  {
   "cell_type": "code",
   "execution_count": 9,
   "metadata": {},
   "outputs": [
    {
     "name": "stdout",
     "output_type": "stream",
     "text": [
      "2\n",
      "4\n",
      "6\n",
      "8\n",
      "10\n",
      "12\n",
      "14\n",
      "16\n",
      "18\n",
      "20\n"
     ]
    }
   ],
   "source": [
    "# 2. 숫자의 리스트에서 짝수만 반환하는 제네레이터 함수 even_numbers()를 작성하세요.\n",
    "# range() 함수로 1부터 20까지의 숫자를 생성하고, 짝수만 출력되도록 하세요.\n",
    "\n",
    "def even_numbers(limit):             # 인자 지정\n",
    "    for num in range(1, limit+1):         # 범위 지정\n",
    "        if num%2 ==0:                        # 조건\n",
    "            yield num                    # 반환 값\n",
    "\n",
    "# 테스트 코드\n",
    "for even in even_numbers(20):\n",
    "    print(even)\n",
    "\n"
   ]
  },
  {
   "cell_type": "code",
   "execution_count": 11,
   "metadata": {},
   "outputs": [
    {
     "name": "stdout",
     "output_type": "stream",
     "text": [
      "5\n",
      "4\n",
      "3\n",
      "2\n",
      "1\n",
      "0\n"
     ]
    }
   ],
   "source": [
    "# 3. count_down()이라는 제네레이터를 구현하여 주어진 숫자에서부터 0까지 역으로 숫자를 반환하세요.\n",
    "# 제네레이터가 호출될 때마다 1씩 감소하는 값을 출력하고, 0 이하일 때는 자동으로 종료되도록 만드세요.\n",
    "\n",
    "def count_down(start):\n",
    "    while start >=0:               # True의 조건에 맞게 작성\n",
    "        yield start               # 반환 할 값\n",
    "        start -= 1                # 값의 업데이트\n",
    "\n",
    "# 테스트 코드\n",
    "for num in count_down(5):\n",
    "    print(num)\n"
   ]
  },
  {
   "cell_type": "code",
   "execution_count": 12,
   "metadata": {},
   "outputs": [
    {
     "name": "stdout",
     "output_type": "stream",
     "text": [
      "9\n",
      "18\n",
      "27\n",
      "36\n",
      "45\n"
     ]
    }
   ],
   "source": [
    "# 4. 제네레이터를 사용하여 1부터 주어진 범위까지의 숫자 중, \n",
    "# 특정 숫자의 배수만을 반환하는 multiple_generator() 함수를 작성하세요.\n",
    "# 함수는 범위와 배수를 입력 받고 해당 배수에 해당하는 숫자들을 yield합니다.\n",
    "\n",
    "def multiple_generator(limit, multiple):           # 인자 : 범위, 배수\n",
    "    for num in range(1, limit + 1):             # 범위 지정\n",
    "        if num % multiple ==0:                        # 배수의 조건\n",
    "                yield num                    # 반환 값\n",
    "\n",
    "# 테스트 코드\n",
    "for number in multiple_generator(50, 9):\n",
    "    print(number)\n"
   ]
  },
  {
   "cell_type": "code",
   "execution_count": 13,
   "metadata": {},
   "outputs": [
    {
     "name": "stdout",
     "output_type": "stream",
     "text": [
      "5\n",
      "4\n",
      "3\n",
      "2\n",
      "1\n"
     ]
    }
   ],
   "source": [
    "# 5. ReverseListIterator 클래스를 구현하여 리스트를 끝에서부터 처음까지 역순으로 반환하도록 만드세요.\n",
    "\n",
    "class ReverseListIterator:\n",
    "    def __init__(self, data_list):\n",
    "        self.data_list = data_list\n",
    "        self.index = -1\n",
    "\n",
    "    def __iter__(self):\n",
    "        return self\n",
    "\n",
    "    def __next__(self):\n",
    "        if self.index < -len(self.data_list):\n",
    "            raise StopIteration\n",
    "        result = self.data_list[self.index]                                 # 반환 값\n",
    "        self.index -= 1                                                     # 인덱스 업데이트\n",
    "        return result\n",
    "\n",
    "# 테스트 코드\n",
    "sample_list = [1, 2, 3, 4, 5]\n",
    "for item in ReverseListIterator(sample_list):\n",
    "    print(item)\n"
   ]
  },
  {
   "cell_type": "code",
   "execution_count": 14,
   "metadata": {},
   "outputs": [
    {
     "name": "stdout",
     "output_type": "stream",
     "text": [
      "짝수의 제곱 값들의 합: 220\n"
     ]
    }
   ],
   "source": [
    "# 문제6. 리스트에서 짝수만 추출하는 기능을 가진 even_numbers()함수를 제네레이터로 구현하고\n",
    "# 람다함수를 활용하여 제곱을 계산하여 짝수 제곱의 총 합을 반환하는 문제입니다.\n",
    "# 아래 구조를 참고하며 빈 곳에 알맞는 코드를 작성하세요.\n",
    "\n",
    "# 제너레이터를 사용하여 리스트에서 짝수를 추출\n",
    "def even_numbers(numbers):\n",
    "    for num in numbers:\n",
    "        if num%2==0:                           # 짝수 추출 조건\n",
    "            yield num                           # 반환할 값\n",
    "\n",
    "# 람다 함수 사용하여 제곱값으로 변환\n",
    "square =  lambda x : x**2                             # 제곱의 조건\n",
    "\n",
    "# 제너레이터로 짝수를 추출하고 그 값을 제곱한 뒤 모두 더하는 함수\n",
    "def sum_of_squares(numbers):\n",
    "    evens = even_numbers(numbers)                            # 제네레이터로 짝수만 추출\n",
    "    squared_evens = map(square, evens)                       # 람다와 map으로 제곱 처리\n",
    "    return  sum(squared_evens)                               # 제곱된 값들의 합\n",
    "\n",
    "\n",
    "# 테스트 케이스\n",
    "numbers = [1, 2, 3, 4, 5, 6, 7, 8, 9, 10]\n",
    "result = sum_of_squares(numbers)\n",
    "print(f\"짝수의 제곱 값들의 합: {result}\")\n",
    "\n"
   ]
  },
  {
   "cell_type": "code",
   "execution_count": 16,
   "metadata": {},
   "outputs": [
    {
     "name": "stdout",
     "output_type": "stream",
     "text": [
      "'N/A'는 숫자가 아닙니다.\n",
      "'score' 값들의 평균: 89.0\n"
     ]
    }
   ],
   "source": [
    "# 문제7. 주어진 딕셔너리에서 특정 키에 해당하는 값들만 제네레이터로 추출하고 추출한 값들의 평균을 반환하는 코드를 작성하세요.\n",
    "# extract_values() 메소드에서 특정 키에 해당하는 값의 자료형이 int,float형이 아니면 예외가 발생하도록 조건을 만들어주세요.\n",
    "\n",
    "# 딕셔너리에서 특정 키의 값을 제네레이터로 추출 \n",
    "def extract_values(data, key):\n",
    "    for item in data:\n",
    "        if key in item:\n",
    "            try:\n",
    "                value = item[key]\n",
    "                # 숫자가 아닌 경우 예외 발생\n",
    "                if (type(value) != int) and (type(value) != float):         # isinstance나 type활용\n",
    "                    raise ValueError(f\"'{value}'는 숫자가 아닙니다.\")\n",
    "                yield value                                                 # 반환\n",
    "            except ValueError as e:\n",
    "                print(e)\n",
    "\n",
    "# 제네레이터로 추출한 값들의 평균을 구하는 함수\n",
    "def average_of_key_values(data, key):\n",
    "    value_gen = extract_values(data, key)\n",
    "    values = list(value_gen)\n",
    "    \n",
    "    if len(values) == 0:\n",
    "        raise ValueError(f\"'{key}'에 해당하는 유효한 숫자가 없습니다.\")\n",
    "    \n",
    "    return sum(values) / len(values)\n",
    "\n",
    "# 테스트\n",
    "person_info = [\n",
    "    {'name': 'Alice', 'age': 25, 'score': 85},\n",
    "    {'name': 'Bob', 'age': 22, 'score': 90},\n",
    "    {'name': 'Charlie', 'age': 23, 'score': 'N/A'},                # 잘못된 값 (문자열)\n",
    "    {'name': 'Dave', 'age': 24, 'score': 92},\n",
    "]\n",
    "\n",
    "key = 'score'\n",
    "result = average_of_key_values(person_info,  key)\n",
    "print(f\"'{key}' 값들의 평균: {result}\")\n",
    "\n",
    "\n"
   ]
  },
  {
   "cell_type": "markdown",
   "metadata": {},
   "source": [
    "### 코루틴(coroutine)\n",
    "- 상호 협력하는 루틴(co-routine)\n",
    "- 메인루틴과 서브루틴이 대등한 관계\n",
    "- 함수의 실행을 멈추고 재개할 수 있는 함수 -> __실행중간에 일시정지(대기)__ 후 필요할 때 다시 실행 재개가능\n",
    "- 함수를 호출 하고 여러번 실행 할 수 있음\n",
    "- 비동기 프로그래밍*, 이벤트 처리, 데이터 스트리밍 등의 작업에 유용\n",
    ">- *비동기 프로그래밍 : 특정 코드의 처리가 완료되기 전, 처리하는 도중에도 아래로 계속 내려가며 수행하는 것\n",
    "- 장점 : 여러 작업을 동시에 처리하고 자원을 효율적으로 사용하여 성능 최적화, 병렬처리\n",
    "- 구조\n",
    "```python\n",
    "코루틴.send(값)          # 코루틴에 값을 보냄\n",
    "변수 = (yield 값)        # yield로 값을 받아옴, 괄호로 묶어줌\n",
    "코루틴.close()           # 코루틴 종료\n",
    "```\n",
    "------------\n",
    "- asyncio, await \n",
    ">- asyncio : 코루틴을 정의할 때 함수 앞에 붙여서 코루틴 함수를 나타냄\n",
    ">- await : 코루틴 내부에서 다른 비동기 작업이 완료되기를 기다릴때 사용\n",
    ">- https://docs.python.org/ko/3.7/library/asyncio-task.html\n",
    "- 구조\n",
    "```python\n",
    "import asyncio\n",
    "\n",
    "async def 함수명():\n",
    "    #기능\n",
    "    await asyncio.sleep()       # 대기\n",
    "    #기능\n",
    "```\n",
    "------------------\n",
    "#### 코루틴과 제네레이터 차이점\n",
    "- 제네레이터\n",
    ">- 제네레이터는 호출 시 데이터를 한 방향으로만 반환할 수 있음\n",
    ">- 제네레이터는 값을 일방적으로 생성하고 반환(yield)\n",
    "- 코루틴\n",
    ">- 코루틴은 실행 중간에 데이터를 주고 받을 수 있음(양방향)\n",
    ">- 실행 중간에 외부에서 값을 보내주고(send()), yield로 값을 받아 처리 할 수 있음\n"
   ]
  },
  {
   "cell_type": "code",
   "execution_count": null,
   "metadata": {},
   "outputs": [],
   "source": [
    "# 메인루틴에서 서브루틴을 호출하고 서브루틴은 종료\n",
    "# 메인루틴과 서브루틴이 종속적인 관계\n",
    "\n",
    "def add(a, b):\n",
    "    c = a + b\n",
    "    print(c)\n",
    "    print(\"add 함수\")\n",
    "\n",
    "def calc():\n",
    "    add(1, 2) \n",
    "    print(\"calc 함수\")\n",
    "    \n",
    "calc()"
   ]
  },
  {
   "cell_type": "code",
   "execution_count": null,
   "metadata": {},
   "outputs": [],
   "source": [
    "# 코루틴 방식\n",
    "# 메인루틴과 서브루틴이 서로 대등한 관계, 특정 시점에 상대방의 코드 실행\n",
    "\n",
    "def sum_coroutine():            # 코루틴 생성\n",
    "    total = 0       #10\n",
    "    while True:\n",
    "        x = (yield total)       # (yield) 형태로 값을 받아옴\n",
    "        total += x\n",
    "\n",
    "\n",
    "def sum_func():\n",
    "    co = sum_coroutine()        # 코루틴 객체 생성\n",
    "    next(co)                    # 코루틴 안의 yield까지 코드 실행\n",
    "    result1 = co.send(10)       # send()를 통해 값을 보내줌\n",
    "    print(f\"result1 --> {result1}\")\n",
    "    result2 = co.send(20)\n",
    "    print(f\"result2 --> {result2}\")\n",
    "\n",
    "sum_func()"
   ]
  },
  {
   "cell_type": "code",
   "execution_count": null,
   "metadata": {},
   "outputs": [],
   "source": [
    "# 예제\n",
    "# 코루틴을 사용하여 평균을 계산하는 함수\n",
    "def average_coroutine():\n",
    "    total = 0\n",
    "    count = 0\n",
    "    average = 0\n",
    "    while True:\n",
    "        # 값 받기, 변수들 업데이트\n",
    "        value = yield average\n",
    "        total += value          # 10    # 10 + 20 = 30\n",
    "        count += 1              # count = 2\n",
    "        average = total / count # 30/2 = 15\n",
    "\n",
    "# 코루틴 생성\n",
    "avg_coro = average_coroutine()\n",
    "next(avg_coro)            # 코루틴을 시작하여 yield 문까지 진행\n",
    "\n",
    "# 값 전송 및 평균 출력\n",
    "print(avg_coro.send(10))  # 10을 전송, 평균: 10.0\n",
    "print(avg_coro.send(20))  # 20을 전송, 평균: 15.0\n",
    "print(avg_coro.send(30))  # 30을 전송, 평균: 20.0\n",
    "print(avg_coro.send(40))  # 40을 전송, 평균: 25.0"
   ]
  },
  {
   "cell_type": "code",
   "execution_count": null,
   "metadata": {},
   "outputs": [],
   "source": [
    "# close(), 예외처리 활용\n",
    "def sum_coroutine():           \n",
    "    total = 0\n",
    "    try:\n",
    "        while True:\n",
    "            x = (yield total)      \n",
    "            total += x\n",
    "            print(total)\n",
    "    except GeneratorExit:               # 코루틴.close() 호출 시 GeneratorExit 예외 발생\n",
    "        print('코루틴 종료')\n",
    "\n",
    "co = sum_coroutine()  \n",
    "next(co)  \n",
    "\n",
    "count = 0\n",
    "for i in range(11):\n",
    "    count += 1\n",
    "    co.send(i)\n",
    "    # if count == 10:\n",
    "    #     co.close()\n",
    "co.close()"
   ]
  },
  {
   "cell_type": "code",
   "execution_count": null,
   "metadata": {},
   "outputs": [],
   "source": [
    "# yield from 활용하기 : 제네레이터 함수 내에서 다른 제네레이터나 이터러블 요소를 순차적으로 가져올 때 유용\n",
    "# 하위 코루틴의 반환값을 가져옴\n",
    "\n",
    "def sub_generator():\n",
    "    yield 1\n",
    "    yield 2\n",
    "    yield 3\n",
    "\n",
    "def main_generator():\n",
    "    yield from sub_generator()  # sub_generator에서 값을 가져와 전달    # 1,2,3 \n",
    "    yield 4\n",
    "    yield 5\n",
    "\n",
    "# 제네레이터 실행\n",
    "for value in main_generator():\n",
    "    print(value)\n"
   ]
  },
  {
   "cell_type": "code",
   "execution_count": null,
   "metadata": {},
   "outputs": [],
   "source": [
    "def chain(*iterables):  # *args\n",
    "    for iterable in iterables:\n",
    "        yield from iterable  # 각 이터러블의 요소를 차례로 반환\n",
    "\n",
    "# 리스트와 튜플을 연결하는 제네레이터\n",
    "for value in chain([1, 2, 3], (4, 5, 6), range(7, 9)):\n",
    "    print(value)\n"
   ]
  },
  {
   "cell_type": "markdown",
   "metadata": {},
   "source": [
    "#### 스레드(Thread)\n",
    "- 프로그램 내에서 동시에 여러작업을 수행할 수 있게 하는 방법\n",
    "- 스레드는 프로세스 내에서 독립적으로 실행되는 작은 실행 단위\n",
    "- 한 프로그램 내에서 여러 스레드 사용시 여러 작업을 병렬처리 가능"
   ]
  },
  {
   "cell_type": "code",
   "execution_count": null,
   "metadata": {},
   "outputs": [],
   "source": [
    "import threading\n",
    "import time\n",
    "\n",
    "def print_numbers():\n",
    "    for i in range(1, 6):\n",
    "        print(i)\n",
    "        time.sleep(1)\n",
    "\n",
    "def print_letters():\n",
    "    for letter in ['A', 'B', 'C', 'D', 'E']:\n",
    "        print(letter)\n",
    "        time.sleep(1)\n",
    "\n",
    "# 두 개의 스레드 생성\n",
    "thread1 = threading.Thread(target=print_numbers)\n",
    "thread2 = threading.Thread(target=print_letters)\n",
    "\n",
    "# 스레드 실행, 병렬 처리\n",
    "thread1.start()\n",
    "thread2.start()\n",
    "\n",
    "# 메인 스레드가 다른 스레드들이 끝날 때까지 대기\n",
    "thread1.join()\n",
    "thread2.join()\n",
    "\n",
    "print(\"모든 스레드가 완료되었습니다.\")\n"
   ]
  },
  {
   "cell_type": "code",
   "execution_count": null,
   "metadata": {},
   "outputs": [],
   "source": [
    "import asyncio\n",
    "\n",
    "async def print_numbers():\n",
    "    for i in range(1, 6):\n",
    "        print(i)\n",
    "        await asyncio.sleep(1)\n",
    "\n",
    "async def print_letters():\n",
    "    for char in ['a', 'b', 'c', 'd', 'e']:\n",
    "        print(char)\n",
    "        await asyncio.sleep(1)\n",
    "\n",
    "# Jupyter에서는 asyncio.run() 대신 아래 코드를 사용\n",
    "async def main():\n",
    "    await asyncio.gather(print_numbers(), print_letters())\n",
    "\n",
    "await main()\n"
   ]
  },
  {
   "cell_type": "markdown",
   "metadata": {},
   "source": [
    "#### 코루틴과 스레드 비교\n",
    "- 참고 : https://velog.io/@jaebig/python-%EB%8F%99%EC%8B%9C%EC%84%B1-%EA%B4%80%EB%A6%AC-3-%EC%BD%94%EB%A3%A8%ED%8B%B4Coroutine"
   ]
  }
 ],
 "metadata": {
  "kernelspec": {
   "display_name": "usr",
   "language": "python",
   "name": "python3"
  },
  "language_info": {
   "codemirror_mode": {
    "name": "ipython",
    "version": 3
   },
   "file_extension": ".py",
   "mimetype": "text/x-python",
   "name": "python",
   "nbconvert_exporter": "python",
   "pygments_lexer": "ipython3",
   "version": "3.10.12"
  }
 },
 "nbformat": 4,
 "nbformat_minor": 2
}
