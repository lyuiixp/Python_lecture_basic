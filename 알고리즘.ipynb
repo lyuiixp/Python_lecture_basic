{
 "cells": [
  {
   "cell_type": "markdown",
   "metadata": {},
   "source": [
    "#### 스택\n",
    "- __후입선출(LIFO, Last In First Out)__ 구조를 갖는 자료구조, 나중에 들어온 데이터가 먼저 나가는 구조.\n",
    "- 리스트를 활용하여 구현 가능\n",
    ">- push : 스택에 데이터를 추가\n",
    ">- pop : 스택에서 가장 마지막에 들어온 데이터를 제거하고 반환\n",
    "- ex) 웹 브라우저 뒤로가기"
   ]
  },
  {
   "cell_type": "code",
   "execution_count": 12,
   "metadata": {},
   "outputs": [
    {
     "name": "stdout",
     "output_type": "stream",
     "text": [
      "30\n",
      "[10, 20]\n"
     ]
    }
   ],
   "source": [
    "# 스택 예시\n",
    "stack = []\n",
    "stack.append(10)  # push\n",
    "stack.append(20)\n",
    "stack.append(30)\n",
    "print(stack.pop())  # pop (30 출력)\n",
    "print(stack)\n"
   ]
  },
  {
   "cell_type": "code",
   "execution_count": 15,
   "metadata": {},
   "outputs": [
    {
     "name": "stdout",
     "output_type": "stream",
     "text": [
      "20\n",
      "10\n"
     ]
    }
   ],
   "source": [
    "class Stack:\n",
    "    def __init__(self):\n",
    "        self.stack = []\n",
    "\n",
    "    def push(self, item):\n",
    "        self.stack.append(item)\n",
    "\n",
    "    def pop(self):\n",
    "        if not self.is_empty():\n",
    "            return self.stack.pop()\n",
    "        return None\n",
    "\n",
    "    def peek(self):\n",
    "        return self.stack[-1] if not self.is_empty() else None\n",
    "\n",
    "    def is_empty(self):\n",
    "        return len(self.stack) == 0\n",
    "\n",
    "# 스택 사용 예제\n",
    "stack = Stack()\n",
    "stack.push(10)\n",
    "stack.push(20)\n",
    "# stack = [10,20]\n",
    "print(stack.pop())  # 20\n",
    "print(stack.peek())  # 10"
   ]
  },
  {
   "cell_type": "code",
   "execution_count": 20,
   "metadata": {},
   "outputs": [
    {
     "data": {
      "text/plain": [
       "dict_values(['(', '[', '{'])"
      ]
     },
     "execution_count": 20,
     "metadata": {},
     "output_type": "execute_result"
    }
   ],
   "source": [
    "pairs = {')': '(', ']': '[', '}': '{'}\n",
    "pairs.values()"
   ]
  },
  {
   "cell_type": "code",
   "execution_count": 22,
   "metadata": {},
   "outputs": [
    {
     "name": "stdout",
     "output_type": "stream",
     "text": [
      "True\n",
      "False\n"
     ]
    }
   ],
   "source": [
    "# 다음과 테스트예제 같은 문자열이 주어질 때, 스택을 사용하여 괄호의 짝이 올바르게 맞는지 검사하는 프로그램을 작성하세요\n",
    "\n",
    "def is_balanced(expression):\n",
    "    stack = []\n",
    "    pairs = {')': '(', ']': '[', '}': '{'}\n",
    "    \n",
    "    for char in expression:\n",
    "        if char in pairs.values():                                               #     '({['  \n",
    "            stack.append(char)                                          # ( ( [\n",
    "        elif char in pairs.keys():                                             #     ')}]'    # stack = [( ( []    \n",
    "            if not stack or stack.pop() != pairs[char]:                 # dict와 비교\n",
    "                return False\n",
    "    return len(stack) == 0                     # 부울\n",
    "\n",
    "# 예제 입력\n",
    "expr1 = \"( ( [ ] ) )\"               # 출력 true\n",
    "expr2 = \"( [ ( ] ) )\"               # 출력 false\n",
    "print(is_balanced(expr1))  # True\n",
    "print(is_balanced(expr2))  # False"
   ]
  },
  {
   "cell_type": "markdown",
   "metadata": {},
   "source": [
    "#### 큐\n",
    "- __선입선출(FIFO, First In, First Out)__ 구조를 가진 자료구조, 가장 먼저 삽입된 데이터가 가장 먼저 나가는 구조.\n",
    "- collections모듈의 deque를 활용하여 구현 가능\n",
    ">- enqueue : 큐에 데이터를 추가\n",
    ">- dequeue : 큐에서 가장 먼저 들어온 데이터를 제거하고 반환\n",
    "- ex) 대기열 시스템(프린터 등)"
   ]
  },
  {
   "cell_type": "code",
   "execution_count": 23,
   "metadata": {},
   "outputs": [
    {
     "name": "stdout",
     "output_type": "stream",
     "text": [
      "10\n",
      "deque([20, 30])\n"
     ]
    }
   ],
   "source": [
    "# 큐 예시\n",
    "from collections import deque\n",
    "\n",
    "queue = deque()\n",
    "queue.append(10)  # enqueue\n",
    "queue.append(20)\n",
    "queue.append(30)\n",
    "print(queue.popleft())  # dequeue (10 출력)     \n",
    "print(queue)"
   ]
  },
  {
   "cell_type": "code",
   "execution_count": 24,
   "metadata": {},
   "outputs": [
    {
     "name": "stdout",
     "output_type": "stream",
     "text": [
      "1\n",
      "2\n"
     ]
    }
   ],
   "source": [
    "from collections import deque\n",
    "\n",
    "class Queue:\n",
    "    def __init__(self):\n",
    "        self.queue = deque()\n",
    "\n",
    "    def enqueue(self, item):\n",
    "        self.queue.append(item)\n",
    "\n",
    "    def dequeue(self):\n",
    "        if not self.is_empty():\n",
    "            return self.queue.popleft()\n",
    "        return None\n",
    "\n",
    "    def peek(self):\n",
    "        return self.queue[0] if not self.is_empty() else None\n",
    "\n",
    "    def is_empty(self):\n",
    "        return len(self.queue) == 0\n",
    "\n",
    "# 큐 사용 예제\n",
    "queue = Queue()\n",
    "queue.enqueue(1)\n",
    "queue.enqueue(2)\n",
    "print(queue.dequeue())  # 1\n",
    "print(queue.peek())  # 2"
   ]
  },
  {
   "cell_type": "code",
   "execution_count": 25,
   "metadata": {},
   "outputs": [
    {
     "name": "stdout",
     "output_type": "stream",
     "text": [
      "Alice 입장\n",
      "Bob 입장\n",
      "Charlie 입장\n"
     ]
    }
   ],
   "source": [
    "# 한 줄에 한 명씩 대기하는 식당이 있습니다. 손님이 도착하는 순서대로 큐에 추가하고, 가장 먼저 온 손님부터 입장시키는 프로그램을 작성하세요\n",
    "\n",
    "from collections import deque\n",
    "\n",
    "def process_queue(customers):\n",
    "    queue = deque(customers)\n",
    "    while queue:\n",
    "        person = queue.popleft\n",
    "        print(f\"{person} 입장\")\n",
    "\n",
    "# 테스트 데이터\n",
    "arrivals = [\"Alice\", \"Bob\", \"Charlie\"]\n",
    "process_queue(arrivals)\n",
    "# 출력예시\n",
    "# Alice 입장\n",
    "# Bob 입장\n",
    "# Charlie 입장"
   ]
  },
  {
   "cell_type": "markdown",
   "metadata": {},
   "source": [
    "#### DFS(Depth First Search, 깊이 우선 탐색)\n",
    "- 깊이 우선 탐색은 트리나 그래프의 깊은 부분을 우선적으로 탐색하는 방식. 스택을 활용하거나 재귀적으로 구현한다.\n",
    "- 경로를 기록해 방문한 노드를 다시 방문하지 않음\n",
    "- ex) 미로찾기"
   ]
  },
  {
   "cell_type": "code",
   "execution_count": 38,
   "metadata": {},
   "outputs": [
    {
     "name": "stdout",
     "output_type": "stream",
     "text": [
      "1\n",
      "[2, 3]\n",
      "3\n",
      "[2, 5]\n",
      "5\n",
      "[2]\n",
      "2\n",
      "[4]\n",
      "4\n",
      "[]\n",
      "[1, 3, 5, 2, 4]\n"
     ]
    }
   ],
   "source": [
    "# 스택 구현\n",
    "def dfs(graph, start):\n",
    "    visited = []                    # 방문한 노드들 기록            # [1,3,5,2,4]\n",
    "    stack = [start]                 # 시작 노드를 스택에 넣음       # [2]\n",
    "\n",
    "    while stack:\n",
    "        node = stack.pop()          # 스택의 마지막 노드를 꺼냄\n",
    "        print(node)\n",
    "        if node not in visited:\n",
    "            visited.append(node)    # 방문 기록\n",
    "            # 현재 노드와 연결된 노드를 스택에 추가\n",
    "            stack.extend((graph[node]))\n",
    "            print(stack)\n",
    "\n",
    "    return visited\n",
    "\n",
    "# 그래프 정의\n",
    "graph = {\n",
    "    1: [2, 3],\n",
    "    2: [4],\n",
    "    3: [5],\n",
    "    4: [],\n",
    "    5: []\n",
    "}\n",
    "\n",
    "# DFS 실행\n",
    "print(dfs(graph, 1))                # 결과: [1, 2, 4, 3, 5]\n"
   ]
  },
  {
   "cell_type": "code",
   "execution_count": 33,
   "metadata": {},
   "outputs": [
    {
     "name": "stdout",
     "output_type": "stream",
     "text": [
      "None\n"
     ]
    }
   ],
   "source": []
  },
  {
   "cell_type": "code",
   "execution_count": null,
   "metadata": {},
   "outputs": [],
   "source": [
    "# 재귀 구현\n",
    "def dfs(graph, node, visited):\n",
    "    visited.add(node)                   # 현재 노드를 방문 처리\n",
    "    print(node, end=' ')                # 방문한 노드 출력\n",
    "\n",
    "    for neighbor in graph[node]:\n",
    "        if neighbor not in visited:     # 인접 노드가 방문되지 않았다면\n",
    "            dfs(graph, neighbor, visited)\n",
    "\n",
    "# 테스트 케이스\n",
    "graph = {\n",
    "    'A': ['B', 'C'],\n",
    "    'B': ['D', 'E'],\n",
    "    'C': ['F'],\n",
    "    'D': [],\n",
    "    'E': [],\n",
    "    'F': []\n",
    "}\n",
    "\n",
    "visited = set()                         # 방문 기록을 저장할 집합\n",
    "print(\"DFS 탐색 순서:\")\n",
    "dfs(graph, 'A', visited)\n"
   ]
  },
  {
   "cell_type": "markdown",
   "metadata": {},
   "source": [
    "#### BFS(Breadth First Search, 너비 우선 탐색)\n",
    "- 너비 우선 탐색은 트리나 그래프의 모든 인접 노드를 먼저 탐색하는 방식. 큐를 활용하여 구현한다.\n",
    "- ex) 최단 경로 탐색"
   ]
  },
  {
   "cell_type": "code",
   "execution_count": 39,
   "metadata": {},
   "outputs": [
    {
     "name": "stdout",
     "output_type": "stream",
     "text": [
      "deque([2, 3])\n",
      "deque([3, 4])\n",
      "deque([4, 5])\n",
      "deque([5])\n",
      "deque([])\n",
      "[1, 2, 3, 4, 5]\n"
     ]
    }
   ],
   "source": [
    "from collections import deque\n",
    "\n",
    "def bfs(graph, start):\n",
    "    visited = []                    # 방문한 노드들 기록        # [1,2,3]\n",
    "    queue = deque([start])          # 시작 노드를 큐에 넣음     # [3]\n",
    "\n",
    "    while queue:\n",
    "        node = queue.popleft()      # 큐의 첫 번째 노드를 꺼냄      # 2\n",
    "        if node not in visited:\n",
    "            visited.append(node)    # 방문 기록\n",
    "            # 현재 노드와 연결된 노드를 큐에 추가\n",
    "            queue.extend(graph[node])\n",
    "            print(queue)\n",
    "\n",
    "    return visited\n",
    "\n",
    "graph = {\n",
    "    1: [2, 3],\n",
    "    2: [4],\n",
    "    3: [5],\n",
    "    4: [],\n",
    "    5: []\n",
    "}\n",
    "# BFS 실행\n",
    "print(bfs(graph, 1))                # 결과: [1, 2, 3, 4, 5]\n"
   ]
  },
  {
   "cell_type": "code",
   "execution_count": null,
   "metadata": {},
   "outputs": [],
   "source": [
    "from collections import deque\n",
    "\n",
    "def bfs(graph, start):\n",
    "    visited = set()             # 방문한 노드를 기록할 집합\n",
    "    queue = deque([start])      # BFS에서 사용할 큐에 시작 노드 추가\n",
    "    visited.add(start)          # 시작 노드를 방문 처리\n",
    "\n",
    "    while queue:\n",
    "        node = queue.popleft()  # 큐에서 노드를 꺼냄\n",
    "        print(node, end=' ')    # 방문한 노드 출력\n",
    "\n",
    "        for neighbor in graph[node]:\n",
    "            if neighbor not in visited:  # 인접 노드가 방문되지 않았다면\n",
    "                queue.append(neighbor)   # 큐에 인접 노드 추가\n",
    "                visited.add(neighbor)    # 방문 처리\n",
    "\n",
    "# 테스트 케이스\n",
    "graph = {\n",
    "    'A': ['B', 'C'],\n",
    "    'B': ['D', 'E'],\n",
    "    'C': ['F'],\n",
    "    'D': [],\n",
    "    'E': [],\n",
    "    'F': []\n",
    "}\n",
    "\n",
    "print(\"\\nBFS 탐색 순서:\")\n",
    "bfs(graph, 'A')\n"
   ]
  },
  {
   "cell_type": "code",
   "execution_count": null,
   "metadata": {},
   "outputs": [],
   "source": [
    "# 실습 예제\n",
    "from collections import deque\n",
    "\n",
    "def bfs_maze(maze, start, end):\n",
    "    rows, cols = len(maze), len(maze[0])\n",
    "    directions = [(-1, 0), (1, 0), (0, -1), (0, 1)]  # 상하좌우 이동\n",
    "    queue = deque([start])\n",
    "    visited = set()\n",
    "    visited.add(start)\n",
    "    \n",
    "    while queue:\n",
    "        x, y = queue.popleft()\n",
    "        if (x, y) == end:\n",
    "            return True                              # 출구 도착\n",
    "        \n",
    "        for dx, dy in directions:\n",
    "            nx, ny = x + dx, y + dy\n",
    "            if 0 <= nx < rows and 0 <= ny < cols and maze[nx][ny] == 0 and (nx, ny) not in visited:\n",
    "                visited.add((nx, ny))\n",
    "                queue.append((nx, ny))\n",
    "    return False\n",
    "\n",
    "# 미로 (0: 이동 가능, 1: 벽)\n",
    "maze = [\n",
    "    [0, 1, 0, 0, 0],\n",
    "    [0, 1, 0, 1, 0],\n",
    "    [0, 0, 0, 1, 0],\n",
    "    [0, 1, 1, 1, 0],\n",
    "    [0, 0, 0, 0, 0]\n",
    "]\n",
    "\n",
    "start = (0, 0)\n",
    "end = (4, 4)\n",
    "print(\"Path exists\" if bfs_maze(maze, start, end) else \"No path found\")"
   ]
  },
  {
   "cell_type": "code",
   "execution_count": 40,
   "metadata": {},
   "outputs": [
    {
     "data": {
      "text/plain": [
       "0"
      ]
     },
     "execution_count": 40,
     "metadata": {},
     "output_type": "execute_result"
    }
   ],
   "source": [
    "maze = [\n",
    "    [0, 1, 0, 0, 0],\n",
    "    [0, 1, 0, 1, 0],\n",
    "    [0, 0, 0, 1, 0],\n",
    "    [0, 1, 1, 1, 0],\n",
    "    [0, 0, 0, 0, 0]\n",
    "]\n",
    "maze[4][4]"
   ]
  }
 ],
 "metadata": {
  "kernelspec": {
   "display_name": "usr",
   "language": "python",
   "name": "python3"
  },
  "language_info": {
   "codemirror_mode": {
    "name": "ipython",
    "version": 3
   },
   "file_extension": ".py",
   "mimetype": "text/x-python",
   "name": "python",
   "nbconvert_exporter": "python",
   "pygments_lexer": "ipython3",
   "version": "3.10.12"
  }
 },
 "nbformat": 4,
 "nbformat_minor": 2
}
