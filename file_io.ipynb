{
 "cells": [
  {
   "cell_type": "markdown",
   "metadata": {},
   "source": [
    "#### 파일\n",
    "- 경로\n",
    ">- 절대경로 : 최상위 폴더부터 파일위치까지 모두 표현\n",
    ">- 상대경로 : 현재 작업 경로 기준으로 표현\n",
    "\n",
    "- 파일 입출력(read,write)\n",
    "- 파일 열기\n",
    ">- 파일경로 제공\n",
    ">- 읽기, 쓰기 등 파일을 여는 모드 사용\n",
    "- 파일 닫기 \n",
    ">- 파일변수.close()\n",
    "\n",
    "\n",
    "- 자주 발생하는 문제\n",
    ">- 파일 및 폴더 존재 여부\n",
    ">- 잘못된 경로 지정\n",
    ">- 파일 모드 설정 오류(\"r\" : 읽기 전용, \"w\" : 쓰기 (기존 내용 덮어씀), \"a\" : 추가, \"r+\" : 읽기 및 쓰기)\n",
    ">- 인코딩 형식 문제 (ex : encoding = 'utf-8')\n"
   ]
  },
  {
   "cell_type": "code",
   "execution_count": null,
   "metadata": {},
   "outputs": [],
   "source": [
    "import pandas as pd\n",
    "\n",
    "pd.read_excel('vgsales.csv')"
   ]
  },
  {
   "cell_type": "code",
   "execution_count": 7,
   "metadata": {},
   "outputs": [
    {
     "name": "stdout",
     "output_type": "stream",
     "text": [
      "현재 경로: /home/yong/Desktop/DoosanRokey/기초반\n",
      "상대 경로: ./example_folder/sample.txt\n",
      "절대 경로: /home/yong/Desktop/DoosanRokey/기초반/example_folder/sample.txt\n"
     ]
    }
   ],
   "source": [
    "import os\n",
    "\n",
    "# 현재 파일의 디렉터리 확인\n",
    "current_dir = os.getcwd()\n",
    "print(f\"현재 경로: {current_dir}\")\n",
    "\n",
    "# 상대경로 정의\n",
    "relative_path = \"./example_folder/sample.txt\"\n",
    "\n",
    "# 상대경로 확인\n",
    "print(f\"상대 경로: {relative_path}\")\n",
    "\n",
    "# 절대경로로 변환\n",
    "absolute_path = os.path.abspath(relative_path)\n",
    "print(f\"절대 경로: {absolute_path}\")\n"
   ]
  },
  {
   "cell_type": "code",
   "execution_count": null,
   "metadata": {},
   "outputs": [],
   "source": [
    "cd .."
   ]
  },
  {
   "cell_type": "code",
   "execution_count": 10,
   "metadata": {},
   "outputs": [
    {
     "name": "stdout",
     "output_type": "stream",
     "text": [
      "True\n",
      "False\n",
      "False\n"
     ]
    }
   ],
   "source": [
    "print(os.path.exists('/home/yong/Desktop/DoosanRokey/기초반/example.txt'))   # 파일이나 디렉터리가 존재하는지 확인.\n",
    "print(os.path.isdir('test.csv'))    # 주어진 경로가 디렉터리인지 확인\n",
    "print(os.path.isfile('test.csv'))   # 주어진 경로가 파일인지 확인"
   ]
  },
  {
   "cell_type": "code",
   "execution_count": 12,
   "metadata": {},
   "outputs": [
    {
     "name": "stdout",
     "output_type": "stream",
     "text": [
      "/home/yong/Desktop/DoosanRokey/기초반/module_test\n"
     ]
    },
    {
     "name": "stderr",
     "output_type": "stream",
     "text": [
      "/home/yong/.local/lib/python3.10/site-packages/IPython/core/magics/osm.py:417: UserWarning: This is now an optional IPython functionality, setting dhist requires you to install the `pickleshare` library.\n",
      "  self.shell.db['dhist'] = compress_dhist(dhist)[-100:]\n"
     ]
    }
   ],
   "source": [
    "cd module_test"
   ]
  },
  {
   "cell_type": "code",
   "execution_count": 15,
   "metadata": {},
   "outputs": [
    {
     "name": "stdout",
     "output_type": "stream",
     "text": [
      " 람다_lambda_함수_no_answer.ipynb\n",
      " 01_OOP.ipynb\n",
      " 1주차_review.ipynb\n",
      " 250203\n",
      " 4기_파이썬_집중반_기초_비정규교과커리큘럼.docx.pdf\n",
      " Calendar.ipynb\n",
      " Dict_Set.ipynb\n",
      " List_Tuple.ipynb\n",
      " Python_Review.ipynb\n",
      " \u001b[0m\u001b[01;34mRokey_PythonLecture\u001b[0m/\n",
      " \u001b[01;34m__pycache__\u001b[0m/\n",
      " \u001b[01;34mcode_review\u001b[0m/\n",
      " code_review.ipynb\n",
      " data.txt\n",
      " example.txt\n",
      " example_test.txt\n",
      " file_io.ipynb\n",
      " lambda.ipynb\n",
      " main.py\n",
      " \u001b[01;34mmodule_test\u001b[0m/\n",
      " pandas_numpy.ipynb\n",
      "\u001b[01;34m'programming (2)'\u001b[0m/\n",
      "'programming (2).zip'\n",
      " python_chore.ipynb\n",
      " qr_code.png\n",
      " qr_test.ipynb\n",
      " regression_classification.ipynb\n",
      " requirements.txt\n",
      " test.ipynb\n",
      " test.txt\n",
      " test_import.py\n",
      " test_review.ipynb\n",
      " vgsales.csv\n",
      "'сДСсЕбсДЛсЕ╡сЖп(file).ipynb'\n",
      " 객체지향1.ipynb\n",
      " 기초_테스트_.ipynb\n",
      " 기초_테스트_답안.ipynb\n",
      " \u001b[01;34m기초반_평가\u001b[0m/\n",
      "'기초반_평가답안(1).ipynb'\n",
      " 내장함수.ipynb\n",
      " 내장함수_얕은복사.ipynb\n",
      " 논리연산자.ipynb\n",
      " 모듈.ipynb\n",
      " 반복문.ipynb\n",
      " 반복문_답.ipynb\n",
      " 스택_큐.ipynb\n",
      " 알고리즘.ipynb\n",
      " 예외처리.ipynb\n",
      " 이터_제네레이터.ipynb\n",
      " 자료구조_dictionary_.ipynb\n",
      " 자료구조_list__tuple_.ipynb\n",
      " 정규표현식.ipynb\n",
      " 조건문.ipynb\n",
      " 조건문_답.ipynb\n",
      " 카드키.ipynb\n",
      " 함수.ipynb\n"
     ]
    }
   ],
   "source": [
    "ls"
   ]
  },
  {
   "cell_type": "code",
   "execution_count": 14,
   "metadata": {},
   "outputs": [
    {
     "name": "stdout",
     "output_type": "stream",
     "text": [
      "/home/yong/Desktop/DoosanRokey/기초반\n"
     ]
    },
    {
     "name": "stderr",
     "output_type": "stream",
     "text": [
      "/home/yong/.local/lib/python3.10/site-packages/IPython/core/magics/osm.py:417: UserWarning: This is now an optional IPython functionality, setting dhist requires you to install the `pickleshare` library.\n",
      "  self.shell.db['dhist'] = compress_dhist(dhist)[-100:]\n"
     ]
    }
   ],
   "source": [
    "cd .."
   ]
  },
  {
   "cell_type": "code",
   "execution_count": null,
   "metadata": {},
   "outputs": [],
   "source": [
    "import os   # 폴더나 파일 이동,복사,삭제,생성에 사용\n",
    "\n",
    "# print(os.getcwd())  # 현재 경로\n",
    "# print(os.path.join(os.getcwd(), 'data'))   # 경로명 추가\n",
    "# print(os.mkdir('test_dir'))                 # 폴더 생성\n",
    "# new_dir = os.chdir(os.getcwd() + '/test_dir')             # 경로 수정\n",
    "# print(new_dir)\n",
    "# os.rmdir('/home/yong/Desktop/DoosanRokey/test_dir')                                  # 폴더 삭제\n",
    "os.remove('example.txt')                                 # 파일 삭제"
   ]
  },
  {
   "cell_type": "code",
   "execution_count": 11,
   "metadata": {},
   "outputs": [
    {
     "name": "stdout",
     "output_type": "stream",
     "text": [
      " 람다_lambda_함수_no_answer.ipynb\n",
      " 01_OOP.ipynb\n",
      " 1주차_review.ipynb\n",
      " 250203\n",
      " 4기_파이썬_집중반_기초_비정규교과커리큘럼.docx.pdf\n",
      " Calendar.ipynb\n",
      " Dict_Set.ipynb\n",
      " List_Tuple.ipynb\n",
      " Python_Review.ipynb\n",
      " \u001b[0m\u001b[01;34mRokey_PythonLecture\u001b[0m/\n",
      " \u001b[01;34m__pycache__\u001b[0m/\n",
      " \u001b[01;34mcode_review\u001b[0m/\n",
      " code_review.ipynb\n",
      " data.txt\n",
      " example.txt\n",
      " example_test.txt\n",
      " file_io.ipynb\n",
      " lambda.ipynb\n",
      " main.py\n",
      " \u001b[01;34mmodule_test\u001b[0m/\n",
      " pandas_numpy.ipynb\n",
      "\u001b[01;34m'programming (2)'\u001b[0m/\n",
      "'programming (2).zip'\n",
      " python_chore.ipynb\n",
      " qr_code.png\n",
      " qr_test.ipynb\n",
      " regression_classification.ipynb\n",
      " requirements.txt\n",
      " test.ipynb\n",
      " test.txt\n",
      " test_import.py\n",
      " test_review.ipynb\n",
      " vgsales.csv\n",
      "'сДСсЕбсДЛсЕ╡сЖп(file).ipynb'\n",
      " 객체지향1.ipynb\n",
      " 기초_테스트_.ipynb\n",
      " 기초_테스트_답안.ipynb\n",
      " \u001b[01;34m기초반_평가\u001b[0m/\n",
      "'기초반_평가답안(1).ipynb'\n",
      " 내장함수.ipynb\n",
      " 내장함수_얕은복사.ipynb\n",
      " 논리연산자.ipynb\n",
      " 모듈.ipynb\n",
      " 반복문.ipynb\n",
      " 반복문_답.ipynb\n",
      " 스택_큐.ipynb\n",
      " 알고리즘.ipynb\n",
      " 예외처리.ipynb\n",
      " 이터_제네레이터.ipynb\n",
      " 자료구조_dictionary_.ipynb\n",
      " 자료구조_list__tuple_.ipynb\n",
      " 정규표현식.ipynb\n",
      " 조건문.ipynb\n",
      " 조건문_답.ipynb\n",
      " 카드키.ipynb\n",
      " 함수.ipynb\n"
     ]
    }
   ],
   "source": [
    "ls"
   ]
  },
  {
   "cell_type": "code",
   "execution_count": 28,
   "metadata": {},
   "outputs": [],
   "source": [
    "os.remove('test.txt')  "
   ]
  },
  {
   "cell_type": "code",
   "execution_count": null,
   "metadata": {},
   "outputs": [],
   "source": [
    "print(os.getcwd())  # 현재 경로"
   ]
  },
  {
   "cell_type": "code",
   "execution_count": 16,
   "metadata": {},
   "outputs": [
    {
     "data": {
      "text/plain": [
       "['/home/yong/Desktop/DoosanRokey/기초반/기초반_평가/DR-03104_김승주_250117_test.ipynb',\n",
       " '/home/yong/Desktop/DoosanRokey/기초반/기초반_평가/250117_test_정재종.ipynb',\n",
       " '/home/yong/Desktop/DoosanRokey/기초반/기초반_평가/250117_test_김재권.ipynb',\n",
       " '/home/yong/Desktop/DoosanRokey/기초반/기초반_평가/DR-03151_제민수_250117_test.ipynb',\n",
       " '/home/yong/Desktop/DoosanRokey/기초반/기초반_평가/250117_test_03093_박태수.ipynb',\n",
       " '/home/yong/Desktop/DoosanRokey/기초반/기초반_평가/250117_test_김상우.ipynb',\n",
       " '/home/yong/Desktop/DoosanRokey/기초반/기초반_평가/기초2반 3기_03097_이유비.ipynb',\n",
       " '/home/yong/Desktop/DoosanRokey/기초반/기초반_평가/250117_test1_김영섭.ipynb',\n",
       " '/home/yong/Desktop/DoosanRokey/기초반/기초반_평가/250117_test_지예은.ipynb',\n",
       " '/home/yong/Desktop/DoosanRokey/기초반/기초반_평가/250117_test_우상민.ipynb',\n",
       " '/home/yong/Desktop/DoosanRokey/기초반/기초반_평가/250117_test_노우혁.ipynb',\n",
       " '/home/yong/Desktop/DoosanRokey/기초반/기초반_평가/250117_test_김태영.ipynb',\n",
       " '/home/yong/Desktop/DoosanRokey/기초반/기초반_평가/250117_test_이요셉.ipynb']"
      ]
     },
     "execution_count": 16,
     "metadata": {},
     "output_type": "execute_result"
    }
   ],
   "source": [
    "import glob\n",
    "glob.glob('/home/yong/Desktop/DoosanRokey/기초반/기초반_평가/*')     # 폴더 내 모든파일 리스트 반환"
   ]
  },
  {
   "cell_type": "code",
   "execution_count": null,
   "metadata": {},
   "outputs": [],
   "source": [
    "import os\n",
    "print(os.getcwd())"
   ]
  },
  {
   "cell_type": "code",
   "execution_count": null,
   "metadata": {},
   "outputs": [],
   "source": [
    "cd  DoosanRokey/기초반/"
   ]
  },
  {
   "cell_type": "code",
   "execution_count": 19,
   "metadata": {},
   "outputs": [
    {
     "name": "stdout",
     "output_type": "stream",
     "text": [
      "반가워~\n"
     ]
    }
   ],
   "source": [
    "# - 텍스트 파일 읽기\n",
    "f = open('test.txt', 'r')   # 파일 열기( 읽기 모드)\n",
    "s = f.read()                # 파일 내용 전체 읽기\n",
    "print(s)\n",
    "f.close()"
   ]
  },
  {
   "cell_type": "code",
   "execution_count": 18,
   "metadata": {},
   "outputs": [],
   "source": [
    "# - 텍스트 파일 write\n",
    "f = open('test.txt', 'w')\n",
    "f.write('반가워~')\n",
    "f.close()"
   ]
  },
  {
   "cell_type": "code",
   "execution_count": 21,
   "metadata": {},
   "outputs": [
    {
     "name": "stdout",
     "output_type": "stream",
     "text": [
      "반가워~\n",
      "나의 이름은\n",
      "필립이야."
     ]
    }
   ],
   "source": [
    "# 줄 단위로 파일 읽기\n",
    "# readline()\n",
    "f = open('test.txt', 'r')\n",
    "line = f.readline()  # read()\n",
    "\n",
    "while line:\n",
    "    print(line, end='')\n",
    "    line = f.readline()\n",
    "\n",
    "f.close()"
   ]
  },
  {
   "cell_type": "code",
   "execution_count": 22,
   "metadata": {},
   "outputs": [
    {
     "name": "stdout",
     "output_type": "stream",
     "text": [
      "반가워~\n",
      "나의 이름은\n",
      "필립이야."
     ]
    }
   ],
   "source": [
    "f = open('test.txt', 'r')\n",
    "for line in f:\n",
    "    print(line, end='')\n",
    "f.close()"
   ]
  },
  {
   "cell_type": "code",
   "execution_count": 23,
   "metadata": {},
   "outputs": [
    {
     "name": "stdout",
     "output_type": "stream",
     "text": [
      "반가워~\n",
      "나의 이름은\n",
      "필립이야."
     ]
    }
   ],
   "source": [
    "# 파일 내용을 리스트로 구성\n",
    "# readlines()\n",
    "f = open('test.txt', 'r')\n",
    "lines = f.readlines()\n",
    "for line in lines:\n",
    "    print(line, end='')\n",
    "\n",
    "f.close()"
   ]
  },
  {
   "cell_type": "code",
   "execution_count": 24,
   "metadata": {},
   "outputs": [],
   "source": [
    "# 기존 내용에 덧붙이기\n",
    "f = open('test.txt', 'a')  # 첫번째 인자에 절대경로 추천\n",
    "\n",
    "f.write('\\n안녕 필립~')\n",
    "f.close()\n"
   ]
  },
  {
   "cell_type": "code",
   "execution_count": 25,
   "metadata": {},
   "outputs": [
    {
     "name": "stdout",
     "output_type": "stream",
     "text": [
      "반가워~\n",
      "나의 이름은\n",
      "필립이야.\n",
      "안녕 필립~"
     ]
    }
   ],
   "source": [
    "# readlines()\n",
    "f = open('test.txt', 'r')\n",
    "lines = f.readlines()\n",
    "for line in lines:\n",
    "    print(line, end='')\n",
    "\n",
    "f.close()"
   ]
  },
  {
   "cell_type": "code",
   "execution_count": 26,
   "metadata": {},
   "outputs": [
    {
     "name": "stdout",
     "output_type": "stream",
     "text": [
      "반가워~\n",
      "나의 이름은\n",
      "필립이야.\n",
      "안녕 필립~"
     ]
    }
   ],
   "source": [
    "# with문 사용\n",
    "with open('test.txt') as f:\n",
    "    for line in f:\n",
    "        print(line, end='')"
   ]
  },
  {
   "cell_type": "code",
   "execution_count": null,
   "metadata": {},
   "outputs": [],
   "source": []
  },
  {
   "cell_type": "code",
   "execution_count": 34,
   "metadata": {},
   "outputs": [
    {
     "ename": "UnicodeDecodeError",
     "evalue": "'cp949' codec can't decode byte 0xb0 in position 4: illegal multibyte sequence",
     "output_type": "error",
     "traceback": [
      "\u001b[0;31m---------------------------------------------------------------------------\u001b[0m",
      "\u001b[0;31mUnicodeDecodeError\u001b[0m                        Traceback (most recent call last)",
      "Cell \u001b[0;32mIn[34], line 3\u001b[0m\n\u001b[1;32m      1\u001b[0m \u001b[38;5;66;03m# encoding option\u001b[39;00m\n\u001b[1;32m      2\u001b[0m \u001b[38;5;28;01mwith\u001b[39;00m \u001b[38;5;28mopen\u001b[39m(\u001b[38;5;124m'\u001b[39m\u001b[38;5;124mtest.txt\u001b[39m\u001b[38;5;124m'\u001b[39m, encoding\u001b[38;5;241m=\u001b[39m \u001b[38;5;124m'\u001b[39m\u001b[38;5;124mcp949\u001b[39m\u001b[38;5;124m'\u001b[39m) \u001b[38;5;28;01mas\u001b[39;00m f:\n\u001b[0;32m----> 3\u001b[0m     s \u001b[38;5;241m=\u001b[39m \u001b[43mf\u001b[49m\u001b[38;5;241;43m.\u001b[39;49m\u001b[43mread\u001b[49m\u001b[43m(\u001b[49m\u001b[43m)\u001b[49m\n\u001b[1;32m      4\u001b[0m     \u001b[38;5;28mprint\u001b[39m(s)\n",
      "\u001b[0;31mUnicodeDecodeError\u001b[0m: 'cp949' codec can't decode byte 0xb0 in position 4: illegal multibyte sequence"
     ]
    }
   ],
   "source": [
    "# encoding option\n",
    "with open('test.txt', encoding= 'cp949') as f:\n",
    "    s = f.read()\n",
    "    print(s)"
   ]
  },
  {
   "cell_type": "code",
   "execution_count": 31,
   "metadata": {},
   "outputs": [
    {
     "name": "stdout",
     "output_type": "stream",
     "text": [
      "\n"
     ]
    }
   ],
   "source": [
    "# example.txt 열어보기\n",
    "# 아래 딕셔너리 형태의 데이터를 텍스트형태로 집어넣고 저장해보세요.\n",
    "account_info = {\n",
    "    \"Account Holder\": \"John\",\n",
    "    \"Account Balance\": \"1,234,567\"\n",
    "}\n",
    "\n",
    "with open('example.txt', encoding= 'cp949') as f:\n",
    "    s = f.read()\n",
    "    print(s)"
   ]
  },
  {
   "cell_type": "code",
   "execution_count": 32,
   "metadata": {},
   "outputs": [
    {
     "name": "stdout",
     "output_type": "stream",
     "text": [
      "Account Holder : John\n",
      "Account Balance : 1,234,567\n"
     ]
    }
   ],
   "source": [
    "save_path = os.getcwd() + '/example.txt'\n",
    "text = '\\n'.join([f\"{key} : {value}\" for key, value in account_info.items()])\n",
    "print(text)\n",
    "with open(save_path, \"w\", encoding='cp949') as f:\n",
    "    f.write(text)"
   ]
  },
  {
   "cell_type": "code",
   "execution_count": 33,
   "metadata": {},
   "outputs": [
    {
     "name": "stdout",
     "output_type": "stream",
     "text": [
      "Account Holder : John\n",
      "Account Balance : 1,234,567\n"
     ]
    }
   ],
   "source": [
    "with open('example.txt', encoding= 'cp949') as f:\n",
    "    s = f.read()\n",
    "    print(s)\n",
    "f.close()"
   ]
  },
  {
   "cell_type": "code",
   "execution_count": null,
   "metadata": {},
   "outputs": [],
   "source": []
  }
 ],
 "metadata": {
  "kernelspec": {
   "display_name": "usr",
   "language": "python",
   "name": "python3"
  },
  "language_info": {
   "codemirror_mode": {
    "name": "ipython",
    "version": 3
   },
   "file_extension": ".py",
   "mimetype": "text/x-python",
   "name": "python",
   "nbconvert_exporter": "python",
   "pygments_lexer": "ipython3",
   "version": "3.10.12"
  }
 },
 "nbformat": 4,
 "nbformat_minor": 2
}
