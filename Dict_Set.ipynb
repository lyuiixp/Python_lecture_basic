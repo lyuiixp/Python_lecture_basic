{
 "cells": [
  {
   "cell_type": "markdown",
   "metadata": {},
   "source": [
    "## 딕셔너리(dictionary)\n",
    "- Key, Value로 구성된 한쌍을 지니는 자료구조\n",
    "- 중복된 Key를 사용할 수 없음\n",
    "- Key는 수정 불가능한 것만 사용(immutable)\n",
    "- Value는 변경 가능\n",
    "- 중괄호 표현 {}\n",
    "- 값 추가 및 변경은 dict[key] = value\n",
    "- 삭제는 del()"
   ]
  },
  {
   "cell_type": "markdown",
   "metadata": {},
   "source": []
  },
  {
   "cell_type": "code",
   "execution_count": 4,
   "metadata": {},
   "outputs": [
    {
     "data": {
      "text/plain": [
       "{'name': '홍길동', 'age': 28, 'hobby': ['야구', '헬스', '독서', '코딩'], 'job': '학생'}"
      ]
     },
     "execution_count": 4,
     "metadata": {},
     "output_type": "execute_result"
    }
   ],
   "source": [
    "personal = {}\n",
    "x = 'job'\n",
    "personal['name'] = '홍길동'\n",
    "personal['age'] = 20\n",
    "personal['hobby'] = ['야구', '헬스', '독서', '코딩']\n",
    "personal['region'] = '서울'\n",
    "personal['age'] = 28\n",
    "personal['job'] = '학생'\n",
    "del personal['region'] \n",
    "personal"
   ]
  },
  {
   "cell_type": "code",
   "execution_count": 5,
   "metadata": {},
   "outputs": [
    {
     "data": {
      "text/plain": [
       "{'name': '민수', 'age': 28, 'hobby': ['야구', '헬스', '독서', '코딩'], 'job': '학생'}"
      ]
     },
     "execution_count": 5,
     "metadata": {},
     "output_type": "execute_result"
    }
   ],
   "source": [
    "# key가 중복될 경우 -> 나중에 들어오는 value값으로 지정된다.\n",
    "personal['name'] = '민수'\n",
    "personal"
   ]
  },
  {
   "cell_type": "code",
   "execution_count": 6,
   "metadata": {},
   "outputs": [
    {
     "data": {
      "text/plain": [
       "['야구', '헬스', '독서', '코딩']"
      ]
     },
     "execution_count": 6,
     "metadata": {},
     "output_type": "execute_result"
    }
   ],
   "source": [
    "# get() : 키를 통해 값에 접근한다\n",
    "personal.get('hobby')\n"
   ]
  },
  {
   "cell_type": "code",
   "execution_count": 7,
   "metadata": {},
   "outputs": [
    {
     "data": {
      "text/plain": [
       "{'name': '민수',\n",
       " 'age': 28,\n",
       " 'hobby': ['야구', '헬스', '독서', '코딩'],\n",
       " 'job': '백수',\n",
       " '군필': True,\n",
       " 'license': None}"
      ]
     },
     "execution_count": 7,
     "metadata": {},
     "output_type": "execute_result"
    }
   ],
   "source": [
    "# update() : 여러 요소를 한번에 추가 또는 수정\n",
    "personal.update({'군필': True, 'license': None, 'job': '백수'})\n",
    "personal"
   ]
  },
  {
   "cell_type": "code",
   "execution_count": 11,
   "metadata": {},
   "outputs": [
    {
     "name": "stdout",
     "output_type": "stream",
     "text": [
      "name\n",
      "age\n",
      "hobby\n",
      "job\n",
      "군필\n",
      "license\n"
     ]
    },
    {
     "data": {
      "text/plain": [
       "dict_keys(['name', 'age', 'hobby', 'job', '군필', 'license'])"
      ]
     },
     "execution_count": 11,
     "metadata": {},
     "output_type": "execute_result"
    }
   ],
   "source": [
    "# for문 활용\n",
    "# key에 접근\n",
    "for key in personal.keys():\n",
    "    print(key)\n",
    "personal.keys()"
   ]
  },
  {
   "cell_type": "code",
   "execution_count": 12,
   "metadata": {},
   "outputs": [
    {
     "name": "stdout",
     "output_type": "stream",
     "text": [
      "민수\n",
      "28\n",
      "['야구', '헬스', '독서', '코딩']\n",
      "백수\n",
      "True\n",
      "None\n"
     ]
    },
    {
     "data": {
      "text/plain": [
       "'민수'"
      ]
     },
     "execution_count": 12,
     "metadata": {},
     "output_type": "execute_result"
    }
   ],
   "source": [
    "# value에 접근\n",
    "for value in personal.values():\n",
    "    print(value)\n",
    "list(personal.values())[0]"
   ]
  },
  {
   "cell_type": "code",
   "execution_count": 18,
   "metadata": {},
   "outputs": [
    {
     "name": "stdout",
     "output_type": "stream",
     "text": [
      "name 민수\n",
      "age 28\n",
      "hobby ['야구', '헬스', '독서', '코딩']\n",
      "job 백수\n",
      "군필 True\n",
      "license None\n"
     ]
    },
    {
     "data": {
      "text/plain": [
       "('name', '민수')"
      ]
     },
     "execution_count": 18,
     "metadata": {},
     "output_type": "execute_result"
    }
   ],
   "source": [
    "# key, value 동시 접근\n",
    "for k,v in personal.items():\n",
    "    print(k,v)\n",
    "list(personal.items())[0]"
   ]
  },
  {
   "cell_type": "code",
   "execution_count": 19,
   "metadata": {},
   "outputs": [
    {
     "data": {
      "text/plain": [
       "True"
      ]
     },
     "execution_count": 19,
     "metadata": {},
     "output_type": "execute_result"
    }
   ],
   "source": [
    "'name' in  personal"
   ]
  },
  {
   "cell_type": "code",
   "execution_count": 9,
   "metadata": {},
   "outputs": [],
   "source": [
    "# key in dict: 로 키가 있는지 확인\n",
    "# 딕셔너리 전체삭제 : dict.clear()\n",
    "\n",
    "# 키 값으로 unhashable한 값은 사용 불가능(가변객체 사용 불가) : list, dict, set\n",
    "# hash : 데이터가 입력받으면 나오는 고유 값\n",
    "# 불변객체 : int, float, str, tuple"
   ]
  },
  {
   "cell_type": "code",
   "execution_count": 21,
   "metadata": {},
   "outputs": [
    {
     "ename": "TypeError",
     "evalue": "unhashable type: 'dict'",
     "output_type": "error",
     "traceback": [
      "\u001b[0;31m---------------------------------------------------------------------------\u001b[0m",
      "\u001b[0;31mTypeError\u001b[0m                                 Traceback (most recent call last)",
      "Cell \u001b[0;32mIn[21], line 2\u001b[0m\n\u001b[1;32m      1\u001b[0m test_dict \u001b[38;5;241m=\u001b[39m {}\n\u001b[0;32m----> 2\u001b[0m \u001b[43mtest_dict\u001b[49m\u001b[43m[\u001b[49m\u001b[43m{\u001b[49m\u001b[38;5;124;43m'\u001b[39;49m\u001b[38;5;124;43ma\u001b[39;49m\u001b[38;5;124;43m'\u001b[39;49m\u001b[43m:\u001b[49m\u001b[38;5;241;43m3\u001b[39;49m\u001b[43m,\u001b[49m\u001b[38;5;241;43m4\u001b[39;49m\u001b[43m:\u001b[49m\u001b[38;5;241;43m3\u001b[39;49m\u001b[43m}\u001b[49m\u001b[43m]\u001b[49m \u001b[38;5;241m=\u001b[39m \u001b[38;5;241m1\u001b[39m\n",
      "\u001b[0;31mTypeError\u001b[0m: unhashable type: 'dict'"
     ]
    }
   ],
   "source": [
    "test_dict = {}\n",
    "test_dict[{'a':3,4:3}] = 1"
   ]
  },
  {
   "cell_type": "code",
   "execution_count": 34,
   "metadata": {},
   "outputs": [
    {
     "data": {
      "text/plain": [
       "{'l': 8,\n",
       " 'o': 13,\n",
       " 'r': 15,\n",
       " 'e': 23,\n",
       " 'm': 13,\n",
       " ' ': 32,\n",
       " 'i': 17,\n",
       " 'p': 7,\n",
       " 's': 17,\n",
       " 'u': 14,\n",
       " 'd': 6,\n",
       " 't': 13,\n",
       " 'a': 17,\n",
       " ',': 4,\n",
       " 'c': 10,\n",
       " 'n': 11,\n",
       " 'g': 4,\n",
       " '.': 4,\n",
       " '\\n': 5,\n",
       " 'f': 1,\n",
       " 'v': 3,\n",
       " 'b': 1,\n",
       " 'q': 1}"
      ]
     },
     "execution_count": 34,
     "metadata": {},
     "output_type": "execute_result"
    }
   ],
   "source": [
    "# 딕셔너리 실습\n",
    "# 1 \n",
    "sentences = \"\"\"Lorem ipsum dolor sit amet, consectetuer adipiscing elit. \n",
    "Maecenas porttitor congue massa. \n",
    "Fusce posuere, magna sed pulvinar ultricies, purus lectus malesuada libero, sit amet \n",
    "commodo magna eros quis urna. \n",
    "Nunc viverra imperdiet enim.\n",
    "\"\"\"\n",
    "dict_alphabet = {}\n",
    "sentences = sentences.lower()\n",
    "# print(sentences)\n",
    "for i in sentences:\n",
    "    # print(i)\n",
    "    if i in dict_alphabet:  # False -> else\n",
    "        dict_alphabet[i] += 1\n",
    "        # print(dict_alphabet[i])\n",
    "    else:\n",
    "        dict_alphabet[i] = 1\n",
    "\n",
    "for key,value in dict_alphabet.items():\n",
    "    if key == ' ':\n",
    "        key = 'SPACE'\n",
    "    elif key == '\\t':\n",
    "        key = 'TAB'\n",
    "    elif key == '\\n':\n",
    "        key = 'NEWLINE'\n",
    "    # print(key)\n",
    "\n",
    "dict_alphabet\n"
   ]
  },
  {
   "cell_type": "code",
   "execution_count": 35,
   "metadata": {},
   "outputs": [
    {
     "data": {
      "text/plain": [
       "{'o': 13,\n",
       " 'r': 15,\n",
       " 'e': 23,\n",
       " 'm': 13,\n",
       " ' ': 32,\n",
       " 'i': 17,\n",
       " 'p': 7,\n",
       " 's': 17,\n",
       " 'u': 14,\n",
       " 'd': 6,\n",
       " 't': 13,\n",
       " 'a': 17,\n",
       " ',': 4,\n",
       " 'c': 10,\n",
       " 'n': 11,\n",
       " 'g': 4,\n",
       " '.': 4,\n",
       " '\\n': 5,\n",
       " 'f': 1,\n",
       " 'v': 3,\n",
       " 'b': 1,\n",
       " 'q': 1}"
      ]
     },
     "execution_count": 35,
     "metadata": {},
     "output_type": "execute_result"
    }
   ],
   "source": [
    "dict_alphabet.pop('l')\n",
    "dict_alphabet"
   ]
  },
  {
   "cell_type": "code",
   "execution_count": 36,
   "metadata": {},
   "outputs": [
    {
     "data": {
      "text/plain": [
       "{'o': 13,\n",
       " 'r': 15,\n",
       " 'e': 23,\n",
       " 'm': 13,\n",
       " 'i': 17,\n",
       " 'p': 7,\n",
       " 's': 17,\n",
       " 'u': 14,\n",
       " 'd': 6,\n",
       " 't': 13,\n",
       " 'a': 17,\n",
       " ',': 4,\n",
       " 'c': 10,\n",
       " 'n': 11,\n",
       " 'g': 4,\n",
       " '.': 4,\n",
       " 'f': 1,\n",
       " 'v': 3,\n",
       " 'b': 1,\n",
       " 'q': 1,\n",
       " 'SPACE': 32,\n",
       " 'NEWLINE': 5}"
      ]
     },
     "execution_count": 36,
     "metadata": {},
     "output_type": "execute_result"
    }
   ],
   "source": [
    "# Key의 이름 변경\n",
    "dict_alphabet['SPACE'] = dict_alphabet.pop(' ')         # '' value\n",
    "# dict_alphabet['TAB'] = dict_alphabet.pop('\\t')          # \\t value\n",
    "dict_alphabet['NEWLINE'] = dict_alphabet.pop('\\n')      # \\n value\n",
    "dict_alphabet"
   ]
  },
  {
   "cell_type": "code",
   "execution_count": 38,
   "metadata": {},
   "outputs": [
    {
     "name": "stdout",
     "output_type": "stream",
     "text": [
      "{'이름': '용욱', '나이': '50'}\n"
     ]
    }
   ],
   "source": [
    "# 실습 2 \n",
    "name = input('이름을 입력하세요: ')\n",
    "age = input(\"나이를 입력하세요: \")\n",
    "\n",
    "# name2 = input()\n",
    "# age2 = input()\n",
    "user = {'이름': name, '나이': age}\n",
    "print(user)"
   ]
  },
  {
   "cell_type": "code",
   "execution_count": null,
   "metadata": {},
   "outputs": [],
   "source": [
    "def solution():\n",
    "    name = input('이름을 입력하세요: ')\n",
    "    age = input(\"나이를 입력하세요: \")\n",
    "\n",
    "    user = {'이름': name, '나이': age}\n",
    "    return user\n",
    "\n",
    "solution()\n"
   ]
  },
  {
   "cell_type": "code",
   "execution_count": null,
   "metadata": {},
   "outputs": [],
   "source": [
    "solution()"
   ]
  },
  {
   "cell_type": "code",
   "execution_count": 39,
   "metadata": {},
   "outputs": [
    {
     "name": "stdout",
     "output_type": "stream",
     "text": [
      "이름의 값 : 용욱\n"
     ]
    }
   ],
   "source": [
    "# 실습 3\n",
    "\n",
    "key = input('찾을 키 값을 입력하세요 : ')\n",
    "try: \n",
    "    print(f'{key}의 값 : {user[key]}')\n",
    "except:\n",
    "    print(f\"오류가 발생했습니다. {key}는 존재 하지 않는 키입니다.\")"
   ]
  },
  {
   "cell_type": "markdown",
   "metadata": {},
   "source": [
    "## 집합(set)\n",
    "- 중복을 허용하지 않는다.\n",
    "- 순서가 없다.\n",
    "- 합집합, 교집합, 차집합등의 연산가능\n",
    "- 중괄호 표시 {}\n"
   ]
  },
  {
   "cell_type": "code",
   "execution_count": 42,
   "metadata": {},
   "outputs": [
    {
     "ename": "TypeError",
     "evalue": "unhashable type: 'list'",
     "output_type": "error",
     "traceback": [
      "\u001b[0;31m---------------------------------------------------------------------------\u001b[0m",
      "\u001b[0;31mTypeError\u001b[0m                                 Traceback (most recent call last)",
      "Cell \u001b[0;32mIn[42], line 4\u001b[0m\n\u001b[1;32m      1\u001b[0m \u001b[38;5;66;03m# 가변객체 테스트\u001b[39;00m\n\u001b[1;32m      2\u001b[0m \u001b[38;5;66;03m# {{1:2}}\u001b[39;00m\n\u001b[1;32m      3\u001b[0m \u001b[38;5;66;03m# {{1,2,3}}\u001b[39;00m\n\u001b[0;32m----> 4\u001b[0m {[\u001b[38;5;241m1\u001b[39m,\u001b[38;5;241m2\u001b[39m]}\n",
      "\u001b[0;31mTypeError\u001b[0m: unhashable type: 'list'"
     ]
    }
   ],
   "source": [
    "# 가변객체 테스트\n",
    "# {{1:2}}\n",
    "# {{1,2,3}}\n",
    "# {[1,2]}"
   ]
  },
  {
   "cell_type": "code",
   "execution_count": 43,
   "metadata": {},
   "outputs": [
    {
     "data": {
      "text/plain": [
       "set"
      ]
     },
     "execution_count": 43,
     "metadata": {},
     "output_type": "execute_result"
    }
   ],
   "source": [
    "type({1})"
   ]
  },
  {
   "cell_type": "code",
   "execution_count": 44,
   "metadata": {},
   "outputs": [
    {
     "data": {
      "text/plain": [
       "{1, 2}"
      ]
     },
     "execution_count": 44,
     "metadata": {},
     "output_type": "execute_result"
    }
   ],
   "source": [
    "set([1,2])"
   ]
  },
  {
   "cell_type": "code",
   "execution_count": 56,
   "metadata": {},
   "outputs": [
    {
     "name": "stdout",
     "output_type": "stream",
     "text": [
      "{'c', 'b', 'a', 'A', 'B'}\n"
     ]
    }
   ],
   "source": [
    "rand_alpha = {'a', 'A', 'b', 'B', 'c', 'c'}\n",
    "print(rand_alpha)"
   ]
  },
  {
   "cell_type": "code",
   "execution_count": 46,
   "metadata": {},
   "outputs": [
    {
     "data": {
      "text/plain": [
       "{'A', 'B', 'Z', 'a', 'b', 'c'}"
      ]
     },
     "execution_count": 46,
     "metadata": {},
     "output_type": "execute_result"
    }
   ],
   "source": [
    "# add() : 단일요소 추가\n",
    "rand_alpha.add('Z')\n",
    "rand_alpha"
   ]
  },
  {
   "cell_type": "code",
   "execution_count": 47,
   "metadata": {},
   "outputs": [
    {
     "data": {
      "text/plain": [
       "{'A', 'B', 'Z', 'a', 'b', 'c', 's', 'z'}"
      ]
     },
     "execution_count": 47,
     "metadata": {},
     "output_type": "execute_result"
    }
   ],
   "source": [
    "# update() : 여러 요소 추가\n",
    "rand_alpha.update('z', 's')\n",
    "rand_alpha"
   ]
  },
  {
   "cell_type": "code",
   "execution_count": 50,
   "metadata": {},
   "outputs": [
    {
     "data": {
      "text/plain": [
       "['A', 'B', 'a', 'b', 'c']"
      ]
     },
     "execution_count": 50,
     "metadata": {},
     "output_type": "execute_result"
    }
   ],
   "source": [
    "# remove() 요소 삭제\n",
    "# clear() 전체 삭제\n",
    "# 정렬\n",
    "rand_alpha = {'a', 'A', 'b', 'B', 'c', 'c'}\n",
    "sorted(rand_alpha)"
   ]
  },
  {
   "cell_type": "code",
   "execution_count": 51,
   "metadata": {},
   "outputs": [
    {
     "ename": "AttributeError",
     "evalue": "'set' object has no attribute 'sort'",
     "output_type": "error",
     "traceback": [
      "\u001b[0;31m---------------------------------------------------------------------------\u001b[0m",
      "\u001b[0;31mAttributeError\u001b[0m                            Traceback (most recent call last)",
      "Cell \u001b[0;32mIn[51], line 1\u001b[0m\n\u001b[0;32m----> 1\u001b[0m \u001b[43mrand_alpha\u001b[49m\u001b[38;5;241;43m.\u001b[39;49m\u001b[43msort\u001b[49m()\n",
      "\u001b[0;31mAttributeError\u001b[0m: 'set' object has no attribute 'sort'"
     ]
    }
   ],
   "source": [
    "rand_alpha.sort()"
   ]
  },
  {
   "cell_type": "code",
   "execution_count": 52,
   "metadata": {},
   "outputs": [
    {
     "data": {
      "text/plain": [
       "{'c'}"
      ]
     },
     "execution_count": 52,
     "metadata": {},
     "output_type": "execute_result"
    }
   ],
   "source": [
    "# 교집합 & , .intersection()\n",
    "set_1 = {'a', 'c', ('a', 'b')}\n",
    "set_2 = {'c'}\n",
    "set_1 & set_2"
   ]
  },
  {
   "cell_type": "code",
   "execution_count": 57,
   "metadata": {},
   "outputs": [
    {
     "data": {
      "text/plain": [
       "{'c'}"
      ]
     },
     "execution_count": 57,
     "metadata": {},
     "output_type": "execute_result"
    }
   ],
   "source": [
    "set_1.intersection(set_2)"
   ]
  },
  {
   "cell_type": "code",
   "execution_count": 53,
   "metadata": {},
   "outputs": [
    {
     "data": {
      "text/plain": [
       "{('a', 'b'), 'a', 'c'}"
      ]
     },
     "execution_count": 53,
     "metadata": {},
     "output_type": "execute_result"
    }
   ],
   "source": [
    "# 합집합 | , .union()\n",
    "set_1 | set_2"
   ]
  },
  {
   "cell_type": "code",
   "execution_count": 54,
   "metadata": {},
   "outputs": [
    {
     "data": {
      "text/plain": [
       "{('a', 'b'), 'a'}"
      ]
     },
     "execution_count": 54,
     "metadata": {},
     "output_type": "execute_result"
    }
   ],
   "source": [
    "# 차집합 - , .difference()\n",
    "set_1 - set_2"
   ]
  },
  {
   "cell_type": "code",
   "execution_count": 55,
   "metadata": {},
   "outputs": [
    {
     "data": {
      "text/plain": [
       "{('a', 'b'), 'a'}"
      ]
     },
     "execution_count": 55,
     "metadata": {},
     "output_type": "execute_result"
    }
   ],
   "source": [
    "# 대칭 차집합 ^ : 합집합 - 교집합\n",
    "set_1 ^ set_2"
   ]
  },
  {
   "cell_type": "code",
   "execution_count": null,
   "metadata": {},
   "outputs": [],
   "source": [
    "set_1.union(set_2)"
   ]
  },
  {
   "cell_type": "markdown",
   "metadata": {},
   "source": [
    "# 연습문제"
   ]
  },
  {
   "cell_type": "code",
   "execution_count": 58,
   "metadata": {},
   "outputs": [
    {
     "name": "stdout",
     "output_type": "stream",
     "text": [
      "b\n",
      "c\n"
     ]
    }
   ],
   "source": [
    "# 1. dict1 = {'a':1, 'b':2, 'c':2} 일때 값(value)이 2를 가지는 모든 키들을 출력하세요.\n",
    "dict1 = {'a':1, 'b':2, 'c':2}\n",
    "\n",
    "for k,v in dict1.items():\n",
    "    if v == 2:\n",
    "        print(k)"
   ]
  },
  {
   "cell_type": "code",
   "execution_count": 59,
   "metadata": {},
   "outputs": [
    {
     "data": {
      "text/plain": [
       "[1, 2, 3, 4, 5]"
      ]
     },
     "execution_count": 59,
     "metadata": {},
     "output_type": "execute_result"
    }
   ],
   "source": [
    "# 2. list1 = [1,2,3,3,5,3,4] 가 존재할때 리스트 내의 중복된 값을 제거한 리스트를 반환하세요.\n",
    "list1 = [1,2,3,3,5,3,4]\n",
    "\n",
    "result_list = list(set(list1))\n",
    "result_list"
   ]
  },
  {
   "cell_type": "code",
   "execution_count": 60,
   "metadata": {},
   "outputs": [
    {
     "data": {
      "text/plain": [
       "['철수', '소영']"
      ]
     },
     "execution_count": 60,
     "metadata": {},
     "output_type": "execute_result"
    }
   ],
   "source": [
    "# 3. score = {'철수': 90, '민수': 70, '소영': 85} 딕셔너리가 존재할때 \n",
    "# value값이 80이상인 키 값들을 지닌 리스트를 반환하세요.\n",
    "score = {'철수': 90, '민수': 70, '소영': 85}\n",
    "key_list = []\n",
    "\n",
    "for k,v in score.items():\n",
    "    if v >= 80:\n",
    "        key_list.append(k)\n",
    "\n",
    "key_list"
   ]
  },
  {
   "cell_type": "markdown",
   "metadata": {},
   "source": [
    "## 변수명 선언 시 주의할 점\n",
    "- 의미를 가지고 명확해야함 ex) total_score, total_sum\n",
    "- list1, a 등의 불명확하고 의미없는 변수명은 지양\n",
    "- list, dict, max, sum, len 같은 내장함수나 모듈명은 피한다 => 오류 발생 가능성\n",
    "- 파이썬 예약어 사용불가"
   ]
  },
  {
   "cell_type": "code",
   "execution_count": 61,
   "metadata": {},
   "outputs": [],
   "source": [
    "list = [1,23,5]"
   ]
  },
  {
   "cell_type": "code",
   "execution_count": 1,
   "metadata": {},
   "outputs": [
    {
     "data": {
      "text/plain": [
       "[1, 2]"
      ]
     },
     "execution_count": 1,
     "metadata": {},
     "output_type": "execute_result"
    }
   ],
   "source": [
    "list_a = [1,2,2]\n",
    "list(set(list_a))"
   ]
  },
  {
   "cell_type": "code",
   "execution_count": 3,
   "metadata": {},
   "outputs": [
    {
     "name": "stdout",
     "output_type": "stream",
     "text": [
      "['False', 'None', 'True', 'and', 'as', 'assert', 'async', 'await', 'break', 'class', 'continue', 'def', 'del', 'elif', 'else', 'except', 'finally', 'for', 'from', 'global', 'if', 'import', 'in', 'is', 'lambda', 'nonlocal', 'not', 'or', 'pass', 'raise', 'return', 'try', 'while', 'with', 'yield']\n"
     ]
    }
   ],
   "source": [
    "import keyword\n",
    "\n",
    "print(keyword.kwlist)"
   ]
  },
  {
   "cell_type": "markdown",
   "metadata": {},
   "source": [
    "## 얕은 복사 vs 깊은 복사\n",
    "#### 1) 얕은 복사\n",
    "- 얕은 복사는 객체의 참조를 복사하여 원본 객체와 복사된 객체가 같은 메모리 공간을 참조.\n",
    "- 리스트와 같은 가변 객체를 복사할 때 주의.\n",
    "\n",
    "#### 2) 깊은 복사\n",
    "- 깊은 복사는 원본 객체와 복사된 객체가 서로 다른 메모리 공간을 가지며, 내부 요소까지 모두 복사.\n",
    "- copy.deepcopy() 함수를 사용."
   ]
  },
  {
   "cell_type": "code",
   "execution_count": 4,
   "metadata": {},
   "outputs": [
    {
     "data": {
      "text/plain": [
       "[1, 2, 3, 4, 5]"
      ]
     },
     "execution_count": 4,
     "metadata": {},
     "output_type": "execute_result"
    }
   ],
   "source": [
    "# 얕은 복사 \n",
    "a = [1,2,3]     # 1234\n",
    "b = a\n",
    "a.append(4)\n",
    "b.append(5)     # 1235\n",
    "b"
   ]
  },
  {
   "cell_type": "code",
   "execution_count": 6,
   "metadata": {},
   "outputs": [
    {
     "data": {
      "text/plain": [
       "[[1, 2, 3], [1, 2, 3], [1, 2, 3]]"
      ]
     },
     "execution_count": 6,
     "metadata": {},
     "output_type": "execute_result"
    }
   ],
   "source": [
    "# list의 곱은 얕은 복사\n",
    "a = [[1,2]] * 3         # [1,2]\n",
    "a[2].append(3)          # [[1,2], [1,2], [1,2,3]]\n",
    "a                   \n",
    "# [[1,2],3]\n",
    "# [1,2,3]\n",
    "# [[1,3],2]"
   ]
  },
  {
   "cell_type": "code",
   "execution_count": 7,
   "metadata": {},
   "outputs": [
    {
     "name": "stdout",
     "output_type": "stream",
     "text": [
      "list1: [[100, 2], [3, 4]]\n",
      "list2: [[100, 2], [3, 4]]\n",
      "list3: [[100, 2], [3, 4]]\n"
     ]
    }
   ],
   "source": [
    "import copy\n",
    "\n",
    "# 얕은 복사 예제\n",
    "list1 = [[1, 2], [3, 4]]    # [[100,2], [3,4]]\n",
    "list2 = list1               # 같은 메모리 참조\n",
    "list3 = copy.copy(list1)    # 얕은 복사\n",
    "\n",
    "list1[0][0] = 100\n",
    "print(\"list1:\", list1)  # [[100, 2], [3, 4]]\n",
    "print(\"list2:\", list2)  # [[100, 2], [3, 4]] -> 원본이 변경됨\n",
    "print(\"list3:\", list3)  # [[100, 2], [3, 4]] -> 얕은 복사는 내부 리스트를 참조하므로 값이 변함"
   ]
  },
  {
   "cell_type": "code",
   "execution_count": 8,
   "metadata": {},
   "outputs": [
    {
     "name": "stdout",
     "output_type": "stream",
     "text": [
      "139762065408320\n",
      "139762065408320\n"
     ]
    }
   ],
   "source": [
    "print(id(list1[0]))  # list1[0]의 메모리 주소\n",
    "print(id(list2[0]))  # list2[0]의 메모리 주소 (list1과 동일)"
   ]
  },
  {
   "cell_type": "code",
   "execution_count": 9,
   "metadata": {},
   "outputs": [
    {
     "name": "stdout",
     "output_type": "stream",
     "text": [
      "list1: [[200, 2], [3, 4]]\n",
      "list4: [[100, 2], [3, 4]]\n"
     ]
    }
   ],
   "source": [
    "import copy \n",
    "\n",
    "list1 = [[100, 2], [3, 4]]\n",
    "list4 = copy.deepcopy(list1)\n",
    "list1[0][0] = 200\n",
    "print(\"list1:\", list1)  \n",
    "print(\"list4:\", list4)  "
   ]
  },
  {
   "cell_type": "code",
   "execution_count": 10,
   "metadata": {},
   "outputs": [
    {
     "name": "stdout",
     "output_type": "stream",
     "text": [
      "dict1: {'a': [10, 2], 'b': [3, 4]}\n",
      "dict2: {'a': [10, 2], 'b': [3, 4]}\n"
     ]
    }
   ],
   "source": [
    "# dictionary\n",
    "dict1 = {\"a\": [1, 2], \"b\": [3, 4]}\n",
    "dict2 = dict1.copy()    # 얕은 복사\n",
    "\n",
    "# 원본 변경\n",
    "dict1[\"a\"][0] = 10\n",
    "print(\"dict1:\", dict1)  \n",
    "print(\"dict2:\", dict2)  "
   ]
  },
  {
   "cell_type": "code",
   "execution_count": 11,
   "metadata": {},
   "outputs": [
    {
     "name": "stdout",
     "output_type": "stream",
     "text": [
      "dict1: {'a': [20, 2], 'b': [3, 4]}\n",
      "dict3: {'a': [10, 2], 'b': [3, 4]}\n"
     ]
    }
   ],
   "source": [
    "import copy\n",
    "\n",
    "dict3 = copy.deepcopy(dict1)\n",
    "dict1[\"a\"][0] = 20\n",
    "print(\"dict1:\", dict1) \n",
    "print(\"dict3:\", dict3) "
   ]
  },
  {
   "cell_type": "code",
   "execution_count": 13,
   "metadata": {},
   "outputs": [
    {
     "name": "stdout",
     "output_type": "stream",
     "text": [
      "139762065421952 139762065421952\n",
      "139762065421952 139762065412608\n",
      "139762141675760 139762141675760\n",
      "139762065421952 139762065649152\n"
     ]
    }
   ],
   "source": [
    "list_a = [1, 2, 3]\n",
    "list_b = list_a                # 얕은 복사\n",
    "print(id(list_a), id(list_b))  # 동일한 메모리 주소\n",
    "\n",
    "list_c = list_a.copy()         # 얕은 복사\n",
    "print(id(list_a), id(list_c))  # 다른 메모리 주소지만 내부 요소는 동일 참조\n",
    "print(id(list_a[0]), id(list_c[0]))  \n",
    "\n",
    "list_d = copy.deepcopy(list_a)\n",
    "print(id(list_a), id(list_d))  # 완전히 다른 메모리 주소"
   ]
  },
  {
   "cell_type": "markdown",
   "metadata": {},
   "source": []
  },
  {
   "cell_type": "markdown",
   "metadata": {},
   "source": []
  },
  {
   "cell_type": "markdown",
   "metadata": {},
   "source": []
  }
 ],
 "metadata": {
  "kernelspec": {
   "display_name": "usr",
   "language": "python",
   "name": "python3"
  },
  "language_info": {
   "codemirror_mode": {
    "name": "ipython",
    "version": 3
   },
   "file_extension": ".py",
   "mimetype": "text/x-python",
   "name": "python",
   "nbconvert_exporter": "python",
   "pygments_lexer": "ipython3",
   "version": "3.10.12"
  }
 },
 "nbformat": 4,
 "nbformat_minor": 2
}
