{
 "cells": [
  {
   "cell_type": "markdown",
   "metadata": {},
   "source": [
    "#### 문제 1)\n",
    "- 다음 코드를 완성하여 사용자가 입력한 숫자를 나누는 프로그램 작성\n",
    "- num2에 0이 입력되었을때 \"Cannot divide by zero\"라는 메세지를 출력하고\n",
    "- 숫자가 아닌 값이 입력되었을때 \"Invalid input\"이라는 메세지가 출력되도록 빈칸에 코드를 작성하세요.\n",
    ">- 에러명을 모른다면 직접 테스트하여 확인해보세요!"
   ]
  },
  {
   "cell_type": "code",
   "execution_count": 13,
   "metadata": {},
   "outputs": [
    {
     "ename": "TypeError",
     "evalue": "unsupported operand type(s) for /: 'str' and 'int'",
     "output_type": "error",
     "traceback": [
      "\u001b[0;31m---------------------------------------------------------------------------\u001b[0m",
      "\u001b[0;31mTypeError\u001b[0m                                 Traceback (most recent call last)",
      "Cell \u001b[0;32mIn[13], line 1\u001b[0m\n\u001b[0;32m----> 1\u001b[0m \u001b[38;5;124;43m'\u001b[39;49m\u001b[38;5;124;43ma\u001b[39;49m\u001b[38;5;124;43m'\u001b[39;49m\u001b[38;5;241;43m/\u001b[39;49m\u001b[38;5;241;43m0\u001b[39;49m\n",
      "\u001b[0;31mTypeError\u001b[0m: unsupported operand type(s) for /: 'str' and 'int'"
     ]
    }
   ],
   "source": [
    "'a'/0"
   ]
  },
  {
   "cell_type": "code",
   "execution_count": 16,
   "metadata": {},
   "outputs": [
    {
     "name": "stdout",
     "output_type": "stream",
     "text": [
      "Invalid input\n"
     ]
    }
   ],
   "source": [
    "try:\n",
    "    num1 = int(input(\"분자 값 입력 : \"))\n",
    "    num2 = int(input(\"분모 값 입력 : \"))\n",
    "    result = num1 / num2\n",
    "    print(f\"Result: {result}\")\n",
    "except ZeroDivisionError:                  # 에러 1\n",
    "    print(\"Cannot divide by zero\")\n",
    "except ValueError:                         # 에러 2\n",
    "    print(\"Invalid input\")\n"
   ]
  },
  {
   "cell_type": "markdown",
   "metadata": {},
   "source": [
    "#### 문제 2)\n",
    "- '2025-01-24'와 같은 형식의 날짜텍스트를 받았을때 각 연도와 월, 일을 출력하는 프로그램을 작성하세요."
   ]
  },
  {
   "cell_type": "code",
   "execution_count": 21,
   "metadata": {},
   "outputs": [
    {
     "name": "stdout",
     "output_type": "stream",
     "text": [
      "year : 2025\n",
      "month : 01\n",
      "day : 24\n"
     ]
    }
   ],
   "source": [
    "# 출력 예시:\n",
    "# year : 2025\n",
    "# month : 01\n",
    "# day : 24\n",
    "\n",
    "input_date = '2025-01-24'\n",
    "\n",
    "year = input_date.split('-')[0]\n",
    "month = input_date.split('-')[1]\n",
    "day = input_date.split('-')[2]\n",
    "\n",
    "print(f\"year : {year}\")\n",
    "print(f\"month : {month}\")\n",
    "print(f\"day : {day}\")"
   ]
  },
  {
   "cell_type": "markdown",
   "metadata": {},
   "source": [
    "#### 문제 2-1)\n",
    "- '2025-01-24' 형식의 날짜텍스트를 인자로 받았을때 \n",
    "- year,month,day를 key로 갖고 키에 해당하는 값을 value로 가지는 딕셔너리를 반환하도록 solution 함수를 구현하세요."
   ]
  },
  {
   "cell_type": "code",
   "execution_count": 23,
   "metadata": {},
   "outputs": [
    {
     "data": {
      "text/plain": [
       "{'year': '2025', 'month': '01', 'day': '24'}"
      ]
     },
     "execution_count": 23,
     "metadata": {},
     "output_type": "execute_result"
    }
   ],
   "source": [
    "def solution(date):\n",
    "    date_dict = {}\n",
    "    date_list = date.split('-')\n",
    "    date_dict.update({\"year\" : date_list[0], \"month\" : date_list[1], \"day\" : date_list[2]})\n",
    "    return date_dict\n",
    "\n",
    "\n",
    "\n",
    "# 출력 예시 : {'year': '2024', 'month': '11', 'day': '23'}\n",
    "date = '2025-01-24'\n",
    "solution(date)"
   ]
  },
  {
   "cell_type": "markdown",
   "metadata": {},
   "source": [
    "#### 문제 3)\n",
    "- 주어진 리스트에서 각 숫자의 제곱을 구하여 새로운 리스트를 반환하는 코드를 작성하세요.\n",
    ">- lambda를 활용하세요"
   ]
  },
  {
   "cell_type": "code",
   "execution_count": 24,
   "metadata": {},
   "outputs": [
    {
     "data": {
      "text/plain": [
       "[100, 1, 4, 9, 16, 25]"
      ]
     },
     "execution_count": 24,
     "metadata": {},
     "output_type": "execute_result"
    }
   ],
   "source": [
    "numbers = [-10, 1, 2, 3, 4, 5]\n",
    "      \n",
    "# 출력 예시 : [100, 1, 4, 9, 16, 25]\n",
    "list(map(lambda x : x**2, numbers))"
   ]
  },
  {
   "cell_type": "markdown",
   "metadata": {},
   "source": [
    "#### 문제 3-1)\n",
    "- 주어진 리스트에서 각 짝수일때만 숫자에 제곱한 값들로 새로운 리스트를 생성하고 내림차순으로 정렬되도록 하는 코드를 작성하세요."
   ]
  },
  {
   "cell_type": "code",
   "execution_count": 26,
   "metadata": {},
   "outputs": [
    {
     "data": {
      "text/plain": [
       "[100, 16, 5, 4, 3, 1]"
      ]
     },
     "execution_count": 26,
     "metadata": {},
     "output_type": "execute_result"
    }
   ],
   "source": [
    "# 출력 예시 : [100, 16, 5, 4, 3, 1]\n",
    "sorted(list(map(lambda x: x**2 if x%2 ==0 else x, numbers)), reverse = True)"
   ]
  },
  {
   "cell_type": "markdown",
   "metadata": {},
   "source": [
    "#### 문제 4)\n",
    "- example_test.txt를 읽고, 파일의 각 줄에 있는 글자 수를 출력하는 코드를 작성하세요."
   ]
  },
  {
   "cell_type": "code",
   "execution_count": 32,
   "metadata": {},
   "outputs": [
    {
     "name": "stdout",
     "output_type": "stream",
     "text": [
      "Python is fun!\n",
      "Let's test file I/O"
     ]
    }
   ],
   "source": [
    "# with문 사용\n",
    "with open('example_test.txt') as f:\n",
    "    for line in f:\n",
    "        print(line, end = '')"
   ]
  },
  {
   "cell_type": "markdown",
   "metadata": {},
   "source": [
    "#### 문제 4-1)\n",
    "- 파일 경로(파일명)와 인코딩을 인자로 받고 파일내용을 전부 소문자로 변환시켜 출력하는 함수를 작성하세요.\n",
    "- 인코딩 문제, 파일이 없는 문제 발생 시 예외처리하도록 빈칸 및 코드를 작성해보세요."
   ]
  },
  {
   "cell_type": "code",
   "execution_count": 36,
   "metadata": {},
   "outputs": [
    {
     "name": "stdout",
     "output_type": "stream",
     "text": [
      "python is fun!\n",
      "let's test file i/o"
     ]
    }
   ],
   "source": [
    "def read_file(file_path,  encoding = 'utf-8'):\n",
    "    try:\n",
    "        # code\n",
    "        with open(file_path) as f:\n",
    "            for line in f:\n",
    "                print(line.lower(), end = '')\n",
    "\n",
    "    except UnicodeDecodeError:\n",
    "        print(f\"Error: 'cannot decode {encoding}.\")\n",
    "    except FileNotFoundError:               # 파일이 없을때 에러\n",
    "        print(f\"Error: '{file_path}' does not exist.\")\n",
    "\n",
    "read_file('example_test.txt', encoding = 'cp949')"
   ]
  },
  {
   "cell_type": "markdown",
   "metadata": {},
   "source": [
    "#### 문제 5)\n",
    "- 아래 딕셔너리를 사용하여 학생들의 평균 점수를 계산하고 출력하세요."
   ]
  },
  {
   "cell_type": "code",
   "execution_count": 40,
   "metadata": {},
   "outputs": [
    {
     "name": "stdout",
     "output_type": "stream",
     "text": [
      "Alice : 87.67\n",
      "Bob : 77.67\n",
      "Charlie : 91.33\n"
     ]
    }
   ],
   "source": [
    "grades = {\"Alice\": [85, 90, 88], \"Bob\": [78, 81, 74], \"Charlie\": [92, 88, 94]}\n",
    "\n",
    "# code\n",
    "for name, scores in grades.items():\n",
    "    avg = sum(scores)/len(scores)\n",
    "    print(f\"{name} : {round(avg,2)}\")\n",
    "\n",
    "\n",
    "# 출력 예시:\n",
    "# Alice: 87.67\n",
    "# Bob: 77.67\n",
    "# Charlie: 91.33"
   ]
  },
  {
   "cell_type": "markdown",
   "metadata": {},
   "source": [
    "#### 문제 6)\n",
    "- 다음 코드에서 주어진 Animal 클래스를 상속받아 Dog 클래스를 완성하세요.\n",
    "- Dog 클래스는 speak 메서드를 오버라이드하여 **\"Woof!\"** 를 출력해야 합니다."
   ]
  },
  {
   "cell_type": "code",
   "execution_count": 43,
   "metadata": {},
   "outputs": [
    {
     "name": "stdout",
     "output_type": "stream",
     "text": [
      "Woof!\n"
     ]
    }
   ],
   "source": [
    "class Animal:\n",
    "    def __init__(self):\n",
    "        self.animal = '??'\n",
    "    def speak(self):\n",
    "        print(\"This animal makes a sound.\")\n",
    "\n",
    "# code \n",
    "class Dog(Animal):\n",
    "    def speak(self):\n",
    "        print(\"Woof!\")\n",
    "\n",
    "\n",
    "# 출력 예시:\n",
    "# This animal makes a sound.\n",
    "# Woof!\n",
    "# animal = Animal()\n",
    "# animal.speak()\n",
    "dog = Dog()\n",
    "dog.speak()"
   ]
  },
  {
   "cell_type": "markdown",
   "metadata": {},
   "source": [
    "#### 문제 6-1)\n",
    "- Dimensions클래스에서는 길이와 너비를 입력받고 \n",
    "- Rectangle클래스는 Dimensions클래스를 상속받아 사각형의 넓이를 계산하는 area함수와 둘레를 계산하는 perimeter함수를 반환받도록 구현해보세요.\n",
    ">- 인자명은 자유롭게 작성해주시면 됩니다.\n"
   ]
  },
  {
   "cell_type": "code",
   "execution_count": 45,
   "metadata": {},
   "outputs": [
    {
     "name": "stdout",
     "output_type": "stream",
     "text": [
      "Area of the rectangle: 20.0\n",
      "Perimeter of the rectangle: 18.0\n"
     ]
    }
   ],
   "source": [
    "class Dimensions:\n",
    "    \"\"\"\n",
    "    길이와 너비를 입력받는 클래스\n",
    "    \"\"\"\n",
    "    def __init__(self, width, height):\n",
    "        self.width = width\n",
    "        self.height = height\n",
    "\n",
    "\n",
    "\n",
    "class Rectangle(Dimensions):\n",
    "    \"\"\"\n",
    "    사각형의 넓이와 둘레를 구하는 클래스\n",
    "    \"\"\"\n",
    "\n",
    "    def area(self):\n",
    "        \"\"\"\n",
    "        사각형의 넓이를 계산하여 반환\n",
    "        \"\"\"\n",
    "        return self.width * self.height\n",
    "\n",
    "\n",
    "    def perimeter(self):\n",
    "        \"\"\"\n",
    "        사각형의 둘레를 계산하여 반환\n",
    "        \"\"\"\n",
    "        return 2*(self.width + self.height)\n",
    "\n",
    "\n",
    "\n",
    "# 사용 예제\n",
    "# 길이와 너비 입력받기\n",
    "length = float(input(\"Enter the length of the rectangle: \"))\n",
    "width = float(input(\"Enter the width of the rectangle: \"))\n",
    "\n",
    "# Rectangle 객체 생성\n",
    "rect = Rectangle(length, width)\n",
    "\n",
    "# 넓이와 둘레 계산 및 출력\n",
    "print(f\"Area of the rectangle: {rect.area()}\")\n",
    "print(f\"Perimeter of the rectangle: {rect.perimeter()}\")"
   ]
  },
  {
   "cell_type": "markdown",
   "metadata": {},
   "source": [
    "#### 문제 7)\n",
    "- 아래 리스트의 요소를 전부 곱한 값을 출력하세요"
   ]
  },
  {
   "cell_type": "code",
   "execution_count": 46,
   "metadata": {},
   "outputs": [
    {
     "name": "stdout",
     "output_type": "stream",
     "text": [
      "120\n"
     ]
    }
   ],
   "source": [
    "# for문 활용\n",
    "numbers = [1, 2, 3, 4, 5]\n",
    "\n",
    "# for문 활용\n",
    "number = 1\n",
    "numbers = [1, 2, 3, 4, 5]\n",
    "for num in numbers:\n",
    "    number *= num\n",
    "print(number)"
   ]
  },
  {
   "cell_type": "code",
   "execution_count": 47,
   "metadata": {},
   "outputs": [
    {
     "data": {
      "text/plain": [
       "120"
      ]
     },
     "execution_count": 47,
     "metadata": {},
     "output_type": "execute_result"
    }
   ],
   "source": [
    "# reduce, lambda 활용\n",
    "from functools import reduce\n",
    "\n",
    "numbers = [1, 2, 3, 4, 5]\n",
    "reduce(lambda x,y : x * y, numbers)\n"
   ]
  },
  {
   "cell_type": "markdown",
   "metadata": {},
   "source": [
    "#### 문제 8)\n",
    "- 리스트의 각 요소 개수를 세어 key에 요소 값 value에 count값을 가지는 딕셔너리를 만들어 출력해보세요."
   ]
  },
  {
   "cell_type": "code",
   "execution_count": 48,
   "metadata": {},
   "outputs": [
    {
     "name": "stdout",
     "output_type": "stream",
     "text": [
      "{'apple': 2, 'banana': 3, 'grape': 2, 'pear': 1}\n"
     ]
    }
   ],
   "source": [
    "fruits = ['apple', 'banana', 'apple', 'grape', 'pear', 'banana', 'banana', 'grape']\n",
    "\n",
    "# 출력 예시 : {'apple': 2, 'banana': 3, 'grape': 2, 'pear': 1}\n",
    "fruits_dict = {}\n",
    "\n",
    "for x in fruits:\n",
    "    if x in fruits_dict:\n",
    "        fruits_dict[x] += 1\n",
    "    else:\n",
    "        fruits_dict[x] = 1\n",
    "\n",
    "print(fruits_dict)\n"
   ]
  },
  {
   "cell_type": "code",
   "execution_count": null,
   "metadata": {},
   "outputs": [],
   "source": []
  },
  {
   "cell_type": "code",
   "execution_count": null,
   "metadata": {},
   "outputs": [],
   "source": []
  }
 ],
 "metadata": {
  "kernelspec": {
   "display_name": "usr",
   "language": "python",
   "name": "python3"
  },
  "language_info": {
   "codemirror_mode": {
    "name": "ipython",
    "version": 3
   },
   "file_extension": ".py",
   "mimetype": "text/x-python",
   "name": "python",
   "nbconvert_exporter": "python",
   "pygments_lexer": "ipython3",
   "version": "3.10.12"
  }
 },
 "nbformat": 4,
 "nbformat_minor": 2
}
