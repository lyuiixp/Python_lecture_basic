{
 "cells": [
  {
   "cell_type": "markdown",
   "metadata": {},
   "source": [
    "## 1. 변수와 자료형\n",
    "\n",
    "#### 변수(Variable)\n",
    "\n",
    "- 데이터를 저장하는 공간이며, 값을 할당하여 사용함.\n",
    "\n",
    "- 특징: 변수는 값을 변경할 수 있으며, 이름을 통해 접근함.\n",
    "\n",
    "- 장점: 가독성이 좋아지고 코드 유지보수가 용이함.\n",
    "\n",
    "- 단점: 변수 이름이 부정확하거나 혼동될 경우 디버깅이 어려울 수 있음.\n",
    "\n",
    "\n",
    "#### 자료형(Data Type)\n",
    "- **정수형(int)**: 정수를 저장하는 자료형 (`ex: 10, -5`)\n",
    "- **실수형(float)**: 실수를 저장하는 자료형 (`ex: 3.14, -0.5`)\n",
    "- **문자열(str)**: 문자 또는 문자열을 저장하는 자료형 (`ex: 'Hello'`)\n",
    "- **불리언(bool)**: 참(True) 또는 거짓(False) 값 (`ex: True, False`)\n",
    "\n",
    "**타입 확인 및 변환**:\n",
    "- `type()` 함수: 자료형 확인\n",
    "- `int()`, `float()`, `str()`: 자료형 변환"
   ]
  },
  {
   "cell_type": "code",
   "execution_count": null,
   "metadata": {},
   "outputs": [],
   "source": [
    "x = 10  # 정수형 변수\n",
    "name = 'Alice'  # 문자열 변수 \"\"\n",
    "height = 5.8  # 실수형 변수"
   ]
  },
  {
   "cell_type": "code",
   "execution_count": 2,
   "metadata": {},
   "outputs": [
    {
     "name": "stdout",
     "output_type": "stream",
     "text": [
      "<class 'int'>\n",
      "10.0\n"
     ]
    }
   ],
   "source": [
    "x = 10\n",
    "print(type(x))  # <class 'int'>\n",
    "y = float(x)  # x를 실수로 변환\n",
    "print(y)"
   ]
  },
  {
   "cell_type": "code",
   "execution_count": 4,
   "metadata": {},
   "outputs": [
    {
     "name": "stdout",
     "output_type": "stream",
     "text": [
      "<class 'str'>\n"
     ]
    }
   ],
   "source": [
    "print(type(str(x)))"
   ]
  },
  {
   "cell_type": "code",
   "execution_count": 7,
   "metadata": {},
   "outputs": [
    {
     "data": {
      "text/plain": [
       "'Python'"
      ]
     },
     "execution_count": 7,
     "metadata": {},
     "output_type": "execute_result"
    }
   ],
   "source": [
    "# 문자열 다루기\n",
    "# 아래 문자열에서 Python만 가져오기\n",
    "text = \"Python Programming\"\n",
    "text[:6]"
   ]
  },
  {
   "cell_type": "markdown",
   "metadata": {},
   "source": [
    "## 2. 리스트\n",
    "- 여러 개의 데이터를 순서대로 저장하는 자료구조 (변경 가능)\n",
    "\n",
    "- 특징: 인덱스를 사용하여 요소에 접근 가능\n",
    "\n",
    "- 장점: 다양한 데이터 처리를 위한 함수와 메서드 제공\n",
    "\n",
    "- 단점: 대용량 데이터일 경우 메모리 사용량이 높아질 수 있음\n",
    "\n",
    "**주요 메서드**\n",
    "\n",
    "- append(): 요소 추가\n",
    "\n",
    "- remove(): 특정 요소 제거\n",
    "\n",
    "- len(): 리스트 길이 반환"
   ]
  },
  {
   "cell_type": "code",
   "execution_count": 8,
   "metadata": {},
   "outputs": [
    {
     "name": "stdout",
     "output_type": "stream",
     "text": [
      "6\n"
     ]
    }
   ],
   "source": [
    "numbers = [1, 2, 3, 4, 5]\n",
    "\n",
    "# 요소 추가\n",
    "numbers.append(6)  # [1, 2, 3, 4, 5, 6]\n",
    "\n",
    "# 요소 삭제\n",
    "numbers.remove(3)  # [1, 2, 4, 5, 6]\n",
    "\n",
    "# 특정 위치 요소 삽입 insert(index, value)\n",
    "numbers.insert(2, 10)  # [1, 2, 10, 4, 5, 6]\n",
    "\n",
    "# 리스트 길이 확인\n",
    "print(len(numbers))  # 6\n"
   ]
  },
  {
   "cell_type": "code",
   "execution_count": 16,
   "metadata": {},
   "outputs": [],
   "source": [
    "# 1 리스트 요소 추가 및 변경\n",
    "# 문제 : 리스트 [1,2,3,4,5] 를 생성하고 'apple', 'banana', 'cherry'를 순서대로 추가 하세요.\n",
    "ex_list = [1,2,3,4,5]\n",
    "fruits = ['apple', 'banana', 'cherry']\n",
    "answer_list = ex_list + fruits"
   ]
  },
  {
   "cell_type": "code",
   "execution_count": 17,
   "metadata": {},
   "outputs": [
    {
     "data": {
      "text/plain": [
       "[1, 2, 3, 4, 5, 'apple', 'banana', 'blueberry']"
      ]
     },
     "execution_count": 17,
     "metadata": {},
     "output_type": "execute_result"
    }
   ],
   "source": [
    "# 생성된 리스트에서 마지막 요소를 'blueberry'로 변경하세요.\n",
    "answer_list[-1] = 'blueberry'\n",
    "answer_list"
   ]
  },
  {
   "cell_type": "code",
   "execution_count": 24,
   "metadata": {},
   "outputs": [],
   "source": [
    "# 문제: 리스트 [50, 40, 20, 10, 30] 을 오름차순으로 정렬하세요.\n",
    "unsorted_list = [50, 40, 20, 10, 30]\n",
    "# sorted()/ .sort()\n",
    "# sorted(unsorted_list)\n",
    "# unsorted_list.sort()\n",
    "# unsorted_list"
   ]
  },
  {
   "cell_type": "code",
   "execution_count": 25,
   "metadata": {},
   "outputs": [
    {
     "data": {
      "text/plain": [
       "[50, 40, 20, 10, 30]"
      ]
     },
     "execution_count": 25,
     "metadata": {},
     "output_type": "execute_result"
    }
   ],
   "source": [
    "# 리스트 [50, 40, 20, 10, 30]를 내림차순으로 정렬하세요.\n",
    "# unsorted_list.sort(reverse = True)\n",
    "sorted(unsorted_list, reverse = True)\n",
    "unsorted_list"
   ]
  },
  {
   "cell_type": "code",
   "execution_count": 27,
   "metadata": {},
   "outputs": [
    {
     "data": {
      "text/plain": [
       "[4, 1]"
      ]
     },
     "execution_count": 27,
     "metadata": {},
     "output_type": "execute_result"
    }
   ],
   "source": [
    "# [4, 2, 6, 1, 7, 6]의 리스트가 있을 때 첫번째 원소부터 마지막원소까지 2개 간격으로 저장된 리스트를 생성.\n",
    "# 출력 예시 : [4,6,7]\n",
    "list_ex = [4, 2, 6, 1, 7, 6]\n",
    "list_ex[::3]"
   ]
  },
  {
   "cell_type": "code",
   "execution_count": 29,
   "metadata": {},
   "outputs": [
    {
     "data": {
      "text/plain": [
       "[1, 2, 3, 4, 5, 6, 7]"
      ]
     },
     "execution_count": 29,
     "metadata": {},
     "output_type": "execute_result"
    }
   ],
   "source": [
    "# 리스트 [1,2,3,4,5,5,6,7,7] 에서 중복된 요소를 제거한 리스트를 만드세요.\n",
    "# 집합(set) : 중복을 허용하지 않는다.\n",
    "list1= [1,2,3,4,5,5,6,7,7]\n",
    "list(set(list1))"
   ]
  },
  {
   "cell_type": "markdown",
   "metadata": {},
   "source": [
    "## 3. 튜플\n",
    "\n",
    "- 변경할 수 없는 리스트\n",
    "\n",
    "- 특징: 불변(immutable) 자료구조로 값 변경 불가\n",
    "\n",
    "- 장점: 안전한 데이터 저장에 유용함\n",
    "\n",
    "- 단점: 요소를 추가하거나 제거할 수 없음"
   ]
  },
  {
   "cell_type": "code",
   "execution_count": 30,
   "metadata": {},
   "outputs": [
    {
     "name": "stdout",
     "output_type": "stream",
     "text": [
      "1\n",
      "(2, 3, 4)\n"
     ]
    },
    {
     "ename": "TypeError",
     "evalue": "'tuple' object does not support item assignment",
     "output_type": "error",
     "traceback": [
      "\u001b[0;31m---------------------------------------------------------------------------\u001b[0m",
      "\u001b[0;31mTypeError\u001b[0m                                 Traceback (most recent call last)",
      "Cell \u001b[0;32mIn[30], line 10\u001b[0m\n\u001b[1;32m      7\u001b[0m \u001b[38;5;28mprint\u001b[39m(my_tuple[\u001b[38;5;241m1\u001b[39m:\u001b[38;5;241m4\u001b[39m])  \u001b[38;5;66;03m# (2, 3, 4)\u001b[39;00m\n\u001b[1;32m      9\u001b[0m \u001b[38;5;66;03m# 요소 변경 불가능\u001b[39;00m\n\u001b[0;32m---> 10\u001b[0m \u001b[43mmy_tuple\u001b[49m\u001b[43m[\u001b[49m\u001b[38;5;241;43m0\u001b[39;49m\u001b[43m]\u001b[49m \u001b[38;5;241m=\u001b[39m \u001b[38;5;241m10\u001b[39m  \u001b[38;5;66;03m# 오류 발생 (TypeError)\u001b[39;00m\n",
      "\u001b[0;31mTypeError\u001b[0m: 'tuple' object does not support item assignment"
     ]
    }
   ],
   "source": [
    "my_tuple = (1, 2, 3, 4, 5)\n",
    "\n",
    "# 인덱싱 가능\n",
    "print(my_tuple[0])  # 1\n",
    "\n",
    "# 슬라이싱 가능\n",
    "print(my_tuple[1:4])  # (2, 3, 4)\n",
    "\n",
    "# 요소 변경 불가능\n",
    "my_tuple[0] = 10  # 오류 발생 (TypeError)\n"
   ]
  },
  {
   "cell_type": "code",
   "execution_count": 32,
   "metadata": {},
   "outputs": [
    {
     "data": {
      "text/plain": [
       "'d'"
      ]
     },
     "execution_count": 32,
     "metadata": {},
     "output_type": "execute_result"
    }
   ],
   "source": [
    "# 2 튜플 생성 및 불변성\n",
    "# 문제 : 튜플 ('a', 'b', 'c', 'd')를 생성하고 마지막 요소를 출력하세요.\n",
    "tuple_a = ('a', 'b', 'c', 'd')\n",
    "tuple_a[-1]"
   ]
  },
  {
   "cell_type": "code",
   "execution_count": 33,
   "metadata": {},
   "outputs": [
    {
     "ename": "TypeError",
     "evalue": "'tuple' object does not support item assignment",
     "output_type": "error",
     "traceback": [
      "\u001b[0;31m---------------------------------------------------------------------------\u001b[0m",
      "\u001b[0;31mTypeError\u001b[0m                                 Traceback (most recent call last)",
      "Cell \u001b[0;32mIn[33], line 2\u001b[0m\n\u001b[1;32m      1\u001b[0m \u001b[38;5;66;03m# 생성된 튜플에 'e'를 추가하려고 시도해 보세요.\u001b[39;00m\n\u001b[0;32m----> 2\u001b[0m \u001b[43mtuple_a\u001b[49m\u001b[43m[\u001b[49m\u001b[38;5;241;43m4\u001b[39;49m\u001b[43m]\u001b[49m \u001b[38;5;241m=\u001b[39m \u001b[38;5;124m'\u001b[39m\u001b[38;5;124me\u001b[39m\u001b[38;5;124m'\u001b[39m\n",
      "\u001b[0;31mTypeError\u001b[0m: 'tuple' object does not support item assignment"
     ]
    }
   ],
   "source": [
    "# 생성된 튜플에 'e'를 추가하려고 시도해 보세요.\n",
    "tuple_a[4] = 'e'"
   ]
  },
  {
   "cell_type": "code",
   "execution_count": 37,
   "metadata": {},
   "outputs": [
    {
     "name": "stdout",
     "output_type": "stream",
     "text": [
      "이름은 Tom입니다. 나이는 30살 입니다. 직업은 Student입니다.\n"
     ]
    }
   ],
   "source": [
    "# 문제 : 튜플 ('Tom', 25, 'Student')를 각각 이름, 나이, 직업으로 언패킹하여 출력하세요.\n",
    "# ex) 이름은 Tom입니다. 나이는 25살 입니다. 직업은 Student입니다.\n",
    "person = ('Tom', 30, 'Student')\n",
    "print(f\"이름은 {person[0]}입니다. 나이는 {person[1]}살 입니다. 직업은 {person[2]}입니다.\")"
   ]
  },
  {
   "cell_type": "markdown",
   "metadata": {},
   "source": [
    "### 연습문제"
   ]
  },
  {
   "cell_type": "code",
   "execution_count": null,
   "metadata": {},
   "outputs": [],
   "source": [
    "list = []"
   ]
  },
  {
   "cell_type": "code",
   "execution_count": 48,
   "metadata": {},
   "outputs": [
    {
     "data": {
      "text/plain": [
       "[1, 2, 3, 4, 5, [1, 2]]"
      ]
     },
     "execution_count": 48,
     "metadata": {},
     "output_type": "execute_result"
    }
   ],
   "source": [
    "# 파이썬 예약어를 변수명으로 사용하면 안됨. dict ,tuple,....\n",
    "# append/ extend\n",
    "list_a = [1,2,3,4,5]\n",
    "list_a.append([1,2])\n",
    "# list_a.extend([1,2])\n",
    "list_a"
   ]
  },
  {
   "cell_type": "code",
   "execution_count": 51,
   "metadata": {},
   "outputs": [
    {
     "data": {
      "text/plain": [
       "[20, 40, 60]"
      ]
     },
     "execution_count": 51,
     "metadata": {},
     "output_type": "execute_result"
    }
   ],
   "source": [
    "# 문제 : 리스트 [10, 20, 30, 40, 50, 60]에서 짝수 번째 요소만 저장된 새 리스트를 만들어 출력\n",
    "# 출력예시 : [20,40,60]\n",
    "list_1 = [10, 20, 30, 40, 50, 60]\n",
    "list_1[1::2]"
   ]
  },
  {
   "cell_type": "code",
   "execution_count": 53,
   "metadata": {},
   "outputs": [
    {
     "data": {
      "text/plain": [
       "100"
      ]
     },
     "execution_count": 53,
     "metadata": {},
     "output_type": "execute_result"
    }
   ],
   "source": [
    "# 문제: 리스트 [10, 20, 30, 40]의 모든 요소를 더한 값을 구하는 코드를 작성하세요.\n",
    "list_2 = [10, 20, 30, 40]\n",
    "sum(list_2)"
   ]
  },
  {
   "cell_type": "code",
   "execution_count": 40,
   "metadata": {},
   "outputs": [
    {
     "data": {
      "text/plain": [
       "2"
      ]
     },
     "execution_count": 40,
     "metadata": {},
     "output_type": "execute_result"
    }
   ],
   "source": [
    "# 문제: 리스트 [5, 3, 7, 1, 9]에서 숫자 7의 인덱스 위치를 찾아 출력하세요.\n",
    "list_i = [5, 3, 7, 1, 9]\n",
    "list_i.index(7)"
   ]
  },
  {
   "cell_type": "code",
   "execution_count": 57,
   "metadata": {},
   "outputs": [
    {
     "data": {
      "text/plain": [
       "1"
      ]
     },
     "execution_count": 57,
     "metadata": {},
     "output_type": "execute_result"
    }
   ],
   "source": [
    "# 문제: 튜플 (1, 3, 3, 5, 3, 7)에서 숫자 3이 몇 번 등장하는지 구하세요.\n",
    "tuple_1 = (1, 3, 3, 5, 3, 7)\n",
    "tuple_1.count(7)"
   ]
  },
  {
   "cell_type": "code",
   "execution_count": 59,
   "metadata": {},
   "outputs": [
    {
     "data": {
      "text/plain": [
       "3"
      ]
     },
     "execution_count": 59,
     "metadata": {},
     "output_type": "execute_result"
    }
   ],
   "source": [
    "# 문제: 리스트 [15, 22, 8, 3, 19]에서 가장 큰 값과 작은 값을 구하세요.\n",
    "list_3 = [15, 22, 8, 3, 19]\n",
    "max(list_3)\n",
    "min(list_3)"
   ]
  },
  {
   "cell_type": "code",
   "execution_count": 61,
   "metadata": {},
   "outputs": [
    {
     "name": "stdout",
     "output_type": "stream",
     "text": [
      "[1, 4, 9, 16, 25]\n"
     ]
    },
    {
     "data": {
      "text/plain": [
       "[1, 4, 9, 16, 25]"
      ]
     },
     "execution_count": 61,
     "metadata": {},
     "output_type": "execute_result"
    }
   ],
   "source": [
    "# 문제: 리스트 [1, 2, 3, 4, 5]의 각 요소를 제곱한 새로운 리스트를 만드세요.\n",
    "list6 = [1, 2, 3, 4, 5]\n",
    "new_list = []\n",
    "\n",
    "for l in list6:\n",
    "    new_list.append(l**2)\n",
    "    \n",
    "print(new_list)\n",
    "\n",
    "# list comprehension\n",
    "[i**2 for i in list6]           # i=1 , i=2, i=3, i=4, i=5"
   ]
  },
  {
   "cell_type": "code",
   "execution_count": 65,
   "metadata": {},
   "outputs": [
    {
     "name": "stdout",
     "output_type": "stream",
     "text": [
      "1\n",
      "4\n",
      "9\n",
      "16\n",
      "25\n"
     ]
    }
   ],
   "source": [
    "for num in list6:\n",
    "    print(num**2)"
   ]
  },
  {
   "cell_type": "code",
   "execution_count": 1,
   "metadata": {},
   "outputs": [
    {
     "data": {
      "text/plain": [
       "(10, 20, 30, 40)"
      ]
     },
     "execution_count": 1,
     "metadata": {},
     "output_type": "execute_result"
    }
   ],
   "source": [
    "# 문제: 튜플 (10, 20, 30)을 리스트로 변환하고, 40을 추가한 후 다시 튜플로 변환하세요.\n",
    "tuple_3 = (10, 20, 30)\n",
    "list_7 = list(tuple_3)\n",
    "list_7.append(40)\n",
    "tuple(list_7)"
   ]
  },
  {
   "cell_type": "code",
   "execution_count": 69,
   "metadata": {},
   "outputs": [
    {
     "data": {
      "text/plain": [
       "[5, 4, 3, 2, 1]"
      ]
     },
     "execution_count": 69,
     "metadata": {},
     "output_type": "execute_result"
    }
   ],
   "source": [
    "# 문제: 리스트 [1, 2, 3, 4, 5]의 순서를 반대로 뒤집은 리스트를 만드세요.\n",
    "list8 =[1, 2, 3, 4, 5]\n",
    "# sorted(list8, reverse=True)\n",
    "list8[::-1]"
   ]
  },
  {
   "cell_type": "code",
   "execution_count": 72,
   "metadata": {},
   "outputs": [
    {
     "data": {
      "text/plain": [
       "3"
      ]
     },
     "execution_count": 72,
     "metadata": {},
     "output_type": "execute_result"
    }
   ],
   "source": [
    "# 문제: 2x2 크기의 2차원 리스트 [[1, 2], [3, 4]]를 생성하고, 3에 접근하여 출력하세요.\n",
    "list9 = [[1, 2], [3, 4]]\n",
    "list9[1][0]"
   ]
  },
  {
   "cell_type": "code",
   "execution_count": null,
   "metadata": {},
   "outputs": [],
   "source": []
  },
  {
   "cell_type": "code",
   "execution_count": null,
   "metadata": {},
   "outputs": [],
   "source": []
  }
 ],
 "metadata": {
  "kernelspec": {
   "display_name": "usr",
   "language": "python",
   "name": "python3"
  },
  "language_info": {
   "codemirror_mode": {
    "name": "ipython",
    "version": 3
   },
   "file_extension": ".py",
   "mimetype": "text/x-python",
   "name": "python",
   "nbconvert_exporter": "python",
   "pygments_lexer": "ipython3",
   "version": "3.10.12"
  }
 },
 "nbformat": 4,
 "nbformat_minor": 2
}
